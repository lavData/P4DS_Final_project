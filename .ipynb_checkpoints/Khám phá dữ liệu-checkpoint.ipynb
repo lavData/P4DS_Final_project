{
 "cells": [
  {
   "cell_type": "code",
   "execution_count": 1,
   "id": "e99044c1-613f-43b9-9673-c8a87986d6ac",
   "metadata": {},
   "outputs": [],
   "source": [
    "# %matplotlib inline\n",
    "import pandas as pd\n",
    "import numpy as np\n",
    "import matplotlib.pyplot as plt\n",
    "import math"
   ]
  },
  {
   "cell_type": "markdown",
   "id": "c6e7171f-35be-46ab-b71c-36a455a76782",
   "metadata": {},
   "source": [
    "---\n",
    "# Thu thập dữ liệu"
   ]
  },
  {
   "cell_type": "markdown",
   "id": "b49fc3a9-6f7c-4632-a534-f3fec91eba6d",
   "metadata": {},
   "source": [
    "- Dữ liệu được lấy tại trang web của WHO, về chủ đề COVID-19 và vaccin liên quan trên toàn thế giới\n",
    "- Về vấn đề cấp phép thì dữ liệu nảy được WHO cấp phép cho các hoạt động vì lợi ích cộng đồng. Nguyên văn như sau:\n",
    "    >WHO supports open access to the published output of its activities as a fundamental part of its mission and a public benefit to be encouraged wherever possible. Permission from WHO is not required for the use of the WHO coronavirus disease (COVID-19) dashboard material or data available for download\n",
    "- WHO có nguồn dữ liệu này được cung cấp bởi các phương tiện truyền thông chính thống trong thời gian từ ngày 31/12/2019 - 21/3/2020. Từ ngày 22/3/2020 dữ liệu được tổng hợp bằng báo cáo hằng ngày của WHO\n",
    "    >From the 31 December 2019 to the 21 March 2020, WHO collected the numbers of confirmed COVID-19 cases and deaths through official communications under the International Health Regulations (IHR, 2005), ..., Since 22 March 2020, global data are compiled through WHO region-specific dashboards (see links below), and/or aggregate count data reported to WHO headquarters daily. \n",
    "\n",
    "    Note: Dữ liệu từ ngày T7, CN được tính vào dữ liệu của ngày T2. Với các quốc gia Trung Đông, dữ liệu ở ngày T6 không được cập nhật.\n",
    "    \n",
    "    >Starting 19 June 2021, daily counts of COVID-19 confirmed cases and deaths reported to WHO headquarters on Saturdays and Sundays will be updated on this dashboard on the following Monday. Furthermore, data from the Eastern Mediterranean Region are no long update on Fridays."
   ]
  },
  {
   "cell_type": "markdown",
   "id": "b362ee14-6a54-417f-acd8-f119f5e42517",
   "metadata": {},
   "source": [
    "Thông tin các file mà bọn em sử dụng, được WHO mô tả như sau:\n",
    "1. `WHO-COVID-19-global-data.csv` : thống kê số liệu mỗi ngày của các quốc gia.\n",
    "2. `WHO-COVID-19-global-table-data.csv`: thống kế số liệu thời gian gần đây của các quốc gia.\n",
    "3. `vaccination-data.csv`: dữ liệu tình hình tiêm chủng tại các quốc gia.\n",
    "4. `vaccination-metadat.csv`: dữ liệu vaccin trên toàn thế giới.\n",
    "\n",
    "Dữ liệu được thu thập từ ngày 03/01/2020 đến 02/12/2021 của 237 quốc qua trên thế giới."
   ]
  },
  {
   "cell_type": "markdown",
   "id": "17f5fc0d-9024-4957-a36c-0d3edd045a20",
   "metadata": {},
   "source": [
    "---\n",
    "# Khám phá dữ liệu"
   ]
  },
  {
   "cell_type": "markdown",
   "id": "4aa8924e-9489-464c-9623-0f273c7f5476",
   "metadata": {},
   "source": [
    "Ở bước này nhóm em sẽ khám phá dữ liệu ở 4 tập tin ở trên. ĐƯợc chia thành 4 phần riêng đó là phần tình hình COVID-19 và \n",
    "tình hình Vaccin ở các quốc gia. \n",
    "\n",
    "**Note**: Trong quá trình khám phá sẽ có những phần tiền xử lí đơn giản."
   ]
  },
  {
   "cell_type": "markdown",
   "id": "623e8bd9-546a-472d-b495-5f18b515cfd1",
   "metadata": {},
   "source": [
    "<hr style=\"border:1px solid blue\"> </hr>"
   ]
  },
  {
   "cell_type": "markdown",
   "id": "32aea139-9ccd-4a26-94dd-39cdeb145be7",
   "metadata": {
    "tags": []
   },
   "source": [
    "## 1. Khám phá dữ liệu tình hình COVID-19 các quốc gia"
   ]
  },
  {
   "cell_type": "markdown",
   "id": "51c498cf-6595-4040-935c-84bbe8cfa112",
   "metadata": {
    "jp-MarkdownHeadingCollapsed": true,
    "tags": []
   },
   "source": [
    "### Đọc dữ liệu từ file"
   ]
  },
  {
   "cell_type": "markdown",
   "id": "0f9b1f34-6281-467b-ad92-1eacbb730bff",
   "metadata": {},
   "source": [
    "- Đọc dữ liệu từ file `WHO-COVID-19-global-table-data.csv` rồi lưu vào dataframe `global_table_df`.\n",
    "- Để Index là cột `Name`, riêng index `Global` đại diện cho toàn cầu."
   ]
  },
  {
   "cell_type": "code",
   "execution_count": 2,
   "id": "a97d638f-7fed-4939-97ba-e8081bdba248",
   "metadata": {
    "scrolled": true
   },
   "outputs": [
    {
     "data": {
      "text/html": [
       "<div>\n",
       "<style scoped>\n",
       "    .dataframe tbody tr th:only-of-type {\n",
       "        vertical-align: middle;\n",
       "    }\n",
       "\n",
       "    .dataframe tbody tr th {\n",
       "        vertical-align: top;\n",
       "    }\n",
       "\n",
       "    .dataframe thead th {\n",
       "        text-align: right;\n",
       "    }\n",
       "</style>\n",
       "<table border=\"1\" class=\"dataframe\">\n",
       "  <thead>\n",
       "    <tr style=\"text-align: right;\">\n",
       "      <th></th>\n",
       "      <th>WHO Region</th>\n",
       "      <th>Cases - cumulative total</th>\n",
       "      <th>Cases - cumulative total per 100000 population</th>\n",
       "      <th>Cases - newly reported in last 7 days</th>\n",
       "      <th>Cases - newly reported in last 7 days per 100000 population</th>\n",
       "      <th>Cases - newly reported in last 24 hours</th>\n",
       "      <th>Deaths - cumulative total</th>\n",
       "      <th>Deaths - cumulative total per 100000 population</th>\n",
       "      <th>Deaths - newly reported in last 7 days</th>\n",
       "      <th>Deaths - newly reported in last 7 days per 100000 population</th>\n",
       "      <th>Deaths - newly reported in last 24 hours</th>\n",
       "    </tr>\n",
       "    <tr>\n",
       "      <th>Name</th>\n",
       "      <th></th>\n",
       "      <th></th>\n",
       "      <th></th>\n",
       "      <th></th>\n",
       "      <th></th>\n",
       "      <th></th>\n",
       "      <th></th>\n",
       "      <th></th>\n",
       "      <th></th>\n",
       "      <th></th>\n",
       "      <th></th>\n",
       "    </tr>\n",
       "  </thead>\n",
       "  <tbody>\n",
       "    <tr>\n",
       "      <th>Global</th>\n",
       "      <td>NaN</td>\n",
       "      <td>263563622</td>\n",
       "      <td>3381.387611</td>\n",
       "      <td>3973600</td>\n",
       "      <td>50.979273</td>\n",
       "      <td>653682</td>\n",
       "      <td>5232562</td>\n",
       "      <td>67.131117</td>\n",
       "      <td>47864</td>\n",
       "      <td>0.614071</td>\n",
       "      <td>7804</td>\n",
       "    </tr>\n",
       "    <tr>\n",
       "      <th>United States of America</th>\n",
       "      <td>Americas</td>\n",
       "      <td>48413265</td>\n",
       "      <td>14626.247000</td>\n",
       "      <td>605870</td>\n",
       "      <td>183.041000</td>\n",
       "      <td>131187</td>\n",
       "      <td>778336</td>\n",
       "      <td>235.145000</td>\n",
       "      <td>6388</td>\n",
       "      <td>1.930000</td>\n",
       "      <td>1831</td>\n",
       "    </tr>\n",
       "    <tr>\n",
       "      <th>India</th>\n",
       "      <td>South-East Asia</td>\n",
       "      <td>34615757</td>\n",
       "      <td>2508.380000</td>\n",
       "      <td>60326</td>\n",
       "      <td>4.371000</td>\n",
       "      <td>9216</td>\n",
       "      <td>470115</td>\n",
       "      <td>34.066000</td>\n",
       "      <td>2647</td>\n",
       "      <td>0.192000</td>\n",
       "      <td>391</td>\n",
       "    </tr>\n",
       "    <tr>\n",
       "      <th>Brazil</th>\n",
       "      <td>Americas</td>\n",
       "      <td>22105872</td>\n",
       "      <td>10399.855000</td>\n",
       "      <td>62760</td>\n",
       "      <td>29.526000</td>\n",
       "      <td>11413</td>\n",
       "      <td>614964</td>\n",
       "      <td>289.314000</td>\n",
       "      <td>1625</td>\n",
       "      <td>0.764000</td>\n",
       "      <td>283</td>\n",
       "    </tr>\n",
       "    <tr>\n",
       "      <th>The United Kingdom</th>\n",
       "      <td>Europe</td>\n",
       "      <td>10329078</td>\n",
       "      <td>15215.328000</td>\n",
       "      <td>307577</td>\n",
       "      <td>453.079000</td>\n",
       "      <td>53067</td>\n",
       "      <td>145281</td>\n",
       "      <td>214.007000</td>\n",
       "      <td>848</td>\n",
       "      <td>1.249000</td>\n",
       "      <td>141</td>\n",
       "    </tr>\n",
       "  </tbody>\n",
       "</table>\n",
       "</div>"
      ],
      "text/plain": [
       "                               WHO Region  Cases - cumulative total  \\\n",
       "Name                                                                  \n",
       "Global                                NaN                 263563622   \n",
       "United States of America         Americas                  48413265   \n",
       "India                     South-East Asia                  34615757   \n",
       "Brazil                           Americas                  22105872   \n",
       "The United Kingdom                 Europe                  10329078   \n",
       "\n",
       "                          Cases - cumulative total per 100000 population  \\\n",
       "Name                                                                       \n",
       "Global                                                       3381.387611   \n",
       "United States of America                                    14626.247000   \n",
       "India                                                        2508.380000   \n",
       "Brazil                                                      10399.855000   \n",
       "The United Kingdom                                          15215.328000   \n",
       "\n",
       "                          Cases - newly reported in last 7 days  \\\n",
       "Name                                                              \n",
       "Global                                                  3973600   \n",
       "United States of America                                 605870   \n",
       "India                                                     60326   \n",
       "Brazil                                                    62760   \n",
       "The United Kingdom                                       307577   \n",
       "\n",
       "                          Cases - newly reported in last 7 days per 100000 population  \\\n",
       "Name                                                                                    \n",
       "Global                                                            50.979273             \n",
       "United States of America                                         183.041000             \n",
       "India                                                              4.371000             \n",
       "Brazil                                                            29.526000             \n",
       "The United Kingdom                                               453.079000             \n",
       "\n",
       "                          Cases - newly reported in last 24 hours  \\\n",
       "Name                                                                \n",
       "Global                                                     653682   \n",
       "United States of America                                   131187   \n",
       "India                                                        9216   \n",
       "Brazil                                                      11413   \n",
       "The United Kingdom                                          53067   \n",
       "\n",
       "                          Deaths - cumulative total  \\\n",
       "Name                                                  \n",
       "Global                                      5232562   \n",
       "United States of America                     778336   \n",
       "India                                        470115   \n",
       "Brazil                                       614964   \n",
       "The United Kingdom                           145281   \n",
       "\n",
       "                          Deaths - cumulative total per 100000 population  \\\n",
       "Name                                                                        \n",
       "Global                                                          67.131117   \n",
       "United States of America                                       235.145000   \n",
       "India                                                           34.066000   \n",
       "Brazil                                                         289.314000   \n",
       "The United Kingdom                                             214.007000   \n",
       "\n",
       "                          Deaths - newly reported in last 7 days  \\\n",
       "Name                                                               \n",
       "Global                                                     47864   \n",
       "United States of America                                    6388   \n",
       "India                                                       2647   \n",
       "Brazil                                                      1625   \n",
       "The United Kingdom                                           848   \n",
       "\n",
       "                          Deaths - newly reported in last 7 days per 100000 population  \\\n",
       "Name                                                                                     \n",
       "Global                                                             0.614071              \n",
       "United States of America                                           1.930000              \n",
       "India                                                              0.192000              \n",
       "Brazil                                                             0.764000              \n",
       "The United Kingdom                                                 1.249000              \n",
       "\n",
       "                          Deaths - newly reported in last 24 hours  \n",
       "Name                                                                \n",
       "Global                                                        7804  \n",
       "United States of America                                      1831  \n",
       "India                                                          391  \n",
       "Brazil                                                         283  \n",
       "The United Kingdom                                             141  "
      ]
     },
     "execution_count": 2,
     "metadata": {},
     "output_type": "execute_result"
    }
   ],
   "source": [
    "global_table_df = pd.read_csv('dataset/WHO-COVID-19-global-table-data.csv',index_col= False)\n",
    "global_table_df = global_table_df.set_index('Name')\n",
    "global_table_df.head()"
   ]
  },
  {
   "cell_type": "markdown",
   "id": "4700d3f3-434d-4c54-b477-7f8ac5f3d1c0",
   "metadata": {
    "jp-MarkdownHeadingCollapsed": true,
    "tags": []
   },
   "source": [
    "### Dữ liệu có bao nhiêu dòng, cột"
   ]
  },
  {
   "cell_type": "markdown",
   "id": "4fb326c0-f71f-48c3-9465-ed55592f48f1",
   "metadata": {},
   "source": [
    "Tính số dòng và số cột của dataframe `global_table_df` rồi lưu vào `num_rows_global_table` và `num_cols_global_table`"
   ]
  },
  {
   "cell_type": "code",
   "execution_count": 3,
   "id": "63c3a517-288a-4437-a900-2bac47c9c35d",
   "metadata": {},
   "outputs": [
    {
     "name": "stdout",
     "output_type": "stream",
     "text": [
      "Dữ liệu có 238 dòng.\n",
      "Dữ liệu có 11 cột.\n"
     ]
    }
   ],
   "source": [
    "num_rows_global_table , num_cols_global_table = global_table_df.shape\n",
    "print(f'Dữ liệu có {num_rows_global_table} dòng.')\n",
    "print(f'Dữ liệu có {num_cols_global_table} cột.')"
   ]
  },
  {
   "cell_type": "markdown",
   "id": "807efa63-9d7e-456a-b3a0-e0385e2e45e7",
   "metadata": {},
   "source": [
    "Chúng ta không xét tới dòng index `Global` nên dữ liệu gồm 237 `quốc gia`, đúng với mô tả ở trên."
   ]
  },
  {
   "cell_type": "markdown",
   "id": "35e51f65-9663-4f23-a9e0-4c7b49d97d61",
   "metadata": {
    "jp-MarkdownHeadingCollapsed": true,
    "tags": []
   },
   "source": [
    "### Mỗi dòng có ý nghĩa gì ? Có vấn đề về ý nghĩa giữa các dòng khác nhau hay không ?"
   ]
  },
  {
   "cell_type": "markdown",
   "id": "83721ff5-2425-4788-9d42-e6c505019925",
   "metadata": {},
   "source": [
    "Theo quan sát sơ bộ và file mô tả dữ liệu trên website chính của WHO thì dữ liệu cho biết thông tin về tính hình COVID-19 của từng quốc gia.\\\n",
    "Có vẻ không có vấn đề về ý nghĩa từng dòng."
   ]
  },
  {
   "cell_type": "markdown",
   "id": "e982bbca-85ed-45e8-b9ca-fea56330e922",
   "metadata": {
    "jp-MarkdownHeadingCollapsed": true,
    "tags": []
   },
   "source": [
    "### Dữ liệu có bị lặp không ?"
   ]
  },
  {
   "cell_type": "markdown",
   "id": "d06a36f9-4766-4606-a60c-502c29e84f7a",
   "metadata": {},
   "source": [
    "Tính số dòng dữ liệu bị trùng (nếu có) rồi lưu vào biến `num_rows_dupicated`."
   ]
  },
  {
   "cell_type": "code",
   "execution_count": 4,
   "id": "acd57328-efcf-4313-9dae-e5a0e2f1be66",
   "metadata": {},
   "outputs": [
    {
     "name": "stdout",
     "output_type": "stream",
     "text": [
      "0\n"
     ]
    }
   ],
   "source": [
    "num_rows_duplicated = num_rows_global_table - len(global_table_df.index.drop_duplicates())\n",
    "print(num_rows_duplicated)"
   ]
  },
  {
   "cell_type": "markdown",
   "id": "90776043-e26c-4faa-a230-f136cc824a7f",
   "metadata": {
    "jp-MarkdownHeadingCollapsed": true,
    "tags": []
   },
   "source": [
    "### Mỗi cột có ý nghĩa gì ?"
   ]
  },
  {
   "cell_type": "markdown",
   "id": "f649fc3e-582b-473f-a14a-88a3f976e6bd",
   "metadata": {},
   "source": [
    "Dựa vào mô tả chính thức trên website WHO, em đã mô tả ý nghĩa từng cột dữ liệu trong file `description_global_table.csv`"
   ]
  },
  {
   "cell_type": "code",
   "execution_count": 5,
   "id": "c28743c7-da4e-4e04-8b92-8ff124cf5231",
   "metadata": {
    "scrolled": true
   },
   "outputs": [],
   "source": [
    "pd.set_option(\"display.max_colwidth\",200)\n",
    "description_global_table = pd.read_csv('dataset/Description-global-table.csv',\n",
    "                                       delimiter= '\\t',index_col='Field name')"
   ]
  },
  {
   "cell_type": "code",
   "execution_count": 6,
   "id": "a3b43912-df78-4b50-a931-5122c422c827",
   "metadata": {},
   "outputs": [
    {
     "data": {
      "text/html": [
       "<div>\n",
       "<style scoped>\n",
       "    .dataframe tbody tr th:only-of-type {\n",
       "        vertical-align: middle;\n",
       "    }\n",
       "\n",
       "    .dataframe tbody tr th {\n",
       "        vertical-align: top;\n",
       "    }\n",
       "\n",
       "    .dataframe thead th {\n",
       "        text-align: right;\n",
       "    }\n",
       "</style>\n",
       "<table border=\"1\" class=\"dataframe\">\n",
       "  <thead>\n",
       "    <tr style=\"text-align: right;\">\n",
       "      <th></th>\n",
       "      <th>Type</th>\n",
       "      <th>Description</th>\n",
       "    </tr>\n",
       "    <tr>\n",
       "      <th>Field name</th>\n",
       "      <th></th>\n",
       "      <th></th>\n",
       "    </tr>\n",
       "  </thead>\n",
       "  <tbody>\n",
       "    <tr>\n",
       "      <th>Name</th>\n",
       "      <td>String</td>\n",
       "      <td>Country, territory, area</td>\n",
       "    </tr>\n",
       "    <tr>\n",
       "      <th>WHO_region</th>\n",
       "      <td>String</td>\n",
       "      <td>WHO Region</td>\n",
       "    </tr>\n",
       "    <tr>\n",
       "      <th>Cases - cumulative total</th>\n",
       "      <td>Integer</td>\n",
       "      <td>Cumulative confirmed cases reported to WHO to date.</td>\n",
       "    </tr>\n",
       "    <tr>\n",
       "      <th>Cases - cumulative total per 100000 population</th>\n",
       "      <td>Decimal</td>\n",
       "      <td>Cumulative confirmed cases reported to WHO to date per 100,000 population.</td>\n",
       "    </tr>\n",
       "    <tr>\n",
       "      <th>Cases - newly reported in last 7 days</th>\n",
       "      <td>Integer</td>\n",
       "      <td>New confirmed cases reported in the last 7 days. Calculated by subtracting previous cumulative case count (8 days prior) from current cumulative cases count.</td>\n",
       "    </tr>\n",
       "    <tr>\n",
       "      <th>Cases - newly reported in last 7 days per 100000 population</th>\n",
       "      <td>Decimal</td>\n",
       "      <td>New confirmed cases reported in the last 7 days per 100,000 population.</td>\n",
       "    </tr>\n",
       "    <tr>\n",
       "      <th>Cases - newly reported in last 24 hours</th>\n",
       "      <td>Integer</td>\n",
       "      <td>New confirmed cases reported in the last 24 hours. Calculated by subtracting previous cumulative case count from current cumulative cases count.</td>\n",
       "    </tr>\n",
       "    <tr>\n",
       "      <th>Deaths - cumulative total</th>\n",
       "      <td>Integer</td>\n",
       "      <td>Cumulative confirmed deaths reported to WHO to date.</td>\n",
       "    </tr>\n",
       "    <tr>\n",
       "      <th>Deaths - cumulative total per 100000 population</th>\n",
       "      <td>Decimal</td>\n",
       "      <td>Cumulative confirmed deaths reported to WHO to date per 100,000 population.</td>\n",
       "    </tr>\n",
       "    <tr>\n",
       "      <th>Deaths - newly reported in last 7 days</th>\n",
       "      <td>Integer</td>\n",
       "      <td>New confirmed deaths reported in the last 7 days. Calculated by subtracting previous cumulative death count (8 days prior) from current cumulative deaths count.</td>\n",
       "    </tr>\n",
       "    <tr>\n",
       "      <th>Deaths - newly reported in last 7 days per 100000 population</th>\n",
       "      <td>Decimal</td>\n",
       "      <td>New confirmed deaths reported in the last 7 days per 100,000 population.</td>\n",
       "    </tr>\n",
       "    <tr>\n",
       "      <th>Deaths - newly reported in last 24 hours</th>\n",
       "      <td>Integer</td>\n",
       "      <td>New confirmed deaths reported in the last 24 hours. Calculated by subtracting previous cumulative death count from current cumulative deaths count.</td>\n",
       "    </tr>\n",
       "  </tbody>\n",
       "</table>\n",
       "</div>"
      ],
      "text/plain": [
       "                                                                 Type  \\\n",
       "Field name                                                              \n",
       "Name                                                           String   \n",
       "WHO_region                                                     String   \n",
       "Cases - cumulative total                                      Integer   \n",
       "Cases - cumulative total per 100000 population                Decimal   \n",
       "Cases - newly reported in last 7 days                         Integer   \n",
       "Cases - newly reported in last 7 days per 100000 population   Decimal   \n",
       "Cases - newly reported in last 24 hours                       Integer   \n",
       "Deaths - cumulative total                                     Integer   \n",
       "Deaths - cumulative total per 100000 population               Decimal   \n",
       "Deaths - newly reported in last 7 days                        Integer   \n",
       "Deaths - newly reported in last 7 days per 100000 population  Decimal   \n",
       "Deaths - newly reported in last 24 hours                      Integer   \n",
       "\n",
       "                                                                                                                                                                                                                   Description  \n",
       "Field name                                                                                                                                                                                                                      \n",
       "Name                                                                                                                                                                                                  Country, territory, area  \n",
       "WHO_region                                                                                                                                                                                                          WHO Region  \n",
       "Cases - cumulative total                                                                                                                                                   Cumulative confirmed cases reported to WHO to date.  \n",
       "Cases - cumulative total per 100000 population                                                                                                      Cumulative confirmed cases reported to WHO to date per 100,000 population.  \n",
       "Cases - newly reported in last 7 days                            New confirmed cases reported in the last 7 days. Calculated by subtracting previous cumulative case count (8 days prior) from current cumulative cases count.  \n",
       "Cases - newly reported in last 7 days per 100000 population                                                                                            New confirmed cases reported in the last 7 days per 100,000 population.  \n",
       "Cases - newly reported in last 24 hours                                       New confirmed cases reported in the last 24 hours. Calculated by subtracting previous cumulative case count from current cumulative cases count.  \n",
       "Deaths - cumulative total                                                                                                                                                 Cumulative confirmed deaths reported to WHO to date.  \n",
       "Deaths - cumulative total per 100000 population                                                                                                    Cumulative confirmed deaths reported to WHO to date per 100,000 population.  \n",
       "Deaths - newly reported in last 7 days                        New confirmed deaths reported in the last 7 days. Calculated by subtracting previous cumulative death count (8 days prior) from current cumulative deaths count.  \n",
       "Deaths - newly reported in last 7 days per 100000 population                                                                                          New confirmed deaths reported in the last 7 days per 100,000 population.  \n",
       "Deaths - newly reported in last 24 hours                                   New confirmed deaths reported in the last 24 hours. Calculated by subtracting previous cumulative death count from current cumulative deaths count.  "
      ]
     },
     "execution_count": 6,
     "metadata": {},
     "output_type": "execute_result"
    }
   ],
   "source": [
    "description_global_table"
   ]
  },
  {
   "cell_type": "markdown",
   "id": "b579cea5-ae2a-4dc9-96f3-ffadb42a6af4",
   "metadata": {
    "jp-MarkdownHeadingCollapsed": true,
    "tags": []
   },
   "source": [
    "### Mỗi cột hiện tại đang có dữ liệu gì ? Có cột nào có kiểu dữ liệu không phù hợp không ?"
   ]
  },
  {
   "cell_type": "code",
   "execution_count": 7,
   "id": "255a9b1a-aabf-4d67-ad88-59350b5cc3ee",
   "metadata": {},
   "outputs": [
    {
     "data": {
      "text/plain": [
       "WHO Region                                                       object\n",
       "Cases - cumulative total                                          int64\n",
       "Cases - cumulative total per 100000 population                  float64\n",
       "Cases - newly reported in last 7 days                             int64\n",
       "Cases - newly reported in last 7 days per 100000 population     float64\n",
       "Cases - newly reported in last 24 hours                           int64\n",
       "Deaths - cumulative total                                         int64\n",
       "Deaths - cumulative total per 100000 population                 float64\n",
       "Deaths - newly reported in last 7 days                            int64\n",
       "Deaths - newly reported in last 7 days per 100000 population    float64\n",
       "Deaths - newly reported in last 24 hours                          int64\n",
       "dtype: object"
      ]
     },
     "execution_count": 7,
     "metadata": {},
     "output_type": "execute_result"
    }
   ],
   "source": [
    "global_table_df.dtypes"
   ]
  },
  {
   "cell_type": "markdown",
   "id": "af239e78-7a18-4e32-baa7-0725c3e5ab0e",
   "metadata": {},
   "source": [
    "Vậy **Không có gì bất thường**"
   ]
  },
  {
   "cell_type": "markdown",
   "id": "00cf9159-ca41-4e99-ad4a-6f5ef91bd487",
   "metadata": {
    "tags": []
   },
   "source": [
    "### Phân bố dữ liệu dạng numerical"
   ]
  },
  {
   "cell_type": "markdown",
   "id": "ff07e149-4317-43b8-85c3-68876e0cdc0f",
   "metadata": {},
   "source": [
    "Dữ liệu ở đây phần lớn ở dạng `numerical`, trừ `WHO Region`. \\\n",
    "`WHO Region` kiểu dữ liệu `int64` nhưng đây là mã vùng nên không có nhiều ý nghĩa nếu xếp vào `numerical`"
   ]
  },
  {
   "cell_type": "code",
   "execution_count": 8,
   "id": "8a638876-6a70-4d94-9b7b-f5f04b334899",
   "metadata": {},
   "outputs": [],
   "source": [
    "def missing_ration(column):\n",
    "    return (column.isna().mean() * 100).round(1)\n",
    "\n",
    "def lower_quantile(column):\n",
    "    return column.quantile(q= 0.25)\n",
    "\n",
    "def upper_quantile(column):\n",
    "    return column.quantile(q= 0.75)"
   ]
  },
  {
   "cell_type": "markdown",
   "id": "ef288328-9106-4417-beb0-430eb2435e4a",
   "metadata": {
    "tags": []
   },
   "source": [
    "---\n",
    "### Quay lại khám phá dữ liệu"
   ]
  },
  {
   "cell_type": "markdown",
   "id": "29906978-5c72-46e1-8f93-457507ee72c9",
   "metadata": {},
   "source": [
    "- Ở đây chỉ có cột `WHO Region` không thuộc kiểu `numerical`.\n",
    "- Dòng `Global` cũng sẽ được không xét vì ta chỉ đánh giá sự tương quan giữa các quốc gia với nhau."
   ]
  },
  {
   "cell_type": "code",
   "execution_count": 9,
   "id": "8c421f12-4708-465b-b554-553776b1a77f",
   "metadata": {
    "scrolled": true
   },
   "outputs": [
    {
     "data": {
      "text/html": [
       "<div>\n",
       "<style scoped>\n",
       "    .dataframe tbody tr th:only-of-type {\n",
       "        vertical-align: middle;\n",
       "    }\n",
       "\n",
       "    .dataframe tbody tr th {\n",
       "        vertical-align: top;\n",
       "    }\n",
       "\n",
       "    .dataframe thead th {\n",
       "        text-align: right;\n",
       "    }\n",
       "</style>\n",
       "<table border=\"1\" class=\"dataframe\">\n",
       "  <thead>\n",
       "    <tr style=\"text-align: right;\">\n",
       "      <th></th>\n",
       "      <th>Cases - cumulative total</th>\n",
       "      <th>Cases - cumulative total per 100000 population</th>\n",
       "      <th>Cases - newly reported in last 7 days</th>\n",
       "      <th>Cases - newly reported in last 7 days per 100000 population</th>\n",
       "      <th>Cases - newly reported in last 24 hours</th>\n",
       "      <th>Deaths - cumulative total</th>\n",
       "      <th>Deaths - cumulative total per 100000 population</th>\n",
       "      <th>Deaths - newly reported in last 7 days</th>\n",
       "      <th>Deaths - newly reported in last 7 days per 100000 population</th>\n",
       "      <th>Deaths - newly reported in last 24 hours</th>\n",
       "    </tr>\n",
       "  </thead>\n",
       "  <tbody>\n",
       "    <tr>\n",
       "      <th>missing_ration</th>\n",
       "      <td>0.0</td>\n",
       "      <td>0.40000</td>\n",
       "      <td>0.0</td>\n",
       "      <td>0.40000</td>\n",
       "      <td>0.0</td>\n",
       "      <td>0.0</td>\n",
       "      <td>0.4000</td>\n",
       "      <td>0.0</td>\n",
       "      <td>0.4000</td>\n",
       "      <td>0.0</td>\n",
       "    </tr>\n",
       "    <tr>\n",
       "      <th>min</th>\n",
       "      <td>0.0</td>\n",
       "      <td>0.00000</td>\n",
       "      <td>0.0</td>\n",
       "      <td>0.00000</td>\n",
       "      <td>0.0</td>\n",
       "      <td>0.0</td>\n",
       "      <td>0.0000</td>\n",
       "      <td>0.0</td>\n",
       "      <td>0.0000</td>\n",
       "      <td>0.0</td>\n",
       "    </tr>\n",
       "    <tr>\n",
       "      <th>lower_quantile</th>\n",
       "      <td>10006.0</td>\n",
       "      <td>466.51725</td>\n",
       "      <td>50.0</td>\n",
       "      <td>0.76775</td>\n",
       "      <td>0.0</td>\n",
       "      <td>122.0</td>\n",
       "      <td>7.0330</td>\n",
       "      <td>0.0</td>\n",
       "      <td>0.0000</td>\n",
       "      <td>0.0</td>\n",
       "    </tr>\n",
       "    <tr>\n",
       "      <th>median</th>\n",
       "      <td>76496.0</td>\n",
       "      <td>4791.30250</td>\n",
       "      <td>458.0</td>\n",
       "      <td>19.15300</td>\n",
       "      <td>32.0</td>\n",
       "      <td>1327.0</td>\n",
       "      <td>52.6165</td>\n",
       "      <td>4.0</td>\n",
       "      <td>0.0935</td>\n",
       "      <td>0.0</td>\n",
       "    </tr>\n",
       "    <tr>\n",
       "      <th>upper_quantile</th>\n",
       "      <td>549810.0</td>\n",
       "      <td>9579.38850</td>\n",
       "      <td>4485.0</td>\n",
       "      <td>136.46925</td>\n",
       "      <td>538.0</td>\n",
       "      <td>8839.0</td>\n",
       "      <td>145.7290</td>\n",
       "      <td>70.0</td>\n",
       "      <td>0.9045</td>\n",
       "      <td>7.0</td>\n",
       "    </tr>\n",
       "    <tr>\n",
       "      <th>max</th>\n",
       "      <td>48413265.0</td>\n",
       "      <td>25135.73500</td>\n",
       "      <td>605870.0</td>\n",
       "      <td>1413.31800</td>\n",
       "      <td>131187.0</td>\n",
       "      <td>778336.0</td>\n",
       "      <td>610.2450</td>\n",
       "      <td>8565.0</td>\n",
       "      <td>12.8560</td>\n",
       "      <td>1831.0</td>\n",
       "    </tr>\n",
       "  </tbody>\n",
       "</table>\n",
       "</div>"
      ],
      "text/plain": [
       "                Cases - cumulative total  \\\n",
       "missing_ration                       0.0   \n",
       "min                                  0.0   \n",
       "lower_quantile                   10006.0   \n",
       "median                           76496.0   \n",
       "upper_quantile                  549810.0   \n",
       "max                           48413265.0   \n",
       "\n",
       "                Cases - cumulative total per 100000 population  \\\n",
       "missing_ration                                         0.40000   \n",
       "min                                                    0.00000   \n",
       "lower_quantile                                       466.51725   \n",
       "median                                              4791.30250   \n",
       "upper_quantile                                      9579.38850   \n",
       "max                                                25135.73500   \n",
       "\n",
       "                Cases - newly reported in last 7 days  \\\n",
       "missing_ration                                    0.0   \n",
       "min                                               0.0   \n",
       "lower_quantile                                   50.0   \n",
       "median                                          458.0   \n",
       "upper_quantile                                 4485.0   \n",
       "max                                          605870.0   \n",
       "\n",
       "                Cases - newly reported in last 7 days per 100000 population  \\\n",
       "missing_ration                                                      0.40000   \n",
       "min                                                                 0.00000   \n",
       "lower_quantile                                                      0.76775   \n",
       "median                                                             19.15300   \n",
       "upper_quantile                                                    136.46925   \n",
       "max                                                              1413.31800   \n",
       "\n",
       "                Cases - newly reported in last 24 hours  \\\n",
       "missing_ration                                      0.0   \n",
       "min                                                 0.0   \n",
       "lower_quantile                                      0.0   \n",
       "median                                             32.0   \n",
       "upper_quantile                                    538.0   \n",
       "max                                            131187.0   \n",
       "\n",
       "                Deaths - cumulative total  \\\n",
       "missing_ration                        0.0   \n",
       "min                                   0.0   \n",
       "lower_quantile                      122.0   \n",
       "median                             1327.0   \n",
       "upper_quantile                     8839.0   \n",
       "max                              778336.0   \n",
       "\n",
       "                Deaths - cumulative total per 100000 population  \\\n",
       "missing_ration                                           0.4000   \n",
       "min                                                      0.0000   \n",
       "lower_quantile                                           7.0330   \n",
       "median                                                  52.6165   \n",
       "upper_quantile                                         145.7290   \n",
       "max                                                    610.2450   \n",
       "\n",
       "                Deaths - newly reported in last 7 days  \\\n",
       "missing_ration                                     0.0   \n",
       "min                                                0.0   \n",
       "lower_quantile                                     0.0   \n",
       "median                                             4.0   \n",
       "upper_quantile                                    70.0   \n",
       "max                                             8565.0   \n",
       "\n",
       "                Deaths - newly reported in last 7 days per 100000 population  \\\n",
       "missing_ration                                                        0.4000   \n",
       "min                                                                   0.0000   \n",
       "lower_quantile                                                        0.0000   \n",
       "median                                                                0.0935   \n",
       "upper_quantile                                                        0.9045   \n",
       "max                                                                  12.8560   \n",
       "\n",
       "                Deaths - newly reported in last 24 hours  \n",
       "missing_ration                                       0.0  \n",
       "min                                                  0.0  \n",
       "lower_quantile                                       0.0  \n",
       "median                                               0.0  \n",
       "upper_quantile                                       7.0  \n",
       "max                                               1831.0  "
      ]
     },
     "execution_count": 9,
     "metadata": {},
     "output_type": "execute_result"
    }
   ],
   "source": [
    "numerical_df = global_table_df.drop(columns = ['WHO Region'],index='Global')\n",
    "numerical_df.aggregate([missing_ration,pd.Series.min,lower_quantile,\n",
    "                        pd.Series.median,upper_quantile,pd.Series.max])"
   ]
  },
  {
   "cell_type": "markdown",
   "id": "7414d158-5ce7-4349-9ec1-e876c1bb3236",
   "metadata": {},
   "source": [
    "Vậy **không có gì bất thường**"
   ]
  },
  {
   "cell_type": "markdown",
   "id": "42b0159e-15b1-43bb-9573-65c44196290e",
   "metadata": {
    "tags": []
   },
   "source": [
    "### Phân bố dữ liệu dạng categorical"
   ]
  },
  {
   "cell_type": "code",
   "execution_count": 10,
   "id": "f18cd865-714b-42a2-b1e7-37bc323145ec",
   "metadata": {},
   "outputs": [
    {
     "data": {
      "text/html": [
       "<div>\n",
       "<style scoped>\n",
       "    .dataframe tbody tr th:only-of-type {\n",
       "        vertical-align: middle;\n",
       "    }\n",
       "\n",
       "    .dataframe tbody tr th {\n",
       "        vertical-align: top;\n",
       "    }\n",
       "\n",
       "    .dataframe thead th {\n",
       "        text-align: right;\n",
       "    }\n",
       "</style>\n",
       "<table border=\"1\" class=\"dataframe\">\n",
       "  <thead>\n",
       "    <tr style=\"text-align: right;\">\n",
       "      <th></th>\n",
       "      <th>WHO Region</th>\n",
       "    </tr>\n",
       "  </thead>\n",
       "  <tbody>\n",
       "    <tr>\n",
       "      <th>missing_ration</th>\n",
       "      <td>0.4</td>\n",
       "    </tr>\n",
       "    <tr>\n",
       "      <th>unique</th>\n",
       "      <td>[nan, Americas, South-East Asia, Europe, Eastern Mediterranean, Africa, Western Pacific, Other]</td>\n",
       "    </tr>\n",
       "    <tr>\n",
       "      <th>nunique</th>\n",
       "      <td>7</td>\n",
       "    </tr>\n",
       "  </tbody>\n",
       "</table>\n",
       "</div>"
      ],
      "text/plain": [
       "                                                                                                     WHO Region\n",
       "missing_ration                                                                                              0.4\n",
       "unique          [nan, Americas, South-East Asia, Europe, Eastern Mediterranean, Africa, Western Pacific, Other]\n",
       "nunique                                                                                                       7"
      ]
     },
     "execution_count": 10,
     "metadata": {},
     "output_type": "execute_result"
    }
   ],
   "source": [
    "pd.set_option(\"display.max_colwidth\",100)\n",
    "global_table_df[['WHO Region']].agg([missing_ration,pd.Series.unique,pd.Series.nunique])"
   ]
  },
  {
   "cell_type": "markdown",
   "id": "99a1d9bb-d036-442f-973a-fd5032c81071",
   "metadata": {},
   "source": [
    "Vậy **không có gì bất thường**"
   ]
  },
  {
   "cell_type": "markdown",
   "id": "98fa72c9-5d4e-4408-961b-dabe4f691118",
   "metadata": {},
   "source": [
    "Vẽ `barh chart` để xem phân bố các giá trị của cột `WHO region`"
   ]
  },
  {
   "cell_type": "code",
   "execution_count": 11,
   "id": "f4286db3-7dcc-4f32-8d76-98139b3ae3bc",
   "metadata": {
    "scrolled": true
   },
   "outputs": [
    {
     "data": {
      "image/png": "[encoded data removed]",
      "text/plain": [
       "<Figure size 432x288 with 1 Axes>"
      ]
     },
     "metadata": {
      "needs_background": "light"
     },
     "output_type": "display_data"
    }
   ],
   "source": [
    "global_table_df['WHO Region'].value_counts(normalize = True).plot.barh()\n",
    "plt.xlabel('Tỉ lệ')\n",
    "plt.title('Phân bố các khu vực');"
   ]
  },
  {
   "cell_type": "markdown",
   "id": "196d3911-8056-4c8c-ac0d-96a6387a6c7f",
   "metadata": {},
   "source": [
    "<hr style=\"border:1px solid blue\"> </hr>"
   ]
  },
  {
   "cell_type": "markdown",
   "id": "b2a95842-be5d-4656-974e-294f7fc94c63",
   "metadata": {
    "tags": []
   },
   "source": [
    "## 2. Khám phá dữ liệu tình hình COVID-19 theo ngày"
   ]
  },
  {
   "cell_type": "markdown",
   "id": "e8d6e407-6c0e-4c4f-a0f2-42749d433e09",
   "metadata": {
    "jp-MarkdownHeadingCollapsed": true,
    "tags": []
   },
   "source": [
    "### Đọc dữ liệu từ file"
   ]
  },
  {
   "cell_type": "markdown",
   "id": "8bcb862a-cf2b-476c-bb3b-40c8ae89dfc7",
   "metadata": {},
   "source": [
    "- Đọc dữ liệu từ file `WHO-COVID-19-global-data.csv` rồi lưu vào dataframe `global_df`.\n",
    "- Mỗi quốc gia được thống kê trong nhiều ngày, ta nên để index là `số dòng`"
   ]
  },
  {
   "cell_type": "code",
   "execution_count": 12,
   "id": "03c454ad-a1b6-46cc-adaf-182ae81bad16",
   "metadata": {
    "scrolled": true
   },
   "outputs": [
    {
     "data": {
      "text/html": [
       "<div>\n",
       "<style scoped>\n",
       "    .dataframe tbody tr th:only-of-type {\n",
       "        vertical-align: middle;\n",
       "    }\n",
       "\n",
       "    .dataframe tbody tr th {\n",
       "        vertical-align: top;\n",
       "    }\n",
       "\n",
       "    .dataframe thead th {\n",
       "        text-align: right;\n",
       "    }\n",
       "</style>\n",
       "<table border=\"1\" class=\"dataframe\">\n",
       "  <thead>\n",
       "    <tr style=\"text-align: right;\">\n",
       "      <th></th>\n",
       "      <th>Date_reported</th>\n",
       "      <th>Country_code</th>\n",
       "      <th>Country</th>\n",
       "      <th>WHO_region</th>\n",
       "      <th>New_cases</th>\n",
       "      <th>Cumulative_cases</th>\n",
       "      <th>New_deaths</th>\n",
       "      <th>Cumulative_deaths</th>\n",
       "    </tr>\n",
       "  </thead>\n",
       "  <tbody>\n",
       "    <tr>\n",
       "      <th>166132</th>\n",
       "      <td>2021-11-29</td>\n",
       "      <td>ZW</td>\n",
       "      <td>Zimbabwe</td>\n",
       "      <td>AFRO</td>\n",
       "      <td>40</td>\n",
       "      <td>133991</td>\n",
       "      <td>0</td>\n",
       "      <td>4705</td>\n",
       "    </tr>\n",
       "    <tr>\n",
       "      <th>166133</th>\n",
       "      <td>2021-11-30</td>\n",
       "      <td>ZW</td>\n",
       "      <td>Zimbabwe</td>\n",
       "      <td>AFRO</td>\n",
       "      <td>235</td>\n",
       "      <td>134226</td>\n",
       "      <td>1</td>\n",
       "      <td>4706</td>\n",
       "    </tr>\n",
       "    <tr>\n",
       "      <th>166134</th>\n",
       "      <td>2021-12-01</td>\n",
       "      <td>ZW</td>\n",
       "      <td>Zimbabwe</td>\n",
       "      <td>AFRO</td>\n",
       "      <td>426</td>\n",
       "      <td>134652</td>\n",
       "      <td>1</td>\n",
       "      <td>4707</td>\n",
       "    </tr>\n",
       "    <tr>\n",
       "      <th>166135</th>\n",
       "      <td>2021-12-02</td>\n",
       "      <td>ZW</td>\n",
       "      <td>Zimbabwe</td>\n",
       "      <td>AFRO</td>\n",
       "      <td>685</td>\n",
       "      <td>135337</td>\n",
       "      <td>0</td>\n",
       "      <td>4707</td>\n",
       "    </tr>\n",
       "    <tr>\n",
       "      <th>166136</th>\n",
       "      <td>2021-12-03</td>\n",
       "      <td>ZW</td>\n",
       "      <td>Zimbabwe</td>\n",
       "      <td>AFRO</td>\n",
       "      <td>1042</td>\n",
       "      <td>136379</td>\n",
       "      <td>0</td>\n",
       "      <td>4707</td>\n",
       "    </tr>\n",
       "  </tbody>\n",
       "</table>\n",
       "</div>"
      ],
      "text/plain": [
       "       Date_reported Country_code   Country WHO_region  New_cases  \\\n",
       "166132    2021-11-29           ZW  Zimbabwe       AFRO         40   \n",
       "166133    2021-11-30           ZW  Zimbabwe       AFRO        235   \n",
       "166134    2021-12-01           ZW  Zimbabwe       AFRO        426   \n",
       "166135    2021-12-02           ZW  Zimbabwe       AFRO        685   \n",
       "166136    2021-12-03           ZW  Zimbabwe       AFRO       1042   \n",
       "\n",
       "        Cumulative_cases  New_deaths  Cumulative_deaths  \n",
       "166132            133991           0               4705  \n",
       "166133            134226           1               4706  \n",
       "166134            134652           1               4707  \n",
       "166135            135337           0               4707  \n",
       "166136            136379           0               4707  "
      ]
     },
     "execution_count": 12,
     "metadata": {},
     "output_type": "execute_result"
    }
   ],
   "source": [
    "global_df = pd.read_csv('dataset/WHO-COVID-19-global-data.csv')\n",
    "global_df.tail()"
   ]
  },
  {
   "cell_type": "markdown",
   "id": "7713251d-fe50-4334-a53b-8b8a0d157642",
   "metadata": {
    "jp-MarkdownHeadingCollapsed": true,
    "tags": []
   },
   "source": [
    "### Dữ liệu có bao nhiêu dòng và cột ?"
   ]
  },
  {
   "cell_type": "markdown",
   "id": "2704ad1a-b706-4e68-96f4-419150f72c9c",
   "metadata": {},
   "source": [
    "Tính số dòng và số cột rồi lưu vào biến `num_rows_global` và `num_cols_global`"
   ]
  },
  {
   "cell_type": "code",
   "execution_count": 13,
   "id": "98cbefe5-7c63-4c61-92cd-60adc754fb34",
   "metadata": {},
   "outputs": [
    {
     "name": "stdout",
     "output_type": "stream",
     "text": [
      "Dữ liệu có 166137 dòng\n",
      "Dữ liệu có 8 cột\n"
     ]
    }
   ],
   "source": [
    "num_rows_global , num_cols_global = global_df.shape\n",
    "print(f'Dữ liệu có {num_rows_global} dòng')\n",
    "print(f'Dữ liệu có {num_cols_global} cột')"
   ]
  },
  {
   "cell_type": "markdown",
   "id": "d1670360-8177-44c4-bebc-9ff7a7ad818d",
   "metadata": {
    "jp-MarkdownHeadingCollapsed": true,
    "tags": []
   },
   "source": [
    "### Mỗi dòng dữ liệu có ý nghĩa gì ? Có vấn đề các dòng có ý nghĩa khác nhau không ?"
   ]
  },
  {
   "cell_type": "markdown",
   "id": "4fa6cc1b-68f3-4bd0-95d0-1e21fdce9588",
   "metadata": {},
   "source": [
    "Theo quan sát sơ bộ và file mô tả dữ liệu trên website chính của WHO thì dữ liệu cho biết thông tin về tính hình COVID-19 hằng ngày của từng quốc gia. \\\n",
    "Có vẻ không có vấn đề về ý nghĩa từng dòng."
   ]
  },
  {
   "cell_type": "markdown",
   "id": "c9ff9399-5aff-463f-9d59-09827c30dc82",
   "metadata": {
    "jp-MarkdownHeadingCollapsed": true,
    "tags": []
   },
   "source": [
    "### Dữ liệu có bị lặp không"
   ]
  },
  {
   "cell_type": "markdown",
   "id": "19370eff-fac5-40c2-aa71-abc4be601198",
   "metadata": {},
   "source": [
    "Tính số dòng dữ liệu bị trùng (nếu có) rồi lưu vào biến `num_rows_dupicated`."
   ]
  },
  {
   "cell_type": "code",
   "execution_count": 14,
   "id": "7fa1af40-12fd-4e64-8e08-c3f5313670e7",
   "metadata": {},
   "outputs": [
    {
     "name": "stdout",
     "output_type": "stream",
     "text": [
      "0\n"
     ]
    }
   ],
   "source": [
    "num_rows_duplicated = num_rows_global - len(global_df.drop_duplicates())\n",
    "print(num_rows_duplicated)"
   ]
  },
  {
   "cell_type": "markdown",
   "id": "ee4c79e9-c652-48db-b135-76542bbff8c3",
   "metadata": {
    "jp-MarkdownHeadingCollapsed": true,
    "tags": []
   },
   "source": [
    "### Mỗi cột có ý nghĩa gì ?"
   ]
  },
  {
   "cell_type": "markdown",
   "id": "b9cb8e7b-a168-4aa6-8dbd-0e5ceebf9ba6",
   "metadata": {},
   "source": [
    "Dựa vào mô tả chính thức trên website WHO, em đã mô tả ý nghĩa từng cột dữ liệu trong file `description_global.csv`"
   ]
  },
  {
   "cell_type": "code",
   "execution_count": 15,
   "id": "9203417c-eaef-46f1-8f23-f17c59742bc9",
   "metadata": {
    "scrolled": true
   },
   "outputs": [],
   "source": [
    "pd.set_option(\"display.max_colwidth\",500)\n",
    "description_global = pd.read_csv('dataset/Description-global.csv',\n",
    "                                 delimiter= '\\t',index_col= 'Field name')"
   ]
  },
  {
   "cell_type": "code",
   "execution_count": 16,
   "id": "87d38a9d-4f1d-4d0b-84aa-39125746e851",
   "metadata": {},
   "outputs": [
    {
     "data": {
      "text/html": [
       "<div>\n",
       "<style scoped>\n",
       "    .dataframe tbody tr th:only-of-type {\n",
       "        vertical-align: middle;\n",
       "    }\n",
       "\n",
       "    .dataframe tbody tr th {\n",
       "        vertical-align: top;\n",
       "    }\n",
       "\n",
       "    .dataframe thead th {\n",
       "        text-align: right;\n",
       "    }\n",
       "</style>\n",
       "<table border=\"1\" class=\"dataframe\">\n",
       "  <thead>\n",
       "    <tr style=\"text-align: right;\">\n",
       "      <th></th>\n",
       "      <th>Type</th>\n",
       "      <th>Description</th>\n",
       "    </tr>\n",
       "    <tr>\n",
       "      <th>Field name</th>\n",
       "      <th></th>\n",
       "      <th></th>\n",
       "    </tr>\n",
       "  </thead>\n",
       "  <tbody>\n",
       "    <tr>\n",
       "      <th>Date_reported</th>\n",
       "      <td>Date</td>\n",
       "      <td>Date of reporting to WHO</td>\n",
       "    </tr>\n",
       "    <tr>\n",
       "      <th>Country_code</th>\n",
       "      <td>String</td>\n",
       "      <td>ISO Alpha-2 country code</td>\n",
       "    </tr>\n",
       "    <tr>\n",
       "      <th>Country</th>\n",
       "      <td>String</td>\n",
       "      <td>Country, territory, area</td>\n",
       "    </tr>\n",
       "    <tr>\n",
       "      <th>WHO_region</th>\n",
       "      <td>String</td>\n",
       "      <td>WHO regional offices: WHO Member States are grouped into six WHO regions -- Regional Office for Africa (AFRO), Regional Office for the Americas (AMRO), Regional Office for South-East Asia (SEARO), Regional Office for Europe (EURO), Regional Office for the Eastern Mediterranean (EMRO), and Regional Office for the Western Pacific (WPRO).</td>\n",
       "    </tr>\n",
       "    <tr>\n",
       "      <th>New_cases</th>\n",
       "      <td>Integer</td>\n",
       "      <td>New confirmed cases. Calculated by subtracting previous cumulative case count from current cumulative cases count.*</td>\n",
       "    </tr>\n",
       "    <tr>\n",
       "      <th>Cumulative_cases</th>\n",
       "      <td>Integer</td>\n",
       "      <td>Cumulative confirmed cases reported to WHO to date.</td>\n",
       "    </tr>\n",
       "    <tr>\n",
       "      <th>New_deaths</th>\n",
       "      <td>Integer</td>\n",
       "      <td>New confirmed deaths. Calculated by subtracting previous cumulative deaths from current cumulative deaths.*</td>\n",
       "    </tr>\n",
       "    <tr>\n",
       "      <th>Cumulative_deaths</th>\n",
       "      <td>Integer</td>\n",
       "      <td>Cumulative confirmed deaths reported to WHO to date.</td>\n",
       "    </tr>\n",
       "  </tbody>\n",
       "</table>\n",
       "</div>"
      ],
      "text/plain": [
       "                      Type  \\\n",
       "Field name                   \n",
       "Date_reported         Date   \n",
       "Country_code        String   \n",
       "Country             String   \n",
       "WHO_region          String   \n",
       "New_cases          Integer   \n",
       "Cumulative_cases   Integer   \n",
       "New_deaths         Integer   \n",
       "Cumulative_deaths  Integer   \n",
       "\n",
       "                                                                                                                                                                                                                                                                                                                                                         Description  \n",
       "Field name                                                                                                                                                                                                                                                                                                                                                            \n",
       "Date_reported                                                                                                                                                                                                                                                                                                                               Date of reporting to WHO  \n",
       "Country_code                                                                                                                                                                                                                                                                                                                                ISO Alpha-2 country code  \n",
       "Country                                                                                                                                                                                                                                                                                                                                     Country, territory, area  \n",
       "WHO_region         WHO regional offices: WHO Member States are grouped into six WHO regions -- Regional Office for Africa (AFRO), Regional Office for the Americas (AMRO), Regional Office for South-East Asia (SEARO), Regional Office for Europe (EURO), Regional Office for the Eastern Mediterranean (EMRO), and Regional Office for the Western Pacific (WPRO).  \n",
       "New_cases                                                                                                                                                                                                                                        New confirmed cases. Calculated by subtracting previous cumulative case count from current cumulative cases count.*  \n",
       "Cumulative_cases                                                                                                                                                                                                                                                                                                 Cumulative confirmed cases reported to WHO to date.  \n",
       "New_deaths                                                                                                                                                                                                                                               New confirmed deaths. Calculated by subtracting previous cumulative deaths from current cumulative deaths.*  \n",
       "Cumulative_deaths                                                                                                                                                                                                                                                                                               Cumulative confirmed deaths reported to WHO to date.  "
      ]
     },
     "execution_count": 16,
     "metadata": {},
     "output_type": "execute_result"
    }
   ],
   "source": [
    "description_global"
   ]
  },
  {
   "cell_type": "markdown",
   "id": "df8291e1-e4ca-488e-b853-d1e569a4420c",
   "metadata": {
    "jp-MarkdownHeadingCollapsed": true,
    "tags": []
   },
   "source": [
    "### Mỗi cột hiện tại đang có dữ liệu gì ?"
   ]
  },
  {
   "cell_type": "code",
   "execution_count": 17,
   "id": "8812a262-2c09-443b-9941-436dc9e17d1f",
   "metadata": {
    "scrolled": true
   },
   "outputs": [
    {
     "data": {
      "text/plain": [
       "Date_reported        object\n",
       "Country_code         object\n",
       "Country              object\n",
       "WHO_region           object\n",
       "New_cases             int64\n",
       "Cumulative_cases      int64\n",
       "New_deaths            int64\n",
       "Cumulative_deaths     int64\n",
       "dtype: object"
      ]
     },
     "execution_count": 17,
     "metadata": {},
     "output_type": "execute_result"
    }
   ],
   "source": [
    "global_df.dtypes"
   ]
  },
  {
   "cell_type": "markdown",
   "id": "7c643203-7237-41d2-b251-167259b7fb8e",
   "metadata": {},
   "source": [
    "`Date_reported` nên có kiểu dữ liệu `datetime`"
   ]
  },
  {
   "cell_type": "markdown",
   "id": "d7ded59e-034c-4f78-9c3d-ca1fc4569c5e",
   "metadata": {
    "jp-MarkdownHeadingCollapsed": true,
    "tags": []
   },
   "source": [
    "---\n",
    "### Tiền xử lý: Thay đổi kiểu dữ liệu"
   ]
  },
  {
   "cell_type": "code",
   "execution_count": 18,
   "id": "7cbda9ae-b358-418e-be21-8b29b935a626",
   "metadata": {},
   "outputs": [],
   "source": [
    "global_df['Date_reported'] = pd.to_datetime(global_df['Date_reported'])"
   ]
  },
  {
   "cell_type": "markdown",
   "id": "e9978199-fd52-47fd-b968-531b5fddcf98",
   "metadata": {},
   "source": [
    "Vậy **Kiểu dữ liệu không có gì bất thường**"
   ]
  },
  {
   "cell_type": "markdown",
   "id": "86975e8c-4077-4d31-9ea4-c712047d7192",
   "metadata": {
    "tags": []
   },
   "source": [
    "---\n",
    "### Quay lại khám phá dữ liệu: Phân bố kiểu dữ liệu numerical"
   ]
  },
  {
   "cell_type": "code",
   "execution_count": 19,
   "id": "b50fed68-eb8b-4959-b186-85f32d4115a3",
   "metadata": {},
   "outputs": [
    {
     "data": {
      "text/html": [
       "<div>\n",
       "<style scoped>\n",
       "    .dataframe tbody tr th:only-of-type {\n",
       "        vertical-align: middle;\n",
       "    }\n",
       "\n",
       "    .dataframe tbody tr th {\n",
       "        vertical-align: top;\n",
       "    }\n",
       "\n",
       "    .dataframe thead th {\n",
       "        text-align: right;\n",
       "    }\n",
       "</style>\n",
       "<table border=\"1\" class=\"dataframe\">\n",
       "  <thead>\n",
       "    <tr style=\"text-align: right;\">\n",
       "      <th></th>\n",
       "      <th>Date_reported</th>\n",
       "      <th>New_cases</th>\n",
       "      <th>Cumulative_cases</th>\n",
       "      <th>New_deaths</th>\n",
       "      <th>Cumulative_deaths</th>\n",
       "    </tr>\n",
       "  </thead>\n",
       "  <tbody>\n",
       "    <tr>\n",
       "      <th>missing_ration</th>\n",
       "      <td>0.0</td>\n",
       "      <td>0.0</td>\n",
       "      <td>0.0</td>\n",
       "      <td>0.0</td>\n",
       "      <td>0.0</td>\n",
       "    </tr>\n",
       "    <tr>\n",
       "      <th>min</th>\n",
       "      <td>2020-01-03 00:00:00</td>\n",
       "      <td>-32952.0</td>\n",
       "      <td>0.0</td>\n",
       "      <td>-2371.0</td>\n",
       "      <td>0.0</td>\n",
       "    </tr>\n",
       "    <tr>\n",
       "      <th>lower_quantile</th>\n",
       "      <td>2020-06-26 00:00:00</td>\n",
       "      <td>0.0</td>\n",
       "      <td>69.0</td>\n",
       "      <td>0.0</td>\n",
       "      <td>0.0</td>\n",
       "    </tr>\n",
       "    <tr>\n",
       "      <th>median</th>\n",
       "      <td>2020-12-18 00:00:00</td>\n",
       "      <td>16.0</td>\n",
       "      <td>5906.0</td>\n",
       "      <td>0.0</td>\n",
       "      <td>91.0</td>\n",
       "    </tr>\n",
       "    <tr>\n",
       "      <th>upper_quantile</th>\n",
       "      <td>2021-06-11 00:00:00</td>\n",
       "      <td>402.0</td>\n",
       "      <td>102499.0</td>\n",
       "      <td>6.0</td>\n",
       "      <td>1761.0</td>\n",
       "    </tr>\n",
       "    <tr>\n",
       "      <th>max</th>\n",
       "      <td>2021-12-03 00:00:00</td>\n",
       "      <td>414188.0</td>\n",
       "      <td>48413265.0</td>\n",
       "      <td>8786.0</td>\n",
       "      <td>778336.0</td>\n",
       "    </tr>\n",
       "  </tbody>\n",
       "</table>\n",
       "</div>"
      ],
      "text/plain": [
       "                      Date_reported  New_cases  Cumulative_cases  New_deaths  \\\n",
       "missing_ration                  0.0        0.0               0.0         0.0   \n",
       "min             2020-01-03 00:00:00   -32952.0               0.0     -2371.0   \n",
       "lower_quantile  2020-06-26 00:00:00        0.0              69.0         0.0   \n",
       "median          2020-12-18 00:00:00       16.0            5906.0         0.0   \n",
       "upper_quantile  2021-06-11 00:00:00      402.0          102499.0         6.0   \n",
       "max             2021-12-03 00:00:00   414188.0        48413265.0      8786.0   \n",
       "\n",
       "                Cumulative_deaths  \n",
       "missing_ration                0.0  \n",
       "min                           0.0  \n",
       "lower_quantile                0.0  \n",
       "median                       91.0  \n",
       "upper_quantile             1761.0  \n",
       "max                      778336.0  "
      ]
     },
     "execution_count": 19,
     "metadata": {},
     "output_type": "execute_result"
    }
   ],
   "source": [
    "numerical_df = global_df.select_dtypes(['int64','float64','datetime64'])\n",
    "numerical_df.agg([missing_ration,pd.Series.min,lower_quantile,\n",
    "                  pd.Series.median,upper_quantile,pd.Series.max])"
   ]
  },
  {
   "cell_type": "markdown",
   "id": "6f5ff79d-654c-42ed-bced-b4919fe13e06",
   "metadata": {},
   "source": [
    "- new_cases < 0 và new_death < 0 ???\n",
    "    - new_cases = tổng số ca tích luỹ tới hôm nay - tổng số ca tích luỹ từ hôm trước\n",
    "    - new_death = tổng số ca tích luỹ tới hôm nay - tổng số ca tích luỹ từ hôm trước.\n",
    "\n",
    "Theo em thì do thông tin ngày hôm trước chưa chính xác nên sẽ được tính và trừ cho ngày hôm sau.\\\n",
    "Vậy không có gì bất thường"
   ]
  },
  {
   "cell_type": "markdown",
   "id": "4a9e4b89-6b58-4f6c-9c72-388b2f3c8d99",
   "metadata": {
    "jp-MarkdownHeadingCollapsed": true,
    "tags": []
   },
   "source": [
    "### Phân bố kiểu dữ liệu categorical"
   ]
  },
  {
   "cell_type": "code",
   "execution_count": 20,
   "id": "95bd76a8-3634-4b87-91c3-3b4c6cbe7e0a",
   "metadata": {},
   "outputs": [
    {
     "data": {
      "text/html": [
       "<div>\n",
       "<style scoped>\n",
       "    .dataframe tbody tr th:only-of-type {\n",
       "        vertical-align: middle;\n",
       "    }\n",
       "\n",
       "    .dataframe tbody tr th {\n",
       "        vertical-align: top;\n",
       "    }\n",
       "\n",
       "    .dataframe thead th {\n",
       "        text-align: right;\n",
       "    }\n",
       "</style>\n",
       "<table border=\"1\" class=\"dataframe\">\n",
       "  <thead>\n",
       "    <tr style=\"text-align: right;\">\n",
       "      <th></th>\n",
       "      <th>Country_code</th>\n",
       "      <th>Country</th>\n",
       "      <th>WHO_region</th>\n",
       "    </tr>\n",
       "  </thead>\n",
       "  <tbody>\n",
       "    <tr>\n",
       "      <th>missing_ration</th>\n",
       "      <td>0.4</td>\n",
       "      <td>0.0</td>\n",
       "      <td>0.0</td>\n",
       "    </tr>\n",
       "    <tr>\n",
       "      <th>unique</th>\n",
       "      <td>[AF, AL, DZ, AS, AD, AO, AI, AG, AR, AM, AW, AU...</td>\n",
       "      <td>[Afghanistan, Albania, Algeria, American Samoa,...</td>\n",
       "      <td>[EMRO, EURO, AFRO, WPRO, AMRO, SEARO, Other]</td>\n",
       "    </tr>\n",
       "    <tr>\n",
       "      <th>nunique</th>\n",
       "      <td>236</td>\n",
       "      <td>237</td>\n",
       "      <td>7</td>\n",
       "    </tr>\n",
       "  </tbody>\n",
       "</table>\n",
       "</div>"
      ],
      "text/plain": [
       "                                                      Country_code  \\\n",
       "missing_ration                                                 0.4   \n",
       "unique          [AF, AL, DZ, AS, AD, AO, AI, AG, AR, AM, AW, AU...   \n",
       "nunique                                                        236   \n",
       "\n",
       "                                                           Country  \\\n",
       "missing_ration                                                 0.0   \n",
       "unique          [Afghanistan, Albania, Algeria, American Samoa,...   \n",
       "nunique                                                        237   \n",
       "\n",
       "                                                  WHO_region  \n",
       "missing_ration                                           0.0  \n",
       "unique          [EMRO, EURO, AFRO, WPRO, AMRO, SEARO, Other]  \n",
       "nunique                                                    7  "
      ]
     },
     "execution_count": 20,
     "metadata": {},
     "output_type": "execute_result"
    }
   ],
   "source": [
    "pd.set_option(\"display.max_colwidth\",51)\n",
    "categorical_df = global_df.select_dtypes(['object'])\n",
    "categorical_df.agg([missing_ration,pd.Series.unique,pd.Series.nunique])"
   ]
  },
  {
   "cell_type": "markdown",
   "id": "b32dc21a-2af1-4c9c-84a5-df7c2d6e5a38",
   "metadata": {},
   "source": [
    "Vẽ `barh chart` cho `WHO Region`"
   ]
  },
  {
   "cell_type": "code",
   "execution_count": 21,
   "id": "8e91ec71-6f1d-4d1d-8b59-f7404d4dcf7d",
   "metadata": {},
   "outputs": [
    {
     "data": {
      "image/png": "[encoded data removed]",
      "text/plain": [
       "<Figure size 432x288 with 1 Axes>"
      ]
     },
     "metadata": {
      "needs_background": "light"
     },
     "output_type": "display_data"
    }
   ],
   "source": [
    "global_df['WHO_region'].value_counts(normalize=True).plot.barh()\n",
    "plt.xlabel('Tỉ lệ')\n",
    "plt.title('Tỉ lệ WHO Region');"
   ]
  },
  {
   "cell_type": "markdown",
   "id": "76a19996-917d-4a5b-bbef-b0344d36fe46",
   "metadata": {},
   "source": [
    "`Bar chart` này có tỉ lệ khá tương quan với `Bar chart` mà ta đã khám phá ở phần trước đó. "
   ]
  },
  {
   "cell_type": "markdown",
   "id": "ef6b1391-8bae-4771-8fac-66dc83a34e66",
   "metadata": {},
   "source": [
    "### Dữ liệu có dòng nào dư thừa hay không?"
   ]
  },
  {
   "cell_type": "markdown",
   "id": "6a3a821f-3791-4928-a1a6-840372e43d46",
   "metadata": {},
   "source": [
    "Các quốc gia khác nhau sẽ có thời điểm xuất hiện ca nhiễm đầu tiên khác nhau, vậy trước thời điểm này thì dữ liệu sẽ toàn `0`(số ca nhiễm, ca tử vong,...) không giúp ích cho việc hiểu dữ liệu. Vậy nên ta chỉ xét dữ liệu từ thời điểm xuất hiện ca nhiễm đầu tiên tới thời điểm cuối cùng thu thập được.\n",
    "- Thay thế những giá trị bằng 0 thành NaN (dù sai với ý nghĩa nhưng ta sẽ loại bỏ những dòng này nên không sao.)\n",
    "- Xoá những dòng chứa toàn NaN."
   ]
  },
  {
   "cell_type": "markdown",
   "id": "93899971-4133-4939-8075-e5ca4c88e6c9",
   "metadata": {},
   "source": [
    "### Tiền xử lý : Giảm số lượng dòng"
   ]
  },
  {
   "cell_type": "code",
   "execution_count": 22,
   "id": "71c3f129-852a-4e51-af7e-2abd802c20ab",
   "metadata": {},
   "outputs": [],
   "source": [
    "global_df = global_df.replace(0,np.nan)\n",
    "global_df = global_df.dropna(how = 'all',subset = ['New_cases','Cumulative_cases',\n",
    "                                   'New_deaths','Cumulative_deaths'])\n",
    "global_df = global_df.reset_index().drop(columns='index')"
   ]
  },
  {
   "cell_type": "markdown",
   "id": "777e6a00-00af-4200-8052-090b23c70246",
   "metadata": {},
   "source": [
    "Chúng ta đã giảm được một số lượng lớn những dòng dữ liệu vô nghĩa :))"
   ]
  },
  {
   "cell_type": "markdown",
   "id": "101304d5-94ab-43db-9e97-27ab41012cd3",
   "metadata": {},
   "source": [
    "### Tiền xử lý : Thêm cột Month vào Dataframe"
   ]
  },
  {
   "cell_type": "markdown",
   "id": "606acdff-439f-4b4c-b118-1cb71781ebd3",
   "metadata": {},
   "source": [
    "Đôi khi ta sẽ phải thống kê số liệu theo từng tháng để thấy rõ đưa ra nhận xét. Do đó trước khi trả lời câu hỏi, ta sẽ thêm cột `Month` vào DataFrame."
   ]
  },
  {
   "cell_type": "code",
   "execution_count": 23,
   "id": "1369c4c2-1512-4854-92ae-b1e55ca6b986",
   "metadata": {},
   "outputs": [],
   "source": [
    "Month = global_df['Date_reported'].dt.month\n",
    "global_df['Month'] = Month"
   ]
  },
  {
   "cell_type": "markdown",
   "id": "32d101b0-ae68-4ef8-b8f6-7fd4bb413bdc",
   "metadata": {
    "tags": []
   },
   "source": [
    "##\n",
    "<hr style=\"border:1px solid blue\"> </hr>"
   ]
  },
  {
   "cell_type": "markdown",
   "id": "a47fc6ff-1620-44ca-ac93-47fe45d5f84a",
   "metadata": {
    "tags": []
   },
   "source": [
    "## 3. Khám phá dữ liệu tình trạng tiêm chủng COVID-19 ở các quốc gia"
   ]
  },
  {
   "cell_type": "markdown",
   "id": "a440b1e6-830b-4a86-a1b9-64bd5abd1737",
   "metadata": {
    "tags": []
   },
   "source": [
    "### Đọc dữ liệu từ file"
   ]
  },
  {
   "cell_type": "markdown",
   "id": "77f7f44f-be60-4832-bbda-f4d12c02a630",
   "metadata": {},
   "source": [
    "Đọc dữ liệu từ file `vaccination-data.csv` rồi lưu vào dataframe `vaccin_df`."
   ]
  },
  {
   "cell_type": "code",
   "execution_count": 24,
   "id": "e6cb1812-26a8-4b63-b54e-403c08ed4b11",
   "metadata": {
    "scrolled": true
   },
   "outputs": [
    {
     "data": {
      "text/html": [
       "<div>\n",
       "<style scoped>\n",
       "    .dataframe tbody tr th:only-of-type {\n",
       "        vertical-align: middle;\n",
       "    }\n",
       "\n",
       "    .dataframe tbody tr th {\n",
       "        vertical-align: top;\n",
       "    }\n",
       "\n",
       "    .dataframe thead th {\n",
       "        text-align: right;\n",
       "    }\n",
       "</style>\n",
       "<table border=\"1\" class=\"dataframe\">\n",
       "  <thead>\n",
       "    <tr style=\"text-align: right;\">\n",
       "      <th></th>\n",
       "      <th>COUNTRY</th>\n",
       "      <th>ISO3</th>\n",
       "      <th>WHO_REGION</th>\n",
       "      <th>DATA_SOURCE</th>\n",
       "      <th>DATE_UPDATED</th>\n",
       "      <th>TOTAL_VACCINATIONS</th>\n",
       "      <th>PERSONS_VACCINATED_1PLUS_DOSE</th>\n",
       "      <th>TOTAL_VACCINATIONS_PER100</th>\n",
       "      <th>PERSONS_VACCINATED_1PLUS_DOSE_PER100</th>\n",
       "      <th>PERSONS_FULLY_VACCINATED</th>\n",
       "      <th>PERSONS_FULLY_VACCINATED_PER100</th>\n",
       "      <th>VACCINES_USED</th>\n",
       "      <th>FIRST_VACCINE_DATE</th>\n",
       "      <th>NUMBER_VACCINES_TYPES_USED</th>\n",
       "    </tr>\n",
       "  </thead>\n",
       "  <tbody>\n",
       "    <tr>\n",
       "      <th>221</th>\n",
       "      <td>Vanuatu</td>\n",
       "      <td>VUT</td>\n",
       "      <td>WPRO</td>\n",
       "      <td>REPORTING</td>\n",
       "      <td>2021-11-28</td>\n",
       "      <td>141476</td>\n",
       "      <td>96141.0</td>\n",
       "      <td>46.062</td>\n",
       "      <td>31.302</td>\n",
       "      <td>45349.0</td>\n",
       "      <td>14.765</td>\n",
       "      <td>AstraZeneca - Vaxzevria,Beijing CNBG - BBIBP-CorV</td>\n",
       "      <td>2021-06-02</td>\n",
       "      <td>2.0</td>\n",
       "    </tr>\n",
       "    <tr>\n",
       "      <th>226</th>\n",
       "      <td>Zambia</td>\n",
       "      <td>ZMB</td>\n",
       "      <td>AFRO</td>\n",
       "      <td>REPORTING</td>\n",
       "      <td>2021-11-18</td>\n",
       "      <td>985443</td>\n",
       "      <td>806611.0</td>\n",
       "      <td>5.360</td>\n",
       "      <td>4.388</td>\n",
       "      <td>626900.0</td>\n",
       "      <td>3.410</td>\n",
       "      <td>Beijing CNBG - BBIBP-CorV,Janssen - Ad26.COV 2-...</td>\n",
       "      <td>2021-04-14</td>\n",
       "      <td>3.0</td>\n",
       "    </tr>\n",
       "    <tr>\n",
       "      <th>208</th>\n",
       "      <td>Trinidad and Tobago</td>\n",
       "      <td>TTO</td>\n",
       "      <td>AMRO</td>\n",
       "      <td>REPORTING</td>\n",
       "      <td>2021-12-03</td>\n",
       "      <td>1292690</td>\n",
       "      <td>690768.0</td>\n",
       "      <td>92.369</td>\n",
       "      <td>49.359</td>\n",
       "      <td>645833.0</td>\n",
       "      <td>46.148</td>\n",
       "      <td>AstraZeneca - Vaxzevria,Beijing CNBG - BBIBP-Co...</td>\n",
       "      <td>2021-02-17</td>\n",
       "      <td>5.0</td>\n",
       "    </tr>\n",
       "    <tr>\n",
       "      <th>85</th>\n",
       "      <td>Guatemala</td>\n",
       "      <td>GTM</td>\n",
       "      <td>AMRO</td>\n",
       "      <td>REPORTING</td>\n",
       "      <td>2021-12-03</td>\n",
       "      <td>10129197</td>\n",
       "      <td>6023553.0</td>\n",
       "      <td>56.539</td>\n",
       "      <td>33.622</td>\n",
       "      <td>4105644.0</td>\n",
       "      <td>22.917</td>\n",
       "      <td>AstraZeneca - Vaxzevria,Gamaleya - Gam-Covid-Va...</td>\n",
       "      <td>2021-02-25</td>\n",
       "      <td>5.0</td>\n",
       "    </tr>\n",
       "    <tr>\n",
       "      <th>25</th>\n",
       "      <td>Bonaire</td>\n",
       "      <td>XAA</td>\n",
       "      <td>AMRO</td>\n",
       "      <td>REPORTING</td>\n",
       "      <td>2021-12-03</td>\n",
       "      <td>32084</td>\n",
       "      <td>16995.0</td>\n",
       "      <td>153.402</td>\n",
       "      <td>81.257</td>\n",
       "      <td>15089.0</td>\n",
       "      <td>72.144</td>\n",
       "      <td>NaN</td>\n",
       "      <td>NaN</td>\n",
       "      <td>NaN</td>\n",
       "    </tr>\n",
       "  </tbody>\n",
       "</table>\n",
       "</div>"
      ],
      "text/plain": [
       "                 COUNTRY ISO3 WHO_REGION DATA_SOURCE DATE_UPDATED  \\\n",
       "221              Vanuatu  VUT       WPRO   REPORTING   2021-11-28   \n",
       "226               Zambia  ZMB       AFRO   REPORTING   2021-11-18   \n",
       "208  Trinidad and Tobago  TTO       AMRO   REPORTING   2021-12-03   \n",
       "85             Guatemala  GTM       AMRO   REPORTING   2021-12-03   \n",
       "25               Bonaire  XAA       AMRO   REPORTING   2021-12-03   \n",
       "\n",
       "     TOTAL_VACCINATIONS  PERSONS_VACCINATED_1PLUS_DOSE  \\\n",
       "221              141476                        96141.0   \n",
       "226              985443                       806611.0   \n",
       "208             1292690                       690768.0   \n",
       "85             10129197                      6023553.0   \n",
       "25                32084                        16995.0   \n",
       "\n",
       "     TOTAL_VACCINATIONS_PER100  PERSONS_VACCINATED_1PLUS_DOSE_PER100  \\\n",
       "221                     46.062                                31.302   \n",
       "226                      5.360                                 4.388   \n",
       "208                     92.369                                49.359   \n",
       "85                      56.539                                33.622   \n",
       "25                     153.402                                81.257   \n",
       "\n",
       "     PERSONS_FULLY_VACCINATED  PERSONS_FULLY_VACCINATED_PER100  \\\n",
       "221                   45349.0                           14.765   \n",
       "226                  626900.0                            3.410   \n",
       "208                  645833.0                           46.148   \n",
       "85                  4105644.0                           22.917   \n",
       "25                    15089.0                           72.144   \n",
       "\n",
       "                                          VACCINES_USED FIRST_VACCINE_DATE  \\\n",
       "221   AstraZeneca - Vaxzevria,Beijing CNBG - BBIBP-CorV         2021-06-02   \n",
       "226  Beijing CNBG - BBIBP-CorV,Janssen - Ad26.COV 2-...         2021-04-14   \n",
       "208  AstraZeneca - Vaxzevria,Beijing CNBG - BBIBP-Co...         2021-02-17   \n",
       "85   AstraZeneca - Vaxzevria,Gamaleya - Gam-Covid-Va...         2021-02-25   \n",
       "25                                                  NaN                NaN   \n",
       "\n",
       "     NUMBER_VACCINES_TYPES_USED  \n",
       "221                         2.0  \n",
       "226                         3.0  \n",
       "208                         5.0  \n",
       "85                          5.0  \n",
       "25                          NaN  "
      ]
     },
     "execution_count": 24,
     "metadata": {},
     "output_type": "execute_result"
    }
   ],
   "source": [
    "vaccin_df = pd.read_csv('dataset/vaccination-data.csv')\n",
    "vaccin_df.sample(5)"
   ]
  },
  {
   "cell_type": "markdown",
   "id": "9cc0e14d-c041-4f61-9689-952f3c122fb0",
   "metadata": {
    "tags": []
   },
   "source": [
    "### Dữ liệu có bao nhiêu dòng và cột ?"
   ]
  },
  {
   "cell_type": "markdown",
   "id": "f9d4dd34-c2b6-415d-b3e8-2604bc8484b8",
   "metadata": {},
   "source": [
    "Tính số dòng và số cột rồi lưu vào biến `num_rows_vaccin` và `num_cols_vaccin`"
   ]
  },
  {
   "cell_type": "code",
   "execution_count": 25,
   "id": "d48aea3d-0518-46e0-b2fc-3b50a94934be",
   "metadata": {},
   "outputs": [
    {
     "name": "stdout",
     "output_type": "stream",
     "text": [
      "Dữ liệu có 228 dòng\n",
      "Dữ liệu có 14 cột\n"
     ]
    }
   ],
   "source": [
    "num_rows_vaccin , num_cols_vaccin = vaccin_df.shape\n",
    "print(f'Dữ liệu có {num_rows_vaccin} dòng')\n",
    "print(f'Dữ liệu có {num_cols_vaccin} cột')"
   ]
  },
  {
   "cell_type": "markdown",
   "id": "139b4854-5f4d-45cf-909b-6fe46edafe7d",
   "metadata": {
    "tags": []
   },
   "source": [
    "### Mỗi dòng dữ liệu có ý nghĩa gì ? Có vấn đề các dòng có ý nghĩa khác nhau không ?"
   ]
  },
  {
   "cell_type": "markdown",
   "id": "19bfe9e5-b3c7-45cf-9cd0-564917ecae56",
   "metadata": {},
   "source": [
    "Theo quan sát sơ bộ và file mô tả dữ liệu trên website chính của WHO thì dữ liệu cho biết thông tin về tính hình tiêm chủng của từng quốc gia với ngày cập nhật gần nhất."
   ]
  },
  {
   "cell_type": "markdown",
   "id": "401369e5-f975-4faf-95ca-45ddbb03821b",
   "metadata": {
    "tags": []
   },
   "source": [
    "### Dữ liệu có bị lặp không"
   ]
  },
  {
   "cell_type": "markdown",
   "id": "8e0f1232-a99b-4bdc-8d6b-6d9ea181e807",
   "metadata": {},
   "source": [
    "Tính số dòng dữ liệu bị trùng (nếu có) rồi lưu vào biến `num_rows_dupicated`."
   ]
  },
  {
   "cell_type": "code",
   "execution_count": 26,
   "id": "e88c2f6a-fc78-4c49-8bff-945b0d9237fb",
   "metadata": {},
   "outputs": [
    {
     "name": "stdout",
     "output_type": "stream",
     "text": [
      "0\n"
     ]
    }
   ],
   "source": [
    "num_rows_duplicated = num_rows_vaccin - len(vaccin_df.drop_duplicates())\n",
    "print(num_rows_duplicated)"
   ]
  },
  {
   "cell_type": "markdown",
   "id": "0b3c8f05-00ae-4716-92f1-b7b087c5b18b",
   "metadata": {
    "tags": []
   },
   "source": [
    "### Mỗi cột có ý nghĩa gì ?"
   ]
  },
  {
   "cell_type": "markdown",
   "id": "81661cf2-096d-4e68-84b1-a7c497247342",
   "metadata": {},
   "source": [
    "Dựa vào mô tả chính thức trên website WHO, ý nghĩa từng cột được mô tả trong file `Description_data.csv`"
   ]
  },
  {
   "cell_type": "code",
   "execution_count": 27,
   "id": "4df012b7-d765-4a2f-8a62-74dbacd6b31b",
   "metadata": {
    "scrolled": true
   },
   "outputs": [],
   "source": [
    "pd.set_option(\"display.max_colwidth\",500)\n",
    "description_data = pd.read_csv('dataset/Description_data.csv',\n",
    "                                 delimiter= '\\t',index_col= 'Field name')"
   ]
  },
  {
   "cell_type": "code",
   "execution_count": 28,
   "id": "50161b23-4e78-424f-9f6b-2c73b2b4ac7e",
   "metadata": {},
   "outputs": [
    {
     "data": {
      "text/html": [
       "<div>\n",
       "<style scoped>\n",
       "    .dataframe tbody tr th:only-of-type {\n",
       "        vertical-align: middle;\n",
       "    }\n",
       "\n",
       "    .dataframe tbody tr th {\n",
       "        vertical-align: top;\n",
       "    }\n",
       "\n",
       "    .dataframe thead th {\n",
       "        text-align: right;\n",
       "    }\n",
       "</style>\n",
       "<table border=\"1\" class=\"dataframe\">\n",
       "  <thead>\n",
       "    <tr style=\"text-align: right;\">\n",
       "      <th></th>\n",
       "      <th>Type</th>\n",
       "      <th>Description</th>\n",
       "    </tr>\n",
       "    <tr>\n",
       "      <th>Field name</th>\n",
       "      <th></th>\n",
       "      <th></th>\n",
       "    </tr>\n",
       "  </thead>\n",
       "  <tbody>\n",
       "    <tr>\n",
       "      <th>COUNTRY</th>\n",
       "      <td>String</td>\n",
       "      <td>Country, territory, area</td>\n",
       "    </tr>\n",
       "    <tr>\n",
       "      <th>ISO3</th>\n",
       "      <td>String</td>\n",
       "      <td>ISO Alpha-3 country code</td>\n",
       "    </tr>\n",
       "    <tr>\n",
       "      <th>WHO_REGION</th>\n",
       "      <td>String</td>\n",
       "      <td>WHO regional offices: WHO Member States are grouped into six WHO regions:  Regional Office for Africa (AFRO), Regional Office for the Americas (AMRO), Regional Office for South-East Asia (SEARO), Regional Office for Europe (EURO), Regional Office for the Eastern Mediterranean (EMRO), and Regional Office for the Western Pacific (WPRO).</td>\n",
       "    </tr>\n",
       "    <tr>\n",
       "      <th>DATA_SOURCE</th>\n",
       "      <td>String</td>\n",
       "      <td>Indicates data source: - REPORTING: Data reported by Member States, or sourced from official reports - OWID: Data sourced from Our World in Data: https://ourworldindata.org/covid-vaccinations</td>\n",
       "    </tr>\n",
       "    <tr>\n",
       "      <th>DATE_UPDATED</th>\n",
       "      <td>Date</td>\n",
       "      <td>Date of last update</td>\n",
       "    </tr>\n",
       "    <tr>\n",
       "      <th>TOTAL_VACCINATIONS</th>\n",
       "      <td>Integer</td>\n",
       "      <td>Cumulative total vaccine doses administered</td>\n",
       "    </tr>\n",
       "    <tr>\n",
       "      <th>PERSONS_VACCINATED_1PLUS_DOSE</th>\n",
       "      <td>Decimal</td>\n",
       "      <td>Cumulative number of persons vaccinated with at least one dose</td>\n",
       "    </tr>\n",
       "    <tr>\n",
       "      <th>TOTAL_VACCINATIONS_PER100</th>\n",
       "      <td>Integer</td>\n",
       "      <td>Cumulative total vaccine doses administered per 100 population</td>\n",
       "    </tr>\n",
       "    <tr>\n",
       "      <th>PERSONS_VACCINATED_1PLUS_DOSE_PER100</th>\n",
       "      <td>Decimal</td>\n",
       "      <td>Cumulative persons vaccinated with at least one dose per 100 population</td>\n",
       "    </tr>\n",
       "    <tr>\n",
       "      <th>PERSONS_FULLY_VACCINATED</th>\n",
       "      <td>Integer</td>\n",
       "      <td>Cumulative number of persons fully vaccinated</td>\n",
       "    </tr>\n",
       "    <tr>\n",
       "      <th>PERSONS_FULLY_VACCINATED_PER100</th>\n",
       "      <td>Decimal</td>\n",
       "      <td>Cumulative number of persons fully vaccinated per 100 population</td>\n",
       "    </tr>\n",
       "    <tr>\n",
       "      <th>VACCINES_USED</th>\n",
       "      <td>String</td>\n",
       "      <td>Combined short name of vaccine: âCompany - Product nameâ (see below)</td>\n",
       "    </tr>\n",
       "    <tr>\n",
       "      <th>FIRST_VACCINE_DATE</th>\n",
       "      <td>Date</td>\n",
       "      <td>Date of first vaccinations. Equivalent to start/launch  date of the first vaccine administered in a country.</td>\n",
       "    </tr>\n",
       "    <tr>\n",
       "      <th>NUMBER_VACCINES_TYPES_USED</th>\n",
       "      <td>Integer</td>\n",
       "      <td>Number of vaccine types used per country, territory, area</td>\n",
       "    </tr>\n",
       "  </tbody>\n",
       "</table>\n",
       "</div>"
      ],
      "text/plain": [
       "                                         Type  \\\n",
       "Field name                                      \n",
       "COUNTRY                                String   \n",
       "ISO3                                   String   \n",
       "WHO_REGION                             String   \n",
       "DATA_SOURCE                            String   \n",
       "DATE_UPDATED                             Date   \n",
       "TOTAL_VACCINATIONS                    Integer   \n",
       "PERSONS_VACCINATED_1PLUS_DOSE         Decimal   \n",
       "TOTAL_VACCINATIONS_PER100             Integer   \n",
       "PERSONS_VACCINATED_1PLUS_DOSE_PER100  Decimal   \n",
       "PERSONS_FULLY_VACCINATED              Integer   \n",
       "PERSONS_FULLY_VACCINATED_PER100       Decimal   \n",
       "VACCINES_USED                          String   \n",
       "FIRST_VACCINE_DATE                       Date   \n",
       "NUMBER_VACCINES_TYPES_USED            Integer   \n",
       "\n",
       "                                                                                                                                                                                                                                                                                                                                                                           Description  \n",
       "Field name                                                                                                                                                                                                                                                                                                                                                                              \n",
       "COUNTRY                                                                                                                                                                                                                                                                                                                                                       Country, territory, area  \n",
       "ISO3                                                                                                                                                                                                                                                                                                                                                          ISO Alpha-3 country code  \n",
       "WHO_REGION                            WHO regional offices: WHO Member States are grouped into six WHO regions:  Regional Office for Africa (AFRO), Regional Office for the Americas (AMRO), Regional Office for South-East Asia (SEARO), Regional Office for Europe (EURO), Regional Office for the Eastern Mediterranean (EMRO), and Regional Office for the Western Pacific (WPRO).  \n",
       "DATA_SOURCE                                                                                                                                                                            Indicates data source: - REPORTING: Data reported by Member States, or sourced from official reports - OWID: Data sourced from Our World in Data: https://ourworldindata.org/covid-vaccinations  \n",
       "DATE_UPDATED                                                                                                                                                                                                                                                                                                                                                       Date of last update  \n",
       "TOTAL_VACCINATIONS                                                                                                                                                                                                                                                                                                                         Cumulative total vaccine doses administered  \n",
       "PERSONS_VACCINATED_1PLUS_DOSE                                                                                                                                                                                                                                                                                           Cumulative number of persons vaccinated with at least one dose  \n",
       "TOTAL_VACCINATIONS_PER100                                                                                                                                                                                                                                                                                               Cumulative total vaccine doses administered per 100 population  \n",
       "PERSONS_VACCINATED_1PLUS_DOSE_PER100                                                                                                                                                                                                                                                                           Cumulative persons vaccinated with at least one dose per 100 population  \n",
       "PERSONS_FULLY_VACCINATED                                                                                                                                                                                                                                                                                                                 Cumulative number of persons fully vaccinated  \n",
       "PERSONS_FULLY_VACCINATED_PER100                                                                                                                                                                                                                                                                                       Cumulative number of persons fully vaccinated per 100 population  \n",
       "VACCINES_USED                                                                                                                                                                                                                                                                                                 Combined short name of vaccine: âCompany - Product nameâ (see below)  \n",
       "FIRST_VACCINE_DATE                                                                                                                                                                                                                                                        Date of first vaccinations. Equivalent to start/launch  date of the first vaccine administered in a country.  \n",
       "NUMBER_VACCINES_TYPES_USED                                                                                                                                                                                                                                                                                                   Number of vaccine types used per country, territory, area  "
      ]
     },
     "execution_count": 28,
     "metadata": {},
     "output_type": "execute_result"
    }
   ],
   "source": [
    "description_data"
   ]
  },
  {
   "cell_type": "markdown",
   "id": "0f39251c-fb08-4327-9e57-340e8aaceb27",
   "metadata": {
    "tags": []
   },
   "source": [
    "### Mỗi cột hiện tại đang có dữ liệu gì ?"
   ]
  },
  {
   "cell_type": "code",
   "execution_count": 29,
   "id": "53275c99-e5b5-4011-847f-8e21783bf94a",
   "metadata": {
    "scrolled": true
   },
   "outputs": [
    {
     "data": {
      "text/plain": [
       "COUNTRY                                  object\n",
       "ISO3                                     object\n",
       "WHO_REGION                               object\n",
       "DATA_SOURCE                              object\n",
       "DATE_UPDATED                             object\n",
       "TOTAL_VACCINATIONS                        int64\n",
       "PERSONS_VACCINATED_1PLUS_DOSE           float64\n",
       "TOTAL_VACCINATIONS_PER100               float64\n",
       "PERSONS_VACCINATED_1PLUS_DOSE_PER100    float64\n",
       "PERSONS_FULLY_VACCINATED                float64\n",
       "PERSONS_FULLY_VACCINATED_PER100         float64\n",
       "VACCINES_USED                            object\n",
       "FIRST_VACCINE_DATE                       object\n",
       "NUMBER_VACCINES_TYPES_USED              float64\n",
       "dtype: object"
      ]
     },
     "execution_count": 29,
     "metadata": {},
     "output_type": "execute_result"
    }
   ],
   "source": [
    "vaccin_df.dtypes"
   ]
  },
  {
   "cell_type": "markdown",
   "id": "a5dd67b0-b479-481d-88ed-ff968a83e36e",
   "metadata": {},
   "source": [
    "`DATE_UPDATED`, `FIRST_VACCINE_DATE` nên có kiểu dữ liệu `datetime`"
   ]
  },
  {
   "cell_type": "markdown",
   "id": "a04cd582-3b8a-4f07-8888-33b272a5de5f",
   "metadata": {
    "tags": []
   },
   "source": [
    "---\n",
    "### Tiền xử lý: Thay đổi kiểu dữ liệu"
   ]
  },
  {
   "cell_type": "code",
   "execution_count": 30,
   "id": "ae91cecc-08d7-425d-adaf-1cf5672fde89",
   "metadata": {},
   "outputs": [],
   "source": [
    "vaccin_df = vaccin_df.astype({'DATE_UPDATED': 'datetime64[ns]', 'FIRST_VACCINE_DATE': 'datetime64[ns]'})"
   ]
  },
  {
   "cell_type": "code",
   "execution_count": 31,
   "id": "5afab9f2-735c-4ad0-baf8-5bf9cefeed71",
   "metadata": {},
   "outputs": [],
   "source": [
    "assert vaccin_df['DATE_UPDATED'].dtype == np.dtype('datetime64[ns]')\n",
    "assert vaccin_df['FIRST_VACCINE_DATE'].dtype == np.dtype('datetime64[ns]')"
   ]
  },
  {
   "cell_type": "markdown",
   "id": "52ebc562-0450-461e-918f-2ddbbe1b31bb",
   "metadata": {},
   "source": [
    "Vậy **Kiểu dữ liệu không có gì bất thường**"
   ]
  },
  {
   "cell_type": "markdown",
   "id": "d2a26078-cbf8-4599-a355-774b84dffd65",
   "metadata": {
    "tags": []
   },
   "source": [
    "---\n",
    "### Quay lại khám phá dữ liệu: Phân bố kiểu dữ liệu numerical"
   ]
  },
  {
   "cell_type": "code",
   "execution_count": 32,
   "id": "6381b027-5ff7-4e71-91cb-dc32446e6bf0",
   "metadata": {},
   "outputs": [
    {
     "data": {
      "text/html": [
       "<div>\n",
       "<style scoped>\n",
       "    .dataframe tbody tr th:only-of-type {\n",
       "        vertical-align: middle;\n",
       "    }\n",
       "\n",
       "    .dataframe tbody tr th {\n",
       "        vertical-align: top;\n",
       "    }\n",
       "\n",
       "    .dataframe thead th {\n",
       "        text-align: right;\n",
       "    }\n",
       "</style>\n",
       "<table border=\"1\" class=\"dataframe\">\n",
       "  <thead>\n",
       "    <tr style=\"text-align: right;\">\n",
       "      <th></th>\n",
       "      <th>DATE_UPDATED</th>\n",
       "      <th>TOTAL_VACCINATIONS</th>\n",
       "      <th>PERSONS_VACCINATED_1PLUS_DOSE</th>\n",
       "      <th>TOTAL_VACCINATIONS_PER100</th>\n",
       "      <th>PERSONS_VACCINATED_1PLUS_DOSE_PER100</th>\n",
       "      <th>PERSONS_FULLY_VACCINATED</th>\n",
       "      <th>PERSONS_FULLY_VACCINATED_PER100</th>\n",
       "      <th>FIRST_VACCINE_DATE</th>\n",
       "      <th>NUMBER_VACCINES_TYPES_USED</th>\n",
       "    </tr>\n",
       "  </thead>\n",
       "  <tbody>\n",
       "    <tr>\n",
       "      <th>missing_ration</th>\n",
       "      <td>0.0</td>\n",
       "      <td>0.000000e+00</td>\n",
       "      <td>2.200000e+00</td>\n",
       "      <td>0.00000</td>\n",
       "      <td>2.2000</td>\n",
       "      <td>1.800000e+00</td>\n",
       "      <td>1.80000</td>\n",
       "      <td>8.8</td>\n",
       "      <td>1.3</td>\n",
       "    </tr>\n",
       "    <tr>\n",
       "      <th>min</th>\n",
       "      <td>2021-04-09 00:00:00</td>\n",
       "      <td>7.400000e+01</td>\n",
       "      <td>3.700000e+01</td>\n",
       "      <td>0.01300</td>\n",
       "      <td>0.0070</td>\n",
       "      <td>3.700000e+01</td>\n",
       "      <td>0.00700</td>\n",
       "      <td>2020-07-22 00:00:00</td>\n",
       "      <td>1.0</td>\n",
       "    </tr>\n",
       "    <tr>\n",
       "      <th>lower_quantile</th>\n",
       "      <td>2021-11-25 00:00:00</td>\n",
       "      <td>2.656605e+05</td>\n",
       "      <td>1.526895e+05</td>\n",
       "      <td>45.36700</td>\n",
       "      <td>26.9515</td>\n",
       "      <td>1.109355e+05</td>\n",
       "      <td>21.23675</td>\n",
       "      <td>2021-01-07 12:00:00</td>\n",
       "      <td>2.0</td>\n",
       "    </tr>\n",
       "    <tr>\n",
       "      <th>median</th>\n",
       "      <td>2021-11-28 00:00:00</td>\n",
       "      <td>1.802748e+06</td>\n",
       "      <td>1.070741e+06</td>\n",
       "      <td>98.37900</td>\n",
       "      <td>53.4740</td>\n",
       "      <td>8.130390e+05</td>\n",
       "      <td>44.96050</td>\n",
       "      <td>2021-02-17 00:00:00</td>\n",
       "      <td>4.0</td>\n",
       "    </tr>\n",
       "    <tr>\n",
       "      <th>upper_quantile</th>\n",
       "      <td>2021-12-01 00:00:00</td>\n",
       "      <td>1.154469e+07</td>\n",
       "      <td>6.329072e+06</td>\n",
       "      <td>142.65175</td>\n",
       "      <td>71.8095</td>\n",
       "      <td>5.107506e+06</td>\n",
       "      <td>65.75900</td>\n",
       "      <td>2021-03-15 00:00:00</td>\n",
       "      <td>5.0</td>\n",
       "    </tr>\n",
       "    <tr>\n",
       "      <th>max</th>\n",
       "      <td>2021-12-04 00:00:00</td>\n",
       "      <td>2.483096e+09</td>\n",
       "      <td>1.240357e+09</td>\n",
       "      <td>296.07000</td>\n",
       "      <td>121.6790</td>\n",
       "      <td>1.089827e+09</td>\n",
       "      <td>118.20100</td>\n",
       "      <td>2021-10-18 00:00:00</td>\n",
       "      <td>10.0</td>\n",
       "    </tr>\n",
       "  </tbody>\n",
       "</table>\n",
       "</div>"
      ],
      "text/plain": [
       "                       DATE_UPDATED  TOTAL_VACCINATIONS  \\\n",
       "missing_ration                  0.0        0.000000e+00   \n",
       "min             2021-04-09 00:00:00        7.400000e+01   \n",
       "lower_quantile  2021-11-25 00:00:00        2.656605e+05   \n",
       "median          2021-11-28 00:00:00        1.802748e+06   \n",
       "upper_quantile  2021-12-01 00:00:00        1.154469e+07   \n",
       "max             2021-12-04 00:00:00        2.483096e+09   \n",
       "\n",
       "                PERSONS_VACCINATED_1PLUS_DOSE  TOTAL_VACCINATIONS_PER100  \\\n",
       "missing_ration                   2.200000e+00                    0.00000   \n",
       "min                              3.700000e+01                    0.01300   \n",
       "lower_quantile                   1.526895e+05                   45.36700   \n",
       "median                           1.070741e+06                   98.37900   \n",
       "upper_quantile                   6.329072e+06                  142.65175   \n",
       "max                              1.240357e+09                  296.07000   \n",
       "\n",
       "                PERSONS_VACCINATED_1PLUS_DOSE_PER100  \\\n",
       "missing_ration                                2.2000   \n",
       "min                                           0.0070   \n",
       "lower_quantile                               26.9515   \n",
       "median                                       53.4740   \n",
       "upper_quantile                               71.8095   \n",
       "max                                         121.6790   \n",
       "\n",
       "                PERSONS_FULLY_VACCINATED  PERSONS_FULLY_VACCINATED_PER100  \\\n",
       "missing_ration              1.800000e+00                          1.80000   \n",
       "min                         3.700000e+01                          0.00700   \n",
       "lower_quantile              1.109355e+05                         21.23675   \n",
       "median                      8.130390e+05                         44.96050   \n",
       "upper_quantile              5.107506e+06                         65.75900   \n",
       "max                         1.089827e+09                        118.20100   \n",
       "\n",
       "                 FIRST_VACCINE_DATE  NUMBER_VACCINES_TYPES_USED  \n",
       "missing_ration                  8.8                         1.3  \n",
       "min             2020-07-22 00:00:00                         1.0  \n",
       "lower_quantile  2021-01-07 12:00:00                         2.0  \n",
       "median          2021-02-17 00:00:00                         4.0  \n",
       "upper_quantile  2021-03-15 00:00:00                         5.0  \n",
       "max             2021-10-18 00:00:00                        10.0  "
      ]
     },
     "execution_count": 32,
     "metadata": {},
     "output_type": "execute_result"
    }
   ],
   "source": [
    "numerical_df = vaccin_df.select_dtypes(['int64','float64','datetime64'])\n",
    "numerical_df.agg([missing_ration,pd.Series.min,lower_quantile,\n",
    "                  pd.Series.median,upper_quantile,pd.Series.max])"
   ]
  },
  {
   "cell_type": "markdown",
   "id": "0a48a915-c27b-42e0-8482-83b8bbf34303",
   "metadata": {},
   "source": [
    "Vậy có 5 cột `PERSONS_VACCINATED_1PLUS_DOSE_PER100 \tPERSONS_FULLY_VACCINATED \tPERSONS_FULLY_VACCINATED_PER100 \tFIRST_VACCINE_DATE \tNUMBER_VACCINES_TYPES_USED` có giá trị `NaN`"
   ]
  },
  {
   "cell_type": "markdown",
   "id": "31d52fcd-8bbd-42ee-93bb-22161deed177",
   "metadata": {
    "tags": []
   },
   "source": [
    "---\n",
    "### Tiền xử lí: Xử lí các thông tin chứa `NaN`"
   ]
  },
  {
   "cell_type": "markdown",
   "id": "611b005a-f2f2-4c2b-8dc8-c1dc70d7e6c4",
   "metadata": {},
   "source": [
    "Kiểm tra những quốc gia nào có `NUMBER_VACCINES_TYPES_USED` là `NaN`"
   ]
  },
  {
   "cell_type": "code",
   "execution_count": 33,
   "id": "a59bd2a5-8e78-4099-8927-7a896930fc17",
   "metadata": {},
   "outputs": [
    {
     "data": {
      "text/html": [
       "<div>\n",
       "<style scoped>\n",
       "    .dataframe tbody tr th:only-of-type {\n",
       "        vertical-align: middle;\n",
       "    }\n",
       "\n",
       "    .dataframe tbody tr th {\n",
       "        vertical-align: top;\n",
       "    }\n",
       "\n",
       "    .dataframe thead th {\n",
       "        text-align: right;\n",
       "    }\n",
       "</style>\n",
       "<table border=\"1\" class=\"dataframe\">\n",
       "  <thead>\n",
       "    <tr style=\"text-align: right;\">\n",
       "      <th></th>\n",
       "      <th>COUNTRY</th>\n",
       "      <th>ISO3</th>\n",
       "      <th>WHO_REGION</th>\n",
       "      <th>DATA_SOURCE</th>\n",
       "      <th>DATE_UPDATED</th>\n",
       "      <th>TOTAL_VACCINATIONS</th>\n",
       "      <th>PERSONS_VACCINATED_1PLUS_DOSE</th>\n",
       "      <th>TOTAL_VACCINATIONS_PER100</th>\n",
       "      <th>PERSONS_VACCINATED_1PLUS_DOSE_PER100</th>\n",
       "      <th>PERSONS_FULLY_VACCINATED</th>\n",
       "      <th>PERSONS_FULLY_VACCINATED_PER100</th>\n",
       "      <th>VACCINES_USED</th>\n",
       "      <th>FIRST_VACCINE_DATE</th>\n",
       "      <th>NUMBER_VACCINES_TYPES_USED</th>\n",
       "    </tr>\n",
       "  </thead>\n",
       "  <tbody>\n",
       "    <tr>\n",
       "      <th>25</th>\n",
       "      <td>Bonaire</td>\n",
       "      <td>XAA</td>\n",
       "      <td>AMRO</td>\n",
       "      <td>REPORTING</td>\n",
       "      <td>2021-12-03</td>\n",
       "      <td>32084</td>\n",
       "      <td>16995.0</td>\n",
       "      <td>153.402</td>\n",
       "      <td>81.257</td>\n",
       "      <td>15089.0</td>\n",
       "      <td>72.144</td>\n",
       "      <td>NaN</td>\n",
       "      <td>NaT</td>\n",
       "      <td>NaN</td>\n",
       "    </tr>\n",
       "    <tr>\n",
       "      <th>172</th>\n",
       "      <td>Saba</td>\n",
       "      <td>XCA</td>\n",
       "      <td>AMRO</td>\n",
       "      <td>REPORTING</td>\n",
       "      <td>2021-12-03</td>\n",
       "      <td>3131</td>\n",
       "      <td>NaN</td>\n",
       "      <td>161.976</td>\n",
       "      <td>NaN</td>\n",
       "      <td>1557.0</td>\n",
       "      <td>80.548</td>\n",
       "      <td>NaN</td>\n",
       "      <td>NaT</td>\n",
       "      <td>NaN</td>\n",
       "    </tr>\n",
       "    <tr>\n",
       "      <th>186</th>\n",
       "      <td>Sint Eustatius</td>\n",
       "      <td>XBA</td>\n",
       "      <td>AMRO</td>\n",
       "      <td>REPORTING</td>\n",
       "      <td>2021-12-03</td>\n",
       "      <td>2963</td>\n",
       "      <td>1509.0</td>\n",
       "      <td>94.393</td>\n",
       "      <td>48.073</td>\n",
       "      <td>1454.0</td>\n",
       "      <td>46.320</td>\n",
       "      <td>NaN</td>\n",
       "      <td>NaT</td>\n",
       "      <td>NaN</td>\n",
       "    </tr>\n",
       "  </tbody>\n",
       "</table>\n",
       "</div>"
      ],
      "text/plain": [
       "            COUNTRY ISO3 WHO_REGION DATA_SOURCE DATE_UPDATED  \\\n",
       "25          Bonaire  XAA       AMRO   REPORTING   2021-12-03   \n",
       "172            Saba  XCA       AMRO   REPORTING   2021-12-03   \n",
       "186  Sint Eustatius  XBA       AMRO   REPORTING   2021-12-03   \n",
       "\n",
       "     TOTAL_VACCINATIONS  PERSONS_VACCINATED_1PLUS_DOSE  \\\n",
       "25                32084                        16995.0   \n",
       "172                3131                            NaN   \n",
       "186                2963                         1509.0   \n",
       "\n",
       "     TOTAL_VACCINATIONS_PER100  PERSONS_VACCINATED_1PLUS_DOSE_PER100  \\\n",
       "25                     153.402                                81.257   \n",
       "172                    161.976                                   NaN   \n",
       "186                     94.393                                48.073   \n",
       "\n",
       "     PERSONS_FULLY_VACCINATED  PERSONS_FULLY_VACCINATED_PER100 VACCINES_USED  \\\n",
       "25                    15089.0                           72.144           NaN   \n",
       "172                    1557.0                           80.548           NaN   \n",
       "186                    1454.0                           46.320           NaN   \n",
       "\n",
       "    FIRST_VACCINE_DATE  NUMBER_VACCINES_TYPES_USED  \n",
       "25                 NaT                         NaN  \n",
       "172                NaT                         NaN  \n",
       "186                NaT                         NaN  "
      ]
     },
     "execution_count": 33,
     "metadata": {},
     "output_type": "execute_result"
    }
   ],
   "source": [
    "vaccin_df[vaccin_df['NUMBER_VACCINES_TYPES_USED'].isna()]"
   ]
  },
  {
   "cell_type": "markdown",
   "id": "691f4c47-0835-4012-ad18-f06703801f8d",
   "metadata": {},
   "source": [
    "Như ở trên ta thấy, những quốc gia này các thông tin về các thông tin về loại vaccin đều `NaN`, do đó có thể thông tin sẽ gây sai lệch khi tính toán chung, Nên nhóm em quyết định loại bỏ các dòng này."
   ]
  },
  {
   "cell_type": "code",
   "execution_count": 34,
   "id": "42dbb204-49b0-41b3-b189-2300cb8d4d95",
   "metadata": {},
   "outputs": [],
   "source": [
    "vaccin_df = vaccin_df[~vaccin_df['NUMBER_VACCINES_TYPES_USED'].isna()]"
   ]
  },
  {
   "cell_type": "markdown",
   "id": "a3554028-48a3-4504-b2dc-a1ff31de1659",
   "metadata": {},
   "source": [
    "Kiểm tra lại phân bổ các biến numerical. Ta thấy các cột `PERSONS_VACCINATED_1PLUS_DOSE`, `PERSONS_VACCINATED_1PLUS_DOSE_PER100`, `PERSONS_FULLY_VACCINATED`, `PERSONS_FULLY_VACCINATED_PER100` có cùng tỉ lệ `missing_ratio`. Vậy các thuộc tính này có thể `NaN` cùng nhau trên một số dòng nào đó. Do đó, em sẽ xem đó là những dòng nào và quyết định xem có nên loại bỏ chúng hay không"
   ]
  },
  {
   "cell_type": "code",
   "execution_count": 35,
   "id": "75d4f4cb-2686-4bd3-a270-55fe5f97a4ec",
   "metadata": {},
   "outputs": [
    {
     "data": {
      "text/html": [
       "<div>\n",
       "<style scoped>\n",
       "    .dataframe tbody tr th:only-of-type {\n",
       "        vertical-align: middle;\n",
       "    }\n",
       "\n",
       "    .dataframe tbody tr th {\n",
       "        vertical-align: top;\n",
       "    }\n",
       "\n",
       "    .dataframe thead th {\n",
       "        text-align: right;\n",
       "    }\n",
       "</style>\n",
       "<table border=\"1\" class=\"dataframe\">\n",
       "  <thead>\n",
       "    <tr style=\"text-align: right;\">\n",
       "      <th></th>\n",
       "      <th>DATE_UPDATED</th>\n",
       "      <th>TOTAL_VACCINATIONS</th>\n",
       "      <th>PERSONS_VACCINATED_1PLUS_DOSE</th>\n",
       "      <th>TOTAL_VACCINATIONS_PER100</th>\n",
       "      <th>PERSONS_VACCINATED_1PLUS_DOSE_PER100</th>\n",
       "      <th>PERSONS_FULLY_VACCINATED</th>\n",
       "      <th>PERSONS_FULLY_VACCINATED_PER100</th>\n",
       "      <th>FIRST_VACCINE_DATE</th>\n",
       "      <th>NUMBER_VACCINES_TYPES_USED</th>\n",
       "    </tr>\n",
       "  </thead>\n",
       "  <tbody>\n",
       "    <tr>\n",
       "      <th>missing_ration</th>\n",
       "      <td>0.0</td>\n",
       "      <td>0.000000e+00</td>\n",
       "      <td>1.800000e+00</td>\n",
       "      <td>0.000</td>\n",
       "      <td>1.800</td>\n",
       "      <td>1.800000e+00</td>\n",
       "      <td>1.800</td>\n",
       "      <td>7.6</td>\n",
       "      <td>0.0</td>\n",
       "    </tr>\n",
       "    <tr>\n",
       "      <th>min</th>\n",
       "      <td>2021-04-09 00:00:00</td>\n",
       "      <td>7.400000e+01</td>\n",
       "      <td>3.700000e+01</td>\n",
       "      <td>0.013</td>\n",
       "      <td>0.007</td>\n",
       "      <td>3.700000e+01</td>\n",
       "      <td>0.007</td>\n",
       "      <td>2020-07-22 00:00:00</td>\n",
       "      <td>1.0</td>\n",
       "    </tr>\n",
       "    <tr>\n",
       "      <th>lower_quantile</th>\n",
       "      <td>2021-11-25 00:00:00</td>\n",
       "      <td>2.729200e+05</td>\n",
       "      <td>1.615210e+05</td>\n",
       "      <td>43.282</td>\n",
       "      <td>26.926</td>\n",
       "      <td>1.268890e+05</td>\n",
       "      <td>20.906</td>\n",
       "      <td>2021-01-07 12:00:00</td>\n",
       "      <td>2.0</td>\n",
       "    </tr>\n",
       "    <tr>\n",
       "      <th>median</th>\n",
       "      <td>2021-11-28 00:00:00</td>\n",
       "      <td>1.910830e+06</td>\n",
       "      <td>1.078240e+06</td>\n",
       "      <td>97.858</td>\n",
       "      <td>53.474</td>\n",
       "      <td>8.738020e+05</td>\n",
       "      <td>44.418</td>\n",
       "      <td>2021-02-17 00:00:00</td>\n",
       "      <td>4.0</td>\n",
       "    </tr>\n",
       "    <tr>\n",
       "      <th>upper_quantile</th>\n",
       "      <td>2021-12-01 00:00:00</td>\n",
       "      <td>1.199835e+07</td>\n",
       "      <td>6.329967e+06</td>\n",
       "      <td>141.400</td>\n",
       "      <td>71.786</td>\n",
       "      <td>5.340231e+06</td>\n",
       "      <td>65.569</td>\n",
       "      <td>2021-03-15 00:00:00</td>\n",
       "      <td>5.0</td>\n",
       "    </tr>\n",
       "    <tr>\n",
       "      <th>max</th>\n",
       "      <td>2021-12-04 00:00:00</td>\n",
       "      <td>2.483096e+09</td>\n",
       "      <td>1.240357e+09</td>\n",
       "      <td>296.070</td>\n",
       "      <td>121.679</td>\n",
       "      <td>1.089827e+09</td>\n",
       "      <td>118.201</td>\n",
       "      <td>2021-10-18 00:00:00</td>\n",
       "      <td>10.0</td>\n",
       "    </tr>\n",
       "  </tbody>\n",
       "</table>\n",
       "</div>"
      ],
      "text/plain": [
       "                       DATE_UPDATED  TOTAL_VACCINATIONS  \\\n",
       "missing_ration                  0.0        0.000000e+00   \n",
       "min             2021-04-09 00:00:00        7.400000e+01   \n",
       "lower_quantile  2021-11-25 00:00:00        2.729200e+05   \n",
       "median          2021-11-28 00:00:00        1.910830e+06   \n",
       "upper_quantile  2021-12-01 00:00:00        1.199835e+07   \n",
       "max             2021-12-04 00:00:00        2.483096e+09   \n",
       "\n",
       "                PERSONS_VACCINATED_1PLUS_DOSE  TOTAL_VACCINATIONS_PER100  \\\n",
       "missing_ration                   1.800000e+00                      0.000   \n",
       "min                              3.700000e+01                      0.013   \n",
       "lower_quantile                   1.615210e+05                     43.282   \n",
       "median                           1.078240e+06                     97.858   \n",
       "upper_quantile                   6.329967e+06                    141.400   \n",
       "max                              1.240357e+09                    296.070   \n",
       "\n",
       "                PERSONS_VACCINATED_1PLUS_DOSE_PER100  \\\n",
       "missing_ration                                 1.800   \n",
       "min                                            0.007   \n",
       "lower_quantile                                26.926   \n",
       "median                                        53.474   \n",
       "upper_quantile                                71.786   \n",
       "max                                          121.679   \n",
       "\n",
       "                PERSONS_FULLY_VACCINATED  PERSONS_FULLY_VACCINATED_PER100  \\\n",
       "missing_ration              1.800000e+00                            1.800   \n",
       "min                         3.700000e+01                            0.007   \n",
       "lower_quantile              1.268890e+05                           20.906   \n",
       "median                      8.738020e+05                           44.418   \n",
       "upper_quantile              5.340231e+06                           65.569   \n",
       "max                         1.089827e+09                          118.201   \n",
       "\n",
       "                 FIRST_VACCINE_DATE  NUMBER_VACCINES_TYPES_USED  \n",
       "missing_ration                  7.6                         0.0  \n",
       "min             2020-07-22 00:00:00                         1.0  \n",
       "lower_quantile  2021-01-07 12:00:00                         2.0  \n",
       "median          2021-02-17 00:00:00                         4.0  \n",
       "upper_quantile  2021-03-15 00:00:00                         5.0  \n",
       "max             2021-10-18 00:00:00                        10.0  "
      ]
     },
     "execution_count": 35,
     "metadata": {},
     "output_type": "execute_result"
    }
   ],
   "source": [
    "numerical_df = vaccin_df.select_dtypes(['int64','float64','datetime64'])\n",
    "numerical_df.agg([missing_ration,pd.Series.min,lower_quantile,\n",
    "                  pd.Series.median,upper_quantile,pd.Series.max])"
   ]
  },
  {
   "cell_type": "code",
   "execution_count": 36,
   "id": "9ca4e217-f7d6-4b14-951a-a2348904e63d",
   "metadata": {},
   "outputs": [
    {
     "data": {
      "text/html": [
       "<div>\n",
       "<style scoped>\n",
       "    .dataframe tbody tr th:only-of-type {\n",
       "        vertical-align: middle;\n",
       "    }\n",
       "\n",
       "    .dataframe tbody tr th {\n",
       "        vertical-align: top;\n",
       "    }\n",
       "\n",
       "    .dataframe thead th {\n",
       "        text-align: right;\n",
       "    }\n",
       "</style>\n",
       "<table border=\"1\" class=\"dataframe\">\n",
       "  <thead>\n",
       "    <tr style=\"text-align: right;\">\n",
       "      <th></th>\n",
       "      <th>COUNTRY</th>\n",
       "      <th>ISO3</th>\n",
       "      <th>WHO_REGION</th>\n",
       "      <th>DATA_SOURCE</th>\n",
       "      <th>DATE_UPDATED</th>\n",
       "      <th>TOTAL_VACCINATIONS</th>\n",
       "      <th>PERSONS_VACCINATED_1PLUS_DOSE</th>\n",
       "      <th>TOTAL_VACCINATIONS_PER100</th>\n",
       "      <th>PERSONS_VACCINATED_1PLUS_DOSE_PER100</th>\n",
       "      <th>PERSONS_FULLY_VACCINATED</th>\n",
       "      <th>PERSONS_FULLY_VACCINATED_PER100</th>\n",
       "      <th>VACCINES_USED</th>\n",
       "      <th>FIRST_VACCINE_DATE</th>\n",
       "      <th>NUMBER_VACCINES_TYPES_USED</th>\n",
       "    </tr>\n",
       "  </thead>\n",
       "  <tbody>\n",
       "    <tr>\n",
       "      <th>86</th>\n",
       "      <td>Guernsey</td>\n",
       "      <td>GGY</td>\n",
       "      <td>EURO</td>\n",
       "      <td>OWID</td>\n",
       "      <td>2021-11-22</td>\n",
       "      <td>104131</td>\n",
       "      <td>NaN</td>\n",
       "      <td>161.524</td>\n",
       "      <td>NaN</td>\n",
       "      <td>NaN</td>\n",
       "      <td>NaN</td>\n",
       "      <td>Moderna - mRNA-1273, AstraZeneca - AZD1222, Pfizer BioNTech - Comirnaty</td>\n",
       "      <td>NaT</td>\n",
       "      <td>3.0</td>\n",
       "    </tr>\n",
       "    <tr>\n",
       "      <th>110</th>\n",
       "      <td>Kuwait</td>\n",
       "      <td>KWT</td>\n",
       "      <td>EMRO</td>\n",
       "      <td>REPORTING</td>\n",
       "      <td>2021-08-14</td>\n",
       "      <td>2668082</td>\n",
       "      <td>NaN</td>\n",
       "      <td>62.476</td>\n",
       "      <td>NaN</td>\n",
       "      <td>NaN</td>\n",
       "      <td>NaN</td>\n",
       "      <td>AstraZeneca - Vaxzevria,Beijing CNBG - BBIBP-CorV,Janssen - Ad26.COV 2-S,Moderna - Spikevax,Pfizer BioNTech - Comirnaty</td>\n",
       "      <td>2020-12-28</td>\n",
       "      <td>5.0</td>\n",
       "    </tr>\n",
       "    <tr>\n",
       "      <th>166</th>\n",
       "      <td>Qatar</td>\n",
       "      <td>QAT</td>\n",
       "      <td>EMRO</td>\n",
       "      <td>REPORTING</td>\n",
       "      <td>2021-12-01</td>\n",
       "      <td>4989421</td>\n",
       "      <td>NaN</td>\n",
       "      <td>173.180</td>\n",
       "      <td>NaN</td>\n",
       "      <td>NaN</td>\n",
       "      <td>NaN</td>\n",
       "      <td>AstraZeneca - Vaxzevria,Janssen - Ad26.COV 2-S,Moderna - Spikevax,Pfizer BioNTech - Comirnaty</td>\n",
       "      <td>2020-12-23</td>\n",
       "      <td>4.0</td>\n",
       "    </tr>\n",
       "    <tr>\n",
       "      <th>216</th>\n",
       "      <td>United Arab Emirates</td>\n",
       "      <td>ARE</td>\n",
       "      <td>EMRO</td>\n",
       "      <td>REPORTING</td>\n",
       "      <td>2021-11-30</td>\n",
       "      <td>21871201</td>\n",
       "      <td>NaN</td>\n",
       "      <td>221.136</td>\n",
       "      <td>NaN</td>\n",
       "      <td>NaN</td>\n",
       "      <td>NaN</td>\n",
       "      <td>AstraZeneca - Vaxzevria,Beijing CNBG - BBIBP-CorV,Gamaleya - Gam-Covid-Vac,Pfizer BioNTech - Comirnaty,SII - Covishield</td>\n",
       "      <td>2020-12-14</td>\n",
       "      <td>5.0</td>\n",
       "    </tr>\n",
       "  </tbody>\n",
       "</table>\n",
       "</div>"
      ],
      "text/plain": [
       "                  COUNTRY ISO3 WHO_REGION DATA_SOURCE DATE_UPDATED  \\\n",
       "86               Guernsey  GGY       EURO        OWID   2021-11-22   \n",
       "110                Kuwait  KWT       EMRO   REPORTING   2021-08-14   \n",
       "166                 Qatar  QAT       EMRO   REPORTING   2021-12-01   \n",
       "216  United Arab Emirates  ARE       EMRO   REPORTING   2021-11-30   \n",
       "\n",
       "     TOTAL_VACCINATIONS  PERSONS_VACCINATED_1PLUS_DOSE  \\\n",
       "86               104131                            NaN   \n",
       "110             2668082                            NaN   \n",
       "166             4989421                            NaN   \n",
       "216            21871201                            NaN   \n",
       "\n",
       "     TOTAL_VACCINATIONS_PER100  PERSONS_VACCINATED_1PLUS_DOSE_PER100  \\\n",
       "86                     161.524                                   NaN   \n",
       "110                     62.476                                   NaN   \n",
       "166                    173.180                                   NaN   \n",
       "216                    221.136                                   NaN   \n",
       "\n",
       "     PERSONS_FULLY_VACCINATED  PERSONS_FULLY_VACCINATED_PER100  \\\n",
       "86                        NaN                              NaN   \n",
       "110                       NaN                              NaN   \n",
       "166                       NaN                              NaN   \n",
       "216                       NaN                              NaN   \n",
       "\n",
       "                                                                                                               VACCINES_USED  \\\n",
       "86                                                   Moderna - mRNA-1273, AstraZeneca - AZD1222, Pfizer BioNTech - Comirnaty   \n",
       "110  AstraZeneca - Vaxzevria,Beijing CNBG - BBIBP-CorV,Janssen - Ad26.COV 2-S,Moderna - Spikevax,Pfizer BioNTech - Comirnaty   \n",
       "166                            AstraZeneca - Vaxzevria,Janssen - Ad26.COV 2-S,Moderna - Spikevax,Pfizer BioNTech - Comirnaty   \n",
       "216  AstraZeneca - Vaxzevria,Beijing CNBG - BBIBP-CorV,Gamaleya - Gam-Covid-Vac,Pfizer BioNTech - Comirnaty,SII - Covishield   \n",
       "\n",
       "    FIRST_VACCINE_DATE  NUMBER_VACCINES_TYPES_USED  \n",
       "86                 NaT                         3.0  \n",
       "110         2020-12-28                         5.0  \n",
       "166         2020-12-23                         4.0  \n",
       "216         2020-12-14                         5.0  "
      ]
     },
     "execution_count": 36,
     "metadata": {},
     "output_type": "execute_result"
    }
   ],
   "source": [
    "vaccin_df[vaccin_df['PERSONS_VACCINATED_1PLUS_DOSE'].isna()]"
   ]
  },
  {
   "cell_type": "markdown",
   "id": "8d9c22e0-7693-4b00-aca1-778770680c65",
   "metadata": {},
   "source": [
    "Như đã thấy, các dòng này chứa những giá trị NaN cùng nhau. Do đó, em sẽ loại bỏ  chúng. **NOTE**: trong 4 quốc gia này có tới 3 quốc gia thuộc `EMRO`, khồn biết có âm mưu gì không :3"
   ]
  },
  {
   "cell_type": "code",
   "execution_count": 37,
   "id": "fec3e31f-7899-4ee5-9d32-767bfb643604",
   "metadata": {},
   "outputs": [],
   "source": [
    "vaccin_df = vaccin_df[~vaccin_df['PERSONS_VACCINATED_1PLUS_DOSE'].isna()]"
   ]
  },
  {
   "cell_type": "code",
   "execution_count": 38,
   "id": "f71c152e-fb60-43fb-8a95-5b621b86a54a",
   "metadata": {},
   "outputs": [
    {
     "data": {
      "text/html": [
       "<div>\n",
       "<style scoped>\n",
       "    .dataframe tbody tr th:only-of-type {\n",
       "        vertical-align: middle;\n",
       "    }\n",
       "\n",
       "    .dataframe tbody tr th {\n",
       "        vertical-align: top;\n",
       "    }\n",
       "\n",
       "    .dataframe thead th {\n",
       "        text-align: right;\n",
       "    }\n",
       "</style>\n",
       "<table border=\"1\" class=\"dataframe\">\n",
       "  <thead>\n",
       "    <tr style=\"text-align: right;\">\n",
       "      <th></th>\n",
       "      <th>DATE_UPDATED</th>\n",
       "      <th>TOTAL_VACCINATIONS</th>\n",
       "      <th>PERSONS_VACCINATED_1PLUS_DOSE</th>\n",
       "      <th>TOTAL_VACCINATIONS_PER100</th>\n",
       "      <th>PERSONS_VACCINATED_1PLUS_DOSE_PER100</th>\n",
       "      <th>PERSONS_FULLY_VACCINATED</th>\n",
       "      <th>PERSONS_FULLY_VACCINATED_PER100</th>\n",
       "      <th>FIRST_VACCINE_DATE</th>\n",
       "      <th>NUMBER_VACCINES_TYPES_USED</th>\n",
       "    </tr>\n",
       "  </thead>\n",
       "  <tbody>\n",
       "    <tr>\n",
       "      <th>missing_ration</th>\n",
       "      <td>0.0</td>\n",
       "      <td>0.000000e+00</td>\n",
       "      <td>0.000000e+00</td>\n",
       "      <td>0.000</td>\n",
       "      <td>0.000</td>\n",
       "      <td>0.000000e+00</td>\n",
       "      <td>0.000</td>\n",
       "      <td>7.2</td>\n",
       "      <td>0.0</td>\n",
       "    </tr>\n",
       "    <tr>\n",
       "      <th>min</th>\n",
       "      <td>2021-04-09 00:00:00</td>\n",
       "      <td>7.400000e+01</td>\n",
       "      <td>3.700000e+01</td>\n",
       "      <td>0.013</td>\n",
       "      <td>0.007</td>\n",
       "      <td>3.700000e+01</td>\n",
       "      <td>0.007</td>\n",
       "      <td>2020-07-22 00:00:00</td>\n",
       "      <td>1.0</td>\n",
       "    </tr>\n",
       "    <tr>\n",
       "      <th>lower_quantile</th>\n",
       "      <td>2021-11-25 00:00:00</td>\n",
       "      <td>2.729200e+05</td>\n",
       "      <td>1.615210e+05</td>\n",
       "      <td>43.246</td>\n",
       "      <td>26.926</td>\n",
       "      <td>1.268890e+05</td>\n",
       "      <td>20.906</td>\n",
       "      <td>2021-01-11 00:00:00</td>\n",
       "      <td>2.0</td>\n",
       "    </tr>\n",
       "    <tr>\n",
       "      <th>median</th>\n",
       "      <td>2021-11-28 00:00:00</td>\n",
       "      <td>1.875132e+06</td>\n",
       "      <td>1.078240e+06</td>\n",
       "      <td>96.403</td>\n",
       "      <td>53.474</td>\n",
       "      <td>8.738020e+05</td>\n",
       "      <td>44.418</td>\n",
       "      <td>2021-02-17 00:00:00</td>\n",
       "      <td>4.0</td>\n",
       "    </tr>\n",
       "    <tr>\n",
       "      <th>upper_quantile</th>\n",
       "      <td>2021-12-01 00:00:00</td>\n",
       "      <td>1.199835e+07</td>\n",
       "      <td>6.329967e+06</td>\n",
       "      <td>140.900</td>\n",
       "      <td>71.786</td>\n",
       "      <td>5.340231e+06</td>\n",
       "      <td>65.569</td>\n",
       "      <td>2021-03-15 00:00:00</td>\n",
       "      <td>5.0</td>\n",
       "    </tr>\n",
       "    <tr>\n",
       "      <th>max</th>\n",
       "      <td>2021-12-04 00:00:00</td>\n",
       "      <td>2.483096e+09</td>\n",
       "      <td>1.240357e+09</td>\n",
       "      <td>296.070</td>\n",
       "      <td>121.679</td>\n",
       "      <td>1.089827e+09</td>\n",
       "      <td>118.201</td>\n",
       "      <td>2021-10-18 00:00:00</td>\n",
       "      <td>10.0</td>\n",
       "    </tr>\n",
       "  </tbody>\n",
       "</table>\n",
       "</div>"
      ],
      "text/plain": [
       "                       DATE_UPDATED  TOTAL_VACCINATIONS  \\\n",
       "missing_ration                  0.0        0.000000e+00   \n",
       "min             2021-04-09 00:00:00        7.400000e+01   \n",
       "lower_quantile  2021-11-25 00:00:00        2.729200e+05   \n",
       "median          2021-11-28 00:00:00        1.875132e+06   \n",
       "upper_quantile  2021-12-01 00:00:00        1.199835e+07   \n",
       "max             2021-12-04 00:00:00        2.483096e+09   \n",
       "\n",
       "                PERSONS_VACCINATED_1PLUS_DOSE  TOTAL_VACCINATIONS_PER100  \\\n",
       "missing_ration                   0.000000e+00                      0.000   \n",
       "min                              3.700000e+01                      0.013   \n",
       "lower_quantile                   1.615210e+05                     43.246   \n",
       "median                           1.078240e+06                     96.403   \n",
       "upper_quantile                   6.329967e+06                    140.900   \n",
       "max                              1.240357e+09                    296.070   \n",
       "\n",
       "                PERSONS_VACCINATED_1PLUS_DOSE_PER100  \\\n",
       "missing_ration                                 0.000   \n",
       "min                                            0.007   \n",
       "lower_quantile                                26.926   \n",
       "median                                        53.474   \n",
       "upper_quantile                                71.786   \n",
       "max                                          121.679   \n",
       "\n",
       "                PERSONS_FULLY_VACCINATED  PERSONS_FULLY_VACCINATED_PER100  \\\n",
       "missing_ration              0.000000e+00                            0.000   \n",
       "min                         3.700000e+01                            0.007   \n",
       "lower_quantile              1.268890e+05                           20.906   \n",
       "median                      8.738020e+05                           44.418   \n",
       "upper_quantile              5.340231e+06                           65.569   \n",
       "max                         1.089827e+09                          118.201   \n",
       "\n",
       "                 FIRST_VACCINE_DATE  NUMBER_VACCINES_TYPES_USED  \n",
       "missing_ration                  7.2                         0.0  \n",
       "min             2020-07-22 00:00:00                         1.0  \n",
       "lower_quantile  2021-01-11 00:00:00                         2.0  \n",
       "median          2021-02-17 00:00:00                         4.0  \n",
       "upper_quantile  2021-03-15 00:00:00                         5.0  \n",
       "max             2021-10-18 00:00:00                        10.0  "
      ]
     },
     "execution_count": 38,
     "metadata": {},
     "output_type": "execute_result"
    }
   ],
   "source": [
    "numerical_df = vaccin_df.select_dtypes(['int64','float64','datetime64'])\n",
    "numerical_df.agg([missing_ration,pd.Series.min,lower_quantile,\n",
    "                  pd.Series.median,upper_quantile,pd.Series.max])"
   ]
  },
  {
   "cell_type": "markdown",
   "id": "cf13f152-e0fd-4b18-9317-19cb48826bd6",
   "metadata": {},
   "source": [
    "OK. Mọi thứ trong có vẻ tốt hơn trước rồi. Còn cột `FIRST_VACCINE_DATE` với tỉ lệ `NaN` khá lớn, nhưng em nghĩ nó sẽ không ảnh hưởng đến **phần lớn** các câu hỏi và phân tích."
   ]
  },
  {
   "cell_type": "markdown",
   "id": "4f140fcf-740f-4e00-a262-7dd6baf3cf5b",
   "metadata": {
    "tags": []
   },
   "source": [
    "### Phân bố kiểu dữ liệu categorical"
   ]
  },
  {
   "cell_type": "code",
   "execution_count": 39,
   "id": "668f7239-eab8-4689-b898-809493590836",
   "metadata": {},
   "outputs": [
    {
     "data": {
      "text/html": [
       "<div>\n",
       "<style scoped>\n",
       "    .dataframe tbody tr th:only-of-type {\n",
       "        vertical-align: middle;\n",
       "    }\n",
       "\n",
       "    .dataframe tbody tr th {\n",
       "        vertical-align: top;\n",
       "    }\n",
       "\n",
       "    .dataframe thead th {\n",
       "        text-align: right;\n",
       "    }\n",
       "</style>\n",
       "<table border=\"1\" class=\"dataframe\">\n",
       "  <thead>\n",
       "    <tr style=\"text-align: right;\">\n",
       "      <th></th>\n",
       "      <th>COUNTRY</th>\n",
       "      <th>ISO3</th>\n",
       "      <th>WHO_REGION</th>\n",
       "      <th>DATA_SOURCE</th>\n",
       "      <th>VACCINES_USED</th>\n",
       "    </tr>\n",
       "  </thead>\n",
       "  <tbody>\n",
       "    <tr>\n",
       "      <th>missing_ration</th>\n",
       "      <td>0.0</td>\n",
       "      <td>0.0</td>\n",
       "      <td>0.0</td>\n",
       "      <td>0.0</td>\n",
       "      <td>0.0</td>\n",
       "    </tr>\n",
       "    <tr>\n",
       "      <th>unique</th>\n",
       "      <td>[Afghanistan, Albania, Algeria, American Samoa,...</td>\n",
       "      <td>[AFG, ALB, DZA, ASM, AND, AGO, AIA, ATG, ARG, A...</td>\n",
       "      <td>[EMRO, EURO, AFRO, WPRO, AMRO, SEARO, OTHER]</td>\n",
       "      <td>[REPORTING, OWID]</td>\n",
       "      <td>[Beijing CNBG - BBIBP-CorV,Janssen - Ad26.COV 2...</td>\n",
       "    </tr>\n",
       "    <tr>\n",
       "      <th>nunique</th>\n",
       "      <td>221</td>\n",
       "      <td>221</td>\n",
       "      <td>7</td>\n",
       "      <td>2</td>\n",
       "      <td>119</td>\n",
       "    </tr>\n",
       "  </tbody>\n",
       "</table>\n",
       "</div>"
      ],
      "text/plain": [
       "                                                           COUNTRY  \\\n",
       "missing_ration                                                 0.0   \n",
       "unique          [Afghanistan, Albania, Algeria, American Samoa,...   \n",
       "nunique                                                        221   \n",
       "\n",
       "                                                              ISO3  \\\n",
       "missing_ration                                                 0.0   \n",
       "unique          [AFG, ALB, DZA, ASM, AND, AGO, AIA, ATG, ARG, A...   \n",
       "nunique                                                        221   \n",
       "\n",
       "                                                  WHO_REGION  \\\n",
       "missing_ration                                           0.0   \n",
       "unique          [EMRO, EURO, AFRO, WPRO, AMRO, SEARO, OTHER]   \n",
       "nunique                                                    7   \n",
       "\n",
       "                      DATA_SOURCE  \\\n",
       "missing_ration                0.0   \n",
       "unique          [REPORTING, OWID]   \n",
       "nunique                         2   \n",
       "\n",
       "                                                     VACCINES_USED  \n",
       "missing_ration                                                 0.0  \n",
       "unique          [Beijing CNBG - BBIBP-CorV,Janssen - Ad26.COV 2...  \n",
       "nunique                                                        119  "
      ]
     },
     "execution_count": 39,
     "metadata": {},
     "output_type": "execute_result"
    }
   ],
   "source": [
    "pd.set_option(\"display.max_colwidth\",51)\n",
    "categorical_df = vaccin_df.select_dtypes(['object'])\n",
    "categorical_df.agg([missing_ration,pd.Series.unique,pd.Series.nunique])"
   ]
  },
  {
   "cell_type": "markdown",
   "id": "4f61d820-f27b-4758-8b8e-50aeafdea32e",
   "metadata": {},
   "source": [
    "Vẽ `barh chart` cho top 10 `VACCINES_USED`"
   ]
  },
  {
   "cell_type": "code",
   "execution_count": 40,
   "id": "68b2a488-b4ff-4ad6-89df-e5dada032adb",
   "metadata": {
    "scrolled": true
   },
   "outputs": [
    {
     "data": {
      "image/png": "[encoded data removed]",
      "text/plain": [
       "<Figure size 432x288 with 1 Axes>"
      ]
     },
     "metadata": {
      "needs_background": "light"
     },
     "output_type": "display_data"
    }
   ],
   "source": [
    "vaccin_df['VACCINES_USED'].str.split(',').explode().value_counts().head(10).plot.barh()\n",
    "plt.xlabel('Số quốc gia')\n",
    "plt.title('Số quốc gia sử dụng các vaccin phổ biến');"
   ]
  },
  {
   "cell_type": "markdown",
   "id": "7ca63a82-4e36-4152-a32f-a5711f7b04c8",
   "metadata": {
    "tags": []
   },
   "source": [
    "`Bar chart` này cho thấy Pfizer được sử dụng rộng rãi, bám theo sau là AstraZeneca."
   ]
  },
  {
   "cell_type": "markdown",
   "id": "8f3ec9d7-d895-456f-b52d-761a62c441ac",
   "metadata": {},
   "source": [
    "##\n",
    "<hr style=\"border:1px solid blue\"> </hr>"
   ]
  },
  {
   "cell_type": "markdown",
   "id": "7d7f6189-d96e-4d92-802f-95850b00f8b2",
   "metadata": {
    "tags": []
   },
   "source": [
    "## 4.Khám phá dữ liệu Vaccin COVID-19"
   ]
  },
  {
   "cell_type": "markdown",
   "id": "995b27bd-5a2e-40e6-b853-4d1c51ed9f4b",
   "metadata": {
    "tags": []
   },
   "source": [
    "### Đọc dữ liệu từ file"
   ]
  },
  {
   "cell_type": "markdown",
   "id": "38ab1a9b-c692-4935-9d57-266be4f23c35",
   "metadata": {},
   "source": [
    "Đọc dữ liệu từ file `vaccination-metadata.csv` rồi lưu vào dataframe `metavaccin_df`."
   ]
  },
  {
   "cell_type": "code",
   "execution_count": 41,
   "id": "e29806dd-9fa2-4a2d-b878-39031ae21030",
   "metadata": {
    "scrolled": true
   },
   "outputs": [
    {
     "data": {
      "text/html": [
       "<div>\n",
       "<style scoped>\n",
       "    .dataframe tbody tr th:only-of-type {\n",
       "        vertical-align: middle;\n",
       "    }\n",
       "\n",
       "    .dataframe tbody tr th {\n",
       "        vertical-align: top;\n",
       "    }\n",
       "\n",
       "    .dataframe thead th {\n",
       "        text-align: right;\n",
       "    }\n",
       "</style>\n",
       "<table border=\"1\" class=\"dataframe\">\n",
       "  <thead>\n",
       "    <tr style=\"text-align: right;\">\n",
       "      <th></th>\n",
       "      <th>ISO3</th>\n",
       "      <th>VACCINE_NAME</th>\n",
       "      <th>PRODUCT_NAME</th>\n",
       "      <th>COMPANY_NAME</th>\n",
       "      <th>AUTHORIZATION_DATE</th>\n",
       "      <th>START_DATE</th>\n",
       "      <th>END_DATE</th>\n",
       "      <th>COMMENT</th>\n",
       "      <th>DATA_SOURCE</th>\n",
       "    </tr>\n",
       "  </thead>\n",
       "  <tbody>\n",
       "    <tr>\n",
       "      <th>311</th>\n",
       "      <td>LAO</td>\n",
       "      <td>Pfizer BioNTech - Comirnaty</td>\n",
       "      <td>Comirnaty</td>\n",
       "      <td>Pfizer BioNTech</td>\n",
       "      <td>2021-05-07</td>\n",
       "      <td>2021-06-15</td>\n",
       "      <td>NaN</td>\n",
       "      <td>NaN</td>\n",
       "      <td>REPORTING</td>\n",
       "    </tr>\n",
       "    <tr>\n",
       "      <th>304</th>\n",
       "      <td>BTN</td>\n",
       "      <td>Pfizer BioNTech - Comirnaty</td>\n",
       "      <td>Comirnaty</td>\n",
       "      <td>Pfizer BioNTech</td>\n",
       "      <td>2021-03-08</td>\n",
       "      <td>2021-07-20</td>\n",
       "      <td>NaN</td>\n",
       "      <td>NaN</td>\n",
       "      <td>REPORTING</td>\n",
       "    </tr>\n",
       "    <tr>\n",
       "      <th>416</th>\n",
       "      <td>CPV</td>\n",
       "      <td>Pfizer BioNTech - Comirnaty</td>\n",
       "      <td>Comirnaty</td>\n",
       "      <td>Pfizer BioNTech</td>\n",
       "      <td>2021-02-19</td>\n",
       "      <td>2021-03-18</td>\n",
       "      <td>NaN</td>\n",
       "      <td>NaN</td>\n",
       "      <td>REPORTING</td>\n",
       "    </tr>\n",
       "    <tr>\n",
       "      <th>240</th>\n",
       "      <td>ZMB</td>\n",
       "      <td>Beijing CNBG - BBIBP-CorV</td>\n",
       "      <td>BBIBP-CorV</td>\n",
       "      <td>Beijing Bio-Institute Biological Products (CNBG)</td>\n",
       "      <td>NaN</td>\n",
       "      <td>NaN</td>\n",
       "      <td>NaN</td>\n",
       "      <td>NaN</td>\n",
       "      <td>REPORTING</td>\n",
       "    </tr>\n",
       "    <tr>\n",
       "      <th>768</th>\n",
       "      <td>TZA</td>\n",
       "      <td>Janssen - Ad26.COV 2-S</td>\n",
       "      <td>Ad26.COV 2-S</td>\n",
       "      <td>Janssen Pharmaceuticals</td>\n",
       "      <td>2021-07-20</td>\n",
       "      <td>2021-07-28</td>\n",
       "      <td>NaN</td>\n",
       "      <td>NaN</td>\n",
       "      <td>REPORTING</td>\n",
       "    </tr>\n",
       "  </tbody>\n",
       "</table>\n",
       "</div>"
      ],
      "text/plain": [
       "    ISO3                 VACCINE_NAME  PRODUCT_NAME  \\\n",
       "311  LAO  Pfizer BioNTech - Comirnaty     Comirnaty   \n",
       "304  BTN  Pfizer BioNTech - Comirnaty     Comirnaty   \n",
       "416  CPV  Pfizer BioNTech - Comirnaty     Comirnaty   \n",
       "240  ZMB    Beijing CNBG - BBIBP-CorV    BBIBP-CorV   \n",
       "768  TZA       Janssen - Ad26.COV 2-S  Ad26.COV 2-S   \n",
       "\n",
       "                                         COMPANY_NAME AUTHORIZATION_DATE  \\\n",
       "311                                   Pfizer BioNTech         2021-05-07   \n",
       "304                                   Pfizer BioNTech         2021-03-08   \n",
       "416                                   Pfizer BioNTech         2021-02-19   \n",
       "240  Beijing Bio-Institute Biological Products (CNBG)                NaN   \n",
       "768                           Janssen Pharmaceuticals         2021-07-20   \n",
       "\n",
       "     START_DATE  END_DATE  COMMENT DATA_SOURCE  \n",
       "311  2021-06-15       NaN      NaN   REPORTING  \n",
       "304  2021-07-20       NaN      NaN   REPORTING  \n",
       "416  2021-03-18       NaN      NaN   REPORTING  \n",
       "240         NaN       NaN      NaN   REPORTING  \n",
       "768  2021-07-28       NaN      NaN   REPORTING  "
      ]
     },
     "execution_count": 41,
     "metadata": {},
     "output_type": "execute_result"
    }
   ],
   "source": [
    "metavaccin_df = pd.read_csv('dataset/vaccination-metadata.csv')\n",
    "metavaccin_df.sample(5)"
   ]
  },
  {
   "cell_type": "markdown",
   "id": "4a3802ba-e76c-4fb9-b71a-312f04c8aedc",
   "metadata": {
    "tags": []
   },
   "source": [
    "### Dữ liệu có bao nhiêu dòng và cột ?"
   ]
  },
  {
   "cell_type": "markdown",
   "id": "1a1df731-1b2a-44d0-af94-deaa78f5475c",
   "metadata": {},
   "source": [
    "Tính số dòng và số cột rồi lưu vào biến `num_rows_metavaccin` và `num_cols_metavaccin`"
   ]
  },
  {
   "cell_type": "code",
   "execution_count": 42,
   "id": "8ec53cae-9526-4d35-a4f1-0ed92d73f69a",
   "metadata": {},
   "outputs": [
    {
     "name": "stdout",
     "output_type": "stream",
     "text": [
      "Dữ liệu có 853 dòng\n",
      "Dữ liệu có 9 cột\n"
     ]
    }
   ],
   "source": [
    "num_rows_metavaccin , num_cols_metavaccin = metavaccin_df.shape\n",
    "print(f'Dữ liệu có {num_rows_metavaccin} dòng')\n",
    "print(f'Dữ liệu có {num_cols_metavaccin} cột')"
   ]
  },
  {
   "cell_type": "markdown",
   "id": "deb9f0f5-3842-4b50-9a5f-03abc438501b",
   "metadata": {
    "tags": []
   },
   "source": [
    "### Mỗi dòng dữ liệu có ý nghĩa gì ? Có vấn đề các dòng có ý nghĩa khác nhau không ?"
   ]
  },
  {
   "cell_type": "markdown",
   "id": "27b9cf5d-c616-4e42-8acd-b8e70da405e1",
   "metadata": {},
   "source": [
    "Theo quan sát sơ bộ và file mô tả dữ liệu trên website chính của WHO thì dữ liệu cho biết thông tin về tính hình sử dụng vaccin ở các quốc gia với ngày được cập nhật gần nhất."
   ]
  },
  {
   "cell_type": "markdown",
   "id": "37ab57a1-0560-4ca9-9daa-deb8af8e6563",
   "metadata": {
    "tags": []
   },
   "source": [
    "### Dữ liệu có bị lặp không"
   ]
  },
  {
   "cell_type": "markdown",
   "id": "e865b8c6-5263-405d-a463-09b312083193",
   "metadata": {},
   "source": [
    "Tính số dòng dữ liệu bị trùng (nếu có) rồi lưu vào biến `num_rows_dupicated`."
   ]
  },
  {
   "cell_type": "code",
   "execution_count": 43,
   "id": "c25824cf-fe58-4757-8b43-c6763f196239",
   "metadata": {},
   "outputs": [
    {
     "name": "stdout",
     "output_type": "stream",
     "text": [
      "0\n"
     ]
    }
   ],
   "source": [
    "num_rows_duplicated = num_rows_metavaccin - len(metavaccin_df.drop_duplicates())\n",
    "print(num_rows_duplicated)"
   ]
  },
  {
   "cell_type": "markdown",
   "id": "62437336-6b5d-4f4c-b76c-a5477c051f8c",
   "metadata": {
    "tags": []
   },
   "source": [
    "### Mỗi cột có ý nghĩa gì ?"
   ]
  },
  {
   "cell_type": "markdown",
   "id": "505c9fa1-91bf-4ad3-b4b7-2abed8d27307",
   "metadata": {},
   "source": [
    "Dựa vào mô tả chính thức trên website WHO, ý nghĩa từng cột được mô tả trong file `Description_data.csv`"
   ]
  },
  {
   "cell_type": "code",
   "execution_count": 44,
   "id": "913210cb-0833-44ea-920b-4ef3a13cb64f",
   "metadata": {
    "scrolled": true
   },
   "outputs": [],
   "source": [
    "pd.set_option(\"display.max_colwidth\",500)\n",
    "description_data = pd.read_csv('dataset/Description_metadata.csv',\n",
    "                                 delimiter= '\\t',index_col= 'Field name')"
   ]
  },
  {
   "cell_type": "code",
   "execution_count": 45,
   "id": "b2a17e3b-4509-4a1b-8db9-a0f2824f2e3e",
   "metadata": {},
   "outputs": [
    {
     "data": {
      "text/html": [
       "<div>\n",
       "<style scoped>\n",
       "    .dataframe tbody tr th:only-of-type {\n",
       "        vertical-align: middle;\n",
       "    }\n",
       "\n",
       "    .dataframe tbody tr th {\n",
       "        vertical-align: top;\n",
       "    }\n",
       "\n",
       "    .dataframe thead th {\n",
       "        text-align: right;\n",
       "    }\n",
       "</style>\n",
       "<table border=\"1\" class=\"dataframe\">\n",
       "  <thead>\n",
       "    <tr style=\"text-align: right;\">\n",
       "      <th></th>\n",
       "      <th>Type</th>\n",
       "      <th>Description</th>\n",
       "    </tr>\n",
       "    <tr>\n",
       "      <th>Field name</th>\n",
       "      <th></th>\n",
       "      <th></th>\n",
       "    </tr>\n",
       "  </thead>\n",
       "  <tbody>\n",
       "    <tr>\n",
       "      <th>ISO3</th>\n",
       "      <td>String</td>\n",
       "      <td>ISO Alpha-3 country code</td>\n",
       "    </tr>\n",
       "    <tr>\n",
       "      <th>VACCINE_NAME</th>\n",
       "      <td>String</td>\n",
       "      <td>Combined short name of vaccine: âCompany - Product nameâ (see below)</td>\n",
       "    </tr>\n",
       "    <tr>\n",
       "      <th>PRODUCT_NAME</th>\n",
       "      <td>String</td>\n",
       "      <td>Name or label of vaccine product, or type of vaccine (if unnamed).</td>\n",
       "    </tr>\n",
       "    <tr>\n",
       "      <th>COMPANY_NAME</th>\n",
       "      <td>String</td>\n",
       "      <td>Marketing authorization holder of vaccine product.</td>\n",
       "    </tr>\n",
       "    <tr>\n",
       "      <th>AUTHORIZATION_DATE</th>\n",
       "      <td>Date</td>\n",
       "      <td>Date vaccine product was authorised for use in the country, territory, area.</td>\n",
       "    </tr>\n",
       "    <tr>\n",
       "      <th>START_DATE</th>\n",
       "      <td>Date</td>\n",
       "      <td>Start/launch date of vaccination with vaccine type (excludes vaccinations during clinical trials).</td>\n",
       "    </tr>\n",
       "    <tr>\n",
       "      <th>END_DATE</th>\n",
       "      <td>Date</td>\n",
       "      <td>End date of vaccine rollout</td>\n",
       "    </tr>\n",
       "    <tr>\n",
       "      <th>COMMENT</th>\n",
       "      <td>String</td>\n",
       "      <td>Comments related to vaccine rollout</td>\n",
       "    </tr>\n",
       "    <tr>\n",
       "      <th>DATA_SOURCE</th>\n",
       "      <td>String</td>\n",
       "      <td>Indicates data source - REPORTING: Data reported by Member States, or sourced from official reports - OWID: Data sourced from Our World in Data: https://ourworldindata.org/covid-vaccinations</td>\n",
       "    </tr>\n",
       "  </tbody>\n",
       "</table>\n",
       "</div>"
      ],
      "text/plain": [
       "                      Type  \\\n",
       "Field name                   \n",
       "ISO3                String   \n",
       "VACCINE_NAME        String   \n",
       "PRODUCT_NAME        String   \n",
       "COMPANY_NAME        String   \n",
       "AUTHORIZATION_DATE    Date   \n",
       "START_DATE            Date   \n",
       "END_DATE              Date   \n",
       "COMMENT             String   \n",
       "DATA_SOURCE         String   \n",
       "\n",
       "                                                                                                                                                                                                       Description  \n",
       "Field name                                                                                                                                                                                                          \n",
       "ISO3                                                                                                                                                                                      ISO Alpha-3 country code  \n",
       "VACCINE_NAME                                                                                                                              Combined short name of vaccine: âCompany - Product nameâ (see below)  \n",
       "PRODUCT_NAME                                                                                                                                    Name or label of vaccine product, or type of vaccine (if unnamed).  \n",
       "COMPANY_NAME                                                                                                                                                    Marketing authorization holder of vaccine product.  \n",
       "AUTHORIZATION_DATE                                                                                                                    Date vaccine product was authorised for use in the country, territory, area.  \n",
       "START_DATE                                                                                                      Start/launch date of vaccination with vaccine type (excludes vaccinations during clinical trials).  \n",
       "END_DATE                                                                                                                                                                               End date of vaccine rollout  \n",
       "COMMENT                                                                                                                                                                        Comments related to vaccine rollout  \n",
       "DATA_SOURCE         Indicates data source - REPORTING: Data reported by Member States, or sourced from official reports - OWID: Data sourced from Our World in Data: https://ourworldindata.org/covid-vaccinations  "
      ]
     },
     "execution_count": 45,
     "metadata": {},
     "output_type": "execute_result"
    }
   ],
   "source": [
    "description_data"
   ]
  },
  {
   "cell_type": "markdown",
   "id": "fb7f6030-a366-4f37-8946-e4a3ababe417",
   "metadata": {
    "tags": []
   },
   "source": [
    "### Mỗi cột hiện tại đang có dữ liệu gì ?"
   ]
  },
  {
   "cell_type": "code",
   "execution_count": 46,
   "id": "56423a18-f573-4bd8-8a27-2dc16e28b753",
   "metadata": {
    "scrolled": true,
    "tags": []
   },
   "outputs": [
    {
     "data": {
      "text/plain": [
       "ISO3                   object\n",
       "VACCINE_NAME           object\n",
       "PRODUCT_NAME           object\n",
       "COMPANY_NAME           object\n",
       "AUTHORIZATION_DATE     object\n",
       "START_DATE             object\n",
       "END_DATE              float64\n",
       "COMMENT               float64\n",
       "DATA_SOURCE            object\n",
       "dtype: object"
      ]
     },
     "execution_count": 46,
     "metadata": {},
     "output_type": "execute_result"
    }
   ],
   "source": [
    "metavaccin_df.dtypes"
   ]
  },
  {
   "cell_type": "markdown",
   "id": "f8cfd633-0862-4ad4-92ea-8b5df60bb66f",
   "metadata": {},
   "source": [
    "`AUTHORIZATION_DATE`, `START_DATE`, `END_DATE`  nên có kiểu dữ liệu `datetime`\\\n",
    "`COMMENT` nên có dữ liệu là `object`"
   ]
  },
  {
   "cell_type": "markdown",
   "id": "f6f620f6-6e34-4ad7-a00b-49a6b201d58c",
   "metadata": {
    "tags": []
   },
   "source": [
    "---\n",
    "### Tiền xử lý: Thay đổi kiểu dữ liệu"
   ]
  },
  {
   "cell_type": "code",
   "execution_count": 47,
   "id": "432f0840-4812-4dc1-a3fa-5a95e32666e8",
   "metadata": {},
   "outputs": [],
   "source": [
    "metavaccin_df = metavaccin_df.astype({'AUTHORIZATION_DATE': 'datetime64[ns]', 'START_DATE': 'datetime64[ns]',\\\n",
    "                                      'END_DATE': 'datetime64[ns]', 'COMMENT': 'str'})"
   ]
  },
  {
   "cell_type": "code",
   "execution_count": 48,
   "id": "c676ce90-edd1-4aca-975a-a4db7c653c5f",
   "metadata": {},
   "outputs": [],
   "source": [
    "assert metavaccin_df['AUTHORIZATION_DATE'].dtype == np.dtype('datetime64[ns]')\n",
    "assert metavaccin_df['START_DATE'].dtype == np.dtype('datetime64[ns]')\n",
    "assert metavaccin_df['END_DATE'].dtype == np.dtype('datetime64[ns]')\n",
    "assert metavaccin_df['COMMENT'].dtype == np.dtype('object')"
   ]
  },
  {
   "cell_type": "markdown",
   "id": "b9614745-13c3-4bc8-a84d-4b3793467410",
   "metadata": {},
   "source": [
    "Vậy **Kiểu dữ liệu không có gì bất thường**"
   ]
  },
  {
   "cell_type": "markdown",
   "id": "a9f3dc6d-1af0-4083-a25f-9e5f69379ade",
   "metadata": {
    "tags": []
   },
   "source": [
    "---\n",
    "### Quay lại khám phá dữ liệu: Phân bố kiểu dữ liệu numerical"
   ]
  },
  {
   "cell_type": "code",
   "execution_count": 49,
   "id": "49cb773d-e954-46fd-97e8-f505f01ec67c",
   "metadata": {},
   "outputs": [
    {
     "name": "stderr",
     "output_type": "stream",
     "text": [
      "E:\\Miniconda3\\envs\\min_ds-env\\lib\\site-packages\\numpy\\lib\\nanfunctions.py:1111: RuntimeWarning: Mean of empty slice\n",
      "  return np.nanmean(a, axis, out=out, keepdims=keepdims)\n"
     ]
    },
    {
     "data": {
      "text/html": [
       "<div>\n",
       "<style scoped>\n",
       "    .dataframe tbody tr th:only-of-type {\n",
       "        vertical-align: middle;\n",
       "    }\n",
       "\n",
       "    .dataframe tbody tr th {\n",
       "        vertical-align: top;\n",
       "    }\n",
       "\n",
       "    .dataframe thead th {\n",
       "        text-align: right;\n",
       "    }\n",
       "</style>\n",
       "<table border=\"1\" class=\"dataframe\">\n",
       "  <thead>\n",
       "    <tr style=\"text-align: right;\">\n",
       "      <th></th>\n",
       "      <th>AUTHORIZATION_DATE</th>\n",
       "      <th>START_DATE</th>\n",
       "      <th>END_DATE</th>\n",
       "    </tr>\n",
       "  </thead>\n",
       "  <tbody>\n",
       "    <tr>\n",
       "      <th>missing_ration</th>\n",
       "      <td>59.3</td>\n",
       "      <td>33.9</td>\n",
       "      <td>100.0</td>\n",
       "    </tr>\n",
       "    <tr>\n",
       "      <th>min</th>\n",
       "      <td>2020-07-22 00:00:00</td>\n",
       "      <td>2020-07-22 00:00:00</td>\n",
       "      <td>NaT</td>\n",
       "    </tr>\n",
       "    <tr>\n",
       "      <th>lower_quantile</th>\n",
       "      <td>2021-01-29 12:00:00</td>\n",
       "      <td>2021-02-03 00:00:00</td>\n",
       "      <td>NaT</td>\n",
       "    </tr>\n",
       "    <tr>\n",
       "      <th>median</th>\n",
       "      <td>2021-02-24 00:00:00</td>\n",
       "      <td>2021-03-10 00:00:00</td>\n",
       "      <td>NaT</td>\n",
       "    </tr>\n",
       "    <tr>\n",
       "      <th>upper_quantile</th>\n",
       "      <td>2021-05-06 00:00:00</td>\n",
       "      <td>2021-04-28 00:00:00</td>\n",
       "      <td>NaT</td>\n",
       "    </tr>\n",
       "    <tr>\n",
       "      <th>max</th>\n",
       "      <td>2021-12-31 00:00:00</td>\n",
       "      <td>2021-11-14 00:00:00</td>\n",
       "      <td>NaT</td>\n",
       "    </tr>\n",
       "  </tbody>\n",
       "</table>\n",
       "</div>"
      ],
      "text/plain": [
       "                 AUTHORIZATION_DATE           START_DATE END_DATE\n",
       "missing_ration                 59.3                 33.9    100.0\n",
       "min             2020-07-22 00:00:00  2020-07-22 00:00:00      NaT\n",
       "lower_quantile  2021-01-29 12:00:00  2021-02-03 00:00:00      NaT\n",
       "median          2021-02-24 00:00:00  2021-03-10 00:00:00      NaT\n",
       "upper_quantile  2021-05-06 00:00:00  2021-04-28 00:00:00      NaT\n",
       "max             2021-12-31 00:00:00  2021-11-14 00:00:00      NaT"
      ]
     },
     "execution_count": 49,
     "metadata": {},
     "output_type": "execute_result"
    }
   ],
   "source": [
    "numerical_df = metavaccin_df.select_dtypes(['int64','float64','datetime64'])\n",
    "numerical_df.agg([missing_ration,pd.Series.min,lower_quantile,\n",
    "                  pd.Series.median,upper_quantile,pd.Series.max])"
   ]
  },
  {
   "cell_type": "markdown",
   "id": "66d347d9-0700-46aa-a543-0932d69b6dbe",
   "metadata": {},
   "source": [
    "Vậy `END_DATE` chứa toàn rỗng. Nên ta sẽ loại bỏ"
   ]
  },
  {
   "cell_type": "markdown",
   "id": "f7e8d7f1-bf42-4690-8352-01e6753e81cc",
   "metadata": {},
   "source": [
    "---\n",
    "### Tiền xử lí: Loại bỏ cột NaN"
   ]
  },
  {
   "cell_type": "code",
   "execution_count": 50,
   "id": "a00c5701-6c2b-408c-b37e-279ab5b70d8e",
   "metadata": {},
   "outputs": [],
   "source": [
    "metavaccin_df = metavaccin_df.drop(columns=['END_DATE'])"
   ]
  },
  {
   "cell_type": "code",
   "execution_count": 51,
   "id": "9175534d-266b-484f-90ad-494a052f7cab",
   "metadata": {},
   "outputs": [],
   "source": [
    "assert 'END_DATE' not in metavaccin_df.columns"
   ]
  },
  {
   "cell_type": "markdown",
   "id": "8185641a-e9eb-42d1-baa4-7661e39d7c02",
   "metadata": {
    "tags": []
   },
   "source": [
    "---\n",
    "### Quay lại khám phá: Phân bố kiểu dữ liệu categorical"
   ]
  },
  {
   "cell_type": "code",
   "execution_count": 52,
   "id": "f43e54a4-9e97-458c-a363-d02d06772de9",
   "metadata": {},
   "outputs": [
    {
     "data": {
      "text/html": [
       "<div>\n",
       "<style scoped>\n",
       "    .dataframe tbody tr th:only-of-type {\n",
       "        vertical-align: middle;\n",
       "    }\n",
       "\n",
       "    .dataframe tbody tr th {\n",
       "        vertical-align: top;\n",
       "    }\n",
       "\n",
       "    .dataframe thead th {\n",
       "        text-align: right;\n",
       "    }\n",
       "</style>\n",
       "<table border=\"1\" class=\"dataframe\">\n",
       "  <thead>\n",
       "    <tr style=\"text-align: right;\">\n",
       "      <th></th>\n",
       "      <th>ISO3</th>\n",
       "      <th>VACCINE_NAME</th>\n",
       "      <th>PRODUCT_NAME</th>\n",
       "      <th>COMPANY_NAME</th>\n",
       "      <th>COMMENT</th>\n",
       "      <th>DATA_SOURCE</th>\n",
       "    </tr>\n",
       "  </thead>\n",
       "  <tbody>\n",
       "    <tr>\n",
       "      <th>missing_ration</th>\n",
       "      <td>0.0</td>\n",
       "      <td>0.0</td>\n",
       "      <td>0.0</td>\n",
       "      <td>0.5</td>\n",
       "      <td>0.0</td>\n",
       "      <td>0.0</td>\n",
       "    </tr>\n",
       "    <tr>\n",
       "      <th>unique</th>\n",
       "      <td>[JEY, GGY, SHN, RUS, IMN, GIB, GRL, FRO, TUR, F...</td>\n",
       "      <td>[Moderna - mRNA-1273, AstraZeneca - AZD1222, Pf...</td>\n",
       "      <td>[mRNA-1273, AZD1222, Comirnaty, EpiVacCorona, C...</td>\n",
       "      <td>[Moderna, AstraZeneca, Pfizer BioNTech, State R...</td>\n",
       "      <td>[nan]</td>\n",
       "      <td>[OWID, REPORTING]</td>\n",
       "    </tr>\n",
       "    <tr>\n",
       "      <th>nunique</th>\n",
       "      <td>225</td>\n",
       "      <td>25</td>\n",
       "      <td>24</td>\n",
       "      <td>19</td>\n",
       "      <td>1</td>\n",
       "      <td>2</td>\n",
       "    </tr>\n",
       "  </tbody>\n",
       "</table>\n",
       "</div>"
      ],
      "text/plain": [
       "                                                              ISO3  \\\n",
       "missing_ration                                                 0.0   \n",
       "unique          [JEY, GGY, SHN, RUS, IMN, GIB, GRL, FRO, TUR, F...   \n",
       "nunique                                                        225   \n",
       "\n",
       "                                                      VACCINE_NAME  \\\n",
       "missing_ration                                                 0.0   \n",
       "unique          [Moderna - mRNA-1273, AstraZeneca - AZD1222, Pf...   \n",
       "nunique                                                         25   \n",
       "\n",
       "                                                      PRODUCT_NAME  \\\n",
       "missing_ration                                                 0.0   \n",
       "unique          [mRNA-1273, AZD1222, Comirnaty, EpiVacCorona, C...   \n",
       "nunique                                                         24   \n",
       "\n",
       "                                                      COMPANY_NAME COMMENT  \\\n",
       "missing_ration                                                 0.5     0.0   \n",
       "unique          [Moderna, AstraZeneca, Pfizer BioNTech, State R...   [nan]   \n",
       "nunique                                                         19       1   \n",
       "\n",
       "                      DATA_SOURCE  \n",
       "missing_ration                0.0  \n",
       "unique          [OWID, REPORTING]  \n",
       "nunique                         2  "
      ]
     },
     "execution_count": 52,
     "metadata": {},
     "output_type": "execute_result"
    }
   ],
   "source": [
    "pd.set_option(\"display.max_colwidth\",51)\n",
    "categorical_df = metavaccin_df.select_dtypes(['object'])\n",
    "categorical_df.agg([missing_ration,pd.Series.unique,pd.Series.nunique])"
   ]
  },
  {
   "cell_type": "markdown",
   "id": "b76d45e4-505c-40b8-8b9a-0fa5a222775b",
   "metadata": {},
   "source": [
    "Vẽ `barh chart` cho top 10 `COMPANY_NAME`"
   ]
  },
  {
   "cell_type": "code",
   "execution_count": 53,
   "id": "f9c43c54-2fe9-411e-af2c-138145360c66",
   "metadata": {
    "scrolled": true
   },
   "outputs": [
    {
     "data": {
      "image/png": "[encoded data removed]",
      "text/plain": [
       "<Figure size 432x288 with 1 Axes>"
      ]
     },
     "metadata": {
      "needs_background": "light"
     },
     "output_type": "display_data"
    }
   ],
   "source": [
    "metavaccin_df['COMPANY_NAME'].value_counts(normalize=True).head(10).plot.barh()\n",
    "plt.xlabel('Số quốc gia')\n",
    "plt.title('Số quốc gia sử dụng các vaccin phổ biến');"
   ]
  },
  {
   "cell_type": "markdown",
   "id": "3a2ebc36-b6da-4faa-ad9b-077f3bbf5b37",
   "metadata": {},
   "source": [
    "`Bar chart` này cho thấy sự hợp lí khi Pfizer BioNTech và AstraZeneca tiếp tục đứng đầu."
   ]
  },
  {
   "cell_type": "markdown",
   "id": "ede05aae",
   "metadata": {},
   "source": [
    "---\n",
    "\n",
    "# Đưa ra các câu hỏi cần trả lời"
   ]
  },
  {
   "cell_type": "markdown",
   "id": "ade597d7",
   "metadata": {},
   "source": [
    "Sau khi khám phá để hiểu hơn về dữ liệu cùng như tin tức qua mạng xã hội, báo chí,... Ta có một vài vấn đề cần kiểm chứng và đi sâu hơn vào khám phá: \n",
    "- Năm `2020` là năm mà đại dịch covid-19 lây lan nhanh chóng ở các quốc gia ở `Châu Âu, Mỹ Latin` trước khi vacxin được phổ biến và dịch bệnh tạm kiềm chế vào đầu năm 2021. \n",
    "- Trong khi đó, năm `2021` lại là năm mà dịch covid-19 lây lan với mức độ khủng khiếp ở các nước `châu Á`.\n",
    "- Mỹ là quốc gia có số ca nhiễm và tử vong cao nhất; tiếp đến là Ấn Độ, Brazil...\n",
    "- Dịch bệnh covid_19 có khả năng bùng phát mạnh vào mùa lạnh.\n",
    "- Dịch bệnh covid_19 ở Việt Nam trong giai đoạn 4 bùng phát rất mạnh, tính từ 05/2021"
   ]
  },
  {
   "cell_type": "markdown",
   "id": "cff88771",
   "metadata": {},
   "source": [
    "Vậy ta sẽ trả lời những câu hỏi sau để kiểm chứng những nhận định trên:\n",
    "\n",
    ">1. Tình hình dịch bệnh ở các khu vực trên thế giới trong hai năm 2020,2021.\n",
    ">2. Tình hình dịch bệnh ở nước có số ca nhiễm cao nhất thế giới, cao thứ hai thế giới,...\\\n",
    "Xác định đỉnh điểm của dịch tại các quốc gia trên rồi liên hệ với điều kiện khí hậu tại thời điểm đó.\n",
    ">3. Tình hình dịch bệnh ở Việt Nam thay đổi như thế nào đến trước và sau `01/05/2021`. "
   ]
  },
  {
   "cell_type": "markdown",
   "id": "3b3faf4c",
   "metadata": {},
   "source": [
    "---\n",
    "## Tiền xử lý\n",
    "\n",
    "- Tỉ số <font size = '4'>$\\frac{\\text{total_deaths}}{\\text{total_ cases}}$</font> rất quan trọng trong việc đánh giá mức độ ảnh hưởng của dịch bệnh covid-19 tới một quốc gia. Ta sẽ thêm vào DataFrame `global_table_df` cột `covid_rating`.\n",
    "\n",
    "\n",
    "- Đối với quốc gia chưa có ca nhiễm hay tử vong thì tỉ lệ này là `NaN` nên chúng ta sé gán lại bằng 0."
   ]
  },
  {
   "cell_type": "code",
   "execution_count": 54,
   "id": "32f8d7a4",
   "metadata": {},
   "outputs": [],
   "source": [
    "global_table_df['covid_rating'] = (global_table_df['Deaths - cumulative total'] \\\n",
    "                                 / global_table_df['Cases - cumulative total']) * 100\n",
    "\n",
    "global_table_df.loc[global_table_df['covid_rating'].isna(),'covid_rating'] = 0"
   ]
  },
  {
   "cell_type": "markdown",
   "id": "bc95eeaa",
   "metadata": {},
   "source": [
    "---\n",
    "## 1. Tình hình dịch bệnh ở các khu vực trên thế giới trong hai năm 2020, 2021 ?\n",
    "\n",
    "\n",
    "Để trả lời câu hỏi này, ta có các bước sau:\n",
    "- Bước 1: Thêm cột `Year` vào DataFrame `global_df`\n",
    "- Bước 2: merge WHO Region 2 DataFrame `global_df` và `global_table_df` theo tên quốc gia. WHO Region rút gọn sẽ gây khó hiểu cho người đọc.\n",
    "- Bước 3: Lưu vào dataframe `areas_covid_19` gồm 7 dòng và 4 cột. \n",
    "    - Mỗi dòng tương ứng với 1 khu vực theo phân chia của WHO\n",
    "    - Mỗi cột tương ứng là số ca mắc mới và số ca tử vong của từng khu vực trong 2 năm 2020, 2021\n",
    "- Bước 4: Vẽ bar chart `tỉ lệ %` từng khu vực theo số ca nhiễm và tử vong, từ đó đưa ra nhận xét"
   ]
  },
  {
   "cell_type": "markdown",
   "id": "bca282d1",
   "metadata": {},
   "source": [
    "**Code bước 1**"
   ]
  },
  {
   "cell_type": "code",
   "execution_count": 55,
   "id": "518a94c7",
   "metadata": {},
   "outputs": [],
   "source": [
    "Year = global_df[\"Date_reported\"].dt.year\n",
    "global_df[\"Year\"] = Year"
   ]
  },
  {
   "cell_type": "markdown",
   "id": "ffe15979",
   "metadata": {},
   "source": [
    "**Code bước 2**"
   ]
  },
  {
   "cell_type": "code",
   "execution_count": 56,
   "id": "319bfe51",
   "metadata": {},
   "outputs": [],
   "source": [
    "df1 = global_df[['Country','WHO_region','Year','New_cases','New_deaths']]\n",
    "df2 = global_table_df[['WHO Region']]\n",
    "\n",
    "# merge theo cột 'Name' của global_table_df và cột 'Country' của global_df\n",
    "df = df2.merge(df1,left_on = 'Name',right_on = 'Country').drop(columns = ['WHO_region'])"
   ]
  },
  {
   "cell_type": "markdown",
   "id": "172b710e",
   "metadata": {},
   "source": [
    "**Code bước 3**"
   ]
  },
  {
   "cell_type": "code",
   "execution_count": 57,
   "id": "2ee1537d",
   "metadata": {
    "scrolled": true
   },
   "outputs": [
    {
     "data": {
      "text/html": [
       "<div>\n",
       "<style scoped>\n",
       "    .dataframe tbody tr th:only-of-type {\n",
       "        vertical-align: middle;\n",
       "    }\n",
       "\n",
       "    .dataframe tbody tr th {\n",
       "        vertical-align: top;\n",
       "    }\n",
       "\n",
       "    .dataframe thead tr th {\n",
       "        text-align: left;\n",
       "    }\n",
       "\n",
       "    .dataframe thead tr:last-of-type th {\n",
       "        text-align: right;\n",
       "    }\n",
       "</style>\n",
       "<table border=\"1\" class=\"dataframe\">\n",
       "  <thead>\n",
       "    <tr>\n",
       "      <th></th>\n",
       "      <th colspan=\"2\" halign=\"left\">New_cases</th>\n",
       "      <th colspan=\"2\" halign=\"left\">New_deaths</th>\n",
       "    </tr>\n",
       "    <tr>\n",
       "      <th>Year</th>\n",
       "      <th>2020</th>\n",
       "      <th>2021</th>\n",
       "      <th>2020</th>\n",
       "      <th>2021</th>\n",
       "    </tr>\n",
       "    <tr>\n",
       "      <th>WHO Region</th>\n",
       "      <th></th>\n",
       "      <th></th>\n",
       "      <th></th>\n",
       "      <th></th>\n",
       "    </tr>\n",
       "  </thead>\n",
       "  <tbody>\n",
       "    <tr>\n",
       "      <th>Africa</th>\n",
       "      <td>1895471.0</td>\n",
       "      <td>4421390.0</td>\n",
       "      <td>42211.0</td>\n",
       "      <td>110942.0</td>\n",
       "    </tr>\n",
       "    <tr>\n",
       "      <th>Americas</th>\n",
       "      <td>35734517.0</td>\n",
       "      <td>61591564.0</td>\n",
       "      <td>951786.0</td>\n",
       "      <td>1403842.0</td>\n",
       "    </tr>\n",
       "    <tr>\n",
       "      <th>Eastern Mediterranean</th>\n",
       "      <td>4912291.0</td>\n",
       "      <td>11902799.0</td>\n",
       "      <td>120880.0</td>\n",
       "      <td>189320.0</td>\n",
       "    </tr>\n",
       "    <tr>\n",
       "      <th>Europe</th>\n",
       "      <td>27235606.0</td>\n",
       "      <td>60951030.0</td>\n",
       "      <td>583057.0</td>\n",
       "      <td>979147.0</td>\n",
       "    </tr>\n",
       "    <tr>\n",
       "      <th>Other</th>\n",
       "      <td>745.0</td>\n",
       "      <td>19.0</td>\n",
       "      <td>13.0</td>\n",
       "      <td>0.0</td>\n",
       "    </tr>\n",
       "    <tr>\n",
       "      <th>South-East Asia</th>\n",
       "      <td>11973259.0</td>\n",
       "      <td>32632558.0</td>\n",
       "      <td>184188.0</td>\n",
       "      <td>524081.0</td>\n",
       "    </tr>\n",
       "    <tr>\n",
       "      <th>Western Pacific</th>\n",
       "      <td>1087675.0</td>\n",
       "      <td>9224698.0</td>\n",
       "      <td>20044.0</td>\n",
       "      <td>123051.0</td>\n",
       "    </tr>\n",
       "  </tbody>\n",
       "</table>\n",
       "</div>"
      ],
      "text/plain": [
       "                        New_cases             New_deaths           \n",
       "Year                         2020        2021       2020       2021\n",
       "WHO Region                                                         \n",
       "Africa                  1895471.0   4421390.0    42211.0   110942.0\n",
       "Americas               35734517.0  61591564.0   951786.0  1403842.0\n",
       "Eastern Mediterranean   4912291.0  11902799.0   120880.0   189320.0\n",
       "Europe                 27235606.0  60951030.0   583057.0   979147.0\n",
       "Other                       745.0        19.0       13.0        0.0\n",
       "South-East Asia        11973259.0  32632558.0   184188.0   524081.0\n",
       "Western Pacific         1087675.0   9224698.0    20044.0   123051.0"
      ]
     },
     "execution_count": 57,
     "metadata": {},
     "output_type": "execute_result"
    }
   ],
   "source": [
    "areas_covid_19 = df.groupby([\"WHO Region\",\"Year\"]).sum()\n",
    "areas_covid_19 = areas_covid_19.unstack(1)\n",
    "areas_covid_19"
   ]
  },
  {
   "cell_type": "markdown",
   "id": "4b84b6c0",
   "metadata": {},
   "source": [
    "**Code bước 4**\n",
    "\n",
    "**1. Vẽ bar chart cho số ca nhiễm mới**"
   ]
  },
  {
   "cell_type": "code",
   "execution_count": 58,
   "id": "90e29aa3",
   "metadata": {},
   "outputs": [
    {
     "data": {
      "image/png": "[encoded data removed]",
      "text/plain": [
       "<Figure size 432x288 with 1 Axes>"
      ]
     },
     "metadata": {
      "needs_background": "light"
     },
     "output_type": "display_data"
    }
   ],
   "source": [
    "x_axis = areas_covid_19.index\n",
    "y_axis_cases = (areas_covid_19.loc[:,('New_cases')] / areas_covid_19.loc[:,('New_cases')].sum()) * 100\n",
    "y_axis_cases.plot.bar()\n",
    "plt.xticks(rotation = 45, horizontalalignment = 'right')\n",
    "plt.ylabel('Percent of new cases ');"
   ]
  },
  {
   "cell_type": "markdown",
   "id": "3d9b853d",
   "metadata": {},
   "source": [
    "**2. Vẽ bar chart cho số ca tử vong**"
   ]
  },
  {
   "cell_type": "code",
   "execution_count": 59,
   "id": "96b101e8",
   "metadata": {
    "scrolled": true
   },
   "outputs": [
    {
     "data": {
      "image/png": "[encoded data removed]",
      "text/plain": [
       "<Figure size 432x288 with 1 Axes>"
      ]
     },
     "metadata": {
      "needs_background": "light"
     },
     "output_type": "display_data"
    }
   ],
   "source": [
    "x_axis = areas_covid_19.index\n",
    "y_axis_deaths = (areas_covid_19.loc[:,('New_deaths')] / areas_covid_19.loc[:,('New_deaths')].sum()) * 100\n",
    "y_axis_deaths.plot.bar()\n",
    "plt.xticks(rotation = 45, horizontalalignment = 'right')\n",
    "plt.ylabel('Percent of new deaths');"
   ]
  },
  {
   "cell_type": "markdown",
   "id": "286e1f9b",
   "metadata": {},
   "source": [
    "Nhận xét: Hình vẽ biễu diễn khá trực quan về sự bùng phát dịch bệnh covid_19 ở từng khu vực trong năm 2020 và 2021\n",
    "- Nhìn chung, năm 2020 đúng là năm dịch bệnh bùng phát mạnh ở châu Mỹ và Châu Âu, trong năm 2020 thì châu Mỹ đã chiếm gần 50% số tử vong và hơn 40 % số ca mắc trên thế giới.\n",
    "- Riêng châu Mỹ thì qua năm 2021, số ca tử vong và ca nhiễm có xu hướng giảm nhưng vẫn còn khá cao so với khu vực khác.\n",
    "- Năm 2021 thì châu Á, đặc biệt khu vực `Đông Nam Á` dịch bệnh bùng phát mạnh. Châu Âu thì tỉ lệ thay đổi không quá nhiều. \n",
    "\n",
    "👍👍👍"
   ]
  },
  {
   "cell_type": "markdown",
   "id": "386c9be5",
   "metadata": {},
   "source": [
    "---\n",
    "## 2. Tình hình dịch covid 19 diễn biến xấu nhất ở những quốc gia nào ? Có mối liên hệ giữa thời gian dịch đạt đỉnh với khí hậu hay không ?\n",
    "\n",
    "Ta chia câu hỏi trên làm 2 phần:\n",
    "- Phần 1: Xác định quốc gia nào có số ca nhiễm cao nhất, quốc gia nào có số ca nhiễm cao nhì,...\n",
    "    - Bước 1: Lưu vào DataFrame `highest_case_country` gồm 10 quốc gia có số ca nhiễm cao nhất. \\\n",
    "      Chúng ta sẽ không xét dòng index `Global` \n",
    "    - Bước 2: Vẽ radar chart `tỉ lệ` các thông số 2 quốc gia đứng đầu, từ đó rút ra nhận xét.\n",
    "        - Chuẩn hoá dữ liệu về tỉ lệ.\n",
    "        - Vẽ `radar chart`.\n",
    "- Phần 2: Xác định đỉnh dịch ở Mỹ và Ấn Độ rồi liên hệ với thời tiết.\n",
    "    - Bước 1: Lưu vào DataFrame `covid_19_monthly`\n",
    "        - Tên dòng phân cấp theo thứ tự: tên quốc gia , Month\n",
    "        - Tên cột phân cấp theo thứ tự: new_cases / new_deaths, Year\n",
    "    - Bước 2: \n",
    "        - Vẽ `line chart` số ca nhiễm mới và số ca tử vong\n",
    "        - Vẽ `pie chart` tỉ lệ số ca nhiễm theo mùa, từ đó rút ra rút ra nhận xét"
   ]
  },
  {
   "cell_type": "markdown",
   "id": "717f4f9f",
   "metadata": {},
   "source": [
    "---\n",
    "### Phần 1: Xác định các quốc gia có số ca nhiễm cao.\n",
    "\n",
    "**Code bước 1**"
   ]
  },
  {
   "cell_type": "code",
   "execution_count": 60,
   "id": "b215b089",
   "metadata": {
    "scrolled": false
   },
   "outputs": [
    {
     "data": {
      "text/html": [
       "<div>\n",
       "<style scoped>\n",
       "    .dataframe tbody tr th:only-of-type {\n",
       "        vertical-align: middle;\n",
       "    }\n",
       "\n",
       "    .dataframe tbody tr th {\n",
       "        vertical-align: top;\n",
       "    }\n",
       "\n",
       "    .dataframe thead th {\n",
       "        text-align: right;\n",
       "    }\n",
       "</style>\n",
       "<table border=\"1\" class=\"dataframe\">\n",
       "  <thead>\n",
       "    <tr style=\"text-align: right;\">\n",
       "      <th></th>\n",
       "      <th>WHO Region</th>\n",
       "      <th>Cases - cumulative total</th>\n",
       "      <th>Cases - cumulative total per 100000 population</th>\n",
       "      <th>Cases - newly reported in last 7 days</th>\n",
       "      <th>Cases - newly reported in last 7 days per 100000 population</th>\n",
       "      <th>Cases - newly reported in last 24 hours</th>\n",
       "      <th>Deaths - cumulative total</th>\n",
       "      <th>Deaths - cumulative total per 100000 population</th>\n",
       "      <th>Deaths - newly reported in last 7 days</th>\n",
       "      <th>Deaths - newly reported in last 7 days per 100000 population</th>\n",
       "      <th>Deaths - newly reported in last 24 hours</th>\n",
       "      <th>covid_rating</th>\n",
       "    </tr>\n",
       "    <tr>\n",
       "      <th>Name</th>\n",
       "      <th></th>\n",
       "      <th></th>\n",
       "      <th></th>\n",
       "      <th></th>\n",
       "      <th></th>\n",
       "      <th></th>\n",
       "      <th></th>\n",
       "      <th></th>\n",
       "      <th></th>\n",
       "      <th></th>\n",
       "      <th></th>\n",
       "      <th></th>\n",
       "    </tr>\n",
       "  </thead>\n",
       "  <tbody>\n",
       "    <tr>\n",
       "      <th>United States of America</th>\n",
       "      <td>Americas</td>\n",
       "      <td>48413265</td>\n",
       "      <td>14626.247</td>\n",
       "      <td>605870</td>\n",
       "      <td>183.041</td>\n",
       "      <td>131187</td>\n",
       "      <td>778336</td>\n",
       "      <td>235.145</td>\n",
       "      <td>6388</td>\n",
       "      <td>1.930</td>\n",
       "      <td>1831</td>\n",
       "      <td>1.607692</td>\n",
       "    </tr>\n",
       "    <tr>\n",
       "      <th>India</th>\n",
       "      <td>South-East Asia</td>\n",
       "      <td>34615757</td>\n",
       "      <td>2508.380</td>\n",
       "      <td>60326</td>\n",
       "      <td>4.371</td>\n",
       "      <td>9216</td>\n",
       "      <td>470115</td>\n",
       "      <td>34.066</td>\n",
       "      <td>2647</td>\n",
       "      <td>0.192</td>\n",
       "      <td>391</td>\n",
       "      <td>1.358095</td>\n",
       "    </tr>\n",
       "    <tr>\n",
       "      <th>Brazil</th>\n",
       "      <td>Americas</td>\n",
       "      <td>22105872</td>\n",
       "      <td>10399.855</td>\n",
       "      <td>62760</td>\n",
       "      <td>29.526</td>\n",
       "      <td>11413</td>\n",
       "      <td>614964</td>\n",
       "      <td>289.314</td>\n",
       "      <td>1625</td>\n",
       "      <td>0.764</td>\n",
       "      <td>283</td>\n",
       "      <td>2.781903</td>\n",
       "    </tr>\n",
       "    <tr>\n",
       "      <th>The United Kingdom</th>\n",
       "      <td>Europe</td>\n",
       "      <td>10329078</td>\n",
       "      <td>15215.328</td>\n",
       "      <td>307577</td>\n",
       "      <td>453.079</td>\n",
       "      <td>53067</td>\n",
       "      <td>145281</td>\n",
       "      <td>214.007</td>\n",
       "      <td>848</td>\n",
       "      <td>1.249</td>\n",
       "      <td>141</td>\n",
       "      <td>1.406524</td>\n",
       "    </tr>\n",
       "    <tr>\n",
       "      <th>Russian Federation</th>\n",
       "      <td>Europe</td>\n",
       "      <td>9736037</td>\n",
       "      <td>6671.513</td>\n",
       "      <td>233158</td>\n",
       "      <td>159.769</td>\n",
       "      <td>32930</td>\n",
       "      <td>278857</td>\n",
       "      <td>191.084</td>\n",
       "      <td>8565</td>\n",
       "      <td>5.869</td>\n",
       "      <td>1217</td>\n",
       "      <td>2.864174</td>\n",
       "    </tr>\n",
       "  </tbody>\n",
       "</table>\n",
       "</div>"
      ],
      "text/plain": [
       "                               WHO Region  Cases - cumulative total  \\\n",
       "Name                                                                  \n",
       "United States of America         Americas                  48413265   \n",
       "India                     South-East Asia                  34615757   \n",
       "Brazil                           Americas                  22105872   \n",
       "The United Kingdom                 Europe                  10329078   \n",
       "Russian Federation                 Europe                   9736037   \n",
       "\n",
       "                          Cases - cumulative total per 100000 population  \\\n",
       "Name                                                                       \n",
       "United States of America                                       14626.247   \n",
       "India                                                           2508.380   \n",
       "Brazil                                                         10399.855   \n",
       "The United Kingdom                                             15215.328   \n",
       "Russian Federation                                              6671.513   \n",
       "\n",
       "                          Cases - newly reported in last 7 days  \\\n",
       "Name                                                              \n",
       "United States of America                                 605870   \n",
       "India                                                     60326   \n",
       "Brazil                                                    62760   \n",
       "The United Kingdom                                       307577   \n",
       "Russian Federation                                       233158   \n",
       "\n",
       "                          Cases - newly reported in last 7 days per 100000 population  \\\n",
       "Name                                                                                    \n",
       "United States of America                                             183.041            \n",
       "India                                                                  4.371            \n",
       "Brazil                                                                29.526            \n",
       "The United Kingdom                                                   453.079            \n",
       "Russian Federation                                                   159.769            \n",
       "\n",
       "                          Cases - newly reported in last 24 hours  \\\n",
       "Name                                                                \n",
       "United States of America                                   131187   \n",
       "India                                                        9216   \n",
       "Brazil                                                      11413   \n",
       "The United Kingdom                                          53067   \n",
       "Russian Federation                                          32930   \n",
       "\n",
       "                          Deaths - cumulative total  \\\n",
       "Name                                                  \n",
       "United States of America                     778336   \n",
       "India                                        470115   \n",
       "Brazil                                       614964   \n",
       "The United Kingdom                           145281   \n",
       "Russian Federation                           278857   \n",
       "\n",
       "                          Deaths - cumulative total per 100000 population  \\\n",
       "Name                                                                        \n",
       "United States of America                                          235.145   \n",
       "India                                                              34.066   \n",
       "Brazil                                                            289.314   \n",
       "The United Kingdom                                                214.007   \n",
       "Russian Federation                                                191.084   \n",
       "\n",
       "                          Deaths - newly reported in last 7 days  \\\n",
       "Name                                                               \n",
       "United States of America                                    6388   \n",
       "India                                                       2647   \n",
       "Brazil                                                      1625   \n",
       "The United Kingdom                                           848   \n",
       "Russian Federation                                          8565   \n",
       "\n",
       "                          Deaths - newly reported in last 7 days per 100000 population  \\\n",
       "Name                                                                                     \n",
       "United States of America                                               1.930             \n",
       "India                                                                  0.192             \n",
       "Brazil                                                                 0.764             \n",
       "The United Kingdom                                                     1.249             \n",
       "Russian Federation                                                     5.869             \n",
       "\n",
       "                          Deaths - newly reported in last 24 hours  \\\n",
       "Name                                                                 \n",
       "United States of America                                      1831   \n",
       "India                                                          391   \n",
       "Brazil                                                         283   \n",
       "The United Kingdom                                             141   \n",
       "Russian Federation                                            1217   \n",
       "\n",
       "                          covid_rating  \n",
       "Name                                    \n",
       "United States of America      1.607692  \n",
       "India                         1.358095  \n",
       "Brazil                        2.781903  \n",
       "The United Kingdom            1.406524  \n",
       "Russian Federation            2.864174  "
      ]
     },
     "execution_count": 60,
     "metadata": {},
     "output_type": "execute_result"
    }
   ],
   "source": [
    "highest_case_country = global_table_df.drop(index = ['Global'])\n",
    "highest_case_country = highest_case_country.sort_values(by = ['Cases - cumulative total'],\n",
    "                                                        ascending = False).head(10)\n",
    "highest_case_country.head(5)"
   ]
  },
  {
   "cell_type": "markdown",
   "id": "54734af3",
   "metadata": {},
   "source": [
    "- Có thể thấy 3 quốc gia đứng đầu về số ca mắc lần lượt là `Mỹ`, `Ấn Độ` và `Brazil`. 👍👍👍\n",
    "- Brazil và Russian có số ca nhiễm thấp hơn nhưng tỉ lệ tử vong lại rất cao. 😥😥😥"
   ]
  },
  {
   "cell_type": "markdown",
   "id": "0e261227",
   "metadata": {},
   "source": [
    "**Code bước 2**\n",
    "\n",
    "1. Chuẩn bị dữ liệu và chuẩn hoá về tỉ lệ"
   ]
  },
  {
   "cell_type": "code",
   "execution_count": 61,
   "id": "25444f36",
   "metadata": {
    "scrolled": true
   },
   "outputs": [],
   "source": [
    "# tên các cột cần cột xét\n",
    "categorical = ['Cases - total', 'Cases - last 7days', \n",
    "               'Cases - last 24h','Deaths - total', \n",
    "               'Deaths - last 7days','Deaths - last 24h','Covid_rating']\n",
    "\n",
    "# dữ liệu cần xét\n",
    "data = highest_case_country.head(2)[['Cases - cumulative total',\n",
    "                                     'Cases - newly reported in last 7 days',\n",
    "                                     'Cases - newly reported in last 24 hours',\n",
    "                                     'Deaths - cumulative total',\n",
    "                                     'Deaths - newly reported in last 7 days',\n",
    "                                     'Deaths - newly reported in last 24 hours',\n",
    "                                     'covid_rating']]\n",
    "\n",
    "# chuẩn hoá các cột về tỉ lệ  \n",
    "data /= data.sum(axis = 0)\n",
    "\n",
    "# tạo ra các cung tròn bằng nhau để vẽ radar chart\n",
    "angles = [n / float(len(categorical)) * 2 * math.pi for n in range(len(categorical))]\n",
    "angles += angles[:1] # đường cuối của radar chart\n",
    "\n",
    "scale_America = data.iloc[0].values.tolist()\n",
    "scale_America.append(scale_America[0])  # thêm đường cuối của radar chart\n",
    "scale_India = data.iloc[1].values.tolist()\n",
    "scale_India.append(scale_India[0])"
   ]
  },
  {
   "cell_type": "markdown",
   "id": "493e19b0",
   "metadata": {},
   "source": [
    "2. Vẽ radar chart"
   ]
  },
  {
   "cell_type": "code",
   "execution_count": 62,
   "id": "523ce4a8",
   "metadata": {},
   "outputs": [
    {
     "data": {
      "image/png": "[encoded data removed]",
      "text/plain": [
       "<Figure size 432x432 with 1 Axes>"
      ]
     },
     "metadata": {
      "needs_background": "light"
     },
     "output_type": "display_data"
    }
   ],
   "source": [
    "# tạo khung tròn kích thước 6x6\n",
    "fig, ax = plt.subplots(nrows=1, ncols=1, figsize=(6, 6),\n",
    "                       subplot_kw = dict(polar=True))\n",
    "# Figure 1: \n",
    "# draw\n",
    "ax.plot(angles,scale_America,linewidth = 1,\n",
    "       linestyle = 'solid' , label = 'America')\n",
    "# fill màu\n",
    "ax.fill(angles, scale_America, 'skyblue', alpha=0.4)\n",
    "\n",
    "# Figure 2:\n",
    "# draw\n",
    "ax.plot(angles,scale_India,linewidth = 1,\n",
    "       linestyle = 'solid' , label = 'India')\n",
    "# fill màu\n",
    "ax.fill(angles, scale_India, 'lightpink', alpha=0.4)\n",
    "\n",
    "# setup\n",
    "plt.ylim(0, 1)\n",
    "plt.xticks(angles[:-1], categorical,\n",
    "           color='black', size = 11)\n",
    "plt.legend( bbox_to_anchor = (0,1),   # bbox_to_anchor set possion of legend\n",
    "            prop={'size': 12})        # set size of legend\n",
    "ax.set_rlabel_position(30)            # set rotation of label scale\n",
    "\n",
    "plt.show()"
   ]
  },
  {
   "cell_type": "markdown",
   "id": "1b17ccc2",
   "metadata": {},
   "source": [
    "**Nhận xét:**\n",
    "- Các thông số của Mỹ đều `rất cao` và `phân bố khá đều` ở tất cả các thông số so với Ấn Độ.\n",
    "- Trong khi đó, Ấn Độ lại lệch về `tổng số ca nhiễm` và các thông số về `số ca tử vong`.\n",
    "- Tỉ lệ tử vong của Ấn Độ khá cao, gần xấp xỉ với Mỹ mặc dù Mỹ có số ca nhiễm, số ca tử vong cao hơn."
   ]
  },
  {
   "cell_type": "markdown",
   "id": "04e1bdc8",
   "metadata": {},
   "source": [
    "---\n",
    "### Phần 2: Xác định đỉnh dịch tại Mỹ và Ấn Độ\n",
    "\n",
    "**Code bước 1**"
   ]
  },
  {
   "cell_type": "code",
   "execution_count": 63,
   "id": "cfa9f49f",
   "metadata": {
    "scrolled": true
   },
   "outputs": [
    {
     "data": {
      "text/html": [
       "<div>\n",
       "<style scoped>\n",
       "    .dataframe tbody tr th:only-of-type {\n",
       "        vertical-align: middle;\n",
       "    }\n",
       "\n",
       "    .dataframe tbody tr th {\n",
       "        vertical-align: top;\n",
       "    }\n",
       "\n",
       "    .dataframe thead tr th {\n",
       "        text-align: left;\n",
       "    }\n",
       "\n",
       "    .dataframe thead tr:last-of-type th {\n",
       "        text-align: right;\n",
       "    }\n",
       "</style>\n",
       "<table border=\"1\" class=\"dataframe\">\n",
       "  <thead>\n",
       "    <tr>\n",
       "      <th></th>\n",
       "      <th></th>\n",
       "      <th colspan=\"2\" halign=\"left\">New_cases</th>\n",
       "      <th colspan=\"2\" halign=\"left\">New_deaths</th>\n",
       "    </tr>\n",
       "    <tr>\n",
       "      <th></th>\n",
       "      <th>Year</th>\n",
       "      <th>2020</th>\n",
       "      <th>2021</th>\n",
       "      <th>2020</th>\n",
       "      <th>2021</th>\n",
       "    </tr>\n",
       "    <tr>\n",
       "      <th>Country</th>\n",
       "      <th>Month</th>\n",
       "      <th></th>\n",
       "      <th></th>\n",
       "      <th></th>\n",
       "      <th></th>\n",
       "    </tr>\n",
       "  </thead>\n",
       "  <tbody>\n",
       "    <tr>\n",
       "      <th rowspan=\"5\" valign=\"top\">India</th>\n",
       "      <th>1</th>\n",
       "      <td>5.0</td>\n",
       "      <td>479509.0</td>\n",
       "      <td>0.0</td>\n",
       "      <td>5536.0</td>\n",
       "    </tr>\n",
       "    <tr>\n",
       "      <th>2</th>\n",
       "      <td>2.0</td>\n",
       "      <td>350548.0</td>\n",
       "      <td>0.0</td>\n",
       "      <td>2777.0</td>\n",
       "    </tr>\n",
       "    <tr>\n",
       "      <th>3</th>\n",
       "      <td>1244.0</td>\n",
       "      <td>1052604.0</td>\n",
       "      <td>32.0</td>\n",
       "      <td>5417.0</td>\n",
       "    </tr>\n",
       "    <tr>\n",
       "      <th>4</th>\n",
       "      <td>31799.0</td>\n",
       "      <td>6613641.0</td>\n",
       "      <td>1042.0</td>\n",
       "      <td>45862.0</td>\n",
       "    </tr>\n",
       "    <tr>\n",
       "      <th>5</th>\n",
       "      <td>149093.0</td>\n",
       "      <td>9284558.0</td>\n",
       "      <td>4090.0</td>\n",
       "      <td>120770.0</td>\n",
       "    </tr>\n",
       "  </tbody>\n",
       "</table>\n",
       "</div>"
      ],
      "text/plain": [
       "              New_cases            New_deaths          \n",
       "Year               2020       2021       2020      2021\n",
       "Country Month                                          \n",
       "India   1           5.0   479509.0        0.0    5536.0\n",
       "        2           2.0   350548.0        0.0    2777.0\n",
       "        3        1244.0  1052604.0       32.0    5417.0\n",
       "        4       31799.0  6613641.0     1042.0   45862.0\n",
       "        5      149093.0  9284558.0     4090.0  120770.0"
      ]
     },
     "execution_count": 63,
     "metadata": {},
     "output_type": "execute_result"
    }
   ],
   "source": [
    "df = global_df[(global_df['Country'] == 'United States of America') \n",
    "               | (global_df['Country'] == 'India')]\n",
    "\n",
    "df = df[['Country','New_cases','New_deaths','Month','Year']]\n",
    "df = df.groupby(['Country','Year','Month']).sum()\n",
    "covid_19_monthly = df.unstack(level = 1)\n",
    "\n",
    "covid_19_monthly.head(5)"
   ]
  },
  {
   "cell_type": "markdown",
   "id": "d94891ba",
   "metadata": {},
   "source": [
    "**Code bước 2**\n",
    "\n",
    "#### 1. Tại Mỹ"
   ]
  },
  {
   "cell_type": "code",
   "execution_count": 64,
   "id": "83b084e4",
   "metadata": {
    "scrolled": true
   },
   "outputs": [
    {
     "data": {
      "image/png": "[encoded data removed]",
      "text/plain": [
       "<Figure size 864x288 with 2 Axes>"
      ]
     },
     "metadata": {
      "needs_background": "light"
     },
     "output_type": "display_data"
    }
   ],
   "source": [
    "fig, axs = plt.subplots(1,2,figsize = (12,4))\n",
    "\n",
    "covid_19_monthly.loc['United States of America', \n",
    "                     ('New_cases',2020)].plot.line(marker = 'o',ax = axs[0])\n",
    "\n",
    "covid_19_monthly.loc['United States of America', \n",
    "                     ('New_cases',2021)].plot.line(marker = 'o',color = 'orange',ax = axs[1])\n",
    "\n",
    "axs[0].set_ylim(0,7e6)\n",
    "axs[1].set_ylim(0,7e6)\n",
    "plt.sca(axs[0])\n",
    "plt.title('Năm 2020')\n",
    "plt.sca(axs[1])\n",
    "plt.title('Năm 2021')\n",
    "plt.suptitle('Số ca nhiễm theo tháng tại Mỹ');"
   ]
  },
  {
   "cell_type": "code",
   "execution_count": 65,
   "id": "212f3dd5",
   "metadata": {
    "scrolled": true
   },
   "outputs": [
    {
     "data": {
      "image/png": "[encoded data removed]",
      "text/plain": [
       "<Figure size 864x288 with 2 Axes>"
      ]
     },
     "metadata": {
      "needs_background": "light"
     },
     "output_type": "display_data"
    }
   ],
   "source": [
    "fig, axs = plt.subplots(1,2,figsize = (12,4))\n",
    "\n",
    "covid_19_monthly.loc['United States of America', \n",
    "                     ('New_deaths',2020)].plot.line(marker = 'o',ax = axs[0])\n",
    "\n",
    "covid_19_monthly.loc['United States of America', \n",
    "                     ('New_deaths',2021)].plot.line(marker = 'o',color = 'orange',ax = axs[1])\n",
    "\n",
    "axs[0].set_ylim(0,1.2e5)\n",
    "axs[1].set_ylim(0,1.2e5)\n",
    "plt.sca(axs[0])\n",
    "plt.title('Năm 2020')\n",
    "plt.sca(axs[1])\n",
    "plt.title('Năm 2021')\n",
    "plt.suptitle('Số ca tử vong theo tháng tại Mỹ');"
   ]
  },
  {
   "cell_type": "markdown",
   "id": "a4ca6e5d",
   "metadata": {},
   "source": [
    "Nhận xét:\n",
    "- Đỉnh dịch ở Mỹ rơi vào khoảng thời gian `11/2020 đến 02/2021`.\n",
    "- Theo thông tin mà em biết thì khoảng thời gian này ở Mỹ rơi vào `cuối thu và mùa đông` <font size = '4'> $\\rightarrow$ </font> Khí hậu rất lạnh. 👍👍👍"
   ]
  },
  {
   "cell_type": "markdown",
   "id": "d57f797e",
   "metadata": {},
   "source": [
    "#### Vẽ pie chart tình hình dịch bệnh tại Mỹ theo mùa\n",
    "\n",
    "Ở Mỹ có 4 mùa:\n",
    "- Mùa xuân: 3-5 <font size = '4'> &#8594;</font> khí hậu ấm áp\n",
    "- Mùa hè: 6-8 <font size = '4'> &#8594;</font> khí hậu nắng nóng\n",
    "- Mùa thu: 9-11 <font size = '4'> &#8594;</font> khí hậu mát mẻ\n",
    "- Mùa đông: 12-2 <font size = '4'> &#8594;</font> khí hậu lạnh"
   ]
  },
  {
   "cell_type": "code",
   "execution_count": 75,
   "id": "c901b4d7",
   "metadata": {
    "scrolled": true
   },
   "outputs": [
    {
     "data": {
      "image/png": "[encoded data removed]",
      "text/plain": [
       "<Figure size 864x432 with 2 Axes>"
      ]
     },
     "metadata": {},
     "output_type": "display_data"
    }
   ],
   "source": [
    "season_df = global_df[(global_df['Country'] == 'United States of America')]\n",
    "season_df = season_df[['New_cases','New_deaths','Month']]\n",
    "\n",
    "season_df.loc[(season_df['Month'] >= 3) & (season_df['Month'] < 6),['season']] = 'Spring'\n",
    "season_df.loc[(season_df['Month'] >= 6) & (season_df['Month'] < 9),['season']] = 'Summer'\n",
    "season_df.loc[(season_df['Month'] >= 9) & (season_df['Month'] < 12),['season']] = 'Autumn'\n",
    "season_df.loc[(season_df['Month'] >= 12) | (season_df['Month'] < 3),['season']] = 'Winter'\n",
    "\n",
    "season_df = season_df.drop(columns= ['Month'])\n",
    "season_df = season_df.groupby('season').sum()\n",
    "season_df.plot.pie(subplots = True, figsize = (12,6),autopct='%.2f')\n",
    "plt.title('Thống kê dịch covid-19 theo mùa ở Mỹ');"
   ]
  },
  {
   "cell_type": "markdown",
   "id": "53237b13",
   "metadata": {},
   "source": [
    "Nhận xét: \n",
    "- Dịch bệnh ở Mỹ bùng phát mạnh vào mùa thu đông, đặc biệt là vào mùa đông."
   ]
  },
  {
   "cell_type": "markdown",
   "id": "4ef9f28d",
   "metadata": {},
   "source": [
    "#### 2. Tại Ấn Độ"
   ]
  },
  {
   "cell_type": "code",
   "execution_count": 67,
   "id": "87ea941a",
   "metadata": {},
   "outputs": [
    {
     "data": {
      "image/png": "[encoded data removed]",
      "text/plain": [
       "<Figure size 864x288 with 2 Axes>"
      ]
     },
     "metadata": {
      "needs_background": "light"
     },
     "output_type": "display_data"
    }
   ],
   "source": [
    "fig, axs = plt.subplots(1,2,figsize = (12,4))\n",
    "\n",
    "covid_19_monthly.loc['India', \n",
    "                     ('New_cases',2020)].plot.line(marker = 'o',ax = axs[0])\n",
    "\n",
    "covid_19_monthly.loc['India', \n",
    "                     ('New_cases',2021)].plot.line(marker = 'o',color = 'orange',ax = axs[1])\n",
    "\n",
    "axs[0].set_ylim(0,1e7)\n",
    "axs[1].set_ylim(0,1e7)\n",
    "plt.sca(axs[0])\n",
    "plt.title('Năm 2020')\n",
    "plt.sca(axs[1])\n",
    "plt.title('Năm 2021')\n",
    "plt.suptitle('Số ca nhiễm theo tháng tại Ấn Độ');"
   ]
  },
  {
   "cell_type": "code",
   "execution_count": 68,
   "id": "79dec8b9",
   "metadata": {
    "scrolled": true
   },
   "outputs": [
    {
     "data": {
      "image/png": "[encoded data removed]",
      "text/plain": [
       "<Figure size 864x288 with 2 Axes>"
      ]
     },
     "metadata": {
      "needs_background": "light"
     },
     "output_type": "display_data"
    }
   ],
   "source": [
    "fig, axs = plt.subplots(1,2,figsize = (12,4))\n",
    "\n",
    "covid_19_monthly.loc['India', \n",
    "                     ('New_deaths',2020)].plot.line(marker = 'o',ax = axs[0])\n",
    "\n",
    "covid_19_monthly.loc['India', \n",
    "                     ('New_deaths',2021)].plot.line(marker = 'o',color = 'orange',ax = axs[1])\n",
    "\n",
    "axs[0].set_ylim(0,1.2e5)\n",
    "axs[1].set_ylim(0,1.2e5)\n",
    "plt.sca(axs[0])\n",
    "plt.title('Năm 2020')\n",
    "plt.sca(axs[1])\n",
    "plt.title('Năm 2021')\n",
    "plt.suptitle('Số ca tử vong theo tháng tại Ấn Độ');"
   ]
  },
  {
   "cell_type": "markdown",
   "id": "31ba8921",
   "metadata": {},
   "source": [
    "Nhận xét:\n",
    "- Đỉnh dịch tại Ấn Độ rơi vào khoảng thời gian `04/2021 đến 06/2021`.\n",
    "- Tại Ấn Độ thì đây đang là mùa hè <font size = '4'> &#8594;</font> Khí hậu rất nóng.\n",
    "- Như vậy nhận định covid-19 phát triễn mạnh trong thời tiết lạnh chưa đúng cho Ấn Độ. Nhưng em nghĩ giữa covid-19 và thời tiết vẫn có mối liên hệ nhất định."
   ]
  },
  {
   "cell_type": "markdown",
   "id": "8e83fe3b",
   "metadata": {},
   "source": [
    "#### Vẽ pie chart tình hình covid-19 theo mùa ở Ấn Độ"
   ]
  },
  {
   "cell_type": "markdown",
   "id": "190f1c02",
   "metadata": {},
   "source": [
    "Ở Ấn Độ có 4 mùa:\n",
    "- Mùa đông: 12-2 <font size = '4'> &#8594;</font> khí hậu khá lạnh\n",
    "- Mùa hè: 3-5 <font size = '4'> &#8594;</font> khí hậu nắng nóng\n",
    "- Mùa mưa: 6-8 <font size = '4'> &#8594;</font> mưa nhiều, khá mát mẻ\n",
    "- Mùa hậu mưa: 9-11 <font size = '4'> &#8594;</font> khí hậu mát mẻ"
   ]
  },
  {
   "cell_type": "code",
   "execution_count": 69,
   "id": "2154d1c0",
   "metadata": {},
   "outputs": [
    {
     "data": {
      "image/png": "[encoded data removed]",
      "text/plain": [
       "<Figure size 864x432 with 2 Axes>"
      ]
     },
     "metadata": {},
     "output_type": "display_data"
    }
   ],
   "source": [
    "season_df = global_df[(global_df['Country'] == 'India')]\n",
    "season_df = season_df[['New_cases','New_deaths','Month']]\n",
    "\n",
    "season_df.loc[(season_df['Month'] >= 3) & (season_df['Month'] < 6),['season']] = 'Summer'\n",
    "season_df.loc[(season_df['Month'] >= 6) & (season_df['Month'] < 9),['season']] = 'Rainy'\n",
    "season_df.loc[(season_df['Month'] >= 9) & (season_df['Month'] < 12),['season']] = 'Post-Rainy'\n",
    "season_df.loc[(season_df['Month'] >= 12) | (season_df['Month'] < 3),['season']] = 'Winter'\n",
    "\n",
    "season_df = season_df.drop(columns= ['Month'])\n",
    "season_df = season_df.groupby('season').sum()\n",
    "season_df.plot.pie(subplots = True, figsize = (12,6),autopct='%.2f')\n",
    "plt.title('Thống kê dịch covid-19 theo mùa ở Ấn Độ');"
   ]
  },
  {
   "cell_type": "markdown",
   "id": "d386c6df",
   "metadata": {},
   "source": [
    "Nhận xét:\n",
    "- Khác với Mỹ, số ca nhiễm và tử vong ở Ấn Độ bùng phát mạnh vào mùa hè.\n",
    "\n",
    "#### Dưới đây là một số nguyên nhân dịch bệnh bùng phát ở Ấn Độ do chúng em tìm hiểu và đưa ra:\n",
    "- Dịch bệnh covid-19 biến đổi nhanh chóng để thích ứng với mọi kiểu khí hậu, thời tiết (Delta, Delta-plus,...)\n",
    "- Sự chủ quan của người dân, hằng năm người Ấn Độ sẽ tổ chức `lễ hội tắm sông` Hằng từ `01/04 - 27/04`. 😥😥😥"
   ]
  },
  {
   "cell_type": "markdown",
   "id": "036d51df",
   "metadata": {},
   "source": [
    "---\n",
    "## 3. Tình hình dịch bệnh covid-19 ở Việt Nam trước và sau 5/2021.\n",
    "\n",
    "- Phần 1: Tình hình dịch covid-19 ở Việt Nam. Lưu kết quả vào DataFrame `vietnam_df`gồm\n",
    "    - Các dòng phân cấp theo thứ tự: Year / Month\n",
    "    - Các cột gồm số ca nhiễm mới, số ca tử vong và tỉ lệ tử vong.\n",
    "- Phần 2: Chuẩn bị dữ liệu về tình hình dịch covid-19 ở Việt Nam trước và sau 05/2021.\n",
    "    - Bước 1: Lưu kết quả trước 05/2021 vào DataFrame `before_df`\n",
    "    - Bước 2: Lưu kết quả sau 05/2021 vào DataFrame `after_df`\n",
    "- Phần 3: Trực quan hoá để nhận thấy sự khác biệt giữa 2 giai đoạn này.\n",
    "    - Vẽ `line chart` cho số ca nhiễm và số ca tử vong."
   ]
  },
  {
   "cell_type": "markdown",
   "id": "49255207",
   "metadata": {},
   "source": [
    "### Phần 1: Tình hình dịch covid-19 ở Việt Nam"
   ]
  },
  {
   "cell_type": "code",
   "execution_count": 70,
   "id": "fda00648",
   "metadata": {
    "scrolled": true
   },
   "outputs": [
    {
     "data": {
      "text/html": [
       "<div>\n",
       "<style scoped>\n",
       "    .dataframe tbody tr th:only-of-type {\n",
       "        vertical-align: middle;\n",
       "    }\n",
       "\n",
       "    .dataframe tbody tr th {\n",
       "        vertical-align: top;\n",
       "    }\n",
       "\n",
       "    .dataframe thead th {\n",
       "        text-align: right;\n",
       "    }\n",
       "</style>\n",
       "<table border=\"1\" class=\"dataframe\">\n",
       "  <thead>\n",
       "    <tr style=\"text-align: right;\">\n",
       "      <th></th>\n",
       "      <th></th>\n",
       "      <th>New_cases</th>\n",
       "      <th>New_deaths</th>\n",
       "    </tr>\n",
       "    <tr>\n",
       "      <th>Year</th>\n",
       "      <th>Month</th>\n",
       "      <th></th>\n",
       "      <th></th>\n",
       "    </tr>\n",
       "  </thead>\n",
       "  <tbody>\n",
       "    <tr>\n",
       "      <th rowspan=\"5\" valign=\"top\">2020</th>\n",
       "      <th>1</th>\n",
       "      <td>2.0</td>\n",
       "      <td>0.0</td>\n",
       "    </tr>\n",
       "    <tr>\n",
       "      <th>2</th>\n",
       "      <td>14.0</td>\n",
       "      <td>0.0</td>\n",
       "    </tr>\n",
       "    <tr>\n",
       "      <th>3</th>\n",
       "      <td>187.0</td>\n",
       "      <td>0.0</td>\n",
       "    </tr>\n",
       "    <tr>\n",
       "      <th>4</th>\n",
       "      <td>67.0</td>\n",
       "      <td>0.0</td>\n",
       "    </tr>\n",
       "    <tr>\n",
       "      <th>5</th>\n",
       "      <td>58.0</td>\n",
       "      <td>0.0</td>\n",
       "    </tr>\n",
       "  </tbody>\n",
       "</table>\n",
       "</div>"
      ],
      "text/plain": [
       "            New_cases  New_deaths\n",
       "Year Month                       \n",
       "2020 1            2.0         0.0\n",
       "     2           14.0         0.0\n",
       "     3          187.0         0.0\n",
       "     4           67.0         0.0\n",
       "     5           58.0         0.0"
      ]
     },
     "execution_count": 70,
     "metadata": {},
     "output_type": "execute_result"
    }
   ],
   "source": [
    "vietnam_df = global_df.loc[global_df['Country'] == 'Viet Nam',\n",
    "                           ['New_cases','New_deaths','Year','Month']]\n",
    "vietnam_df = vietnam_df.groupby(['Year','Month'])\n",
    "vietnam_df = vietnam_df.sum()\n",
    "vietnam_df.head()"
   ]
  },
  {
   "cell_type": "markdown",
   "id": "ce30df0c",
   "metadata": {},
   "source": [
    "### Phần 2: Chuẩn bị dữ liệu tình hình trước và sau 05/2021."
   ]
  },
  {
   "cell_type": "markdown",
   "id": "2cb2acb1",
   "metadata": {},
   "source": [
    "**Code bước 1**"
   ]
  },
  {
   "cell_type": "code",
   "execution_count": 71,
   "id": "00fbb193",
   "metadata": {},
   "outputs": [
    {
     "name": "stdout",
     "output_type": "stream",
     "text": [
      "Số ca nhiễm ở Việt Nam trước 05/2021: 2914.0\n",
      "Số ca tử vong ở Việt Nam trước 05/2021: 35.0\n",
      "Tỷ lệ tử vong ở Việt Name trước 05/2021: 1.2 %\n"
     ]
    }
   ],
   "source": [
    "before_df = vietnam_df.loc[vietnam_df.index < (2021,5)]\n",
    "before_cases = before_df['New_cases'].sum()\n",
    "before_deaths = before_df['New_deaths'].sum()\n",
    "before_rating = (before_deaths / before_cases)*100\n",
    "print(f'Số ca nhiễm ở Việt Nam trước 05/2021: {before_cases}')\n",
    "print(f'Số ca tử vong ở Việt Nam trước 05/2021: {before_deaths}')\n",
    "print(f'Tỷ lệ tử vong ở Việt Name trước 05/2021: {before_rating.round(2)} %')"
   ]
  },
  {
   "cell_type": "markdown",
   "id": "342ee546",
   "metadata": {},
   "source": [
    "**Code bước 2**"
   ]
  },
  {
   "cell_type": "code",
   "execution_count": 72,
   "id": "3d8a587c",
   "metadata": {
    "scrolled": true
   },
   "outputs": [
    {
     "name": "stdout",
     "output_type": "stream",
     "text": [
      "Số ca nhiễm ở Việt Nam sau 05/2021: 1263374.0\n",
      "Số ca tử vong ở Việt Nam sau 05/2021: 25623.0\n",
      "Tỷ lệ tử vong ở Việt Nam sau 05/2021: 2.03 %\n"
     ]
    }
   ],
   "source": [
    "after_df = vietnam_df.loc[vietnam_df.index >= (2021,5)]\n",
    "after_cases = after_df['New_cases'].sum()\n",
    "after_deaths = after_df['New_deaths'].sum()\n",
    "after_rating = (after_deaths / after_cases)*100\n",
    "print(f'Số ca nhiễm ở Việt Nam sau 05/2021: {after_cases}')\n",
    "print(f'Số ca tử vong ở Việt Nam sau 05/2021: {after_deaths}')\n",
    "print(f'Tỷ lệ tử vong ở Việt Nam sau 05/2021: {after_rating.round(2)} %')"
   ]
  },
  {
   "cell_type": "markdown",
   "id": "0d14f233",
   "metadata": {},
   "source": [
    "Nhận xét:\n",
    "- Theo số liệu ta vừa tính toán được ở trên thì Việt Nam lúc này vẫn đang kiểm soát rất tốt dịch bệnh. \n",
    "- Đỉnh dịch ở Việt Nam trong gian đoạn này rơi vào 02/2020, 08/2020, 02/2021 <font size = '4'> &#8594; </font> tương ứng với 3 đợt dịch.\n",
    "- Trước 05/2021, số ca nhiễm cao nhất trong 1 tháng chỉ hơn 600 ca, tỷ lệ tử vong và số ca tử vong ở mức thấp mặc dù tình hình dich bệnh trên thế giới đang rất phức tạp. 👍👍👍\n",
    "- Sau 05/2021, số ca nhiễm và ca tử vong đã tăng đột biến, `tỷ lệ tử vong` của Việt Nam cũng cao hơn so với các nước top đầu về dịch covid-19. 😥😥😥"
   ]
  },
  {
   "cell_type": "markdown",
   "id": "78c2d116",
   "metadata": {},
   "source": [
    "### Phần 3: Trực quan hoá"
   ]
  },
  {
   "cell_type": "markdown",
   "id": "9ecf13e9",
   "metadata": {},
   "source": [
    "**Code bước 1**"
   ]
  },
  {
   "cell_type": "code",
   "execution_count": 73,
   "id": "9ac94801",
   "metadata": {
    "scrolled": false
   },
   "outputs": [
    {
     "data": {
      "image/png": "[encoded data removed]",
      "text/plain": [
       "<Figure size 864x432 with 4 Axes>"
      ]
     },
     "metadata": {
      "needs_background": "light"
     },
     "output_type": "display_data"
    }
   ],
   "source": [
    "fig, axs = plt.subplots(2,2,figsize = (12,6))\n",
    "before_df[['New_cases']].plot.line(marker = 'o',ax = axs[0,0])\n",
    "\n",
    "after_df[['New_cases']].plot.line(marker = 'o',ax = axs[0,1])\n",
    "\n",
    "before_df[['New_deaths']].plot.line(marker = 'o',\n",
    "                                    ax = axs[1,0],color = 'orange')\n",
    "\n",
    "after_df[['New_deaths']].plot.line(marker = 'o',\n",
    "                                    ax = axs[1,1],color = 'orange')\n",
    "\n",
    "\n",
    "fig.tight_layout(pad=2.5)  # khoảng cách giữa các figure\n",
    "axs[0,0].tick_params(labelrotation=45)\n",
    "axs[0,1].tick_params(labelrotation=45)\n",
    "axs[1,0].tick_params(labelrotation=45)\n",
    "axs[1,1].tick_params(labelrotation=45)\n",
    "plt.suptitle('Tình hình dịch covid-19 trước và sau 05/2021');\n",
    "\n",
    "# Shift + O : show full figures in cell output"
   ]
  },
  {
   "cell_type": "markdown",
   "id": "ee838580",
   "metadata": {},
   "source": [
    "### Chúng ta sẽ quan sát đỉnh dịch của Việt Nam sẽ rơi vào tháng nào ? "
   ]
  },
  {
   "cell_type": "markdown",
   "id": "2afc88f0",
   "metadata": {},
   "source": [
    "Nhận xét:\n",
    "- Dữ liệu chỉ thu thập đến hết ngày 03/12/2021 nên dữ liệu 12/2021 ở đây không có ỹ nghĩa so sánh nhưng ta thấy số ca nhiễm và tử vong vẫn cao hơn đầu dịch - 05/2021 và 06/2021.\n",
    "- Đỉnh dịch ở Việt Nam rơi vào các 08/2021 , 09/2021 với hơn `300.000` ca nhiễm mỗi tháng, trung bình `10.000` ca nhiễm mỗi ngày.\n",
    "- Số ca tử vong tăng nhanh trong thời gian ngắn - hơn `25.000` ca so với `35` ca tử vong trước đó "
   ]
  }
 ],
 "metadata": {
  "kernelspec": {
   "display_name": "Python 3 (ipykernel)",
   "language": "python",
   "name": "python3"
  },
  "language_info": {
   "codemirror_mode": {
    "name": "ipython",
    "version": 3
   },
   "file_extension": ".py",
   "mimetype": "text/x-python",
   "name": "python",
   "nbconvert_exporter": "python",
   "pygments_lexer": "ipython3",
   "version": "3.8.8"
  }
 },
 "nbformat": 4,
 "nbformat_minor": 5
}
