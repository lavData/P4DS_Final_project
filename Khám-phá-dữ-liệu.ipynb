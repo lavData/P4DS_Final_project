{
 "cells": [
  {
   "cell_type": "code",
<<<<<<< HEAD:Khám phá dữ liệu.ipynb
   "execution_count": 50,
   "id": "7373d7c2-12ab-4582-8f82-73f36060b999",
=======
   "execution_count": 2,
   "id": "4a6c774b",
>>>>>>> 8150654bc0fad9b03597dd4d909c6c0b56b325c0:Khám-phá-dữ-liệu.ipynb
   "metadata": {},
   "outputs": [],
   "source": [
    "import pandas as pd\n",
    "import numpy as np\n",
    "import matplotlib.pyplot as plt"
   ]
  },
  {
   "cell_type": "markdown",
<<<<<<< HEAD:Khám phá dữ liệu.ipynb
   "id": "67b1e695-e2e9-47de-b05c-7b86235d91bf",
   "metadata": {
    "jp-MarkdownHeadingCollapsed": true,
    "tags": []
   },
=======
   "id": "bd7fc21d",
   "metadata": {},
>>>>>>> 8150654bc0fad9b03597dd4d909c6c0b56b325c0:Khám-phá-dữ-liệu.ipynb
   "source": [
    "---\n",
    "# Thu thập dữ liệu"
   ]
  },
  {
   "cell_type": "markdown",
<<<<<<< HEAD:Khám phá dữ liệu.ipynb
   "id": "304a98a5-491f-49c7-8179-30b094eb027f",
=======
   "id": "0f3a7dc9",
>>>>>>> 8150654bc0fad9b03597dd4d909c6c0b56b325c0:Khám-phá-dữ-liệu.ipynb
   "metadata": {},
   "source": [
    "- Dữ liệu được lấy tại trang web của WHO, về chủ đề COVID-19 và vaccin liên quan trên toàn thế giới\n",
    "- Về vấn đề cấp phép thì dữ liệu nảy được WHO cấp phép cho các hoạt động vì lợi ích cộng đồng. Nguyên văn như sau:\n",
    "    >WHO supports open access to the published output of its activities as a fundamental part of its mission and a public benefit to be encouraged wherever possible. Permission from WHO is not required for the use of the WHO coronavirus disease (COVID-19) dashboard material or data available for download\n",
    "- WHO có nguồn dữ liệu này được cung cấp bởi các phương tiện truyền thông chính thống trong thời gian từ ngày 31/12/2019 - 21/3/2020. Từ ngày 22/3/2020 dữ liệu được tổng hợp bằng báo cáo hằng ngày của WHO\n",
    "    >From the 31 December 2019 to the 21 March 2020, WHO collected the numbers of confirmed COVID-19 cases and deaths through official communications under the International Health Regulations (IHR, 2005), ..., Since 22 March 2020, global data are compiled through WHO region-specific dashboards (see links below), and/or aggregate count data reported to WHO headquarters daily. \n",
    "\n",
    "    Note: Dữ liệu từ ngày T7, CN được tính vào dữ liệu của ngày T2. Với các quốc gia Trung Đông, dữ liệu ở ngày T6 không được cập nhật.\n",
    "    \n",
    "    >Starting 19 June 2021, daily counts of COVID-19 confirmed cases and deaths reported to WHO headquarters on Saturdays and Sundays will be updated on this dashboard on the following Monday. Furthermore, data from the Eastern Mediterranean Region are no long update on Fridays."
   ]
  },
  {
   "cell_type": "markdown",
<<<<<<< HEAD:Khám phá dữ liệu.ipynb
   "id": "53057c44-dd92-4584-b08b-e0250093d6e0",
=======
   "id": "9826a77f",
>>>>>>> 8150654bc0fad9b03597dd4d909c6c0b56b325c0:Khám-phá-dữ-liệu.ipynb
   "metadata": {},
   "source": [
    "Thông tin các file mà bọn em sử dụng, được WHO mô tả như sau:\n",
    "1. `WHO-COVID-19-global-data.csv` : thống kê số liệu mỗi ngày của các quốc gia.\n",
    "2. `WHO-COVID-19-global-table-data.csv`: thống kế số liệu thời gian gần đây của các quốc gia.\n",
    "3. `vaccination-data.csv`: dữ liệu tình hình tiêm chủng tại các quốc gia.\n",
    "4. `vaccination-metadat.csv`: dữ liệu vaccin trên toàn thế giới.\n",
    "\n",
    "Dữ liệu được thu thập từ ngày 03/01/2020 đến 02/12/2021 của 237 quốc qua trên thế giới."
   ]
  },
  {
   "cell_type": "markdown",
<<<<<<< HEAD:Khám phá dữ liệu.ipynb
   "id": "c180a063-6f92-4951-9bd2-193325edafaa",
   "metadata": {
    "tags": []
   },
=======
   "id": "2cc2c85b",
   "metadata": {},
>>>>>>> 8150654bc0fad9b03597dd4d909c6c0b56b325c0:Khám-phá-dữ-liệu.ipynb
   "source": [
    "---\n",
    "# Khám phá dữ liệu"
   ]
  },
  {
   "cell_type": "markdown",
<<<<<<< HEAD:Khám phá dữ liệu.ipynb
   "id": "d988428f-5d77-47b4-91ed-02af98932537",
   "metadata": {},
   "source": [
    "Ở bước này nhóm em sẽ khám phá dữ liệu ở 4 tập tin ở trên. ĐƯợc chia thành 4 phần riêng đó là phần tình hình COVID-19 và \n",
    "tình hình Vaccin ở các quốc gia. \n",
    "\n",
    "**Note**: Trong quá trình khám phá sẽ có những phần tiền xử lí đơn giản."
=======
   "id": "79f6e0ba",
   "metadata": {},
   "source": [
    "Ở bước này nhóm em sẽ khám phá dữ liệu ở 4 tập tin ở trên. ĐƯợc chia thành 4 phần riêng đó là phần tình hình COVID-19 và \n",
    "tình hình Vaccin ở các quốc gia. \n",
    "\n",
    "**Note**: Trong quá trình khám phá sẽ có những phần tiền xử lí đơn giản."
   ]
  },
  {
   "cell_type": "markdown",
   "id": "51c3d1a8",
   "metadata": {},
   "source": [
    "<hr style=\"border:1px solid blue\"> </hr>"
   ]
  },
  {
   "cell_type": "markdown",
   "id": "c68a6623",
   "metadata": {
    "jp-MarkdownHeadingCollapsed": true,
    "tags": []
   },
   "source": [
    "## 1. Khám phá dữ liệu tình hình COVID-19 các quốc gia"
>>>>>>> 8150654bc0fad9b03597dd4d909c6c0b56b325c0:Khám-phá-dữ-liệu.ipynb
   ]
  },
  {
   "cell_type": "markdown",
<<<<<<< HEAD:Khám phá dữ liệu.ipynb
   "id": "fd3ff791-9194-4b60-9c0e-63a925c2f23c",
   "metadata": {},
=======
   "id": "db33a768",
   "metadata": {
    "jp-MarkdownHeadingCollapsed": true,
    "tags": []
   },
>>>>>>> 8150654bc0fad9b03597dd4d909c6c0b56b325c0:Khám-phá-dữ-liệu.ipynb
   "source": [
    "<hr style=\"border:1px solid blue\"> </hr>"
   ]
  },
  {
   "cell_type": "markdown",
   "id": "0f1a2d68-1ac3-48d8-97e4-ac2f9a298df4",
   "metadata": {
    "jp-MarkdownHeadingCollapsed": true,
    "tags": []
   },
   "source": [
    "## 1. Khám phá dữ liệu tình hình COVID-19 các quốc gia"
   ]
  },
  {
   "cell_type": "markdown",
   "id": "af59a851-0c8a-49dd-bc8f-a2238215eff4",
   "metadata": {
    "jp-MarkdownHeadingCollapsed": true,
    "tags": []
   },
   "source": [
    "### Đọc dữ liệu từ file"
   ]
  },
  {
   "cell_type": "markdown",
   "id": "71d3a35f-7287-4852-9115-14fd7556b6e8",
   "metadata": {},
   "source": [
    "- Đọc dữ liệu từ file `WHO-COVID-19-global-table-data.csv` rồi lưu vào dataframe `global_table_df`.\n",
    "- Index mặc định là tên quốc gia ,riêng index `Global` đại diện cho toàn cầu."
   ]
  },
  {
   "cell_type": "code",
   "execution_count": 51,
   "id": "2a5f008f",
   "metadata": {
    "scrolled": true
   },
   "outputs": [
    {
     "data": {
      "text/html": [
       "<div>\n",
       "<style scoped>\n",
       "    .dataframe tbody tr th:only-of-type {\n",
       "        vertical-align: middle;\n",
       "    }\n",
       "\n",
       "    .dataframe tbody tr th {\n",
       "        vertical-align: top;\n",
       "    }\n",
       "\n",
       "    .dataframe thead th {\n",
       "        text-align: right;\n",
       "    }\n",
       "</style>\n",
       "<table border=\"1\" class=\"dataframe\">\n",
       "  <thead>\n",
       "    <tr style=\"text-align: right;\">\n",
       "      <th></th>\n",
       "      <th>Name</th>\n",
       "      <th>WHO Region</th>\n",
       "      <th>Cases - cumulative total</th>\n",
       "      <th>Cases - cumulative total per 100000 population</th>\n",
       "      <th>Cases - newly reported in last 7 days</th>\n",
       "      <th>Cases - newly reported in last 7 days per 100000 population</th>\n",
       "      <th>Cases - newly reported in last 24 hours</th>\n",
       "      <th>Deaths - cumulative total</th>\n",
       "      <th>Deaths - cumulative total per 100000 population</th>\n",
       "      <th>Deaths - newly reported in last 7 days</th>\n",
       "      <th>Deaths - newly reported in last 7 days per 100000 population</th>\n",
       "      <th>Deaths - newly reported in last 24 hours</th>\n",
       "    </tr>\n",
       "  </thead>\n",
       "  <tbody>\n",
       "    <tr>\n",
       "      <th>Global</th>\n",
       "      <td>NaN</td>\n",
       "      <td>263563622</td>\n",
       "      <td>3381.387611</td>\n",
       "      <td>3973600</td>\n",
       "      <td>50.979273</td>\n",
       "      <td>653682</td>\n",
       "      <td>5232562</td>\n",
       "      <td>67.131117</td>\n",
       "      <td>47864</td>\n",
       "      <td>0.614071</td>\n",
       "      <td>7804</td>\n",
       "      <td>NaN</td>\n",
       "    </tr>\n",
       "    <tr>\n",
       "      <th>United States of America</th>\n",
       "      <td>Americas</td>\n",
       "      <td>48413265</td>\n",
       "      <td>14626.247000</td>\n",
       "      <td>605870</td>\n",
       "      <td>183.041000</td>\n",
       "      <td>131187</td>\n",
       "      <td>778336</td>\n",
       "      <td>235.145000</td>\n",
       "      <td>6388</td>\n",
       "      <td>1.930000</td>\n",
       "      <td>1831</td>\n",
       "      <td>NaN</td>\n",
       "    </tr>\n",
       "    <tr>\n",
       "      <th>India</th>\n",
       "      <td>South-East Asia</td>\n",
       "      <td>34615757</td>\n",
       "      <td>2508.380000</td>\n",
       "      <td>60326</td>\n",
       "      <td>4.371000</td>\n",
       "      <td>9216</td>\n",
       "      <td>470115</td>\n",
       "      <td>34.066000</td>\n",
       "      <td>2647</td>\n",
       "      <td>0.192000</td>\n",
       "      <td>391</td>\n",
       "      <td>NaN</td>\n",
       "    </tr>\n",
       "    <tr>\n",
       "      <th>Brazil</th>\n",
       "      <td>Americas</td>\n",
       "      <td>22105872</td>\n",
       "      <td>10399.855000</td>\n",
       "      <td>62760</td>\n",
       "      <td>29.526000</td>\n",
       "      <td>11413</td>\n",
       "      <td>614964</td>\n",
       "      <td>289.314000</td>\n",
       "      <td>1625</td>\n",
       "      <td>0.764000</td>\n",
       "      <td>283</td>\n",
       "      <td>NaN</td>\n",
       "    </tr>\n",
       "    <tr>\n",
       "      <th>The United Kingdom</th>\n",
       "      <td>Europe</td>\n",
       "      <td>10329078</td>\n",
       "      <td>15215.328000</td>\n",
       "      <td>307577</td>\n",
       "      <td>453.079000</td>\n",
       "      <td>53067</td>\n",
       "      <td>145281</td>\n",
       "      <td>214.007000</td>\n",
       "      <td>848</td>\n",
       "      <td>1.249000</td>\n",
       "      <td>141</td>\n",
       "      <td>NaN</td>\n",
       "    </tr>\n",
       "  </tbody>\n",
       "</table>\n",
       "</div>"
      ],
      "text/plain": [
       "                                     Name  WHO Region  \\\n",
       "Global                                NaN   263563622   \n",
       "United States of America         Americas    48413265   \n",
       "India                     South-East Asia    34615757   \n",
       "Brazil                           Americas    22105872   \n",
       "The United Kingdom                 Europe    10329078   \n",
       "\n",
       "                          Cases - cumulative total  \\\n",
       "Global                                 3381.387611   \n",
       "United States of America              14626.247000   \n",
       "India                                  2508.380000   \n",
       "Brazil                                10399.855000   \n",
       "The United Kingdom                    15215.328000   \n",
       "\n",
       "                          Cases - cumulative total per 100000 population  \\\n",
       "Global                                                           3973600   \n",
       "United States of America                                          605870   \n",
       "India                                                              60326   \n",
       "Brazil                                                             62760   \n",
       "The United Kingdom                                                307577   \n",
       "\n",
       "                          Cases - newly reported in last 7 days  \\\n",
       "Global                                                50.979273   \n",
       "United States of America                             183.041000   \n",
       "India                                                  4.371000   \n",
       "Brazil                                                29.526000   \n",
       "The United Kingdom                                   453.079000   \n",
       "\n",
       "                          Cases - newly reported in last 7 days per 100000 population  \\\n",
       "Global                                                                         653682   \n",
       "United States of America                                                       131187   \n",
       "India                                                                            9216   \n",
       "Brazil                                                                          11413   \n",
       "The United Kingdom                                                              53067   \n",
       "\n",
       "                          Cases - newly reported in last 24 hours  \\\n",
       "Global                                                    5232562   \n",
       "United States of America                                   778336   \n",
       "India                                                      470115   \n",
       "Brazil                                                     614964   \n",
       "The United Kingdom                                         145281   \n",
       "\n",
       "                          Deaths - cumulative total  \\\n",
       "Global                                    67.131117   \n",
       "United States of America                 235.145000   \n",
       "India                                     34.066000   \n",
       "Brazil                                   289.314000   \n",
       "The United Kingdom                       214.007000   \n",
       "\n",
       "                          Deaths - cumulative total per 100000 population  \\\n",
       "Global                                                              47864   \n",
       "United States of America                                             6388   \n",
       "India                                                                2647   \n",
       "Brazil                                                               1625   \n",
       "The United Kingdom                                                    848   \n",
       "\n",
       "                          Deaths - newly reported in last 7 days  \\\n",
       "Global                                                  0.614071   \n",
       "United States of America                                1.930000   \n",
       "India                                                   0.192000   \n",
       "Brazil                                                  0.764000   \n",
       "The United Kingdom                                      1.249000   \n",
       "\n",
       "                          Deaths - newly reported in last 7 days per 100000 population  \\\n",
       "Global                                                                            7804   \n",
       "United States of America                                                          1831   \n",
       "India                                                                              391   \n",
       "Brazil                                                                             283   \n",
       "The United Kingdom                                                                 141   \n",
       "\n",
       "                          Deaths - newly reported in last 24 hours  \n",
       "Global                                                         NaN  \n",
       "United States of America                                       NaN  \n",
       "India                                                          NaN  \n",
       "Brazil                                                         NaN  \n",
       "The United Kingdom                                             NaN  "
      ]
     },
     "execution_count": 51,
     "metadata": {},
     "output_type": "execute_result"
    }
   ],
   "source": [
    "global_table_df = pd.read_csv('dataset/WHO-COVID-19-global-table-data.csv')\n",
    "global_table_df.head()"
   ]
  },
  {
   "cell_type": "markdown",
<<<<<<< HEAD:Khám phá dữ liệu.ipynb
   "id": "ce8fdc08-3b89-4e34-8eb9-34ede2f65e62",
=======
   "id": "f62bd6c4",
>>>>>>> 8150654bc0fad9b03597dd4d909c6c0b56b325c0:Khám-phá-dữ-liệu.ipynb
   "metadata": {
    "jp-MarkdownHeadingCollapsed": true,
    "tags": []
   },
   "source": [
    "### Dữ liệu có bao nhiêu dòng, cột"
   ]
  },
  {
   "cell_type": "markdown",
   "id": "63f35239-a11b-46ca-a90f-06e8363ffc73",
   "metadata": {},
   "source": [
    "Tính số dòng và số cột của dataframe `global_table_df` rồi lưu vào `num_rows_global_table` và `num_cols_global_table`"
   ]
  },
  {
   "cell_type": "code",
   "execution_count": 52,
   "id": "c17c17c3",
   "metadata": {},
   "outputs": [
    {
     "name": "stdout",
     "output_type": "stream",
     "text": [
      "Dữ liệu có 238 dòng.\n",
      "Dữ liệu có 12 cột.\n"
     ]
    }
   ],
   "source": [
    "num_rows_global_table , num_cols_global_table = global_table_df.shape\n",
    "print(f'Dữ liệu có {num_rows_global_table} dòng.')\n",
    "print(f'Dữ liệu có {num_cols_global_table} cột.')"
   ]
  },
  {
   "cell_type": "markdown",
   "id": "3c64e3cb-a962-4f6d-a734-6a904162ce7e",
   "metadata": {},
   "source": [
    "Chúng ta không xét tới dòng index `Global` nên dữ liệu gồm 237 `quốc gia`, đúng với mô tả ở trên."
   ]
  },
  {
   "cell_type": "markdown",
<<<<<<< HEAD:Khám phá dữ liệu.ipynb
   "id": "38a6b310-4e49-472f-af1c-380d554cdde1",
=======
   "id": "99a8f471",
>>>>>>> 8150654bc0fad9b03597dd4d909c6c0b56b325c0:Khám-phá-dữ-liệu.ipynb
   "metadata": {
    "jp-MarkdownHeadingCollapsed": true,
    "tags": []
   },
   "source": [
    "### Mỗi dòng có ý nghĩa gì ? Có vấn đề về ý nghĩa giữa các dòng khác nhau hay không ?"
   ]
  },
  {
   "cell_type": "markdown",
   "id": "4314cd68-e542-4043-a7b4-2f004ebdec5f",
   "metadata": {},
   "source": [
    "Theo quan sát sơ bộ và file mô tả dữ liệu trên website chính của WHO thì dữ liệu cho biết thông tin về tính hình COVID-19 của từng quốc gia.\\\n",
    "Có vẻ không có vấn đề về ý nghĩa từng dòng."
   ]
  },
  {
   "cell_type": "markdown",
<<<<<<< HEAD:Khám phá dữ liệu.ipynb
   "id": "aa349673-f337-4272-b152-38afeaa5e78d",
=======
   "id": "ad3a5cb4",
>>>>>>> 8150654bc0fad9b03597dd4d909c6c0b56b325c0:Khám-phá-dữ-liệu.ipynb
   "metadata": {
    "jp-MarkdownHeadingCollapsed": true,
    "tags": []
   },
   "source": [
    "### Dữ liệu có bị lặp không ?"
   ]
  },
  {
   "cell_type": "markdown",
   "id": "4b8049e2-e0fd-4faf-bee6-502988a6cc04",
   "metadata": {},
   "source": [
    "Tính số dòng dữ liệu bị trùng (nếu có) rồi lưu vào biến `num_rows_dupicated`."
   ]
  },
  {
   "cell_type": "code",
   "execution_count": 53,
   "id": "9456f789",
   "metadata": {},
   "outputs": [
    {
     "name": "stdout",
     "output_type": "stream",
     "text": [
      "0\n"
     ]
    }
   ],
   "source": [
    "num_rows_duplicated = num_rows_global_table - len(global_table_df.index.drop_duplicates())\n",
    "print(num_rows_duplicated)"
   ]
  },
  {
   "cell_type": "markdown",
<<<<<<< HEAD:Khám phá dữ liệu.ipynb
   "id": "4e45cf62-28d0-4cd1-8e63-22ebf75ad003",
=======
   "id": "d697405a",
>>>>>>> 8150654bc0fad9b03597dd4d909c6c0b56b325c0:Khám-phá-dữ-liệu.ipynb
   "metadata": {
    "jp-MarkdownHeadingCollapsed": true,
    "tags": []
   },
   "source": [
    "### Mỗi cột có ý nghĩa gì ?"
   ]
  },
  {
   "cell_type": "markdown",
   "id": "fd16eff3-65dc-41a1-8498-04669bb2c102",
   "metadata": {},
   "source": [
    "Dựa vào mô tả chính thức trên website WHO, em đã mô tả ý nghĩa từng cột dữ liệu trong file `description_global_table.csv`"
   ]
  },
  {
   "cell_type": "code",
   "execution_count": 54,
   "id": "7e833fe9",
   "metadata": {
    "scrolled": true
   },
   "outputs": [],
   "source": [
    "pd.set_option(\"display.max_colwidth\",200)\n",
    "description_global_table = pd.read_csv('dataset/Description-global-table.csv',delimiter= '\\t',index_col='Field name')"
   ]
  },
  {
   "cell_type": "code",
   "execution_count": 55,
   "id": "475c7708",
   "metadata": {},
   "outputs": [
    {
     "data": {
      "text/html": [
       "<div>\n",
       "<style scoped>\n",
       "    .dataframe tbody tr th:only-of-type {\n",
       "        vertical-align: middle;\n",
       "    }\n",
       "\n",
       "    .dataframe tbody tr th {\n",
       "        vertical-align: top;\n",
       "    }\n",
       "\n",
       "    .dataframe thead th {\n",
       "        text-align: right;\n",
       "    }\n",
       "</style>\n",
       "<table border=\"1\" class=\"dataframe\">\n",
       "  <thead>\n",
       "    <tr style=\"text-align: right;\">\n",
       "      <th></th>\n",
       "      <th>Type</th>\n",
       "      <th>Description</th>\n",
       "    </tr>\n",
       "    <tr>\n",
       "      <th>Field name</th>\n",
       "      <th></th>\n",
       "      <th></th>\n",
       "    </tr>\n",
       "  </thead>\n",
       "  <tbody>\n",
       "    <tr>\n",
       "      <th>Name</th>\n",
       "      <td>String</td>\n",
       "      <td>Country, territory, area</td>\n",
       "    </tr>\n",
       "    <tr>\n",
       "      <th>WHO_region</th>\n",
       "      <td>String</td>\n",
       "      <td>WHO Region</td>\n",
       "    </tr>\n",
       "    <tr>\n",
       "      <th>Cases - cumulative total</th>\n",
       "      <td>Integer</td>\n",
       "      <td>Cumulative confirmed cases reported to WHO to date.</td>\n",
       "    </tr>\n",
       "    <tr>\n",
       "      <th>Cases - cumulative total per 100000 population</th>\n",
       "      <td>Decimal</td>\n",
       "      <td>Cumulative confirmed cases reported to WHO to date per 100,000 population.</td>\n",
       "    </tr>\n",
       "    <tr>\n",
       "      <th>Cases - newly reported in last 7 days</th>\n",
       "      <td>Integer</td>\n",
       "      <td>New confirmed cases reported in the last 7 days. Calculated by subtracting previous cumulative case count (8 days prior) from current cumulative cases count.</td>\n",
       "    </tr>\n",
       "    <tr>\n",
       "      <th>Cases - newly reported in last 7 days per 100000 population</th>\n",
       "      <td>Decimal</td>\n",
       "      <td>New confirmed cases reported in the last 7 days per 100,000 population.</td>\n",
       "    </tr>\n",
       "    <tr>\n",
       "      <th>Cases - newly reported in last 24 hours</th>\n",
       "      <td>Integer</td>\n",
       "      <td>New confirmed cases reported in the last 24 hours. Calculated by subtracting previous cumulative case count from current cumulative cases count.</td>\n",
       "    </tr>\n",
       "    <tr>\n",
       "      <th>Deaths - cumulative total</th>\n",
       "      <td>Integer</td>\n",
       "      <td>Cumulative confirmed deaths reported to WHO to date.</td>\n",
       "    </tr>\n",
       "    <tr>\n",
       "      <th>Deaths - cumulative total per 100000 population</th>\n",
       "      <td>Decimal</td>\n",
       "      <td>Cumulative confirmed deaths reported to WHO to date per 100,000 population.</td>\n",
       "    </tr>\n",
       "    <tr>\n",
       "      <th>Deaths - newly reported in last 7 days</th>\n",
       "      <td>Integer</td>\n",
       "      <td>New confirmed deaths reported in the last 7 days. Calculated by subtracting previous cumulative death count (8 days prior) from current cumulative deaths count.</td>\n",
       "    </tr>\n",
       "    <tr>\n",
       "      <th>Deaths - newly reported in last 7 days per 100000 population</th>\n",
       "      <td>Decimal</td>\n",
       "      <td>New confirmed deaths reported in the last 7 days per 100,000 population.</td>\n",
       "    </tr>\n",
       "    <tr>\n",
       "      <th>Deaths - newly reported in last 24 hours</th>\n",
       "      <td>Integer</td>\n",
       "      <td>New confirmed deaths reported in the last 24 hours. Calculated by subtracting previous cumulative death count from current cumulative deaths count.</td>\n",
       "    </tr>\n",
       "  </tbody>\n",
       "</table>\n",
       "</div>"
      ],
      "text/plain": [
       "                                                                 Type  \\\n",
       "Field name                                                              \n",
       "Name                                                           String   \n",
       "WHO_region                                                     String   \n",
       "Cases - cumulative total                                      Integer   \n",
       "Cases - cumulative total per 100000 population                Decimal   \n",
       "Cases - newly reported in last 7 days                         Integer   \n",
       "Cases - newly reported in last 7 days per 100000 population   Decimal   \n",
       "Cases - newly reported in last 24 hours                       Integer   \n",
       "Deaths - cumulative total                                     Integer   \n",
       "Deaths - cumulative total per 100000 population               Decimal   \n",
       "Deaths - newly reported in last 7 days                        Integer   \n",
       "Deaths - newly reported in last 7 days per 100000 population  Decimal   \n",
       "Deaths - newly reported in last 24 hours                      Integer   \n",
       "\n",
       "                                                                                                                                                                                                                   Description  \n",
       "Field name                                                                                                                                                                                                                      \n",
       "Name                                                                                                                                                                                                  Country, territory, area  \n",
       "WHO_region                                                                                                                                                                                                          WHO Region  \n",
       "Cases - cumulative total                                                                                                                                                   Cumulative confirmed cases reported to WHO to date.  \n",
       "Cases - cumulative total per 100000 population                                                                                                      Cumulative confirmed cases reported to WHO to date per 100,000 population.  \n",
       "Cases - newly reported in last 7 days                            New confirmed cases reported in the last 7 days. Calculated by subtracting previous cumulative case count (8 days prior) from current cumulative cases count.  \n",
       "Cases - newly reported in last 7 days per 100000 population                                                                                            New confirmed cases reported in the last 7 days per 100,000 population.  \n",
       "Cases - newly reported in last 24 hours                                       New confirmed cases reported in the last 24 hours. Calculated by subtracting previous cumulative case count from current cumulative cases count.  \n",
       "Deaths - cumulative total                                                                                                                                                 Cumulative confirmed deaths reported to WHO to date.  \n",
       "Deaths - cumulative total per 100000 population                                                                                                    Cumulative confirmed deaths reported to WHO to date per 100,000 population.  \n",
       "Deaths - newly reported in last 7 days                        New confirmed deaths reported in the last 7 days. Calculated by subtracting previous cumulative death count (8 days prior) from current cumulative deaths count.  \n",
       "Deaths - newly reported in last 7 days per 100000 population                                                                                          New confirmed deaths reported in the last 7 days per 100,000 population.  \n",
       "Deaths - newly reported in last 24 hours                                   New confirmed deaths reported in the last 24 hours. Calculated by subtracting previous cumulative death count from current cumulative deaths count.  "
      ]
     },
     "execution_count": 55,
     "metadata": {},
     "output_type": "execute_result"
    }
   ],
   "source": [
    "description_global_table"
   ]
  },
  {
   "cell_type": "markdown",
<<<<<<< HEAD:Khám phá dữ liệu.ipynb
   "id": "a2fd199a-5f4f-4216-a890-3947ff856889",
=======
   "id": "0a3674bd",
>>>>>>> 8150654bc0fad9b03597dd4d909c6c0b56b325c0:Khám-phá-dữ-liệu.ipynb
   "metadata": {
    "jp-MarkdownHeadingCollapsed": true,
    "tags": []
   },
   "source": [
    "### Mỗi cột hiện tại đang có dữ liệu gì ? Có cột nào có kiểu dữ liệu không phù hợp không ?"
   ]
  },
  {
   "cell_type": "code",
   "execution_count": 56,
   "id": "0bf7b93c",
   "metadata": {},
   "outputs": [
    {
     "data": {
      "text/plain": [
       "Name                                                             object\n",
       "WHO Region                                                        int64\n",
       "Cases - cumulative total                                        float64\n",
       "Cases - cumulative total per 100000 population                    int64\n",
       "Cases - newly reported in last 7 days                           float64\n",
       "Cases - newly reported in last 7 days per 100000 population       int64\n",
       "Cases - newly reported in last 24 hours                           int64\n",
       "Deaths - cumulative total                                       float64\n",
       "Deaths - cumulative total per 100000 population                   int64\n",
       "Deaths - newly reported in last 7 days                          float64\n",
       "Deaths - newly reported in last 7 days per 100000 population      int64\n",
       "Deaths - newly reported in last 24 hours                        float64\n",
       "dtype: object"
      ]
     },
     "execution_count": 56,
     "metadata": {},
     "output_type": "execute_result"
    }
   ],
   "source": [
    "global_table_df.dtypes"
   ]
  },
  {
   "cell_type": "markdown",
   "id": "0955478d-f3f9-4d70-a662-24045a61c15b",
   "metadata": {},
   "source": [
    "Vậy **Không có gì bất thường**"
   ]
  },
  {
   "cell_type": "markdown",
<<<<<<< HEAD:Khám phá dữ liệu.ipynb
   "id": "c45a65ad-25af-4479-960e-0f3da5013fba",
=======
   "id": "60bda4c0",
>>>>>>> 8150654bc0fad9b03597dd4d909c6c0b56b325c0:Khám-phá-dữ-liệu.ipynb
   "metadata": {
    "jp-MarkdownHeadingCollapsed": true,
    "tags": []
   },
   "source": [
    "### Phân bố dữ liệu dạng numerical"
   ]
  },
  {
   "cell_type": "markdown",
   "id": "eb305bcf-52fd-4ff6-868f-06135b304f80",
   "metadata": {},
   "source": [
    "Dữ liệu ở đây phần lớn ở dạng `numerical`, trừ `Name` và `WHO Region`. \\\n",
    "`WHO Region` kiểu dữ liệu `int64` nhưng đây là mã vùng nên không có nhiều ý nghĩa nếu xếp vào `numerical`"
   ]
  },
  {
   "cell_type": "code",
   "execution_count": 57,
   "id": "94e6fcc0",
   "metadata": {},
   "outputs": [],
   "source": [
    "def missing_ration(column):\n",
    "    return (column.isna().mean() * 100).round(1)\n",
    "\n",
    "def lower_quantile(column):\n",
    "    return column.quantile(q= 0.25)\n",
    "\n",
    "def upper_quantile(column):\n",
    "    return column.quantile(q= 0.75)"
   ]
  },
  {
   "cell_type": "markdown",
   "id": "ef0f963d-01b8-41aa-9890-5b3d059f010b",
   "metadata": {},
   "source": [
    "Column `Deaths - newly reported in last 24 hours` chứa nhiều NaN, có thể vì hệ thống chưa cập nhật.\\\n",
    "Để tránh `RuntimeWarning` thì ta sẽ chuyển dữ liệu cột này về 0."
   ]
  },
  {
   "cell_type": "markdown",
<<<<<<< HEAD:Khám phá dữ liệu.ipynb
   "id": "6a365083-ea5a-47c3-8e6e-cf800a0c28c4",
=======
   "id": "27b6da3b-3b17-47b0-b092-5c2786422ebe",
>>>>>>> 8150654bc0fad9b03597dd4d909c6c0b56b325c0:Khám-phá-dữ-liệu.ipynb
   "metadata": {
    "jp-MarkdownHeadingCollapsed": true,
    "tags": []
   },
   "source": [
    "---\n",
    "### Tiền xử lí: Loại bỏ NaN"
   ]
  },
  {
   "cell_type": "code",
   "execution_count": 58,
   "id": "d01eaae9",
   "metadata": {},
   "outputs": [],
   "source": [
    "global_table_df.iloc[:,-1] = global_table_df.iloc[:,-1].fillna(0)"
   ]
  },
  {
   "cell_type": "markdown",
<<<<<<< HEAD:Khám phá dữ liệu.ipynb
   "id": "4a872065-8bce-401f-98d1-a00f254a69a7",
=======
   "id": "94959ba8",
>>>>>>> 8150654bc0fad9b03597dd4d909c6c0b56b325c0:Khám-phá-dữ-liệu.ipynb
   "metadata": {
    "jp-MarkdownHeadingCollapsed": true,
    "tags": []
   },
   "source": [
    "---\n",
    "### Quay lại khám phá dữ liệu"
   ]
  },
  {
   "cell_type": "code",
   "execution_count": 59,
   "id": "9a0573f7",
   "metadata": {
    "scrolled": true
   },
   "outputs": [
    {
     "data": {
      "text/html": [
       "<div>\n",
       "<style scoped>\n",
       "    .dataframe tbody tr th:only-of-type {\n",
       "        vertical-align: middle;\n",
       "    }\n",
       "\n",
       "    .dataframe tbody tr th {\n",
       "        vertical-align: top;\n",
       "    }\n",
       "\n",
       "    .dataframe thead th {\n",
       "        text-align: right;\n",
       "    }\n",
       "</style>\n",
       "<table border=\"1\" class=\"dataframe\">\n",
       "  <thead>\n",
       "    <tr style=\"text-align: right;\">\n",
       "      <th></th>\n",
       "      <th>Cases - cumulative total</th>\n",
       "      <th>Cases - cumulative total per 100000 population</th>\n",
       "      <th>Cases - newly reported in last 7 days</th>\n",
       "      <th>Cases - newly reported in last 7 days per 100000 population</th>\n",
       "      <th>Cases - newly reported in last 24 hours</th>\n",
       "      <th>Deaths - cumulative total</th>\n",
       "      <th>Deaths - cumulative total per 100000 population</th>\n",
       "      <th>Deaths - newly reported in last 7 days</th>\n",
       "      <th>Deaths - newly reported in last 7 days per 100000 population</th>\n",
       "      <th>Deaths - newly reported in last 24 hours</th>\n",
       "    </tr>\n",
       "  </thead>\n",
       "  <tbody>\n",
       "    <tr>\n",
       "      <th>missing_ration</th>\n",
       "      <td>0.400</td>\n",
       "      <td>0.00</td>\n",
       "      <td>0.400</td>\n",
       "      <td>0.0</td>\n",
       "      <td>0.00</td>\n",
       "      <td>0.400</td>\n",
       "      <td>0.00</td>\n",
       "      <td>0.400</td>\n",
       "      <td>0.0</td>\n",
       "      <td>0.0</td>\n",
       "    </tr>\n",
       "    <tr>\n",
       "      <th>min</th>\n",
       "      <td>0.000</td>\n",
       "      <td>0.00</td>\n",
       "      <td>0.000</td>\n",
       "      <td>0.0</td>\n",
       "      <td>0.00</td>\n",
       "      <td>0.000</td>\n",
       "      <td>0.00</td>\n",
       "      <td>0.000</td>\n",
       "      <td>0.0</td>\n",
       "      <td>0.0</td>\n",
       "    </tr>\n",
       "    <tr>\n",
       "      <th>lower_quantile</th>\n",
       "      <td>474.714</td>\n",
       "      <td>50.50</td>\n",
       "      <td>0.777</td>\n",
       "      <td>0.0</td>\n",
       "      <td>122.00</td>\n",
       "      <td>7.112</td>\n",
       "      <td>0.00</td>\n",
       "      <td>0.000</td>\n",
       "      <td>0.0</td>\n",
       "      <td>0.0</td>\n",
       "    </tr>\n",
       "    <tr>\n",
       "      <th>median</th>\n",
       "      <td>4757.622</td>\n",
       "      <td>472.00</td>\n",
       "      <td>19.506</td>\n",
       "      <td>32.0</td>\n",
       "      <td>1335.00</td>\n",
       "      <td>52.639</td>\n",
       "      <td>4.50</td>\n",
       "      <td>0.096</td>\n",
       "      <td>0.0</td>\n",
       "      <td>0.0</td>\n",
       "    </tr>\n",
       "    <tr>\n",
       "      <th>upper_quantile</th>\n",
       "      <td>9545.916</td>\n",
       "      <td>4943.25</td>\n",
       "      <td>136.391</td>\n",
       "      <td>557.5</td>\n",
       "      <td>9081.25</td>\n",
       "      <td>145.362</td>\n",
       "      <td>70.75</td>\n",
       "      <td>0.901</td>\n",
       "      <td>7.0</td>\n",
       "      <td>0.0</td>\n",
       "    </tr>\n",
       "    <tr>\n",
       "      <th>max</th>\n",
       "      <td>25135.735</td>\n",
       "      <td>3973600.00</td>\n",
       "      <td>1413.318</td>\n",
       "      <td>653682.0</td>\n",
       "      <td>5232562.00</td>\n",
       "      <td>610.245</td>\n",
       "      <td>47864.00</td>\n",
       "      <td>12.856</td>\n",
       "      <td>7804.0</td>\n",
       "      <td>0.0</td>\n",
       "    </tr>\n",
       "  </tbody>\n",
       "</table>\n",
       "</div>"
      ],
      "text/plain": [
       "                Cases - cumulative total  \\\n",
       "missing_ration                     0.400   \n",
       "min                                0.000   \n",
       "lower_quantile                   474.714   \n",
       "median                          4757.622   \n",
       "upper_quantile                  9545.916   \n",
       "max                            25135.735   \n",
       "\n",
       "                Cases - cumulative total per 100000 population  \\\n",
       "missing_ration                                            0.00   \n",
       "min                                                       0.00   \n",
       "lower_quantile                                           50.50   \n",
       "median                                                  472.00   \n",
       "upper_quantile                                         4943.25   \n",
       "max                                                 3973600.00   \n",
       "\n",
       "                Cases - newly reported in last 7 days  \\\n",
       "missing_ration                                  0.400   \n",
       "min                                             0.000   \n",
       "lower_quantile                                  0.777   \n",
       "median                                         19.506   \n",
       "upper_quantile                                136.391   \n",
       "max                                          1413.318   \n",
       "\n",
       "                Cases - newly reported in last 7 days per 100000 population  \\\n",
       "missing_ration                                                          0.0   \n",
       "min                                                                     0.0   \n",
       "lower_quantile                                                          0.0   \n",
       "median                                                                 32.0   \n",
       "upper_quantile                                                        557.5   \n",
       "max                                                                653682.0   \n",
       "\n",
       "                Cases - newly reported in last 24 hours  \\\n",
       "missing_ration                                     0.00   \n",
       "min                                                0.00   \n",
       "lower_quantile                                   122.00   \n",
       "median                                          1335.00   \n",
       "upper_quantile                                  9081.25   \n",
       "max                                          5232562.00   \n",
       "\n",
       "                Deaths - cumulative total  \\\n",
       "missing_ration                      0.400   \n",
       "min                                 0.000   \n",
       "lower_quantile                      7.112   \n",
       "median                             52.639   \n",
       "upper_quantile                    145.362   \n",
       "max                               610.245   \n",
       "\n",
       "                Deaths - cumulative total per 100000 population  \\\n",
       "missing_ration                                             0.00   \n",
       "min                                                        0.00   \n",
       "lower_quantile                                             0.00   \n",
       "median                                                     4.50   \n",
       "upper_quantile                                            70.75   \n",
       "max                                                    47864.00   \n",
       "\n",
       "                Deaths - newly reported in last 7 days  \\\n",
       "missing_ration                                   0.400   \n",
       "min                                              0.000   \n",
       "lower_quantile                                   0.000   \n",
       "median                                           0.096   \n",
       "upper_quantile                                   0.901   \n",
       "max                                             12.856   \n",
       "\n",
       "                Deaths - newly reported in last 7 days per 100000 population  \\\n",
       "missing_ration                                                           0.0   \n",
       "min                                                                      0.0   \n",
       "lower_quantile                                                           0.0   \n",
       "median                                                                   0.0   \n",
       "upper_quantile                                                           7.0   \n",
       "max                                                                   7804.0   \n",
       "\n",
       "                Deaths - newly reported in last 24 hours  \n",
       "missing_ration                                       0.0  \n",
       "min                                                  0.0  \n",
       "lower_quantile                                       0.0  \n",
       "median                                               0.0  \n",
       "upper_quantile                                       0.0  \n",
       "max                                                  0.0  "
      ]
     },
     "execution_count": 59,
     "metadata": {},
     "output_type": "execute_result"
    }
   ],
   "source": [
    "numerical_df = global_table_df.drop(columns = ['Name','WHO Region'])\n",
    "numerical_df.aggregate([missing_ration,pd.Series.min,lower_quantile,\n",
    "                        pd.Series.median,upper_quantile,pd.Series.max])"
   ]
  },
  {
   "cell_type": "markdown",
   "id": "ea10c9e0-e1c7-408a-8467-52b627f35d7a",
   "metadata": {},
   "source": [
    "Vậy **không có gì bất thường**"
   ]
  },
  {
   "cell_type": "markdown",
<<<<<<< HEAD:Khám phá dữ liệu.ipynb
   "id": "e1c2f1ad-c43b-4ecb-80c0-a26d18c4a82b",
=======
   "id": "6022d36f",
>>>>>>> 8150654bc0fad9b03597dd4d909c6c0b56b325c0:Khám-phá-dữ-liệu.ipynb
   "metadata": {
    "jp-MarkdownHeadingCollapsed": true,
    "tags": []
   },
   "source": [
    "### Phân bố dữ liệu dạng categorical"
   ]
  },
  {
   "cell_type": "code",
   "execution_count": 60,
   "id": "1c2c3f71",
   "metadata": {},
   "outputs": [
    {
     "data": {
      "text/html": [
       "<div>\n",
       "<style scoped>\n",
       "    .dataframe tbody tr th:only-of-type {\n",
       "        vertical-align: middle;\n",
       "    }\n",
       "\n",
       "    .dataframe tbody tr th {\n",
       "        vertical-align: top;\n",
       "    }\n",
       "\n",
       "    .dataframe thead th {\n",
       "        text-align: right;\n",
       "    }\n",
       "</style>\n",
       "<table border=\"1\" class=\"dataframe\">\n",
       "  <thead>\n",
       "    <tr style=\"text-align: right;\">\n",
       "      <th></th>\n",
       "      <th>Name</th>\n",
       "      <th>WHO Region</th>\n",
       "    </tr>\n",
       "  </thead>\n",
       "  <tbody>\n",
       "    <tr>\n",
       "      <th>missing_ration</th>\n",
       "      <td>0.4</td>\n",
       "      <td>0.0</td>\n",
       "    </tr>\n",
       "    <tr>\n",
       "      <th>unique</th>\n",
       "      <td>[nan, Americas, South-East Asia, Europe, Eastern Mediterranean, Africa, Western Pacific, Other]</td>\n",
       "      <td>[263563622, 48413265, 34615757, 22105872, 10329078, 9736037, 8839891, 7538806, 6125596, 6051560,...</td>\n",
       "    </tr>\n",
       "    <tr>\n",
       "      <th>nunique</th>\n",
       "      <td>7</td>\n",
       "      <td>226</td>\n",
       "    </tr>\n",
       "  </tbody>\n",
       "</table>\n",
       "</div>"
      ],
      "text/plain": [
       "                                                                                                           Name  \\\n",
       "missing_ration                                                                                              0.4   \n",
       "unique          [nan, Americas, South-East Asia, Europe, Eastern Mediterranean, Africa, Western Pacific, Other]   \n",
       "nunique                                                                                                       7   \n",
       "\n",
       "                                                                                                         WHO Region  \n",
       "missing_ration                                                                                                  0.0  \n",
       "unique          [263563622, 48413265, 34615757, 22105872, 10329078, 9736037, 8839891, 7538806, 6125596, 6051560,...  \n",
       "nunique                                                                                                         226  "
      ]
     },
     "execution_count": 60,
     "metadata": {},
     "output_type": "execute_result"
    }
   ],
   "source": [
    "pd.set_option(\"display.max_colwidth\",100)\n",
    "global_table_df[['Name','WHO Region']].agg([missing_ration,pd.Series.unique,pd.Series.nunique])"
   ]
  },
  {
   "cell_type": "markdown",
   "id": "bd287d94-0b42-4da5-bd36-29e701d4e65e",
   "metadata": {},
   "source": [
    "Vậy **không có gì bất thường**"
   ]
  },
  {
   "cell_type": "markdown",
   "id": "0db3fce2-1c06-4b65-bf6c-90fe690b15f6",
   "metadata": {},
   "source": [
    "Vẽ `barh chart` để xem phân bố các giá trị của cột `Name`"
   ]
  },
  {
   "cell_type": "code",
   "execution_count": 61,
   "id": "fb90c8b8",
   "metadata": {},
   "outputs": [
    {
     "data": {
      "image/png": "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",
      "text/plain": [
       "<Figure size 432x288 with 1 Axes>"
      ]
     },
     "metadata": {
      "needs_background": "light"
     },
     "output_type": "display_data"
    }
   ],
   "source": [
    "global_table_df['Name'].value_counts(normalize = True).plot.barh()\n",
    "plt.xlabel('Tỉ lệ')\n",
    "plt.title('Phân bố các khu vực');"
   ]
  },
  {
   "cell_type": "markdown",
<<<<<<< HEAD:Khám phá dữ liệu.ipynb
   "id": "7d8e3400-41eb-4c18-bbf4-f7f36e27fdf5",
=======
   "id": "06e4b2b1-b4eb-47bb-8efb-4c393a83b855",
>>>>>>> 8150654bc0fad9b03597dd4d909c6c0b56b325c0:Khám-phá-dữ-liệu.ipynb
   "metadata": {},
   "source": [
    "##\n",
    "<hr style=\"border:1px solid blue\"> </hr>"
   ]
  },
  {
   "cell_type": "markdown",
<<<<<<< HEAD:Khám phá dữ liệu.ipynb
   "id": "6a9ad7d2-f2b5-473c-b13c-b4d59a028fad",
   "metadata": {
=======
   "id": "3462919a",
   "metadata": {
    "jp-MarkdownHeadingCollapsed": true,
>>>>>>> 8150654bc0fad9b03597dd4d909c6c0b56b325c0:Khám-phá-dữ-liệu.ipynb
    "tags": []
   },
   "source": [
    "## 2. Khám phá dữ liệu tình hình COVID-19 theo ngày"
   ]
  },
  {
   "cell_type": "markdown",
<<<<<<< HEAD:Khám phá dữ liệu.ipynb
   "id": "5c4a245d-5e42-4d9d-8913-c619bc12bb95",
   "metadata": {
=======
   "id": "221234a9",
   "metadata": {
    "jp-MarkdownHeadingCollapsed": true,
>>>>>>> 8150654bc0fad9b03597dd4d909c6c0b56b325c0:Khám-phá-dữ-liệu.ipynb
    "tags": []
   },
   "source": [
    "### Đọc dữ liệu từ file"
   ]
  },
  {
   "cell_type": "markdown",
   "id": "36ac7c14-c951-42be-8220-f53887a97088",
   "metadata": {},
   "source": [
    "- Đọc dữ liệu từ file `WHO-COVID-19-global-data.csv` rồi lưu vào dataframe `global_df`.\n",
    "- Mỗi quốc gia được thống kê trong nhiều ngày, ta nên để index là `số dòng`"
   ]
  },
  {
   "cell_type": "code",
   "execution_count": 62,
   "id": "23af5df3",
   "metadata": {
    "scrolled": true
   },
   "outputs": [
    {
     "data": {
      "text/html": [
       "<div>\n",
       "<style scoped>\n",
       "    .dataframe tbody tr th:only-of-type {\n",
       "        vertical-align: middle;\n",
       "    }\n",
       "\n",
       "    .dataframe tbody tr th {\n",
       "        vertical-align: top;\n",
       "    }\n",
       "\n",
       "    .dataframe thead th {\n",
       "        text-align: right;\n",
       "    }\n",
       "</style>\n",
       "<table border=\"1\" class=\"dataframe\">\n",
       "  <thead>\n",
       "    <tr style=\"text-align: right;\">\n",
       "      <th></th>\n",
       "      <th>Date_reported</th>\n",
       "      <th>Country_code</th>\n",
       "      <th>Country</th>\n",
       "      <th>WHO_region</th>\n",
       "      <th>New_cases</th>\n",
       "      <th>Cumulative_cases</th>\n",
       "      <th>New_deaths</th>\n",
       "      <th>Cumulative_deaths</th>\n",
       "    </tr>\n",
       "  </thead>\n",
       "  <tbody>\n",
       "    <tr>\n",
       "      <th>166132</th>\n",
       "      <td>2021-11-29</td>\n",
       "      <td>ZW</td>\n",
       "      <td>Zimbabwe</td>\n",
       "      <td>AFRO</td>\n",
       "      <td>40</td>\n",
       "      <td>133991</td>\n",
       "      <td>0</td>\n",
       "      <td>4705</td>\n",
       "    </tr>\n",
       "    <tr>\n",
       "      <th>166133</th>\n",
       "      <td>2021-11-30</td>\n",
       "      <td>ZW</td>\n",
       "      <td>Zimbabwe</td>\n",
       "      <td>AFRO</td>\n",
       "      <td>235</td>\n",
       "      <td>134226</td>\n",
       "      <td>1</td>\n",
       "      <td>4706</td>\n",
       "    </tr>\n",
       "    <tr>\n",
       "      <th>166134</th>\n",
       "      <td>2021-12-01</td>\n",
       "      <td>ZW</td>\n",
       "      <td>Zimbabwe</td>\n",
       "      <td>AFRO</td>\n",
       "      <td>426</td>\n",
       "      <td>134652</td>\n",
       "      <td>1</td>\n",
       "      <td>4707</td>\n",
       "    </tr>\n",
       "    <tr>\n",
       "      <th>166135</th>\n",
       "      <td>2021-12-02</td>\n",
       "      <td>ZW</td>\n",
       "      <td>Zimbabwe</td>\n",
       "      <td>AFRO</td>\n",
       "      <td>685</td>\n",
       "      <td>135337</td>\n",
       "      <td>0</td>\n",
       "      <td>4707</td>\n",
       "    </tr>\n",
       "    <tr>\n",
       "      <th>166136</th>\n",
       "      <td>2021-12-03</td>\n",
       "      <td>ZW</td>\n",
       "      <td>Zimbabwe</td>\n",
       "      <td>AFRO</td>\n",
       "      <td>1042</td>\n",
       "      <td>136379</td>\n",
       "      <td>0</td>\n",
       "      <td>4707</td>\n",
       "    </tr>\n",
       "  </tbody>\n",
       "</table>\n",
       "</div>"
      ],
      "text/plain": [
       "       Date_reported Country_code   Country WHO_region  New_cases  \\\n",
       "166132    2021-11-29           ZW  Zimbabwe       AFRO         40   \n",
       "166133    2021-11-30           ZW  Zimbabwe       AFRO        235   \n",
       "166134    2021-12-01           ZW  Zimbabwe       AFRO        426   \n",
       "166135    2021-12-02           ZW  Zimbabwe       AFRO        685   \n",
       "166136    2021-12-03           ZW  Zimbabwe       AFRO       1042   \n",
       "\n",
       "        Cumulative_cases  New_deaths  Cumulative_deaths  \n",
       "166132            133991           0               4705  \n",
       "166133            134226           1               4706  \n",
       "166134            134652           1               4707  \n",
       "166135            135337           0               4707  \n",
       "166136            136379           0               4707  "
      ]
     },
     "execution_count": 62,
     "metadata": {},
     "output_type": "execute_result"
    }
   ],
   "source": [
    "global_df = pd.read_csv('dataset/WHO-COVID-19-global-data.csv')\n",
    "global_df.tail()"
   ]
  },
  {
   "cell_type": "markdown",
<<<<<<< HEAD:Khám phá dữ liệu.ipynb
   "id": "b6e8c2ff-6487-4819-a2fb-fb21768a8174",
   "metadata": {
=======
   "id": "35f39b1d",
   "metadata": {
    "jp-MarkdownHeadingCollapsed": true,
>>>>>>> 8150654bc0fad9b03597dd4d909c6c0b56b325c0:Khám-phá-dữ-liệu.ipynb
    "tags": []
   },
   "source": [
    "### Dữ liệu có bao nhiêu dòng và cột ?"
   ]
  },
  {
   "cell_type": "markdown",
   "id": "359491a4-7085-483f-b635-96154e3f7e2d",
   "metadata": {},
   "source": [
    "Tính số dòng và số cột rồi lưu vào biến `num_rows_global` và `num_cols_global`"
   ]
  },
  {
   "cell_type": "code",
   "execution_count": 63,
   "id": "a49734db",
   "metadata": {},
   "outputs": [
    {
     "name": "stdout",
     "output_type": "stream",
     "text": [
      "Dữ liệu có 166137 dòng\n",
      "Dữ liệu có 8 cột\n"
     ]
    }
   ],
   "source": [
    "num_rows_global , num_cols_global = global_df.shape\n",
    "print(f'Dữ liệu có {num_rows_global} dòng')\n",
    "print(f'Dữ liệu có {num_cols_global} cột')"
   ]
  },
  {
   "cell_type": "markdown",
<<<<<<< HEAD:Khám phá dữ liệu.ipynb
   "id": "afbbff8b-bd8b-4106-a10f-f8e3cf9c7fac",
=======
   "id": "e969af9d",
>>>>>>> 8150654bc0fad9b03597dd4d909c6c0b56b325c0:Khám-phá-dữ-liệu.ipynb
   "metadata": {
    "jp-MarkdownHeadingCollapsed": true,
    "tags": []
   },
   "source": [
    "### Mỗi dòng dữ liệu có ý nghĩa gì ? Có vấn đề các dòng có ý nghĩa khác nhau không ?"
   ]
  },
  {
   "cell_type": "markdown",
   "id": "5131a7df-b1d7-4369-8b37-63d575a7306c",
   "metadata": {},
   "source": [
    "Theo quan sát sơ bộ và file mô tả dữ liệu trên website chính của WHO thì dữ liệu cho biết thông tin về tính hình COVID-19 hằng ngày của từng quốc gia. \\\n",
    "Có vẻ không có vấn đề về ý nghĩa từng dòng."
   ]
  },
  {
   "cell_type": "markdown",
<<<<<<< HEAD:Khám phá dữ liệu.ipynb
   "id": "3714ae84-edaf-41b2-a8c0-5522aedc4eb0",
   "metadata": {
=======
   "id": "ea271203",
   "metadata": {
    "jp-MarkdownHeadingCollapsed": true,
>>>>>>> 8150654bc0fad9b03597dd4d909c6c0b56b325c0:Khám-phá-dữ-liệu.ipynb
    "tags": []
   },
   "source": [
    "### Dữ liệu có bị lặp không"
   ]
  },
  {
   "cell_type": "markdown",
   "id": "bbf999eb-5b84-4fd0-ab2c-07acf7b178df",
   "metadata": {},
   "source": [
    "Tính số dòng dữ liệu bị trùng (nếu có) rồi lưu vào biến `num_rows_dupicated`."
   ]
  },
  {
   "cell_type": "code",
   "execution_count": 64,
   "id": "602e6ff3",
   "metadata": {},
   "outputs": [
    {
     "name": "stdout",
     "output_type": "stream",
     "text": [
      "0\n"
     ]
    }
   ],
   "source": [
    "num_rows_duplicated = num_rows_global - len(global_df.drop_duplicates())\n",
    "print(num_rows_duplicated)"
   ]
  },
  {
   "cell_type": "markdown",
<<<<<<< HEAD:Khám phá dữ liệu.ipynb
   "id": "404b5115-cada-4e41-8896-76ff5d021e90",
   "metadata": {
=======
   "id": "9afca4fa",
   "metadata": {
    "jp-MarkdownHeadingCollapsed": true,
>>>>>>> 8150654bc0fad9b03597dd4d909c6c0b56b325c0:Khám-phá-dữ-liệu.ipynb
    "tags": []
   },
   "source": [
    "### Mỗi cột có ý nghĩa gì ?"
   ]
  },
  {
   "cell_type": "markdown",
   "id": "95d91381-c29c-4ffc-aa56-6a302571a0d9",
   "metadata": {},
   "source": [
    "Dựa vào mô tả chính thức trên website WHO, em đã mô tả ý nghĩa từng cột dữ liệu trong file `description_global.csv`"
   ]
  },
  {
   "cell_type": "code",
   "execution_count": 65,
   "id": "bc4aae80",
   "metadata": {
    "scrolled": true
   },
   "outputs": [],
   "source": [
    "pd.set_option(\"display.max_colwidth\",500)\n",
    "description_global = pd.read_csv('dataset/Description-global.csv',\n",
    "                                 delimiter= '\\t',index_col= 'Field name')"
   ]
  },
  {
   "cell_type": "code",
   "execution_count": 66,
   "id": "0f2e62d3",
   "metadata": {},
   "outputs": [
    {
     "data": {
      "text/html": [
       "<div>\n",
       "<style scoped>\n",
       "    .dataframe tbody tr th:only-of-type {\n",
       "        vertical-align: middle;\n",
       "    }\n",
       "\n",
       "    .dataframe tbody tr th {\n",
       "        vertical-align: top;\n",
       "    }\n",
       "\n",
       "    .dataframe thead th {\n",
       "        text-align: right;\n",
       "    }\n",
       "</style>\n",
       "<table border=\"1\" class=\"dataframe\">\n",
       "  <thead>\n",
       "    <tr style=\"text-align: right;\">\n",
       "      <th></th>\n",
       "      <th>Type</th>\n",
       "      <th>Description</th>\n",
       "    </tr>\n",
       "    <tr>\n",
       "      <th>Field name</th>\n",
       "      <th></th>\n",
       "      <th></th>\n",
       "    </tr>\n",
       "  </thead>\n",
       "  <tbody>\n",
       "    <tr>\n",
       "      <th>Date_reported</th>\n",
       "      <td>Date</td>\n",
       "      <td>Date of reporting to WHO</td>\n",
       "    </tr>\n",
       "    <tr>\n",
       "      <th>Country_code</th>\n",
       "      <td>String</td>\n",
       "      <td>ISO Alpha-2 country code</td>\n",
       "    </tr>\n",
       "    <tr>\n",
       "      <th>Country</th>\n",
       "      <td>String</td>\n",
       "      <td>Country, territory, area</td>\n",
       "    </tr>\n",
       "    <tr>\n",
       "      <th>WHO_region</th>\n",
       "      <td>String</td>\n",
       "      <td>WHO regional offices: WHO Member States are grouped into six WHO regions -- Regional Office for Africa (AFRO), Regional Office for the Americas (AMRO), Regional Office for South-East Asia (SEARO), Regional Office for Europe (EURO), Regional Office for the Eastern Mediterranean (EMRO), and Regional Office for the Western Pacific (WPRO).</td>\n",
       "    </tr>\n",
       "    <tr>\n",
       "      <th>New_cases</th>\n",
       "      <td>Integer</td>\n",
       "      <td>New confirmed cases. Calculated by subtracting previous cumulative case count from current cumulative cases count.*</td>\n",
       "    </tr>\n",
       "    <tr>\n",
       "      <th>Cumulative_cases</th>\n",
       "      <td>Integer</td>\n",
       "      <td>Cumulative confirmed cases reported to WHO to date.</td>\n",
       "    </tr>\n",
       "    <tr>\n",
       "      <th>New_deaths</th>\n",
       "      <td>Integer</td>\n",
       "      <td>New confirmed deaths. Calculated by subtracting previous cumulative deaths from current cumulative deaths.*</td>\n",
       "    </tr>\n",
       "    <tr>\n",
       "      <th>Cumulative_deaths</th>\n",
       "      <td>Integer</td>\n",
       "      <td>Cumulative confirmed deaths reported to WHO to date.</td>\n",
       "    </tr>\n",
       "  </tbody>\n",
       "</table>\n",
       "</div>"
      ],
      "text/plain": [
       "                      Type  \\\n",
       "Field name                   \n",
       "Date_reported         Date   \n",
       "Country_code        String   \n",
       "Country             String   \n",
       "WHO_region          String   \n",
       "New_cases          Integer   \n",
       "Cumulative_cases   Integer   \n",
       "New_deaths         Integer   \n",
       "Cumulative_deaths  Integer   \n",
       "\n",
       "                                                                                                                                                                                                                                                                                                                                                         Description  \n",
       "Field name                                                                                                                                                                                                                                                                                                                                                            \n",
       "Date_reported                                                                                                                                                                                                                                                                                                                               Date of reporting to WHO  \n",
       "Country_code                                                                                                                                                                                                                                                                                                                                ISO Alpha-2 country code  \n",
       "Country                                                                                                                                                                                                                                                                                                                                     Country, territory, area  \n",
       "WHO_region         WHO regional offices: WHO Member States are grouped into six WHO regions -- Regional Office for Africa (AFRO), Regional Office for the Americas (AMRO), Regional Office for South-East Asia (SEARO), Regional Office for Europe (EURO), Regional Office for the Eastern Mediterranean (EMRO), and Regional Office for the Western Pacific (WPRO).  \n",
       "New_cases                                                                                                                                                                                                                                        New confirmed cases. Calculated by subtracting previous cumulative case count from current cumulative cases count.*  \n",
       "Cumulative_cases                                                                                                                                                                                                                                                                                                 Cumulative confirmed cases reported to WHO to date.  \n",
       "New_deaths                                                                                                                                                                                                                                               New confirmed deaths. Calculated by subtracting previous cumulative deaths from current cumulative deaths.*  \n",
       "Cumulative_deaths                                                                                                                                                                                                                                                                                               Cumulative confirmed deaths reported to WHO to date.  "
      ]
     },
     "execution_count": 66,
     "metadata": {},
     "output_type": "execute_result"
    }
   ],
   "source": [
    "description_global"
   ]
  },
  {
   "cell_type": "markdown",
<<<<<<< HEAD:Khám phá dữ liệu.ipynb
   "id": "0303b7fa-273a-4cc9-948e-3332eeb7c290",
   "metadata": {
=======
   "id": "a17d9247",
   "metadata": {
    "jp-MarkdownHeadingCollapsed": true,
>>>>>>> 8150654bc0fad9b03597dd4d909c6c0b56b325c0:Khám-phá-dữ-liệu.ipynb
    "tags": []
   },
   "source": [
    "### Mỗi cột hiện tại đang có dữ liệu gì ?"
   ]
  },
  {
   "cell_type": "code",
   "execution_count": 67,
   "id": "ce0b793e",
   "metadata": {
    "scrolled": true
   },
   "outputs": [
    {
     "data": {
      "text/plain": [
       "Date_reported        object\n",
       "Country_code         object\n",
       "Country              object\n",
       "WHO_region           object\n",
       "New_cases             int64\n",
       "Cumulative_cases      int64\n",
       "New_deaths            int64\n",
       "Cumulative_deaths     int64\n",
       "dtype: object"
      ]
     },
     "execution_count": 67,
     "metadata": {},
     "output_type": "execute_result"
    }
   ],
   "source": [
    "global_df.dtypes"
   ]
  },
  {
   "cell_type": "markdown",
   "id": "1595cc2c-87a5-4d87-9831-b65a1f2fada4",
   "metadata": {},
   "source": [
    "`Date_reported` nên có kiểu dữ liệu `datetime`"
   ]
  },
  {
   "cell_type": "markdown",
<<<<<<< HEAD:Khám phá dữ liệu.ipynb
   "id": "a4b20fa3-29ee-41ab-956b-aa09c1efbad1",
   "metadata": {
=======
   "id": "dc17c9cb",
   "metadata": {
    "jp-MarkdownHeadingCollapsed": true,
>>>>>>> 8150654bc0fad9b03597dd4d909c6c0b56b325c0:Khám-phá-dữ-liệu.ipynb
    "tags": []
   },
   "source": [
    "---\n",
    "### Tiền xử lý: Thay đổi kiểu dữ liệu"
   ]
  },
  {
   "cell_type": "code",
   "execution_count": 68,
   "id": "e944a467",
   "metadata": {},
   "outputs": [],
   "source": [
    "global_df['Date_reported'] = pd.to_datetime(global_df['Date_reported'])"
   ]
  },
  {
   "cell_type": "markdown",
<<<<<<< HEAD:Khám phá dữ liệu.ipynb
   "id": "e105f330-8fc3-4bf5-905c-8e3c7e064d54",
=======
   "id": "ce1d51af",
>>>>>>> 8150654bc0fad9b03597dd4d909c6c0b56b325c0:Khám-phá-dữ-liệu.ipynb
   "metadata": {},
   "source": [
    "Vậy **Kiểu dữ liệu không có gì bất thường**"
   ]
  },
  {
   "cell_type": "markdown",
<<<<<<< HEAD:Khám phá dữ liệu.ipynb
   "id": "1a6369ef-92d2-44d6-aad2-6f8849e9e800",
   "metadata": {
=======
   "id": "5080f161",
   "metadata": {
    "jp-MarkdownHeadingCollapsed": true,
>>>>>>> 8150654bc0fad9b03597dd4d909c6c0b56b325c0:Khám-phá-dữ-liệu.ipynb
    "tags": []
   },
   "source": [
    "---\n",
    "### Quay lại khám phá dữ liệu: Phân bố kiểu dữ liệu numerical"
   ]
  },
  {
   "cell_type": "code",
<<<<<<< HEAD:Khám phá dữ liệu.ipynb
   "execution_count": 69,
=======
   "execution_count": 1,
>>>>>>> 8150654bc0fad9b03597dd4d909c6c0b56b325c0:Khám-phá-dữ-liệu.ipynb
   "id": "81454e78",
   "metadata": {},
   "outputs": [
    {
<<<<<<< HEAD:Khám phá dữ liệu.ipynb
     "data": {
      "text/html": [
       "<div>\n",
       "<style scoped>\n",
       "    .dataframe tbody tr th:only-of-type {\n",
       "        vertical-align: middle;\n",
       "    }\n",
       "\n",
       "    .dataframe tbody tr th {\n",
       "        vertical-align: top;\n",
       "    }\n",
       "\n",
       "    .dataframe thead th {\n",
       "        text-align: right;\n",
       "    }\n",
       "</style>\n",
       "<table border=\"1\" class=\"dataframe\">\n",
       "  <thead>\n",
       "    <tr style=\"text-align: right;\">\n",
       "      <th></th>\n",
       "      <th>Date_reported</th>\n",
       "      <th>New_cases</th>\n",
       "      <th>Cumulative_cases</th>\n",
       "      <th>New_deaths</th>\n",
       "      <th>Cumulative_deaths</th>\n",
       "    </tr>\n",
       "  </thead>\n",
       "  <tbody>\n",
       "    <tr>\n",
       "      <th>missing_ration</th>\n",
       "      <td>0.0</td>\n",
       "      <td>0.0</td>\n",
       "      <td>0.0</td>\n",
       "      <td>0.0</td>\n",
       "      <td>0.0</td>\n",
       "    </tr>\n",
       "    <tr>\n",
       "      <th>min</th>\n",
       "      <td>2020-01-03 00:00:00</td>\n",
       "      <td>-32952.0</td>\n",
       "      <td>0.0</td>\n",
       "      <td>-2371.0</td>\n",
       "      <td>0.0</td>\n",
       "    </tr>\n",
       "    <tr>\n",
       "      <th>lower_quantile</th>\n",
       "      <td>2020-06-26 00:00:00</td>\n",
       "      <td>0.0</td>\n",
       "      <td>69.0</td>\n",
       "      <td>0.0</td>\n",
       "      <td>0.0</td>\n",
       "    </tr>\n",
       "    <tr>\n",
       "      <th>median</th>\n",
       "      <td>2020-12-18 00:00:00</td>\n",
       "      <td>16.0</td>\n",
       "      <td>5906.0</td>\n",
       "      <td>0.0</td>\n",
       "      <td>91.0</td>\n",
       "    </tr>\n",
       "    <tr>\n",
       "      <th>upper_quantile</th>\n",
       "      <td>2021-06-11 00:00:00</td>\n",
       "      <td>402.0</td>\n",
       "      <td>102499.0</td>\n",
       "      <td>6.0</td>\n",
       "      <td>1761.0</td>\n",
       "    </tr>\n",
       "    <tr>\n",
       "      <th>max</th>\n",
       "      <td>2021-12-03 00:00:00</td>\n",
       "      <td>414188.0</td>\n",
       "      <td>48413265.0</td>\n",
       "      <td>8786.0</td>\n",
       "      <td>778336.0</td>\n",
       "    </tr>\n",
       "  </tbody>\n",
       "</table>\n",
       "</div>"
      ],
      "text/plain": [
       "                      Date_reported  New_cases  Cumulative_cases  New_deaths  \\\n",
       "missing_ration                  0.0        0.0               0.0         0.0   \n",
       "min             2020-01-03 00:00:00   -32952.0               0.0     -2371.0   \n",
       "lower_quantile  2020-06-26 00:00:00        0.0              69.0         0.0   \n",
       "median          2020-12-18 00:00:00       16.0            5906.0         0.0   \n",
       "upper_quantile  2021-06-11 00:00:00      402.0          102499.0         6.0   \n",
       "max             2021-12-03 00:00:00   414188.0        48413265.0      8786.0   \n",
       "\n",
       "                Cumulative_deaths  \n",
       "missing_ration                0.0  \n",
       "min                           0.0  \n",
       "lower_quantile                0.0  \n",
       "median                       91.0  \n",
       "upper_quantile             1761.0  \n",
       "max                      778336.0  "
      ]
     },
     "execution_count": 69,
     "metadata": {},
     "output_type": "execute_result"
=======
     "ename": "NameError",
     "evalue": "name 'global_df' is not defined",
     "output_type": "error",
     "traceback": [
      "\u001b[1;31m---------------------------------------------------------------------------\u001b[0m",
      "\u001b[1;31mNameError\u001b[0m                                 Traceback (most recent call last)",
      "\u001b[1;32m<ipython-input-1-e07266b9b31a>\u001b[0m in \u001b[0;36m<module>\u001b[1;34m\u001b[0m\n\u001b[1;32m----> 1\u001b[1;33m \u001b[0mnumerical_df\u001b[0m \u001b[1;33m=\u001b[0m \u001b[0mglobal_df\u001b[0m\u001b[1;33m.\u001b[0m\u001b[0mselect_dtypes\u001b[0m\u001b[1;33m(\u001b[0m\u001b[1;33m[\u001b[0m\u001b[1;34m'int64'\u001b[0m\u001b[1;33m,\u001b[0m\u001b[1;34m'float64'\u001b[0m\u001b[1;33m,\u001b[0m\u001b[1;34m'datetime64'\u001b[0m\u001b[1;33m]\u001b[0m\u001b[1;33m)\u001b[0m\u001b[1;33m\u001b[0m\u001b[1;33m\u001b[0m\u001b[0m\n\u001b[0m\u001b[0;32m      2\u001b[0m numerical_df.agg([missing_ration,pd.Series.min,lower_quantile,\n\u001b[0;32m      3\u001b[0m                   pd.Series.median,upper_quantile,pd.Series.max])\n",
      "\u001b[1;31mNameError\u001b[0m: name 'global_df' is not defined"
     ]
>>>>>>> 8150654bc0fad9b03597dd4d909c6c0b56b325c0:Khám-phá-dữ-liệu.ipynb
    }
   ],
   "source": [
    "numerical_df = global_df.select_dtypes(['int64','float64','datetime64'])\n",
    "numerical_df.agg([missing_ration,pd.Series.min,lower_quantile,\n",
    "                  pd.Series.median,upper_quantile,pd.Series.max])"
   ]
  },
  {
   "cell_type": "markdown",
   "id": "d5da56b1-e20e-4459-99d5-eaa740ee327e",
   "metadata": {},
   "source": [
    "Vậy **không có gì bất thường**"
   ]
  },
  {
   "cell_type": "markdown",
<<<<<<< HEAD:Khám phá dữ liệu.ipynb
   "id": "4e009cde-0397-4abe-8ae9-04c31cdab97f",
   "metadata": {
=======
   "id": "76b8b8f6",
   "metadata": {
    "jp-MarkdownHeadingCollapsed": true,
>>>>>>> 8150654bc0fad9b03597dd4d909c6c0b56b325c0:Khám-phá-dữ-liệu.ipynb
    "tags": []
   },
   "source": [
    "### Phân bố kiểu dữ liệu categorical"
   ]
  },
  {
   "cell_type": "code",
   "execution_count": 70,
   "id": "d03f5f49",
   "metadata": {},
   "outputs": [
    {
     "data": {
      "text/html": [
       "<div>\n",
       "<style scoped>\n",
       "    .dataframe tbody tr th:only-of-type {\n",
       "        vertical-align: middle;\n",
       "    }\n",
       "\n",
       "    .dataframe tbody tr th {\n",
       "        vertical-align: top;\n",
       "    }\n",
       "\n",
       "    .dataframe thead th {\n",
       "        text-align: right;\n",
       "    }\n",
       "</style>\n",
       "<table border=\"1\" class=\"dataframe\">\n",
       "  <thead>\n",
       "    <tr style=\"text-align: right;\">\n",
       "      <th></th>\n",
       "      <th>Country_code</th>\n",
       "      <th>Country</th>\n",
       "      <th>WHO_region</th>\n",
       "    </tr>\n",
       "  </thead>\n",
       "  <tbody>\n",
       "    <tr>\n",
       "      <th>missing_ration</th>\n",
       "      <td>0.4</td>\n",
       "      <td>0.0</td>\n",
       "      <td>0.0</td>\n",
       "    </tr>\n",
       "    <tr>\n",
       "      <th>unique</th>\n",
       "      <td>[AF, AL, DZ, AS, AD, AO, AI, AG, AR, AM, AW, AU...</td>\n",
       "      <td>[Afghanistan, Albania, Algeria, American Samoa,...</td>\n",
       "      <td>[EMRO, EURO, AFRO, WPRO, AMRO, SEARO, Other]</td>\n",
       "    </tr>\n",
       "    <tr>\n",
       "      <th>nunique</th>\n",
       "      <td>236</td>\n",
       "      <td>237</td>\n",
       "      <td>7</td>\n",
       "    </tr>\n",
       "  </tbody>\n",
       "</table>\n",
       "</div>"
      ],
      "text/plain": [
       "                                                      Country_code  \\\n",
       "missing_ration                                                 0.4   \n",
       "unique          [AF, AL, DZ, AS, AD, AO, AI, AG, AR, AM, AW, AU...   \n",
       "nunique                                                        236   \n",
       "\n",
       "                                                           Country  \\\n",
       "missing_ration                                                 0.0   \n",
       "unique          [Afghanistan, Albania, Algeria, American Samoa,...   \n",
       "nunique                                                        237   \n",
       "\n",
       "                                                  WHO_region  \n",
       "missing_ration                                           0.0  \n",
       "unique          [EMRO, EURO, AFRO, WPRO, AMRO, SEARO, Other]  \n",
       "nunique                                                    7  "
      ]
     },
     "execution_count": 70,
     "metadata": {},
     "output_type": "execute_result"
    }
   ],
   "source": [
    "pd.set_option(\"display.max_colwidth\",51)\n",
    "categorical_df = global_df.select_dtypes(['object'])\n",
    "categorical_df.agg([missing_ration,pd.Series.unique,pd.Series.nunique])"
   ]
  },
  {
   "cell_type": "markdown",
   "id": "e31dd7e4-072d-47e6-b0f3-7ba40dc74c35",
   "metadata": {},
   "source": [
    "Vẽ `barh chart` cho `WHO Region`"
   ]
  },
  {
   "cell_type": "code",
   "execution_count": 71,
   "id": "2f38bb19",
   "metadata": {
    "scrolled": true
   },
   "outputs": [
    {
     "data": {
      "image/png": "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",
      "text/plain": [
       "<Figure size 432x288 with 1 Axes>"
      ]
     },
     "metadata": {
      "needs_background": "light"
     },
     "output_type": "display_data"
    }
   ],
   "source": [
    "global_df['WHO_region'].value_counts(normalize=True).plot.barh()\n",
    "plt.xlabel('Tỉ lệ')\n",
    "plt.title('Tỉ lệ WHO Region');"
   ]
  },
  {
   "cell_type": "markdown",
   "id": "9f41cf46-9596-43c2-9863-f38b846e24df",
   "metadata": {},
   "source": [
    "`Bar chart` này có tỉ lệ khá tương quan với `Bar chart` mà ta đã khám phá ở phần trước đó. "
   ]
  },
  {
   "cell_type": "markdown",
<<<<<<< HEAD:Khám phá dữ liệu.ipynb
   "id": "32d101b0-ae68-4ef8-b8f6-7fd4bb413bdc",
=======
   "id": "90cfa19c-9b17-41ea-8541-53f020bec35e",
>>>>>>> 8150654bc0fad9b03597dd4d909c6c0b56b325c0:Khám-phá-dữ-liệu.ipynb
   "metadata": {
    "tags": []
   },
   "source": [
    "##\n",
    "<hr style=\"border:1px solid blue\"> </hr>"
   ]
  },
  {
   "cell_type": "markdown",
<<<<<<< HEAD:Khám phá dữ liệu.ipynb
   "id": "a47fc6ff-1620-44ca-ac93-47fe45d5f84a",
=======
   "id": "ae64cb4c-109b-4a2b-b722-bb643cf33b5b",
>>>>>>> 8150654bc0fad9b03597dd4d909c6c0b56b325c0:Khám-phá-dữ-liệu.ipynb
   "metadata": {},
   "source": [
    "## 3. Khám phá dữ liệu tình trạng tiêm chủng COVID-19 ở các quốc gia"
   ]
  },
  {
   "cell_type": "markdown",
<<<<<<< HEAD:Khám phá dữ liệu.ipynb
   "id": "a440b1e6-830b-4a86-a1b9-64bd5abd1737",
   "metadata": {
    "tags": []
   },
   "source": [
    "### Đọc dữ liệu từ file"
   ]
  },
  {
   "cell_type": "markdown",
   "id": "77f7f44f-be60-4832-bbda-f4d12c02a630",
   "metadata": {},
   "source": [
    "Đọc dữ liệu từ file `vaccination-data.csv` rồi lưu vào dataframe `vaccin_df`."
   ]
  },
  {
   "cell_type": "code",
   "execution_count": 173,
   "id": "e6cb1812-26a8-4b63-b54e-403c08ed4b11",
   "metadata": {
    "scrolled": true
   },
   "outputs": [
    {
     "data": {
      "text/html": [
       "<div>\n",
       "<style scoped>\n",
       "    .dataframe tbody tr th:only-of-type {\n",
       "        vertical-align: middle;\n",
       "    }\n",
       "\n",
       "    .dataframe tbody tr th {\n",
       "        vertical-align: top;\n",
       "    }\n",
       "\n",
       "    .dataframe thead th {\n",
       "        text-align: right;\n",
       "    }\n",
       "</style>\n",
       "<table border=\"1\" class=\"dataframe\">\n",
       "  <thead>\n",
       "    <tr style=\"text-align: right;\">\n",
       "      <th></th>\n",
       "      <th>COUNTRY</th>\n",
       "      <th>ISO3</th>\n",
       "      <th>WHO_REGION</th>\n",
       "      <th>DATA_SOURCE</th>\n",
       "      <th>DATE_UPDATED</th>\n",
       "      <th>TOTAL_VACCINATIONS</th>\n",
       "      <th>PERSONS_VACCINATED_1PLUS_DOSE</th>\n",
       "      <th>TOTAL_VACCINATIONS_PER100</th>\n",
       "      <th>PERSONS_VACCINATED_1PLUS_DOSE_PER100</th>\n",
       "      <th>PERSONS_FULLY_VACCINATED</th>\n",
       "      <th>PERSONS_FULLY_VACCINATED_PER100</th>\n",
       "      <th>VACCINES_USED</th>\n",
       "      <th>FIRST_VACCINE_DATE</th>\n",
       "      <th>NUMBER_VACCINES_TYPES_USED</th>\n",
       "    </tr>\n",
       "  </thead>\n",
       "  <tbody>\n",
       "    <tr>\n",
       "      <th>73</th>\n",
       "      <td>French Polynesia</td>\n",
       "      <td>PYF</td>\n",
       "      <td>WPRO</td>\n",
       "      <td>REPORTING</td>\n",
       "      <td>2021-11-28</td>\n",
       "      <td>319083</td>\n",
       "      <td>163124.0</td>\n",
       "      <td>113.590</td>\n",
       "      <td>58.070</td>\n",
       "      <td>155959.0</td>\n",
       "      <td>55.520</td>\n",
       "      <td>Janssen - Ad26.COV 2-S,Pfizer BioNTech - Comirnaty</td>\n",
       "      <td>2021-01-18</td>\n",
       "      <td>2.0</td>\n",
       "    </tr>\n",
       "    <tr>\n",
       "      <th>46</th>\n",
       "      <td>Congo</td>\n",
       "      <td>COG</td>\n",
       "      <td>AFRO</td>\n",
       "      <td>REPORTING</td>\n",
       "      <td>2021-11-27</td>\n",
       "      <td>651411</td>\n",
       "      <td>521700.0</td>\n",
       "      <td>11.805</td>\n",
       "      <td>9.454</td>\n",
       "      <td>480678.0</td>\n",
       "      <td>8.711</td>\n",
       "      <td>Beijing CNBG - BBIBP-CorV,Gamaleya - Gam-Covid-...</td>\n",
       "      <td>2021-03-23</td>\n",
       "      <td>4.0</td>\n",
       "    </tr>\n",
       "    <tr>\n",
       "      <th>82</th>\n",
       "      <td>Grenada</td>\n",
       "      <td>GRD</td>\n",
       "      <td>AMRO</td>\n",
       "      <td>REPORTING</td>\n",
       "      <td>2021-12-03</td>\n",
       "      <td>75154</td>\n",
       "      <td>40561.0</td>\n",
       "      <td>66.790</td>\n",
       "      <td>36.047</td>\n",
       "      <td>34593.0</td>\n",
       "      <td>30.743</td>\n",
       "      <td>AstraZeneca - Vaxzevria,Janssen - Ad26.COV 2-S,...</td>\n",
       "      <td>2021-02-15</td>\n",
       "      <td>4.0</td>\n",
       "    </tr>\n",
       "    <tr>\n",
       "      <th>156</th>\n",
       "      <td>Palau</td>\n",
       "      <td>PLW</td>\n",
       "      <td>WPRO</td>\n",
       "      <td>REPORTING</td>\n",
       "      <td>2021-11-30</td>\n",
       "      <td>33849</td>\n",
       "      <td>17910.0</td>\n",
       "      <td>187.094</td>\n",
       "      <td>98.994</td>\n",
       "      <td>15664.0</td>\n",
       "      <td>86.580</td>\n",
       "      <td>Janssen - Ad26.COV 2-S,Moderna - Spikevax,Pfize...</td>\n",
       "      <td>2021-01-03</td>\n",
       "      <td>3.0</td>\n",
       "    </tr>\n",
       "    <tr>\n",
       "      <th>113</th>\n",
       "      <td>Latvia</td>\n",
       "      <td>LVA</td>\n",
       "      <td>EURO</td>\n",
       "      <td>REPORTING</td>\n",
       "      <td>2021-11-28</td>\n",
       "      <td>2174049</td>\n",
       "      <td>1220651.0</td>\n",
       "      <td>114.000</td>\n",
       "      <td>63.986</td>\n",
       "      <td>886190.0</td>\n",
       "      <td>59.526</td>\n",
       "      <td>AstraZeneca - Vaxzevria,Janssen - Ad26.COV 2-S,...</td>\n",
       "      <td>2020-12-30</td>\n",
       "      <td>4.0</td>\n",
       "    </tr>\n",
       "  </tbody>\n",
       "</table>\n",
       "</div>"
      ],
      "text/plain": [
       "              COUNTRY ISO3 WHO_REGION DATA_SOURCE DATE_UPDATED  \\\n",
       "73   French Polynesia  PYF       WPRO   REPORTING   2021-11-28   \n",
       "46              Congo  COG       AFRO   REPORTING   2021-11-27   \n",
       "82            Grenada  GRD       AMRO   REPORTING   2021-12-03   \n",
       "156             Palau  PLW       WPRO   REPORTING   2021-11-30   \n",
       "113            Latvia  LVA       EURO   REPORTING   2021-11-28   \n",
       "\n",
       "     TOTAL_VACCINATIONS  PERSONS_VACCINATED_1PLUS_DOSE  \\\n",
       "73               319083                       163124.0   \n",
       "46               651411                       521700.0   \n",
       "82                75154                        40561.0   \n",
       "156               33849                        17910.0   \n",
       "113             2174049                      1220651.0   \n",
       "\n",
       "     TOTAL_VACCINATIONS_PER100  PERSONS_VACCINATED_1PLUS_DOSE_PER100  \\\n",
       "73                     113.590                                58.070   \n",
       "46                      11.805                                 9.454   \n",
       "82                      66.790                                36.047   \n",
       "156                    187.094                                98.994   \n",
       "113                    114.000                                63.986   \n",
       "\n",
       "     PERSONS_FULLY_VACCINATED  PERSONS_FULLY_VACCINATED_PER100  \\\n",
       "73                   155959.0                           55.520   \n",
       "46                   480678.0                            8.711   \n",
       "82                    34593.0                           30.743   \n",
       "156                   15664.0                           86.580   \n",
       "113                  886190.0                           59.526   \n",
       "\n",
       "                                          VACCINES_USED FIRST_VACCINE_DATE  \\\n",
       "73   Janssen - Ad26.COV 2-S,Pfizer BioNTech - Comirnaty         2021-01-18   \n",
       "46   Beijing CNBG - BBIBP-CorV,Gamaleya - Gam-Covid-...         2021-03-23   \n",
       "82   AstraZeneca - Vaxzevria,Janssen - Ad26.COV 2-S,...         2021-02-15   \n",
       "156  Janssen - Ad26.COV 2-S,Moderna - Spikevax,Pfize...         2021-01-03   \n",
       "113  AstraZeneca - Vaxzevria,Janssen - Ad26.COV 2-S,...         2020-12-30   \n",
       "\n",
       "     NUMBER_VACCINES_TYPES_USED  \n",
       "73                          2.0  \n",
       "46                          4.0  \n",
       "82                          4.0  \n",
       "156                         3.0  \n",
       "113                         4.0  "
      ]
     },
     "execution_count": 173,
     "metadata": {},
     "output_type": "execute_result"
    }
   ],
   "source": [
    "vaccin_df = pd.read_csv('dataset/vaccination-data.csv')\n",
    "vaccin_df.sample(5)"
   ]
  },
  {
   "cell_type": "markdown",
   "id": "9cc0e14d-c041-4f61-9689-952f3c122fb0",
   "metadata": {
    "tags": []
   },
   "source": [
    "### Dữ liệu có bao nhiêu dòng và cột ?"
   ]
  },
  {
   "cell_type": "markdown",
   "id": "f9d4dd34-c2b6-415d-b3e8-2604bc8484b8",
   "metadata": {},
   "source": [
    "Tính số dòng và số cột rồi lưu vào biến `num_rows_vaccin` và `num_cols_vaccin`"
   ]
  },
  {
   "cell_type": "code",
   "execution_count": 175,
   "id": "d48aea3d-0518-46e0-b2fc-3b50a94934be",
   "metadata": {},
   "outputs": [
    {
     "name": "stdout",
     "output_type": "stream",
     "text": [
      "Dữ liệu có 228 dòng\n",
      "Dữ liệu có 14 cột\n"
     ]
    }
   ],
   "source": [
    "num_rows_vaccin , num_cols_vaccin = vaccin_df.shape\n",
    "print(f'Dữ liệu có {num_rows_vaccin} dòng')\n",
    "print(f'Dữ liệu có {num_cols_vaccin} cột')"
   ]
  },
  {
   "cell_type": "markdown",
   "id": "139b4854-5f4d-45cf-909b-6fe46edafe7d",
   "metadata": {
    "tags": []
   },
   "source": [
    "### Mỗi dòng dữ liệu có ý nghĩa gì ? Có vấn đề các dòng có ý nghĩa khác nhau không ?"
   ]
  },
  {
   "cell_type": "markdown",
   "id": "19bfe9e5-b3c7-45cf-9cd0-564917ecae56",
   "metadata": {},
   "source": [
    "Theo quan sát sơ bộ và file mô tả dữ liệu trên website chính của WHO thì dữ liệu cho biết thông tin về tính hình tiêm chủng của từng quốc gia với ngày cập nhật gần nhất."
   ]
  },
  {
   "cell_type": "markdown",
   "id": "401369e5-f975-4faf-95ca-45ddbb03821b",
   "metadata": {
    "tags": []
   },
   "source": [
    "### Dữ liệu có bị lặp không"
   ]
  },
  {
   "cell_type": "markdown",
   "id": "8e0f1232-a99b-4bdc-8d6b-6d9ea181e807",
   "metadata": {},
   "source": [
    "Tính số dòng dữ liệu bị trùng (nếu có) rồi lưu vào biến `num_rows_dupicated`."
   ]
  },
  {
   "cell_type": "code",
   "execution_count": 176,
   "id": "e88c2f6a-fc78-4c49-8bff-945b0d9237fb",
   "metadata": {},
   "outputs": [
    {
     "name": "stdout",
     "output_type": "stream",
     "text": [
      "0\n"
     ]
    }
   ],
   "source": [
    "num_rows_duplicated = num_rows_vaccin - len(vaccin_df.drop_duplicates())\n",
    "print(num_rows_duplicated)"
   ]
  },
  {
   "cell_type": "markdown",
   "id": "0b3c8f05-00ae-4716-92f1-b7b087c5b18b",
   "metadata": {
    "tags": []
   },
   "source": [
    "### Mỗi cột có ý nghĩa gì ?"
   ]
  },
  {
   "cell_type": "markdown",
   "id": "81661cf2-096d-4e68-84b1-a7c497247342",
   "metadata": {},
   "source": [
    "Dựa vào mô tả chính thức trên website WHO, ý nghĩa từng cột được mô tả trong file `Description_data.csv`"
   ]
  },
  {
   "cell_type": "code",
   "execution_count": 177,
   "id": "4df012b7-d765-4a2f-8a62-74dbacd6b31b",
   "metadata": {
    "scrolled": true
   },
   "outputs": [],
   "source": [
    "pd.set_option(\"display.max_colwidth\",500)\n",
    "description_data = pd.read_csv('dataset/Description_data.csv',\n",
    "                                 delimiter= '\\t',index_col= 'Field name')"
   ]
  },
  {
   "cell_type": "code",
   "execution_count": 76,
   "id": "50161b23-4e78-424f-9f6b-2c73b2b4ac7e",
   "metadata": {},
   "outputs": [
    {
     "data": {
      "text/html": [
       "<div>\n",
       "<style scoped>\n",
       "    .dataframe tbody tr th:only-of-type {\n",
       "        vertical-align: middle;\n",
       "    }\n",
       "\n",
       "    .dataframe tbody tr th {\n",
       "        vertical-align: top;\n",
       "    }\n",
       "\n",
       "    .dataframe thead th {\n",
       "        text-align: right;\n",
       "    }\n",
       "</style>\n",
       "<table border=\"1\" class=\"dataframe\">\n",
       "  <thead>\n",
       "    <tr style=\"text-align: right;\">\n",
       "      <th></th>\n",
       "      <th>Type</th>\n",
       "      <th>Description</th>\n",
       "    </tr>\n",
       "    <tr>\n",
       "      <th>Field name</th>\n",
       "      <th></th>\n",
       "      <th></th>\n",
       "    </tr>\n",
       "  </thead>\n",
       "  <tbody>\n",
       "    <tr>\n",
       "      <th>COUNTRY</th>\n",
       "      <td>String</td>\n",
       "      <td>Country, territory, area</td>\n",
       "    </tr>\n",
       "    <tr>\n",
       "      <th>ISO3</th>\n",
       "      <td>String</td>\n",
       "      <td>ISO Alpha-3 country code</td>\n",
       "    </tr>\n",
       "    <tr>\n",
       "      <th>WHO_REGION</th>\n",
       "      <td>String</td>\n",
       "      <td>WHO regional offices: WHO Member States are grouped into six WHO regions:  Regional Office for Africa (AFRO), Regional Office for the Americas (AMRO), Regional Office for South-East Asia (SEARO), Regional Office for Europe (EURO), Regional Office for the Eastern Mediterranean (EMRO), and Regional Office for the Western Pacific (WPRO).</td>\n",
       "    </tr>\n",
       "    <tr>\n",
       "      <th>DATA_SOURCE</th>\n",
       "      <td>String</td>\n",
       "      <td>Indicates data source: - REPORTING: Data reported by Member States, or sourced from official reports - OWID: Data sourced from Our World in Data: https://ourworldindata.org/covid-vaccinations</td>\n",
       "    </tr>\n",
       "    <tr>\n",
       "      <th>DATE_UPDATED</th>\n",
       "      <td>Date</td>\n",
       "      <td>Date of last update</td>\n",
       "    </tr>\n",
       "    <tr>\n",
       "      <th>TOTAL_VACCINATIONS</th>\n",
       "      <td>Integer</td>\n",
       "      <td>Cumulative total vaccine doses administered</td>\n",
       "    </tr>\n",
       "    <tr>\n",
       "      <th>PERSONS_VACCINATED_1PLUS_DOSE</th>\n",
       "      <td>Decimal</td>\n",
       "      <td>Cumulative number of persons vaccinated with at least one dose</td>\n",
       "    </tr>\n",
       "    <tr>\n",
       "      <th>TOTAL_VACCINATIONS_PER100</th>\n",
       "      <td>Integer</td>\n",
       "      <td>Cumulative total vaccine doses administered per 100 population</td>\n",
       "    </tr>\n",
       "    <tr>\n",
       "      <th>PERSONS_VACCINATED_1PLUS_DOSE_PER100</th>\n",
       "      <td>Decimal</td>\n",
       "      <td>Cumulative persons vaccinated with at least one dose per 100 population</td>\n",
       "    </tr>\n",
       "    <tr>\n",
       "      <th>PERSONS_FULLY_VACCINATED</th>\n",
       "      <td>Integer</td>\n",
       "      <td>Cumulative number of persons fully vaccinated</td>\n",
       "    </tr>\n",
       "    <tr>\n",
       "      <th>PERSONS_FULLY_VACCINATED_PER100</th>\n",
       "      <td>Decimal</td>\n",
       "      <td>Cumulative number of persons fully vaccinated per 100 population</td>\n",
       "    </tr>\n",
       "    <tr>\n",
       "      <th>VACCINES_USED</th>\n",
       "      <td>String</td>\n",
       "      <td>Combined short name of vaccine: âCompany - Product nameâ (see below)</td>\n",
       "    </tr>\n",
       "    <tr>\n",
       "      <th>FIRST_VACCINE_DATE</th>\n",
       "      <td>Date</td>\n",
       "      <td>Date of first vaccinations. Equivalent to start/launch  date of the first vaccine administered in a country.</td>\n",
       "    </tr>\n",
       "    <tr>\n",
       "      <th>NUMBER_VACCINES_TYPES_USED</th>\n",
       "      <td>Integer</td>\n",
       "      <td>Number of vaccine types used per country, territory, area</td>\n",
       "    </tr>\n",
       "  </tbody>\n",
       "</table>\n",
       "</div>"
      ],
      "text/plain": [
       "                                         Type  \\\n",
       "Field name                                      \n",
       "COUNTRY                                String   \n",
       "ISO3                                   String   \n",
       "WHO_REGION                             String   \n",
       "DATA_SOURCE                            String   \n",
       "DATE_UPDATED                             Date   \n",
       "TOTAL_VACCINATIONS                    Integer   \n",
       "PERSONS_VACCINATED_1PLUS_DOSE         Decimal   \n",
       "TOTAL_VACCINATIONS_PER100             Integer   \n",
       "PERSONS_VACCINATED_1PLUS_DOSE_PER100  Decimal   \n",
       "PERSONS_FULLY_VACCINATED              Integer   \n",
       "PERSONS_FULLY_VACCINATED_PER100       Decimal   \n",
       "VACCINES_USED                          String   \n",
       "FIRST_VACCINE_DATE                       Date   \n",
       "NUMBER_VACCINES_TYPES_USED            Integer   \n",
       "\n",
       "                                                                                                                                                                                                                                                                                                                                                                           Description  \n",
       "Field name                                                                                                                                                                                                                                                                                                                                                                              \n",
       "COUNTRY                                                                                                                                                                                                                                                                                                                                                       Country, territory, area  \n",
       "ISO3                                                                                                                                                                                                                                                                                                                                                          ISO Alpha-3 country code  \n",
       "WHO_REGION                            WHO regional offices: WHO Member States are grouped into six WHO regions:  Regional Office for Africa (AFRO), Regional Office for the Americas (AMRO), Regional Office for South-East Asia (SEARO), Regional Office for Europe (EURO), Regional Office for the Eastern Mediterranean (EMRO), and Regional Office for the Western Pacific (WPRO).  \n",
       "DATA_SOURCE                                                                                                                                                                            Indicates data source: - REPORTING: Data reported by Member States, or sourced from official reports - OWID: Data sourced from Our World in Data: https://ourworldindata.org/covid-vaccinations  \n",
       "DATE_UPDATED                                                                                                                                                                                                                                                                                                                                                       Date of last update  \n",
       "TOTAL_VACCINATIONS                                                                                                                                                                                                                                                                                                                         Cumulative total vaccine doses administered  \n",
       "PERSONS_VACCINATED_1PLUS_DOSE                                                                                                                                                                                                                                                                                           Cumulative number of persons vaccinated with at least one dose  \n",
       "TOTAL_VACCINATIONS_PER100                                                                                                                                                                                                                                                                                               Cumulative total vaccine doses administered per 100 population  \n",
       "PERSONS_VACCINATED_1PLUS_DOSE_PER100                                                                                                                                                                                                                                                                           Cumulative persons vaccinated with at least one dose per 100 population  \n",
       "PERSONS_FULLY_VACCINATED                                                                                                                                                                                                                                                                                                                 Cumulative number of persons fully vaccinated  \n",
       "PERSONS_FULLY_VACCINATED_PER100                                                                                                                                                                                                                                                                                       Cumulative number of persons fully vaccinated per 100 population  \n",
       "VACCINES_USED                                                                                                                                                                                                                                                                                                 Combined short name of vaccine: âCompany - Product nameâ (see below)  \n",
       "FIRST_VACCINE_DATE                                                                                                                                                                                                                                                        Date of first vaccinations. Equivalent to start/launch  date of the first vaccine administered in a country.  \n",
       "NUMBER_VACCINES_TYPES_USED                                                                                                                                                                                                                                                                                                   Number of vaccine types used per country, territory, area  "
      ]
     },
     "execution_count": 76,
     "metadata": {},
     "output_type": "execute_result"
    }
   ],
   "source": [
    "description_data"
   ]
  },
  {
   "cell_type": "markdown",
   "id": "0f39251c-fb08-4327-9e57-340e8aaceb27",
   "metadata": {
    "tags": []
   },
   "source": [
    "### Mỗi cột hiện tại đang có dữ liệu gì ?"
   ]
  },
  {
   "cell_type": "code",
   "execution_count": 178,
   "id": "53275c99-e5b5-4011-847f-8e21783bf94a",
   "metadata": {
    "scrolled": true
   },
   "outputs": [
    {
     "data": {
      "text/plain": [
       "COUNTRY                                  object\n",
       "ISO3                                     object\n",
       "WHO_REGION                               object\n",
       "DATA_SOURCE                              object\n",
       "DATE_UPDATED                             object\n",
       "TOTAL_VACCINATIONS                        int64\n",
       "PERSONS_VACCINATED_1PLUS_DOSE           float64\n",
       "TOTAL_VACCINATIONS_PER100               float64\n",
       "PERSONS_VACCINATED_1PLUS_DOSE_PER100    float64\n",
       "PERSONS_FULLY_VACCINATED                float64\n",
       "PERSONS_FULLY_VACCINATED_PER100         float64\n",
       "VACCINES_USED                            object\n",
       "FIRST_VACCINE_DATE                       object\n",
       "NUMBER_VACCINES_TYPES_USED              float64\n",
       "dtype: object"
      ]
     },
     "execution_count": 178,
     "metadata": {},
     "output_type": "execute_result"
    }
   ],
   "source": [
    "vaccin_df.dtypes"
   ]
  },
  {
   "cell_type": "markdown",
   "id": "a5dd67b0-b479-481d-88ed-ff968a83e36e",
   "metadata": {},
   "source": [
    "`DATE_UPDATED`, `FIRST_VACCINE_DATE` nên có kiểu dữ liệu `datetime`"
   ]
  },
  {
   "cell_type": "markdown",
   "id": "a04cd582-3b8a-4f07-8888-33b272a5de5f",
   "metadata": {
    "tags": []
   },
   "source": [
    "---\n",
    "### Tiền xử lý: Thay đổi kiểu dữ liệu"
   ]
  },
  {
   "cell_type": "code",
   "execution_count": 179,
   "id": "ae91cecc-08d7-425d-adaf-1cf5672fde89",
   "metadata": {},
   "outputs": [],
   "source": [
    "vaccin_df = vaccin_df.astype({'DATE_UPDATED': 'datetime64[ns]', 'FIRST_VACCINE_DATE': 'datetime64[ns]'})"
   ]
  },
  {
   "cell_type": "code",
   "execution_count": 180,
   "id": "5afab9f2-735c-4ad0-baf8-5bf9cefeed71",
   "metadata": {},
   "outputs": [],
   "source": [
    "assert vaccin_df['DATE_UPDATED'].dtype == np.dtype('datetime64[ns]')\n",
    "assert vaccin_df['FIRST_VACCINE_DATE'].dtype == np.dtype('datetime64[ns]')"
   ]
  },
  {
   "cell_type": "markdown",
   "id": "52ebc562-0450-461e-918f-2ddbbe1b31bb",
   "metadata": {},
   "source": [
    "Vậy **Kiểu dữ liệu không có gì bất thường**"
   ]
  },
  {
   "cell_type": "markdown",
   "id": "d2a26078-cbf8-4599-a355-774b84dffd65",
   "metadata": {
    "tags": []
   },
   "source": [
    "---\n",
    "### Quay lại khám phá dữ liệu: Phân bố kiểu dữ liệu numerical"
   ]
  },
  {
   "cell_type": "code",
   "execution_count": 181,
   "id": "6381b027-5ff7-4e71-91cb-dc32446e6bf0",
   "metadata": {},
   "outputs": [
    {
     "data": {
      "text/html": [
       "<div>\n",
       "<style scoped>\n",
       "    .dataframe tbody tr th:only-of-type {\n",
       "        vertical-align: middle;\n",
       "    }\n",
       "\n",
       "    .dataframe tbody tr th {\n",
       "        vertical-align: top;\n",
       "    }\n",
       "\n",
       "    .dataframe thead th {\n",
       "        text-align: right;\n",
       "    }\n",
       "</style>\n",
       "<table border=\"1\" class=\"dataframe\">\n",
       "  <thead>\n",
       "    <tr style=\"text-align: right;\">\n",
       "      <th></th>\n",
       "      <th>DATE_UPDATED</th>\n",
       "      <th>TOTAL_VACCINATIONS</th>\n",
       "      <th>PERSONS_VACCINATED_1PLUS_DOSE</th>\n",
       "      <th>TOTAL_VACCINATIONS_PER100</th>\n",
       "      <th>PERSONS_VACCINATED_1PLUS_DOSE_PER100</th>\n",
       "      <th>PERSONS_FULLY_VACCINATED</th>\n",
       "      <th>PERSONS_FULLY_VACCINATED_PER100</th>\n",
       "      <th>FIRST_VACCINE_DATE</th>\n",
       "      <th>NUMBER_VACCINES_TYPES_USED</th>\n",
       "    </tr>\n",
       "  </thead>\n",
       "  <tbody>\n",
       "    <tr>\n",
       "      <th>missing_ration</th>\n",
       "      <td>0.0</td>\n",
       "      <td>0.000000e+00</td>\n",
       "      <td>2.200000e+00</td>\n",
       "      <td>0.00000</td>\n",
       "      <td>2.2000</td>\n",
       "      <td>1.800000e+00</td>\n",
       "      <td>1.80000</td>\n",
       "      <td>8.8</td>\n",
       "      <td>1.3</td>\n",
       "    </tr>\n",
       "    <tr>\n",
       "      <th>min</th>\n",
       "      <td>2021-04-09 00:00:00</td>\n",
       "      <td>7.400000e+01</td>\n",
       "      <td>3.700000e+01</td>\n",
       "      <td>0.01300</td>\n",
       "      <td>0.0070</td>\n",
       "      <td>3.700000e+01</td>\n",
       "      <td>0.00700</td>\n",
       "      <td>2020-07-22 00:00:00</td>\n",
       "      <td>1.0</td>\n",
       "    </tr>\n",
       "    <tr>\n",
       "      <th>lower_quantile</th>\n",
       "      <td>2021-11-25 00:00:00</td>\n",
       "      <td>2.656605e+05</td>\n",
       "      <td>1.526895e+05</td>\n",
       "      <td>45.36700</td>\n",
       "      <td>26.9515</td>\n",
       "      <td>1.109355e+05</td>\n",
       "      <td>21.23675</td>\n",
       "      <td>2021-01-07 12:00:00</td>\n",
       "      <td>2.0</td>\n",
       "    </tr>\n",
       "    <tr>\n",
       "      <th>median</th>\n",
       "      <td>2021-11-28 00:00:00</td>\n",
       "      <td>1.802748e+06</td>\n",
       "      <td>1.070741e+06</td>\n",
       "      <td>98.37900</td>\n",
       "      <td>53.4740</td>\n",
       "      <td>8.130390e+05</td>\n",
       "      <td>44.96050</td>\n",
       "      <td>2021-02-17 00:00:00</td>\n",
       "      <td>4.0</td>\n",
       "    </tr>\n",
       "    <tr>\n",
       "      <th>upper_quantile</th>\n",
       "      <td>2021-12-01 00:00:00</td>\n",
       "      <td>1.154469e+07</td>\n",
       "      <td>6.329072e+06</td>\n",
       "      <td>142.65175</td>\n",
       "      <td>71.8095</td>\n",
       "      <td>5.107506e+06</td>\n",
       "      <td>65.75900</td>\n",
       "      <td>2021-03-15 00:00:00</td>\n",
       "      <td>5.0</td>\n",
       "    </tr>\n",
       "    <tr>\n",
       "      <th>max</th>\n",
       "      <td>2021-12-04 00:00:00</td>\n",
       "      <td>2.483096e+09</td>\n",
       "      <td>1.240357e+09</td>\n",
       "      <td>296.07000</td>\n",
       "      <td>121.6790</td>\n",
       "      <td>1.089827e+09</td>\n",
       "      <td>118.20100</td>\n",
       "      <td>2021-10-18 00:00:00</td>\n",
       "      <td>10.0</td>\n",
       "    </tr>\n",
       "  </tbody>\n",
       "</table>\n",
       "</div>"
      ],
      "text/plain": [
       "                       DATE_UPDATED  TOTAL_VACCINATIONS  \\\n",
       "missing_ration                  0.0        0.000000e+00   \n",
       "min             2021-04-09 00:00:00        7.400000e+01   \n",
       "lower_quantile  2021-11-25 00:00:00        2.656605e+05   \n",
       "median          2021-11-28 00:00:00        1.802748e+06   \n",
       "upper_quantile  2021-12-01 00:00:00        1.154469e+07   \n",
       "max             2021-12-04 00:00:00        2.483096e+09   \n",
       "\n",
       "                PERSONS_VACCINATED_1PLUS_DOSE  TOTAL_VACCINATIONS_PER100  \\\n",
       "missing_ration                   2.200000e+00                    0.00000   \n",
       "min                              3.700000e+01                    0.01300   \n",
       "lower_quantile                   1.526895e+05                   45.36700   \n",
       "median                           1.070741e+06                   98.37900   \n",
       "upper_quantile                   6.329072e+06                  142.65175   \n",
       "max                              1.240357e+09                  296.07000   \n",
       "\n",
       "                PERSONS_VACCINATED_1PLUS_DOSE_PER100  \\\n",
       "missing_ration                                2.2000   \n",
       "min                                           0.0070   \n",
       "lower_quantile                               26.9515   \n",
       "median                                       53.4740   \n",
       "upper_quantile                               71.8095   \n",
       "max                                         121.6790   \n",
       "\n",
       "                PERSONS_FULLY_VACCINATED  PERSONS_FULLY_VACCINATED_PER100  \\\n",
       "missing_ration              1.800000e+00                          1.80000   \n",
       "min                         3.700000e+01                          0.00700   \n",
       "lower_quantile              1.109355e+05                         21.23675   \n",
       "median                      8.130390e+05                         44.96050   \n",
       "upper_quantile              5.107506e+06                         65.75900   \n",
       "max                         1.089827e+09                        118.20100   \n",
       "\n",
       "                 FIRST_VACCINE_DATE  NUMBER_VACCINES_TYPES_USED  \n",
       "missing_ration                  8.8                         1.3  \n",
       "min             2020-07-22 00:00:00                         1.0  \n",
       "lower_quantile  2021-01-07 12:00:00                         2.0  \n",
       "median          2021-02-17 00:00:00                         4.0  \n",
       "upper_quantile  2021-03-15 00:00:00                         5.0  \n",
       "max             2021-10-18 00:00:00                        10.0  "
      ]
     },
     "execution_count": 181,
     "metadata": {},
     "output_type": "execute_result"
    }
   ],
   "source": [
    "numerical_df = vaccin_df.select_dtypes(['int64','float64','datetime64'])\n",
    "numerical_df.agg([missing_ration,pd.Series.min,lower_quantile,\n",
    "                  pd.Series.median,upper_quantile,pd.Series.max])"
   ]
  },
  {
   "cell_type": "markdown",
   "id": "0a48a915-c27b-42e0-8482-83b8bbf34303",
   "metadata": {},
   "source": [
    "Vậy **không có gì bất thường**"
   ]
  },
  {
   "cell_type": "markdown",
   "id": "4f140fcf-740f-4e00-a262-7dd6baf3cf5b",
   "metadata": {
    "tags": []
   },
   "source": [
    "### Phân bố kiểu dữ liệu categorical"
   ]
  },
  {
   "cell_type": "code",
   "execution_count": 182,
   "id": "668f7239-eab8-4689-b898-809493590836",
   "metadata": {},
   "outputs": [
    {
     "data": {
      "text/html": [
       "<div>\n",
       "<style scoped>\n",
       "    .dataframe tbody tr th:only-of-type {\n",
       "        vertical-align: middle;\n",
       "    }\n",
       "\n",
       "    .dataframe tbody tr th {\n",
       "        vertical-align: top;\n",
       "    }\n",
       "\n",
       "    .dataframe thead th {\n",
       "        text-align: right;\n",
       "    }\n",
       "</style>\n",
       "<table border=\"1\" class=\"dataframe\">\n",
       "  <thead>\n",
       "    <tr style=\"text-align: right;\">\n",
       "      <th></th>\n",
       "      <th>COUNTRY</th>\n",
       "      <th>ISO3</th>\n",
       "      <th>WHO_REGION</th>\n",
       "      <th>DATA_SOURCE</th>\n",
       "      <th>VACCINES_USED</th>\n",
       "    </tr>\n",
       "  </thead>\n",
       "  <tbody>\n",
       "    <tr>\n",
       "      <th>missing_ration</th>\n",
       "      <td>0.0</td>\n",
       "      <td>0.0</td>\n",
       "      <td>0.0</td>\n",
       "      <td>0.0</td>\n",
       "      <td>1.3</td>\n",
       "    </tr>\n",
       "    <tr>\n",
       "      <th>unique</th>\n",
       "      <td>[Afghanistan, Albania, Algeria, American Samoa,...</td>\n",
       "      <td>[AFG, ALB, DZA, ASM, AND, AGO, AIA, ATG, ARG, A...</td>\n",
       "      <td>[EMRO, EURO, AFRO, WPRO, AMRO, SEARO, OTHER]</td>\n",
       "      <td>[REPORTING, OWID]</td>\n",
       "      <td>[Beijing CNBG - BBIBP-CorV,Janssen - Ad26.COV 2...</td>\n",
       "    </tr>\n",
       "    <tr>\n",
       "      <th>nunique</th>\n",
       "      <td>228</td>\n",
       "      <td>228</td>\n",
       "      <td>7</td>\n",
       "      <td>2</td>\n",
       "      <td>120</td>\n",
       "    </tr>\n",
       "  </tbody>\n",
       "</table>\n",
       "</div>"
      ],
      "text/plain": [
       "                                                           COUNTRY  \\\n",
       "missing_ration                                                 0.0   \n",
       "unique          [Afghanistan, Albania, Algeria, American Samoa,...   \n",
       "nunique                                                        228   \n",
       "\n",
       "                                                              ISO3  \\\n",
       "missing_ration                                                 0.0   \n",
       "unique          [AFG, ALB, DZA, ASM, AND, AGO, AIA, ATG, ARG, A...   \n",
       "nunique                                                        228   \n",
       "\n",
       "                                                  WHO_REGION  \\\n",
       "missing_ration                                           0.0   \n",
       "unique          [EMRO, EURO, AFRO, WPRO, AMRO, SEARO, OTHER]   \n",
       "nunique                                                    7   \n",
       "\n",
       "                      DATA_SOURCE  \\\n",
       "missing_ration                0.0   \n",
       "unique          [REPORTING, OWID]   \n",
       "nunique                         2   \n",
       "\n",
       "                                                     VACCINES_USED  \n",
       "missing_ration                                                 1.3  \n",
       "unique          [Beijing CNBG - BBIBP-CorV,Janssen - Ad26.COV 2...  \n",
       "nunique                                                        120  "
      ]
     },
     "execution_count": 182,
     "metadata": {},
     "output_type": "execute_result"
    }
   ],
   "source": [
    "pd.set_option(\"display.max_colwidth\",51)\n",
    "categorical_df = vaccin_df.select_dtypes(['object'])\n",
    "categorical_df.agg([missing_ration,pd.Series.unique,pd.Series.nunique])"
   ]
  },
  {
   "cell_type": "markdown",
   "id": "4f61d820-f27b-4758-8b8e-50aeafdea32e",
   "metadata": {},
   "source": [
    "Vẽ `barh chart` cho top 10 `VACCINES_USED`"
   ]
  },
  {
   "cell_type": "code",
   "execution_count": 185,
   "id": "68b2a488-b4ff-4ad6-89df-e5dada032adb",
   "metadata": {
    "scrolled": true
   },
   "outputs": [
    {
     "data": {
      "image/png": "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\n",
      "text/plain": [
       "<Figure size 432x288 with 1 Axes>"
      ]
     },
     "metadata": {
      "needs_background": "light"
     },
     "output_type": "display_data"
    }
   ],
   "source": [
    "vaccin_df['VACCINES_USED'].str.split(',').explode().value_counts().head(10).plot.barh()\n",
    "plt.xlabel('Số quốc gia')\n",
    "plt.title('Số quốc gia sử dụng các vaccin phổ biến');"
   ]
  },
  {
   "cell_type": "markdown",
   "id": "7ca63a82-4e36-4152-a32f-a5711f7b04c8",
   "metadata": {},
   "source": [
    "`Bar chart` này cho thấy Pfizer được sử dụng rộng rãi, bám theo sau là AstraZeneca."
   ]
  },
  {
   "cell_type": "markdown",
   "id": "8f3ec9d7-d895-456f-b52d-761a62c441ac",
=======
   "id": "38543e75-f5f6-4bfd-b5dc-dbe65fa5c59b",
>>>>>>> 8150654bc0fad9b03597dd4d909c6c0b56b325c0:Khám-phá-dữ-liệu.ipynb
   "metadata": {},
   "source": [
    "##\n",
    "<hr style=\"border:1px solid blue\"> </hr>"
   ]
  },
  {
   "cell_type": "markdown",
<<<<<<< HEAD:Khám phá dữ liệu.ipynb
   "id": "7d7f6189-d96e-4d92-802f-95850b00f8b2",
   "metadata": {
    "tags": []
   },
   "source": [
    "## 4.Khám phá dữ liệu Vaccin COVID-19"
   ]
  },
  {
   "cell_type": "markdown",
   "id": "995b27bd-5a2e-40e6-b853-4d1c51ed9f4b",
   "metadata": {
    "tags": []
   },
   "source": [
    "### Đọc dữ liệu từ file"
   ]
  },
  {
   "cell_type": "markdown",
   "id": "38ab1a9b-c692-4935-9d57-266be4f23c35",
   "metadata": {},
   "source": [
    "Đọc dữ liệu từ file `vaccination-metadata.csv` rồi lưu vào dataframe `metavaccin_df`."
   ]
  },
  {
   "cell_type": "code",
   "execution_count": 133,
   "id": "e29806dd-9fa2-4a2d-b878-39031ae21030",
   "metadata": {
    "scrolled": true
   },
   "outputs": [
    {
     "data": {
      "text/html": [
       "<div>\n",
       "<style scoped>\n",
       "    .dataframe tbody tr th:only-of-type {\n",
       "        vertical-align: middle;\n",
       "    }\n",
       "\n",
       "    .dataframe tbody tr th {\n",
       "        vertical-align: top;\n",
       "    }\n",
       "\n",
       "    .dataframe thead th {\n",
       "        text-align: right;\n",
       "    }\n",
       "</style>\n",
       "<table border=\"1\" class=\"dataframe\">\n",
       "  <thead>\n",
       "    <tr style=\"text-align: right;\">\n",
       "      <th></th>\n",
       "      <th>ISO3</th>\n",
       "      <th>VACCINE_NAME</th>\n",
       "      <th>PRODUCT_NAME</th>\n",
       "      <th>COMPANY_NAME</th>\n",
       "      <th>AUTHORIZATION_DATE</th>\n",
       "      <th>START_DATE</th>\n",
       "      <th>END_DATE</th>\n",
       "      <th>COMMENT</th>\n",
       "      <th>DATA_SOURCE</th>\n",
       "    </tr>\n",
       "  </thead>\n",
       "  <tbody>\n",
       "    <tr>\n",
       "      <th>42</th>\n",
       "      <td>ARM</td>\n",
       "      <td>Gamaleya - Gam-Covid-Vac</td>\n",
       "      <td>Gam-Covid-Vac</td>\n",
       "      <td>Gamaleya Research Institute</td>\n",
       "      <td>NaN</td>\n",
       "      <td>2021-06-16</td>\n",
       "      <td>NaN</td>\n",
       "      <td>NaN</td>\n",
       "      <td>REPORTING</td>\n",
       "    </tr>\n",
       "    <tr>\n",
       "      <th>625</th>\n",
       "      <td>UKR</td>\n",
       "      <td>SII - Covishield</td>\n",
       "      <td>Covishield</td>\n",
       "      <td>Serum Institute of India</td>\n",
       "      <td>NaN</td>\n",
       "      <td>2021-02-24</td>\n",
       "      <td>NaN</td>\n",
       "      <td>NaN</td>\n",
       "      <td>REPORTING</td>\n",
       "    </tr>\n",
       "    <tr>\n",
       "      <th>381</th>\n",
       "      <td>CZE</td>\n",
       "      <td>Pfizer BioNTech - Comirnaty</td>\n",
       "      <td>Comirnaty</td>\n",
       "      <td>Pfizer BioNTech</td>\n",
       "      <td>NaN</td>\n",
       "      <td>2020-12-23</td>\n",
       "      <td>NaN</td>\n",
       "      <td>NaN</td>\n",
       "      <td>REPORTING</td>\n",
       "    </tr>\n",
       "    <tr>\n",
       "      <th>265</th>\n",
       "      <td>CHN</td>\n",
       "      <td>Beijing CNBG - BBIBP-CorV</td>\n",
       "      <td>BBIBP-CorV</td>\n",
       "      <td>Beijing Bio-Institute Biological Products (CNBG)</td>\n",
       "      <td>2020-07-22</td>\n",
       "      <td>2020-07-22</td>\n",
       "      <td>NaN</td>\n",
       "      <td>NaN</td>\n",
       "      <td>REPORTING</td>\n",
       "    </tr>\n",
       "    <tr>\n",
       "      <th>544</th>\n",
       "      <td>ALB</td>\n",
       "      <td>Sinovac - CoronaVac</td>\n",
       "      <td>Coronavac</td>\n",
       "      <td>Sinovac</td>\n",
       "      <td>NaN</td>\n",
       "      <td>2021-03-24</td>\n",
       "      <td>NaN</td>\n",
       "      <td>NaN</td>\n",
       "      <td>REPORTING</td>\n",
       "    </tr>\n",
       "  </tbody>\n",
       "</table>\n",
       "</div>"
      ],
      "text/plain": [
       "    ISO3                 VACCINE_NAME   PRODUCT_NAME  \\\n",
       "42   ARM     Gamaleya - Gam-Covid-Vac  Gam-Covid-Vac   \n",
       "625  UKR             SII - Covishield     Covishield   \n",
       "381  CZE  Pfizer BioNTech - Comirnaty      Comirnaty   \n",
       "265  CHN    Beijing CNBG - BBIBP-CorV     BBIBP-CorV   \n",
       "544  ALB          Sinovac - CoronaVac      Coronavac   \n",
       "\n",
       "                                         COMPANY_NAME AUTHORIZATION_DATE  \\\n",
       "42                        Gamaleya Research Institute                NaN   \n",
       "625                          Serum Institute of India                NaN   \n",
       "381                                   Pfizer BioNTech                NaN   \n",
       "265  Beijing Bio-Institute Biological Products (CNBG)         2020-07-22   \n",
       "544                                           Sinovac                NaN   \n",
       "\n",
       "     START_DATE  END_DATE  COMMENT DATA_SOURCE  \n",
       "42   2021-06-16       NaN      NaN   REPORTING  \n",
       "625  2021-02-24       NaN      NaN   REPORTING  \n",
       "381  2020-12-23       NaN      NaN   REPORTING  \n",
       "265  2020-07-22       NaN      NaN   REPORTING  \n",
       "544  2021-03-24       NaN      NaN   REPORTING  "
      ]
     },
     "execution_count": 133,
     "metadata": {},
     "output_type": "execute_result"
    }
   ],
   "source": [
    "metavaccin_df = pd.read_csv('dataset/vaccination-metadata.csv')\n",
    "metavaccin_df.sample(5)"
   ]
  },
  {
   "cell_type": "markdown",
   "id": "4a3802ba-e76c-4fb9-b71a-312f04c8aedc",
   "metadata": {
    "tags": []
   },
   "source": [
    "### Dữ liệu có bao nhiêu dòng và cột ?"
   ]
  },
  {
   "cell_type": "markdown",
   "id": "1a1df731-1b2a-44d0-af94-deaa78f5475c",
   "metadata": {},
   "source": [
    "Tính số dòng và số cột rồi lưu vào biến `num_rows_metavaccin` và `num_cols_metavaccin`"
   ]
  },
  {
   "cell_type": "code",
   "execution_count": 134,
   "id": "8ec53cae-9526-4d35-a4f1-0ed92d73f69a",
   "metadata": {},
   "outputs": [
    {
     "name": "stdout",
     "output_type": "stream",
     "text": [
      "Dữ liệu có 853 dòng\n",
      "Dữ liệu có 9 cột\n"
     ]
    }
   ],
   "source": [
    "num_rows_metavaccin , num_cols_metavaccin = metavaccin_df.shape\n",
    "print(f'Dữ liệu có {num_rows_metavaccin} dòng')\n",
    "print(f'Dữ liệu có {num_cols_metavaccin} cột')"
   ]
  },
  {
   "cell_type": "markdown",
   "id": "deb9f0f5-3842-4b50-9a5f-03abc438501b",
   "metadata": {
    "tags": []
   },
   "source": [
    "### Mỗi dòng dữ liệu có ý nghĩa gì ? Có vấn đề các dòng có ý nghĩa khác nhau không ?"
   ]
  },
  {
   "cell_type": "markdown",
   "id": "27b9cf5d-c616-4e42-8acd-b8e70da405e1",
   "metadata": {},
   "source": [
    "Theo quan sát sơ bộ và file mô tả dữ liệu trên website chính của WHO thì dữ liệu cho biết thông tin về tính hình sử dụng vaccin ở các quốc gia với ngày được cập nhật gần nhất."
   ]
  },
  {
   "cell_type": "markdown",
   "id": "37ab57a1-0560-4ca9-9daa-deb8af8e6563",
   "metadata": {
    "tags": []
   },
   "source": [
    "### Dữ liệu có bị lặp không"
   ]
  },
  {
   "cell_type": "markdown",
   "id": "e865b8c6-5263-405d-a463-09b312083193",
   "metadata": {},
   "source": [
    "Tính số dòng dữ liệu bị trùng (nếu có) rồi lưu vào biến `num_rows_dupicated`."
   ]
  },
  {
   "cell_type": "code",
   "execution_count": 135,
   "id": "c25824cf-fe58-4757-8b43-c6763f196239",
   "metadata": {},
   "outputs": [
    {
     "name": "stdout",
     "output_type": "stream",
     "text": [
      "0\n"
     ]
    }
   ],
   "source": [
    "num_rows_duplicated = num_rows_metavaccin - len(metavaccin_df.drop_duplicates())\n",
    "print(num_rows_duplicated)"
   ]
  },
  {
   "cell_type": "markdown",
   "id": "62437336-6b5d-4f4c-b76c-a5477c051f8c",
   "metadata": {
    "tags": []
   },
   "source": [
    "### Mỗi cột có ý nghĩa gì ?"
   ]
  },
  {
   "cell_type": "markdown",
   "id": "505c9fa1-91bf-4ad3-b4b7-2abed8d27307",
   "metadata": {},
   "source": [
    "Dựa vào mô tả chính thức trên website WHO, ý nghĩa từng cột được mô tả trong file `Description_data.csv`"
   ]
  },
  {
   "cell_type": "code",
   "execution_count": 137,
   "id": "913210cb-0833-44ea-920b-4ef3a13cb64f",
   "metadata": {
    "scrolled": true
   },
   "outputs": [],
   "source": [
    "pd.set_option(\"display.max_colwidth\",500)\n",
    "description_data = pd.read_csv('dataset/Description_metadata.csv',\n",
    "                                 delimiter= '\\t',index_col= 'Field name')"
   ]
  },
  {
   "cell_type": "code",
   "execution_count": 138,
   "id": "b2a17e3b-4509-4a1b-8db9-a0f2824f2e3e",
   "metadata": {},
   "outputs": [
    {
     "data": {
      "text/html": [
       "<div>\n",
       "<style scoped>\n",
       "    .dataframe tbody tr th:only-of-type {\n",
       "        vertical-align: middle;\n",
       "    }\n",
       "\n",
       "    .dataframe tbody tr th {\n",
       "        vertical-align: top;\n",
       "    }\n",
       "\n",
       "    .dataframe thead th {\n",
       "        text-align: right;\n",
       "    }\n",
       "</style>\n",
       "<table border=\"1\" class=\"dataframe\">\n",
       "  <thead>\n",
       "    <tr style=\"text-align: right;\">\n",
       "      <th></th>\n",
       "      <th>Type</th>\n",
       "      <th>Description</th>\n",
       "    </tr>\n",
       "    <tr>\n",
       "      <th>Field name</th>\n",
       "      <th></th>\n",
       "      <th></th>\n",
       "    </tr>\n",
       "  </thead>\n",
       "  <tbody>\n",
       "    <tr>\n",
       "      <th>ISO3</th>\n",
       "      <td>String</td>\n",
       "      <td>ISO Alpha-3 country code</td>\n",
       "    </tr>\n",
       "    <tr>\n",
       "      <th>VACCINE_NAME</th>\n",
       "      <td>String</td>\n",
       "      <td>Combined short name of vaccine: âCompany - Product nameâ (see below)</td>\n",
       "    </tr>\n",
       "    <tr>\n",
       "      <th>PRODUCT_NAME</th>\n",
       "      <td>String</td>\n",
       "      <td>Name or label of vaccine product, or type of vaccine (if unnamed).</td>\n",
       "    </tr>\n",
       "    <tr>\n",
       "      <th>COMPANY_NAME</th>\n",
       "      <td>String</td>\n",
       "      <td>Marketing authorization holder of vaccine product.</td>\n",
       "    </tr>\n",
       "    <tr>\n",
       "      <th>AUTHORIZATION_DATE</th>\n",
       "      <td>Date</td>\n",
       "      <td>Date vaccine product was authorised for use in the country, territory, area.</td>\n",
       "    </tr>\n",
       "    <tr>\n",
       "      <th>START_DATE</th>\n",
       "      <td>Date</td>\n",
       "      <td>Start/launch date of vaccination with vaccine type (excludes vaccinations during clinical trials).</td>\n",
       "    </tr>\n",
       "    <tr>\n",
       "      <th>END_DATE</th>\n",
       "      <td>Date</td>\n",
       "      <td>End date of vaccine rollout</td>\n",
       "    </tr>\n",
       "    <tr>\n",
       "      <th>COMMENT</th>\n",
       "      <td>String</td>\n",
       "      <td>Comments related to vaccine rollout</td>\n",
       "    </tr>\n",
       "    <tr>\n",
       "      <th>DATA_SOURCE</th>\n",
       "      <td>String</td>\n",
       "      <td>Indicates data source - REPORTING: Data reported by Member States, or sourced from official reports - OWID: Data sourced from Our World in Data: https://ourworldindata.org/covid-vaccinations</td>\n",
       "    </tr>\n",
       "  </tbody>\n",
       "</table>\n",
       "</div>"
      ],
      "text/plain": [
       "                      Type  \\\n",
       "Field name                   \n",
       "ISO3                String   \n",
       "VACCINE_NAME        String   \n",
       "PRODUCT_NAME        String   \n",
       "COMPANY_NAME        String   \n",
       "AUTHORIZATION_DATE    Date   \n",
       "START_DATE            Date   \n",
       "END_DATE              Date   \n",
       "COMMENT             String   \n",
       "DATA_SOURCE         String   \n",
       "\n",
       "                                                                                                                                                                                                       Description  \n",
       "Field name                                                                                                                                                                                                          \n",
       "ISO3                                                                                                                                                                                      ISO Alpha-3 country code  \n",
       "VACCINE_NAME                                                                                                                              Combined short name of vaccine: âCompany - Product nameâ (see below)  \n",
       "PRODUCT_NAME                                                                                                                                    Name or label of vaccine product, or type of vaccine (if unnamed).  \n",
       "COMPANY_NAME                                                                                                                                                    Marketing authorization holder of vaccine product.  \n",
       "AUTHORIZATION_DATE                                                                                                                    Date vaccine product was authorised for use in the country, territory, area.  \n",
       "START_DATE                                                                                                      Start/launch date of vaccination with vaccine type (excludes vaccinations during clinical trials).  \n",
       "END_DATE                                                                                                                                                                               End date of vaccine rollout  \n",
       "COMMENT                                                                                                                                                                        Comments related to vaccine rollout  \n",
       "DATA_SOURCE         Indicates data source - REPORTING: Data reported by Member States, or sourced from official reports - OWID: Data sourced from Our World in Data: https://ourworldindata.org/covid-vaccinations  "
      ]
     },
     "execution_count": 138,
     "metadata": {},
     "output_type": "execute_result"
    }
   ],
   "source": [
    "description_data"
   ]
  },
  {
   "cell_type": "markdown",
   "id": "fb7f6030-a366-4f37-8946-e4a3ababe417",
   "metadata": {
    "tags": []
   },
   "source": [
    "### Mỗi cột hiện tại đang có dữ liệu gì ?"
   ]
  },
  {
   "cell_type": "code",
   "execution_count": 139,
   "id": "56423a18-f573-4bd8-8a27-2dc16e28b753",
   "metadata": {
    "scrolled": true,
    "tags": []
   },
   "outputs": [
    {
     "data": {
      "text/plain": [
       "ISO3                   object\n",
       "VACCINE_NAME           object\n",
       "PRODUCT_NAME           object\n",
       "COMPANY_NAME           object\n",
       "AUTHORIZATION_DATE     object\n",
       "START_DATE             object\n",
       "END_DATE              float64\n",
       "COMMENT               float64\n",
       "DATA_SOURCE            object\n",
       "dtype: object"
      ]
     },
     "execution_count": 139,
     "metadata": {},
     "output_type": "execute_result"
    }
   ],
   "source": [
    "metavaccin_df.dtypes"
   ]
  },
  {
   "cell_type": "markdown",
   "id": "f8cfd633-0862-4ad4-92ea-8b5df60bb66f",
   "metadata": {},
   "source": [
    "`AUTHORIZATION_DATE`, `START_DATE`, `END_DATE`  nên có kiểu dữ liệu `datetime`\\\n",
    "`COMMENT` nên có dữ liệu là `object`"
   ]
  },
  {
   "cell_type": "markdown",
   "id": "f6f620f6-6e34-4ad7-a00b-49a6b201d58c",
   "metadata": {
    "tags": []
   },
   "source": [
    "---\n",
    "### Tiền xử lý: Thay đổi kiểu dữ liệu"
   ]
  },
  {
   "cell_type": "code",
   "execution_count": 145,
   "id": "432f0840-4812-4dc1-a3fa-5a95e32666e8",
   "metadata": {},
   "outputs": [],
   "source": [
    "metavaccin_df = metavaccin_df.astype({'AUTHORIZATION_DATE': 'datetime64[ns]', 'START_DATE': 'datetime64[ns]',\\\n",
    "                                      'END_DATE': 'datetime64[ns]', 'COMMENT': 'str'})"
   ]
  },
  {
   "cell_type": "code",
   "execution_count": 149,
   "id": "c676ce90-edd1-4aca-975a-a4db7c653c5f",
   "metadata": {},
   "outputs": [],
   "source": [
    "assert metavaccin_df['AUTHORIZATION_DATE'].dtype == np.dtype('datetime64[ns]')\n",
    "assert metavaccin_df['START_DATE'].dtype == np.dtype('datetime64[ns]')\n",
    "assert metavaccin_df['END_DATE'].dtype == np.dtype('datetime64[ns]')\n",
    "assert metavaccin_df['COMMENT'].dtype == np.dtype('object')"
   ]
  },
  {
   "cell_type": "markdown",
   "id": "b9614745-13c3-4bc8-a84d-4b3793467410",
   "metadata": {},
   "source": [
    "Vậy **Kiểu dữ liệu không có gì bất thường**"
   ]
  },
  {
   "cell_type": "markdown",
   "id": "a9f3dc6d-1af0-4083-a25f-9e5f69379ade",
   "metadata": {
    "tags": []
   },
   "source": [
    "---\n",
    "### Quay lại khám phá dữ liệu: Phân bố kiểu dữ liệu numerical"
   ]
  },
  {
   "cell_type": "code",
   "execution_count": 150,
   "id": "49cb773d-e954-46fd-97e8-f505f01ec67c",
   "metadata": {},
   "outputs": [
    {
     "name": "stderr",
     "output_type": "stream",
     "text": [
      "/home/lav/miniconda3/envs/min_ds-env/lib/python3.8/site-packages/numpy/lib/nanfunctions.py:1111: RuntimeWarning: Mean of empty slice\n",
      "  return np.nanmean(a, axis, out=out, keepdims=keepdims)\n"
     ]
    },
    {
     "data": {
      "text/html": [
       "<div>\n",
       "<style scoped>\n",
       "    .dataframe tbody tr th:only-of-type {\n",
       "        vertical-align: middle;\n",
       "    }\n",
       "\n",
       "    .dataframe tbody tr th {\n",
       "        vertical-align: top;\n",
       "    }\n",
       "\n",
       "    .dataframe thead th {\n",
       "        text-align: right;\n",
       "    }\n",
       "</style>\n",
       "<table border=\"1\" class=\"dataframe\">\n",
       "  <thead>\n",
       "    <tr style=\"text-align: right;\">\n",
       "      <th></th>\n",
       "      <th>AUTHORIZATION_DATE</th>\n",
       "      <th>START_DATE</th>\n",
       "      <th>END_DATE</th>\n",
       "    </tr>\n",
       "  </thead>\n",
       "  <tbody>\n",
       "    <tr>\n",
       "      <th>missing_ration</th>\n",
       "      <td>59.3</td>\n",
       "      <td>33.9</td>\n",
       "      <td>100.0</td>\n",
       "    </tr>\n",
       "    <tr>\n",
       "      <th>min</th>\n",
       "      <td>2020-07-22 00:00:00</td>\n",
       "      <td>2020-07-22 00:00:00</td>\n",
       "      <td>NaT</td>\n",
       "    </tr>\n",
       "    <tr>\n",
       "      <th>lower_quantile</th>\n",
       "      <td>2021-01-29 12:00:00</td>\n",
       "      <td>2021-02-03 00:00:00</td>\n",
       "      <td>NaT</td>\n",
       "    </tr>\n",
       "    <tr>\n",
       "      <th>median</th>\n",
       "      <td>2021-02-24 00:00:00</td>\n",
       "      <td>2021-03-10 00:00:00</td>\n",
       "      <td>NaT</td>\n",
       "    </tr>\n",
       "    <tr>\n",
       "      <th>upper_quantile</th>\n",
       "      <td>2021-05-06 00:00:00</td>\n",
       "      <td>2021-04-28 00:00:00</td>\n",
       "      <td>NaT</td>\n",
       "    </tr>\n",
       "    <tr>\n",
       "      <th>max</th>\n",
       "      <td>2021-12-31 00:00:00</td>\n",
       "      <td>2021-11-14 00:00:00</td>\n",
       "      <td>NaT</td>\n",
       "    </tr>\n",
       "  </tbody>\n",
       "</table>\n",
       "</div>"
      ],
      "text/plain": [
       "                 AUTHORIZATION_DATE           START_DATE END_DATE\n",
       "missing_ration                 59.3                 33.9    100.0\n",
       "min             2020-07-22 00:00:00  2020-07-22 00:00:00      NaT\n",
       "lower_quantile  2021-01-29 12:00:00  2021-02-03 00:00:00      NaT\n",
       "median          2021-02-24 00:00:00  2021-03-10 00:00:00      NaT\n",
       "upper_quantile  2021-05-06 00:00:00  2021-04-28 00:00:00      NaT\n",
       "max             2021-12-31 00:00:00  2021-11-14 00:00:00      NaT"
      ]
     },
     "execution_count": 150,
     "metadata": {},
     "output_type": "execute_result"
    }
   ],
   "source": [
    "numerical_df = metavaccin_df.select_dtypes(['int64','float64','datetime64'])\n",
    "numerical_df.agg([missing_ration,pd.Series.min,lower_quantile,\n",
    "                  pd.Series.median,upper_quantile,pd.Series.max])"
   ]
  },
  {
   "cell_type": "markdown",
   "id": "66d347d9-0700-46aa-a543-0932d69b6dbe",
   "metadata": {},
   "source": [
    "Vậy `END_DATE` chứa toàn rỗng. Nên ta sẽ loại bỏ"
   ]
  },
  {
   "cell_type": "markdown",
   "id": "f7e8d7f1-bf42-4690-8352-01e6753e81cc",
   "metadata": {},
   "source": [
    "---\n",
    "### Tiền xử lí: Loại bỏ cột NaN"
   ]
  },
  {
   "cell_type": "code",
   "execution_count": 152,
   "id": "a00c5701-6c2b-408c-b37e-279ab5b70d8e",
   "metadata": {},
   "outputs": [],
   "source": [
    "metavaccin_df = metavaccin_df.drop(columns=['END_DATE'])"
   ]
  },
  {
   "cell_type": "code",
   "execution_count": 155,
   "id": "9175534d-266b-484f-90ad-494a052f7cab",
   "metadata": {},
   "outputs": [],
   "source": [
    "assert 'END_DATE' not in metavaccin_df.columns"
   ]
  },
  {
   "cell_type": "markdown",
   "id": "8185641a-e9eb-42d1-baa4-7661e39d7c02",
   "metadata": {
    "tags": []
   },
   "source": [
    "---\n",
    "### Quay lại khám phá: Phân bố kiểu dữ liệu categorical"
   ]
  },
  {
   "cell_type": "code",
   "execution_count": 157,
   "id": "f43e54a4-9e97-458c-a363-d02d06772de9",
   "metadata": {},
   "outputs": [
    {
     "data": {
      "text/html": [
       "<div>\n",
       "<style scoped>\n",
       "    .dataframe tbody tr th:only-of-type {\n",
       "        vertical-align: middle;\n",
       "    }\n",
       "\n",
       "    .dataframe tbody tr th {\n",
       "        vertical-align: top;\n",
       "    }\n",
       "\n",
       "    .dataframe thead th {\n",
       "        text-align: right;\n",
       "    }\n",
       "</style>\n",
       "<table border=\"1\" class=\"dataframe\">\n",
       "  <thead>\n",
       "    <tr style=\"text-align: right;\">\n",
       "      <th></th>\n",
       "      <th>ISO3</th>\n",
       "      <th>VACCINE_NAME</th>\n",
       "      <th>PRODUCT_NAME</th>\n",
       "      <th>COMPANY_NAME</th>\n",
       "      <th>COMMENT</th>\n",
       "      <th>DATA_SOURCE</th>\n",
       "    </tr>\n",
       "  </thead>\n",
       "  <tbody>\n",
       "    <tr>\n",
       "      <th>missing_ration</th>\n",
       "      <td>0.0</td>\n",
       "      <td>0.0</td>\n",
       "      <td>0.0</td>\n",
       "      <td>0.5</td>\n",
       "      <td>0.0</td>\n",
       "      <td>0.0</td>\n",
       "    </tr>\n",
       "    <tr>\n",
       "      <th>unique</th>\n",
       "      <td>[JEY, GGY, SHN, RUS, IMN, GIB, GRL, FRO, TUR, F...</td>\n",
       "      <td>[Moderna - mRNA-1273, AstraZeneca - AZD1222, Pf...</td>\n",
       "      <td>[mRNA-1273, AZD1222, Comirnaty, EpiVacCorona, C...</td>\n",
       "      <td>[Moderna, AstraZeneca, Pfizer BioNTech, State R...</td>\n",
       "      <td>[nan]</td>\n",
       "      <td>[OWID, REPORTING]</td>\n",
       "    </tr>\n",
       "    <tr>\n",
       "      <th>nunique</th>\n",
       "      <td>225</td>\n",
       "      <td>25</td>\n",
       "      <td>24</td>\n",
       "      <td>19</td>\n",
       "      <td>1</td>\n",
       "      <td>2</td>\n",
       "    </tr>\n",
       "  </tbody>\n",
       "</table>\n",
       "</div>"
      ],
      "text/plain": [
       "                                                              ISO3  \\\n",
       "missing_ration                                                 0.0   \n",
       "unique          [JEY, GGY, SHN, RUS, IMN, GIB, GRL, FRO, TUR, F...   \n",
       "nunique                                                        225   \n",
       "\n",
       "                                                      VACCINE_NAME  \\\n",
       "missing_ration                                                 0.0   \n",
       "unique          [Moderna - mRNA-1273, AstraZeneca - AZD1222, Pf...   \n",
       "nunique                                                         25   \n",
       "\n",
       "                                                      PRODUCT_NAME  \\\n",
       "missing_ration                                                 0.0   \n",
       "unique          [mRNA-1273, AZD1222, Comirnaty, EpiVacCorona, C...   \n",
       "nunique                                                         24   \n",
       "\n",
       "                                                      COMPANY_NAME COMMENT  \\\n",
       "missing_ration                                                 0.5     0.0   \n",
       "unique          [Moderna, AstraZeneca, Pfizer BioNTech, State R...   [nan]   \n",
       "nunique                                                         19       1   \n",
       "\n",
       "                      DATA_SOURCE  \n",
       "missing_ration                0.0  \n",
       "unique          [OWID, REPORTING]  \n",
       "nunique                         2  "
      ]
     },
     "execution_count": 157,
     "metadata": {},
     "output_type": "execute_result"
    }
   ],
   "source": [
    "pd.set_option(\"display.max_colwidth\",51)\n",
    "categorical_df = metavaccin_df.select_dtypes(['object'])\n",
    "categorical_df.agg([missing_ration,pd.Series.unique,pd.Series.nunique])"
   ]
  },
  {
   "cell_type": "markdown",
   "id": "b76d45e4-505c-40b8-8b9a-0fa5a222775b",
   "metadata": {},
   "source": [
    "Vẽ `barh chart` cho top 10 `COMPANY_NAME`"
   ]
  },
  {
   "cell_type": "code",
   "execution_count": 158,
   "id": "f9c43c54-2fe9-411e-af2c-138145360c66",
   "metadata": {
    "scrolled": true
   },
   "outputs": [
    {
     "data": {
      "image/png": "iVBORw0KGgoAAAANSUhEUgAAAlsAAAEYCAYAAABr4TMuAAAAOXRFWHRTb2Z0d2FyZQBNYXRwbG90bGliIHZlcnNpb24zLjQuMSwgaHR0cHM6Ly9tYXRwbG90bGliLm9yZy/Z1A+gAAAACXBIWXMAAAsTAAALEwEAmpwYAAA/DElEQVR4nO3debxVdb3/8ddbHEBRHDBDRbFEzQmU44AjGnmzHDK5qZFBg6S3NLs/81I2YGVSWo45oDlGDg0aYSnmgCPKQQ4HULRUvIlcTVMccDx+fn+s74bFdu9z9hnWGeD9fDzO46z9Xd/hs9beh/Ph+/3ufRQRmJmZmVkxVuvqAMzMzMxWZk62zMzMzArkZMvMzMysQE62zMzMzArkZMvMzMysQE62zMzMzArkZMvMVgqS1pR0t6R9OmGskyVdUPQ4Zh1F0raSGiQ9KmmbDu57dUnTJH2qI/tdmTjZMrMeTdJfJD0O7A5MiIj7ChrnaEmvSPoCsBT4Zgf3/1dJYzqyz9TvhyTNlLRA0k6tbLtQ0siOjqkjpOfjPkmrd3UsLSnwuR0h6dkW6qwn6Qngl8CBwJ+Af1WoN0HSb5rpZ76kEWVlf5b0JDAc+EVE/KX1V7Fq6PYvUjNbdaVZqp8DOwBNwGPAyRExM50/DPg7cDlwRET8v4LiWAc4ERgC/Bb4RES835FjRMTBHdlfzqvAwcA3gH8XNEankrQRcBrwyYh4r6vjaUmBz20tJgDjgRHAkcDPI+Ll1nYSETvkH0s6FPhf4FLgqIj4RrsjXYk52TKzbknSesBU4ATgRmBNYF/g7Vy16cBfIuI9SdMLDOddsl/sr0n6JNDtf8GXRMRbkjYAromIRQCSDgH+ERELuja6NtseOK50PdasMyLiJUlTgHUiYkkH9XsP8Nf0s/dgB/W50vIyopl1V9sARMR1EdEUEW9GxLSIaASQtBrZbNOTkl4AzpHUr1pnkr4tabGk5yR9WVJI2jqdu1vSV3N1x0rKL0fWAXdKWgLcmR6X6m4o6crU78uSbq4yfi9Jv5D0oqSnJX0jxbB6eQySPirpTkkvpfqTJa1fpV9JOkfSC5KWSGqUtGO+z4hYHBFPpesKYEdgqwp9HSvpmTTuaWXnrpL0k9zjFZaw0pLjKWn8JZJukNQ7d/7U3P3/av7+V4ij4j2VtIGkqcAfgb9Kmipp89Y8F5LWSsvBO+bKNpb0Zlpy3SD1+6/UR81jSDpc2b6oVyU9mRLz8ud2rLLlz7NT+6clVZ35Svf1O8r2Wr2cxu5dVuf/ped/saQv5cr7kf1c/At4Ejgx/dxU0zs9b69JekTSkLI4Rqbj1cj+E/S4pJeASyT1T+cGped2jKT/Ta/f0yqOtgpxsmVm3dUTQJOkqyUdrGx2Jm9s+joA+AjQF7iwUkfpl94pwCeAwUDN+5AkbQjcApwPbES29+UWZUtZANcCa5MtdX4IOKdKV8eRLecNBXYFPtPcsMCZwKbAx4CBZMtBlRwE7EeWnK4PHAW81MJlHQPMXGFAaXvgYuDYNO5GwOYfbNqszwGfJEvkdiZ7fkr3/7/J7vvWwP4t9FPtnq4GXAVsCWwBvMmKz3mLz0VEvE2WrB1TFvf0iHghjXFla8eQtDtwDfBtsudhP2BhlevbA3gc6E+2TP5rSapSF2A08B/AR8me5+/lzn0Y6AdsBnwF+FXuZ+WCdO4jZPf8i8CXqO5w4HfAhmTL5TdLWqNCvZOAz5L97G0GLCF77eTtA2wLfBz4gaSPNTPuyi8i/OUvf/mrW36RJRpXAc+SLd1NATZJ5+4A/itXd1uy5b7VK/RzBTAx93gbIICt0+O7ga/mzo8F7kvHxwIPl/X3YKozAHgf2KCGa7kT+Fru8cgUw+qVYihr+xlgdpVzB5IlpnsCq5Wdq3pdFfr5AXB97vE6wDvAyPT4KuAnufMjgGdzjxcCX8g9/jlwSe7+n5k7t3X+/pfF0Zp7OhR4uQ3tRgJP5R7fD3yxPWOQ7V06p0ofy56H9Bz8I3du7XQvPlyl7ULg+NzjTwFP5p6DN8m95oEX0muhF9mS+/a5c18D7q4yzgRgRu7xasBiYN9cHKXXwmNk+xZLdTcl+9lbAxiUrmfz3PmHgaNbel5W5i/PbJlZtxURj0XE2IjYnGzpa1Pg3HR6U+CZXPVnyPahblKhq02Bf5bVrVX5OKX2m5HNOP07attwXB7DP6tVTMtZ10taJOlV4DdksyAfEBF3ks28/Ap4XtIkZfvdWmuF+CLiDVqeISv3f7njpWSzjR/om2aunWbuqaTeks6T9Likf5Lt6VtfUq/m2lVwJ9BH0h6StiRLqG5KY6wt6dK0nPoq2d6kWsYYSLZUV4tl9ykilqbDvlXqwgdfu5vmHr8UK75JoHTf+5Ptcyz/GdmslnEiewPIs2VjlWxJtnS4QNICsvu5hGymr6Taa2GV5GTLzHqEyDZzX0WWdAE8R/aPfskWZLNfz1dovpjsl2G+bt4bZDMMJR/OHZePU2q/iOyX04aqsp+qQgz5ZbmB1SqSLSEGsHNErAd8gWxpsaKIOD8ihpEtbW1DtpQFzV9XpfiWxSRpbbKlxJLW9FWp71qvvbl7+v/Inv89I2IgcGgp3BbarSAlEjeSLSV+HpgaEa/lxtgW2CPd+/1qHOOfZMt8RSh/7T5XQ5sXyWabyn9GmntTQf75X43sOas01j+BsRGxXe6rf/gNC1U52TKzbknSdmnj7+bp8UCyX44zUpXrgG9J2kpSX+CnwA1R+aMAbgTGSto+JRE/LDvfAHw2zWpsTbb3peQvwDaSPq/swxuPIns33NSIWAz8FbgobaxeQ9J+VHYj8E1Jm6Vf1v/TzOWvC7wOvCJpM5YnTx8gabc0Q7MGWUL0FtnHZFS6ruOaGfP3wCGS9pG0JvAjVvwd0QB8Km0Q/zBwcjN9lbsR+JKkj6X7/4NqFVu4p+uTJdRvpb10P6ixXSW/JdvfNjodl6xLtjT3Shpj2WulhTF+na7x45JWS8/zdi3emdp8XdLmKZ7vAje01CAimsju+xmS1k0zeP9NNktazTBJn1X2po2TyZYhZ1SodwnwU0lbwbI3GBzeqitaxTjZMrPu6jWyjcQPSXqD7B/9eWQzD5DtA7qWbJnnabIk48RKHUXEX8mWH+8E/pG+551Dtj/peeBqYHKu7UvAIWncl4BTgUMi4sVU5ViyGYQFZPtlTq5yPZcB04BGYDZZEvceyxOjvNPJNtEvIduc/8cqfQKsl/p+mWyZ6CXg7ArX9Zv8dZWLiPnA18kSj8Wpv/wHZl4LzCHbuzONGn7h5/r+K9kbDO4iu/+ljwp4u0qTavf0HGAtsg/lnAHcWmO7SjE9RJacbkqWQJWcC/QhmxmqeYyIeJhs8/k5ZM/bdD44I9pWvyW750+lr580X32ZE8mu8SngvtTPFc3U/xNZAvoy2XV+NiLerVDvPLJl11slvUZ2n/aoMaZVktLmNTOzVYqyj0AYHBH/6KLxDybbQN5Rv5B7jPTOtHnAWlVmIi2RtJBsc/3fujoWazvPbJmZdQJJfSR9Ki1Fbka2PHVTV8fVWpLGS7q0De2OUPb3KzcAfgb82YmWrSqcbJmZdQ6RLQ++TLaM+BjN7F3qriJiYkR8rQ1Nv0a2/Pck2dLpCR0amFk35mVEMzMzswJ5ZsvMzMysQP5D1GargP79+8egQYO6Ogwzsx5l1qxZL0bExu3tx8mW2Spg0KBB1NfXd3UYZmY9iqTW/LWJqryMaGZmZlYgJ1tmZmZmBXKyZWZmZlYgJ1tmZmZmBfIGebNVwNxFSxg0/pZWt1s48dMFRGNmtmrxzJaZmZlZgZxsWYeR9GFJ10t6UtKjkv4iaZs29rWnpIckNUh6TNKEVH6YpPEdFG9T6n+OpEck7ZXKN5X0+xbajpA0tR1jP9DGdhMkndLWcc3MrPN5GdE6hCSR/VHdqyPi6FQ2FNgEeKINXV4NfC4i5kjqBWwLEBFTgCkdEjS8GRFDAST9B3AmsH9EPAeM6qAxKoqIvYrs38zMug/PbFlHOQB4NyIuKRVERENE3Cupr6Q70uzRXEmHA0galGatLpM0X9I0SX1S8w8Bi1M/TRHxaGozVtKF6fgqSedLekDSU5JGpXJJOkvSvDTeUTXEvx7ZHwguxTUvHfeWdGXqZ7akA8obStpQ0s2SGiXNkLRzKt9Y0u3pui+V9Iyk/unc67n2p6b+50iamMqOkzQzlf1B0toVxj0pzSA2Srq+hms0M7Mu4GTLOsqOwKwq594CjoiIXcmSsl+kmTCAwcCvImIH4BXgyFR+DvC4pJskfU1S7yp9DwD2AQ4BJqayzwJDgSHASOAsSQMqtO2TlhEXAJcDP65Q5+sAEbETcAxwdYVYTgdmR8TOwHeBa1L5D4E703XfBGxR3rmkg4HPAHtExBDg5+nUHyNit1T2GPCVCrGNB3ZJ4x5foe9xkuol1TctXVKhuZmZdQYnW9YZBPxUUiPwN2AzsuVFgKcjoiEdzwIGAUTEj4A6YBrweeDWKn3fHBHvp5mvUp/7ANelGbHngenAbhXavhkRQyNiO+CTwDW5JLBkH+DaFNMC4BmgfB9avs6dwEaS+qXy61P5raSZszIjgSsjYmmq9+9UvqOkeyXNBUYDO1Ro2whMlvQF4L3ykxExKSLqIqKu19r9KjQ3M7PO4GTLOsp8YFiVc6OBjYFhaY/U80BpdujtXL0mcvsII+LJiLgY+DgwRNJGFfrOt1fZ95pFxINA/xRnXi19VaoTrWgbFcqvAr6RZtROZ/n9yvs08Cuy+z5Lkvdgmpl1Q062rKPcCawl6bhSgaTdJO0P9ANeiIh3056nLVvqTNKny5Yam8iWGWtxD3CUpF6SNgb2Ax5uYbztgF7ASxX6Gp3qbEO2FPh4M3VGAC9GxKvAfcDnUvlBwAYVhp4GfLm0J0vShql8XWCxpDVKfZfFuxowMCLuAk4F1gf6NneNZmbWNfw/YesQERGSjgDOTR/N8BawEDiZbNbrz5LqgQZgQQ1dHgucI2kp2RLZ6Iho+uAqX0U3AcOBOWSzRqdGxP9VqNdHUkM6FjCmwhgXAZek5bz3gLER8XZZnQnAlWmZdCkwJpWfDlyXNuhPJ9vw/1q+YUTcmt61WS/pHeAvZPu+vg88RLZsOZcs+crrBfwmLVcKOCciXmn+tpiZWVdQRKUVDDNrL0lrAU0R8Z6k4cDFpY+a6GxrDRgcA8ac2+p2/gR5M1uVSZoVEXXt7cczW2bF2QK4MS35vQMc10L9wuy0WT/qnTiZmXUJJ1tmBYmIvwO7dHUcZmbWtbxB3szMzKxATrbMzMzMCuRky8zMzKxATrbMzMzMCuRky8zMzKxATrbMzMzMCuRky8zMzKxATrbMzMzMCuRky8zMzKxA/gR5s1XA3EVLGDT+lsL6999QNDOrzjNbZmZmZgVysmU9gqQmSQ2S5kh6RNJeqXyEpKkFjTmiNE6Fc2Ml/SvFNF/S7yWtnc4dL+mLLfQ9VtKm7YirkGs2M7OO52TLeoo3I2JoRAwBvgOc2RGdSmpuKX0EUDHZSm5IMe0AvAMcBRARl0TENS0MPRZoU7JlZmY9i5Mt64nWA17OPe6bZpYWSJosSQCSfiBppqR5kiblyu+W9FNJ04FvSjpU0kOSZkv6m6RNJA0Cjge+lWav9q0WTErY1inFJGmCpFPS8VBJMyQ1SrpJ0gaSRgF1wOTUdx9JwyRNlzRL0m2SBqT2W6eYSjN6H23ums3MrPtxsmU9RZ+UmCwALgd+nDu3C3AysD3wEWDvVH5hROwWETsCfYBDcm3Wj4j9I+IXwH3AnhGxC3A9cGpELAQuAc5Js1f3VojpKEkNwCJgQ+DPFepcA/xPROwMzAV+GBG/B+qB0RExFHgPuAAYFRHDgCuAM1L7ycCv0ozeXsDiFq55GUnjJNVLqm9auqRCaGZm1hmcbFlPUVpG3A74JHBNbjbn4Yh4NiLeBxqAQan8gDRjNRc4ENgh198NuePNgdtSvW+X1WvODSlZ+jBZIvXt/ElJ/ciSuump6Gpgvwr9bAvsCNyekrfvAZtLWhfYLCJuAoiItyJiaQvXvExETIqIuoio67V2vxovyczMOpqTLetxIuJBoD+wcSp6O3e6CVhdUm/gIrLZop2Ay4DeuXpv5I4vIJsF2wn4Wlm9WuIJslmtSolULQTMT8nk0IjYKSIOSuXVfOCa2zi2mZkVzMmW9TiStgN6AS81U62UML0oqS8wqpm6/ciWAgHG5MpfA9atMax9gCfzBRGxBHg5t9/rWKA0y5Xv+3FgY0nDASStIWmHiHgVeFbSZ1L5WqV3PJqZWc/h/w1bT9EnLbFBNuMzJiKaqu0Lj4hXJF1Gtry3EJjZTN8TgN9JWgTMALZK5X8Gfi/pcODECvu2jpK0D9l/Wp4le4dhuTHAJSlJegr4Uiq/KpW/CQwnSwbPT0uPqwPnAvPJErRLJf0IeBf4z2auw8zMuiFlKyBmtjKrq6uL+vr6rg7DzKxHkTQrIura24+XEc3MzMwK5GTLzMzMrEBOtszMzMwK5GTLzMzMrEBOtszMzMwK5GTLzMzMrEBOtszMzMwK5GTLzMzMrEBOtszMzMwK5GTLzMzMrED+24hmq4C5i5YwaPwtXR2GlVk48dNdHYKZdQLPbJmZmZkVyMmWmZmZWYGcbJm1gaTTJM2X1CipQdIeki6XtH1Xx2ZmZt2L92yZtZKk4cAhwK4R8bak/sCaEfHVLg7NzMy6Ic9smbXeAODFiHgbICJejIjnJN0tqQ5A0uuSzpA0R9IMSZuk8i0l3ZFmxO6QtIWkfpIWSlot1Vlb0j8lrSHpOEkzUz9/kLR2qrOJpJtS+RxJe3XRvTAzsxY42TJrvWnAQElPSLpI0v4V6qwDzIiIIcA9wHGp/ELgmojYGZgMnB8RS4A5QKmfQ4HbIuJd4I8RsVvq5zHgK6nO+cD0VL4rML88AEnjJNVLqm9auqQjrtvMzNrAyZZZK0XE68AwYBzwL+AGSWPLqr0DTE3Hs4BB6Xg48Nt0fC2wTzq+ATgqHR+dHgPsKOleSXOB0cAOqfxA4OIUT1NK2MrjnBQRdRFR12vtfm24UjMz6wjes2XWBhHRBNwN3J0SoTFlVd6NiEjHTVT/WSvVmQKcKWlDskTuzlR+FfCZiJiTEroRHRG/mZl1Hs9smbWSpG0lDc4VDQWeqbH5A2QzV5DNVN0Hy2bLHgbOA6amZA5gXWCxpDVS/ZI7gBNSPL0krdeGSzEzs07gZMus9foCV0t6VFIjsD0woca2JwFfSu2OBb6ZO3cD8AWWLyECfB94CLgdWJAr/yZwQJpVm8Xy5UUzM+tmtHylw8xWVnV1dVFfX9/VYZiZ9SiSZkVEXXv78cyWmZmZWYGcbJmZmZkVyMmWmZmZWYGcbJmZmZkVyMmWmZmZWYGcbJmZmZkVyMmWmZmZWYGcbJmZmZkVyMmWmZmZWYGcbJmZmZkVaPWuDsDMijd30RIGjb+lq8OwbmDhxE93dQhmqxzPbJmZmZkVyMlWNyNpE0m/lfSUpFmSHpR0RMFjjpV0YYH9j5C0RNJsSQsknV3UWG0h6fUa6rT5Hkn6btnjB9L3QZI+35Y+zMys53Cy1Y1IEnAzcE9EfCQihgFHA5t3aWAd496I2AXYBThE0t6dObikrlwyXyFRioi90uEgoKZkq7wPMzPrOZxsdS8HAu9ExCWlgoh4JiIugGUzIfdKeiR97ZXKR0iaLulGSU9ImihptKSHJc2V9NFU71BJD6UZpr9J2qQ8AEkbS/qDpJnpa29Jq0n6u6SNU53VJP1DUv9a+syLiDeBBmCz1NdBafbuEUm/k9Q3lU+U9KikxtJMWKXYUvnukh5IMTwgadtUPjb1+WdgmqS+kq5M96RR0pG56z5D0hxJM1q6BklXSTo/jfWUpFGpfICkeyQ1SJonaV9JE4E+qWxyqleaSZsI7JvOfat89kzS1PTcVurjC+n5bZB0qaRezcVsZmZdx8lW97ID8Egz518APhERuwJHAefnzg0BvgnsBBwLbBMRuwOXAyemOvcBe6YZpuuBUyuMcR5wTkTsBhwJXB4R7wO/AUanOiOBORHxYo19LiNpA2AwcI+k/sD3gJHpmuqB/5a0IXAEsENE7Az8pFpsqXwBsF+K4QfAT3NDDgfGRMSBwPeBJRGxU+r3zlRnHWBGRAwB7gGOa+4akgHAPsAhZEkTZLNUt0XEULLnoyEixgNvRsTQiBhd1sd4shm/oRFxTrWByvuQ9DGy53/vNFYTy5+bZSSNk1Qvqb5p6ZIaLsnMzIrgdyN2Y5J+RfYL/Z2UYKwBXChpKNkv2G1y1WdGxOLU7klgWiqfCxyQjjcHbpA0AFgTeLrCsCOB7bMVTQDWk7QucAXwJ+Bc4MvAla3oE7IZnEZgW2BiRPyfpEOA7YH703hrAg8CrwJvAZdLugWY2kJs/YCrJQ0GIt2nktsj4t+59keXTkTEy+nwndwYs4BPVLmGvJtTEvpobiZsJnCFpDXS+YYa+mmLjwPDgJnpXvQhS8RXEBGTgEkAaw0YHAXFYmZmLXCy1b3MJ5uxASAivp5mf+pT0beA58lmTVYjS0hK3s4dv597/D7Ln+cLgF9GxBRJI4AJFWJYDRielvvyXpP0vKQDgT1YPpNSS5+QzeAcImkb4D5JNwEiS4aOKa8saXeypOJo4BtkS6wVY5N0AXBXRBwhaRBwd+70G/mqZMlYuXcjolTeRG0/F/n7LYCIuEfSfsCngWslnRUR19TQV8l7rDjb3LtKPQFXR8R3WtG3mZl1ES8jdi93Ar0lnZArWzt33A9YnGZUjgVau0+nH7AoHY+pUmcaWXIDQJpFK7mcbDnxxohoakWfy0TEE8CZwP8AM4C9JW2dxlpb0jZp31a/iPgLcDJQiqFabPkYxjYzfHn7DVqKtzUkbQm8EBGXAb8Gdk2n3k2zXeVeA9bNPV4IDE174gYCu+fO5fu4Axgl6UNp3A3T2GZm1g052epG0uzKZ4D9JT0t6WHgarLEBOAiYIykGWRLiG9U7Ki6CcDvJN0LvFilzklAXdpA/ihwfO7cFKAvy5cQa+2z3CXAfqmvscB1aYlxBrAdWQIyNZVNJ5vRay62nwNnSrqf5hPQnwAbpM3rc1i+vNpRRgANkmaTzVCel8onAY2lze05jcB7aWP+t4D7yZZh5wJns+L+vWV9RMSjZHvdpqV7dDvZHjIzM+uGtHz1xKx5kurINqjv29WxWOusNWBwDBhzbleHYd2AP0HerHaSZkVEXXv78Z4tq4mk8cAJVHjXm3V/O23Wj3r/kjUz6xJeRrSaRMTEiNgyIu7r6ljMzMx6EidbZmZmZgVysmVmZmZWICdbZmZmZgVysmVmZmZWICdbZmZmZgVysmVmZmZWICdbZmZmZgVysmVmZmZWICdbZmZmZgXyn+sxWwXMXbSEQeNv6eowzNrFf9fReirPbJmZmZkVyMnWKkzSaZLmS2qU1CBpjy6MZaykC9vY9rtljx9I3wdJ+nxb+mgPSfum+9ogqU/Zuddb2dcISVPT8WHpD4KbmVkP4mRrFSVpOHAIsGtE7AyMBP7ZivbdaQl6hUQpIvZKh4OAmpKt8j7aaTRwdkQMjYg3O6rTiJgSERM7qj8zM+scTrZWXQOAFyPibYCIeDEingOQNEzSdEmzJN0maUAqv1vSTyVNB74p6SpJo0odlmZt0mzMdEk3SnpC0kRJoyU9LGmupI82F1jq93xJD0h6qjSGpAGS7kkzRvPSDNJEoE8qm5yPA5gI7JvOfat89kzS1BRrpT6+kOJtkHSppF4V4vy4pNnpmq6QtJakrwKfA35Q6qvKNY5I9/P3khZImixJ6dwnU9l9wGdzbZbFL+lQSQ+l8f8maZPm7qmZmXUdJ1urrmnAwJQMXSRpfwBJawAXAKMiYhhwBXBGrt36EbF/RPyihf6HAN8EdgKOBbaJiN2By4ETa4hvALAP2exbaTbn88BtETE09d8QEeOBN9Ms0uiyPsYD96Zz51QbqLwPSR8DjgL2TmM1kc1WLSOpN3AVcFRE7ET2ZpMTIuJyYArw7QrxlNsFOBnYHvgIsHfq9zLgUGBf4MNV2t4H7BkRuwDXA6eWV5A0TlK9pPqmpUtaCMXMzIrSnZaCrBNFxOuShpH9Qj8AuCHtB6oHdgRuTxMtvYDFuaY31DjEzIhYDCDpSbLkDmBuGq8lN0fE+8CjuVmbmcAVKSG8OSIaaoyltT4ODANmpnvQB3ihrM62wNMR8UR6fDXwdeDcVozzcEQ8CyCpgWzZ8/XU799T+W+AcRXabk72nA0A1gSeLq8QEZOASQBrDRgcrYjLzMw6kJOtVVhENAF3A3dLmguMAWYB8yNieJVmb+SO3yPNjqYlsDVz597OHb+fe/w+tb3u8u2V4r1H0n7Ap4FrJZ0VEdfU0NcH4k16V6kn4OqI+E4zfakV41aTv8Ymlt+XWhKjC4BfRsQUSSOACR0Qj5mZFcDLiKsoSdtKGpwrGgo8AzwObJw20CNpDUk7VOlmIdkMEMDhwBrFRJuRtCXwQkRcBvwa2DWdejfNdpV7DVg393ghMFTSapIGArvnzuX7uAMYJelDadwN09h5C4BBkrZOj48Fprfx0sr73Sq3r+2YKvX6AYvS8ZgOGNfMzAriZGvV1Re4WtKjkhrJ9g1NiIh3gFHAzyTNARqAvar0cRmwv6SHgT1YcdarCCOABkmzgSOB81L5JKCxwob0RuA9SXMkfQu4n2y5bS5wNvBIru6yPiLiUeB7wLR0b24n20O2TES8BXwJ+F2aFXwfuKS9F5j6HQfckjbIP1Ol6oQ09r3Ai+0d18zMiqMIb+UwW9mtNWBwDBhzbleHYdYu/gR562ySZkVEXXv78Z4ts1XATpv1o96/qMzMuoSXEc3MzMwK5GTLzMzMrEBOtszMzMwK5GTLzMzMrEBOtszMzMwK5GTLzMzMrEBOtszMzMwK5GTLzMzMrEBOtszMzMwK5GTLzMzMrED+cz1mq4C5i5YwaPwtXR2GWYfw30i0nsYzW2ZmZmYFajHZktQkqUHSHEmPSNqrhjYPpO+bSvp9Oq6TdH77QwZJEyQtSnEtkHSxpNXSuR9JGtnK/l5vYxyfkbR97vGysSWdLGnt1vZR47hjJf0rXf98Sb8vjSXpeElfbKH9VZJGtWbMXNvDJI1vY9uFkvpXKZ+bXmPTJH24Lf2nvtpzbd9tQ5tzJe2XjteQNFHS3yXNk/SwpIPTuYWS/pBrN0rSVem46vOZzv93ep2X7tEvJa2Rzv1N0gZtuV4zM+sctcxsvRkRQyNiCPAd4MyWGkTEXun7cxExKh3XR8RJ7Yp2RedExFBge2AnYP80zg8i4m8dOE5zPpPGp8LYJwMtJlvlfbTCDel52QF4BzgqxXBJRFzThv5qEhFTImJiAV0fkF5j9cAKSY8ynTEL26pkS9KGwJ4RcU8q+jEwANgxInYEDgXWzTWpk7RDle4qPp+SjgcOSuPsBOwGvAD0Se2uBf6rNXGbmVnnau0vsPWAl0sPJH1b0kxJjZJOz5W/nr4PkjQvHY+QNDUdT5B0haS7JT0l6aRc2++n/8XfLuk6Sae0ENOaQO9SXPmZDUkflzQ7zQhcIWmt5jpKMd6dZhYWSJosSencREmPpms9O83wHQaclWYkPloaO13PpsBdku7K35N0PCrVrdTHRyXdKmmWpHslbddCzKsD6+Suf0LpnkkaKmlGivmmSjMg1e6RpE+le3CfpPNzz91YSRem401Sv3PS116p/OYU/3xJ45qLv4J7gK3Ta+cxSRcBjwADJZ2VZozmSiolI5J0YXpubgE+lLu2ZTNpymZW707HfSVdmfpplHSkpIlAn/Q8TJa0jqRb0nXNK41XZhRwa+pzbeA44MSIeBsgIp6PiBtz9c+mhYSu/PkETgNOiIhXUp/vRMTEiHg1nZ8CHFPDfTUzsy5SS7JV+gW0ALic7H/vSDoIGAzsDgwFhiktp9RoO+A/UvsfKluCqQOOBHYBPgvUNdP+W5IagMXAExHRkD8pqTdwFXBUmhFYHTihhrh2IZuV2h74CLC3shmMI4AdImJn4CcR8QDZL7pvpxmJJ0sdRMT5wHNkszUHVBuoSh+TyH5hDwNOAS6q0vyodP2LgA2BP1eocw3wPynmucAP8yer3aNUfilwcETsA2xcJYbzgelpRmpXYH4q/3KKvw44SdJG1e5BBYekWAG2Ba6JiF1SX0OBIcBIsgR1ANnzsi3Z7OZxQIvL3MD3gSURsVO6N3dGxHiWz+KOBj4JPBcRQ9Is1a0V+tkbmJWOtwb+N5cEVXIjsKukrSuc+8DzKWldoG9EPF2tw4h4GVir0j2WNE5SvaT6pqVLmgnLzMyK1JplxO3IfgFdk2Z7Dkpfs8lmHrYjS75qdUtEvB0RL5Iti2wC7AP8KSLejIjXqJxAlJSWET8ErCPp6LLz2wJPR8QT6fHVQC3J4MMR8WxEvA80AIOAV4G3gMslfRZYWssFtpakvmTJwu/SL95LyZalKrkhXf+HyZKTb5f11Q9YPyKmp6JK11/tHm0HPJX7JX9dlRgOBC4GiIimiCj9Rj9J0hxgBjCQ2l4Xd6VrXo/lS9XPRMSMdLwPcF0a53lgOtmS2n658ueAO2sYayTwq9KDlLCUmwuMlPQzSfvmri1vAPCvGsYraQLOIluOL1fp+RQQpQqS/iP9x2ehVtw7+QLZTOoKImJSRNRFRF2vtfu1IkwzM+tIrVpGjIgHgf5kMx0CzkyJ2NCI2Doift2K7t7OHTeRzaqoNfGkmN4lm3UoTyQq9iVpYPqF1aBsP0yLcUXEe2QzcH8g22NVaZajxVBzx72r1FkNeCV3T4dGxMea7TQiyJLS1swqllS7361+HpY1lEaQJTPD04zXbKpfb94B6Xq/WFoyA96oMaaoUv4ey1/j+RhWSGIqdpgloMPIEp8zJf2gQrU3c/3+A9gizUY151qy52qLKuMuez7TLNkbkrZK525LCdk8suXzkt4pFjMz64ZalWyl/UO9gJeA24Avp9kYJG0m6UPNta/BfcChknqnflv8MJU0y7YX8GTZqQXAoNySzbFkS17/zCUyl9QSVIqlX0T8hWyJcWg69RorboDOKz/3vKSPKdvofUSleumX69OS/rN0bZKG1BDiPpRdf5qJeVnSvqnoWLLZoLyK9yiVf0TSoFReab8SwB2kpVlJvSStB/QDXo6Ipen1smcN8dfiHrKltl6SNiZLWB5O5Uen8gFAftl2IVnCBNnydMk04BulB1q+l+1dLX+X36bA0oj4Ddleq10rxPQY2fIhEbEU+DVwvqQ1Ux8DJH0h3yD95+AcstdRNfnn80zgYknrpz5FLnFMjz+crtXMzLqh1uzZagBuAMakJZtpwG+BByXNBX5P5cSj2RmEFSpGzCTbwzQH+CPZO9OqbTYp7dmaRzYrtsLepoh4C/gS2ZLcXOB9oKbkqoJ1gamSGsmSkW+l8uuBbyvbYP7RsjaTgL8qbZAHxgNTyZa5FufqlfcxGvhKWoabDxxeJaaj0vPSSLbP7McV6owh29vUSJYg/ih/sto9iog3yd7hdquk+4Dnqfw8fBM4ILWdBexANuu3ehrzx2RLiR3hJqCR7LVxJ3BqRPxfKv872QzUxayYUJ4OnCfpXrJZypKfABukje9zWJ6gTQIaJU0m2wP2cHqNnZbalLsFGJF7/D2yZcVHlb0x5GYqLzP+mg9+oHC15/Ni4G/AQ+nc/WSzhbPT+WHAjDT7amZm3ZCyVYuCOpeGAb+MiP1b0aZvRLye3t11DzAuIh4pLEirKPc8iGx/098j4pyujqu7ScnoIbmlz84e/zxgSkTc0Vy9urq6qK+v76SozMxWDpJmRURzb9arSWGfXZTeWXgdcF4rm05KswmPAH9wotVljkvPw3yypcFLuzacbuv/UWX/VSeZ11KiZWZmXavQmS0z6x48s2Vm1nrdfmbLzMzMzJxsmZmZmRXKyZaZmZlZgZxsmZmZmRXIyZaZmZlZgZxsmZmZmRXIyZaZmZlZgZxsmZmZmRWo/O+zmdlKaO6iJQwaf0tXh2HWpRZO/HRXh2CrKM9smZmZmRXIyZaZmZlZgZxsmbVAUki6Nvd4dUn/kjS1lf0slNS/4yM0M7PuzMmWWcveAHaU1Cc9/gSwqOhBJfUqegwzMyueky2z2vwVKO2uPQa4rnRC0oaSbpbUKGmGpJ1T+UaSpkmaLelSQLk2X5D0sKQGSZeWEitJr0v6kaSHgOHp8RmS5qS+N0n1DpX0UOr7b6VyMzPrfpxsmdXmeuBoSb2BnYGHcudOB2ZHxM7Ad4FrUvkPgfsiYhdgCrAFgKSPAUcBe0fEUKAJGJ3arAPMi4g9IuK+9HhGRAwB7gGOS/XuA/ZMfV8PnFoesKRxkuol1TctXdIR98DMzNrAH/1gVoOIaJQ0iGxW6y9lp/cBjkz17kwzWv2A/YDPpvJbJL2c6n8cGAbMlATQB3ghnWsC/pDr+x2gtDdsFtkSJsDmwA2SBgBrAk9XiHkSMAlgrQGDo/VXbWZmHcHJllntpgBnAyOAjXLlqlA3yr7nCbg6Ir5T4dxbEdGUe/xuRJT6aGL5z+wFwC8jYoqkEcCEGuI3M7Mu4GVEs9pdAfwoIuaWld9DWgZMic+LEfFqWfnBwAap/h3AKEkfSuc2lLRlK2Ppx/JN+mNa2dbMzDqRZ7bMahQRzwLnVTg1AbhSUiOwlOXJz+nAdZIeAaYD/5v6eVTS94BpklYD3gW+DjzTinAmAL+TtAiYAWzV6gsyM7NOoeUrFGa2sqqrq4v6+vquDsPMrEeRNCsi6trbj5cRzczMzArkZMvMzMysQE62zMzMzArkZMvMzMysQE62zMzMzArkZMvMzMysQE62zMzMzArkZMvMzMysQE62zMzMzArkZMvMzMysQP7biGargLmLljBo/C1dHYZZj7Zw4qe7OgTroTyzZWZmZlYgJ1srOUmvd3UMzZE0QdIiSQ2S5kk6LJVfJWlUV8fXXpKGSvpU7vFhksa3sa+Fkvp3XHRmZtYZnGxZd3BORAwF/hO4QlK7XpfKdJfX9lBgWbIVEVMiYmLXhWNmZp2tu/xCsgJJ6ivpDkmPSJor6fBUPkjSY5IukzRf0jRJfdK5kyQ9KqlR0vWpbP80A9UgabakdVP5tyXNTHVPb6nvaiLiMeA9oDR7s5+kByQ9VZrlquFaLgIeAfaVtEDS5WnGbLKkkZLul/R3SbundrunMWan79um8l6Szk5jNEo6MZUPkzRd0ixJt0kakMrvllSXjvunWag1gR8BR6V7dpSksZIuTPU2kXSTpDnpa69UfnPqf76kcRWez3Uk3ZLazJN0VBteFmZm1kmcbK0a3gKOiIhdgQOAX0hSOjcY+FVE7AC8AhyZyscDu0TEzsDxqewU4OtpFmpf4E1JB6U+diebxRkmab8W+q5I0h7A+8C/UtEAYB/gEKA0G9TctWwLXBMRuwDPAFsD5wE7A9sBn0/9nQJ8N7VZAOyX2vwA+GkqHwdslbsHkyWtAVwAjIqIYcAVwBnVrici3kl93hARQyPihrIq5wPTI2IIsCswP5V/OfVfB5wkaaOydp8EnouIIRGxI3BrpfEljZNUL6m+aemSamGamVnB/G7EVYOAn6Yk6H1gM2CTdO7piGhIx7OAQem4kSzBuBm4OZXdD/xS0mTgjxHxbEq2DgJmpzp9yZKs/22m73LfkvQF4DXgqIiIlD/dHBHvA49KKsXb3LU8ExEzcv0+HRFzASTNB+5Ifc/NxdIPuFrSYCCANVL5SOCSiHgPICL+LWlHYEfg9hRfL2BxlWuqxYHAF1P/TUApIzpJ0hHpeCDZ/Xwp124ucLaknwFTI+LeSp1HxCRgEsBaAwZHO+I0M7N2cLK1ahgNbAwMi4h3JS0Eeqdzb+fqNQGlpb5PA/sBhwHfl7RDREyUdAvZHqQZkkaSJT9nRsSl+QElDWqm73LnRMTZFcrz7UuzV81dyxvNtH8/9/h9lr/2fwzcFRFHpJjvzo1XnqAImB8RwyvE+h7LZ4p7VzhfE0kjyBK94RGxVNLd5f1FxBOShpE9D2dKmhYRP2rrmGZmViwvI64a+gEvpOTkAGDL5ior21w+MCLuAk4F1gf6SvpoRMyNiJ8B9WRLc7cBX5bUN7XdTNKHusu11NjfonQ8Nlc+DThe0uoAkjYEHgc2ljQ8la0haYdUfyEwLB3n30X5GrBulbHvAE5IffWStF6K5+WUaG0H7FneSNKmwNKI+A1wNtkSpJmZdVNOtlZiKVF4G5gM1EmqJ5sZWtBC017Ab9Jy22yymadXgJPThuw5wJvAXyNiGvBb4MFU//dUTy46QmuvpSU/J5sdup/suksuJ1sKbUzX+/m0B2sU8LNU1gDsleqfDZwg6QGWb/AHuAvYvrRBvmzsbwIHpPs2C9iBbP/V6pIayWbdZvBBOwEPS2oATgN+0qYrNzOzTqEIb+VYWUkaAlwWEbt3dSzWtdYaMDgGjDm3q8Mw69H8CfKrHkmzIqKuvf14z9ZKStLxwEnAyV0cinUDO23Wj3r/ojAz6xJOtlZSEXEJcElXx2FmZraq854tMzMzswI52TIzMzMrkJMtMzMzswI52TIzMzMrkJMtMzMzswI52TIzMzMrkJMtMzMzswI52TIzMzMrkJMtMzMzswL5E+TNVgFzFy1h0PhbujoMM+vG/Lcfi+OZLTMzM7MCOdmylZKkIySFpO1aqPfdNvQ9UFJD2derkn7W9ojNzGxl5WTLVlbHAPcBR7dQr2KypUzFn4+I+GdEDC19AccCS4Bz2x6umZmtrJxs2UpHUl9gb+ArpGRL0gBJ96RZqHmS9pU0EeiTyiZLGiTpMUkXAY8AAyVdLKle0nxJp1cYqzcwGfh6RCxOZQdJelDSI5J+l+JB0kJJp6fyuaVZN0nrSLpC0kxJsyUdnsp7STo71W2UdGIq/0GqO0/SJEkq+p6amVnbOdmyldFngFsj4gng35J2BT4P3JZmooYADRExHngzzVCNTm23Ba6JiF0i4hngtIioA3YG9pe0c9lYPwfuj4gpAJL6A98DRkbErkA98N+5+i+m8ouBU1LZacCdEbEbcABwlqR1gHHAVsAuEbEzWVIHcGFE7BYROwJ9gEMq3QRJ41KiWN+0dElr7p+ZmXUgvxvRVkbHsHxJ7/r0+M/AFZLWAG6OiIYqbZ+JiBm5x5+TNI7sZ2UAsD3QCCDpYGAkUJerv2eqc3+acFoTeDB3/o/p+yzgs+n4IOAwSaXkqzewRer7koh4DyAi/p3OHyDpVGBtYENgfrq+FUTEJGASwFoDBkeV6zUzs4I52bKViqSNgAOBHSUF0AsI4FRgP+DTwLWSzoqIayp08Uaur63IZp92i4iXJV1FlgghaWPgUuDwiFiaDwG4PSKOqRLi2+l7E8t//gQcGRGPl12LUuz5st7ARUBdRPxT0oRSTGZm1j15GdFWNqPIlgG3jIhBETEQeJos0XohIi4Dfg3smuq/m2a7KlmPLPlaImkT4ODcuSuACyJidlmbGcDekrYGkLS2pG1aiPk24MTS3itJu6TyacDxklZP5RuyPLF6Me0FG9VC32Zm1sU8s2Urm2OAiWVlfwCuAt6Q9C7wOvDFdG4S0CjpEbK9U8tExBxJs8mW6Z4C7geQNJxsn9QWkkbnmtweEd+WNBa4TtJaqfx7wBPNxPxjsmXPxpRwLUz9Xw5sk8rfBS6LiAslXQbMTfVmtnA/zMysiynCWznMVnZrDRgcA8ac29VhmFk35k+Q/yBJs9KbpNrFM1tmq4CdNutHvf8hNTPrEt6zZWZmZlYgJ1tmZmZmBXKyZWZmZlYgJ1tmZmZmBXKyZWZmZlYgJ1tmZmZmBXKyZWZmZlYgJ1tmZmZmBXKyZWZmZlYgf4K82Spg7qIlDBp/S1eHYWbWqbrLnyDyzJaZmZlZgZxsmZmZmRXIyZZ1a5KaJDVImifpd5LWTuUnSXpM0mRJh0kaX+DYcyQ9ImmvVL6ppN+30HaEpJB0aK5saiq/KfX7D0lL0nFDqf8aY3u97VdmZmadyXu2rLt7MyKGAkiaDBwP/BL4L+DgiHg61ZvSnkEkrR4R7zUz9n8AZwL7R8RzwKgaun0WOA34c74wIo5IfY4ATomIQ9oTu5mZdW+e2bKe5F5ga0mXAB8Bpkj6lqSxki4EyM0SNUh6U9L+ktaRdIWkmZJmSzo81R2bZsv+DExrYez1gJdTu0GS5qXj3pKulDQ39X1Ars0cYImkT7R0YZI2lvSHFONMSXun8r65/hslHZlrc0aadZshaZNab6KZmXUuz2xZjyBpdeBg4NaIuFjSJ4EDIuJFSWNL9XIzUYcCpwIPAKcDd0bElyWtDzws6W+pyXBg54j4d4Vh+0hqAHoDA4ADK9T5ehp3J0nbAdMkbZM7/5P0dXsLl3gecE5E3CdpC+A24GPA94ElEbFTuq4NUv11gBkRcZqknwPHpXGWkTQOGAfQa72NWxjezMyK4mTLurtSwgPZzNavW2ogaTBwFnBgRLwr6SDgMEmnpCq9gS3S8e1VEi1YcRlxOHCNpB3L6uwDXAAQEQskPQMsS7Yi4l5JSNq3hbBHAttLKj1eT9K6qfzoXH8vp8N3gKnpeBbwgdmziJgETAJYa8DgaGF8MzMriJMt6+6WJTy1kLQOcCNwXNpbBSDgyIh4vKzuHsAbtfQbEQ9K6g+UTxGpUv0yZ5Dt3SrfE5a3GjA8It4si1FApUTp3YgolTfhn2Uzs27Le7ZsZXMlcGVE3Jsruw04MSUuSNqltZ2mJcJewEtlp+4BRqc625DNmK2Q1EXENGADYEgzQ0wDvpEbb2iV8g0wM7MexcmWrTQkbUn2LsEv5zbJ1wE/BtYAGtPG9h/X2GWfUj/ADcCYiGgqq3MR0EvS3FRnbES8XaGvM4DNmxnrJKAubYJ/lOxdl5Dtw9ogffTFHOCAqj2YmVm3pOUrEWa2sqqrq4v6+vquDsPMrEeRNCsi6trbj2e2zMzMzArkZMvMzMysQE62zMzMzArkZMvMzMysQE62zMzMzArkdyOarQIkvUbZ5391U/2BF7s6iBb0hBihZ8TZE2KEnhFnT4gRekac+Ri3jIh2/70zf+q02arh8Y54+3LRJNV39zh7QozQM+LsCTFCz4izJ8QIPSPOImL0MqKZmZlZgZxsmZmZmRXIyZbZqmFSVwdQo54QZ0+IEXpGnD0hRugZcfaEGKFnxNnhMXqDvJmZmVmBPLNlZmZmViAnW2ZmZmYFcrJl1sNI+qSkxyX9Q9L4Cucl6fx0vlHSri21lbShpNsl/T1936Cr4pQ0UNJdkh6TNF/SN3NtJkhaJKkhfX2qK2JM5xZKmpviqM+Vd6d7uW3uXjVIelXSyelch97LGuPcTtKDkt6WdEotbTv6frY1xs58XbYnznSuU16b7biX3e11OTr93DRKekDSkJbatvpeRoS//OWvHvIF9AKeBD4CrAnMAbYvq/Mp4K+AgD2Bh1pqC/wcGJ+OxwM/68I4BwC7puN1gSdycU4ATunqe5nOLQT6V+i329zLCv38H9mHNHbovWxFnB8CdgPOyI/dWa/NdsbYKa/L9sbZWa/N9sbYzV6XewEbpOODKeDfTM9smfUsuwP/iIinIuId4Hrg8LI6hwPXRGYGsL6kAS20PRy4Oh1fDXymq+KMiMUR8QhARLwGPAZs1s54OjTGFvrtNveyrM7HgScj4pl2xtPmOCPihYiYCbzbirYdeT/bHGMnvi7bFWcLusW9LNMdXpcPRMTL6eEMYPMa2rbqXjrZMutZNgP+mXv8LB/8B79anebabhIRiyH7pUL2P9KuinMZSYOAXYCHcsXfSNP9V7RzGaS9MQYwTdIsSeNydbrlvQSOBq4rK+uoe1lrDG1p25H3sz0xLlPw6xLaH2dnvDY75F7S/V6XXyGbJW6pbavupZMts55FFcrKP7+lWp1a2naU9sSZnZT6An8ATo6IV1PxxcBHgaHAYuAXXRjj3hGxK9myw9cl7deOWJrTEfdyTeAw4He58x15L1uMocC2rdHucTrhdQntj7MzXpsdcS+71etS0gFkydb/tLZtS5xsmfUszwIDc483B56rsU5zbZ8vLTul7y90YZxIWoPsF9rkiPhjqUJEPB8RTRHxPnAZ2TR/l8QYEaXvLwA35WLpVvcyORh4JCKeLxV08L2sNc62tO3I+9meGDvrddnuODvptdmuGJNu87qUtDNwOXB4RLxUQ9tW3UsnW2Y9y0xgsKSt0v8KjwamlNWZAnxRmT2BJWmau7m2U4Ax6XgM8KeuilOSgF8Dj0XEL/MNyvYhHQHM66IY15G0boppHeCgXCzd5l7mzh9D2VJNB9/LWuNsS9uOvJ9tjrETX5ftjbOzXpvteb5LusXrUtIWwB+BYyPiiRrbtu5e1rKb31/+8lf3+SJ759kTZO+SOS2VHQ8cn44F/CqdnwvUNdc2lW8E3AH8PX3fsKviBPYhm6pvBBrS16fSuWtT3cb0j92ALorxI2TvTJoDzO+u9zKdWxt4CehX1meH3ssa4/ww2WzBq8Ar6Xi9znxttjXGznxdtjPOTntttvP57k6vy8uBl3PPa31zbdtyL/3neszMzMwK5GVEMzMzswI52TIzMzMrkJMtMzMzswI52TIzMzMrkJMtMzMzswI52TIzs1aT9BFJN6cP+uzIfodLuqIj+zTrak62zMxsBZJOkzQ//X26Bkl75M6dLelWYEdgbES05g8hNzfm1ZKmkH1W1Akd0N9fJK3f7sDMOoA/Z8vMzJaRNBz4JTAiIt6W1B9YMyKek9QHGAbMBoZExAMdNObGZH/gdzHZH/ht7Ih+zboLz2yZmVneAODFiHgbICJejPS39oC9gAuAGcBXJa1V3ljSMElzJD0o6SxJ81L5WEkX5upNlTQiPRxJ9snhdwCjc3U+KemR1N8dFcZaW9KNaQbuBkkPSapL5xamRJG03DkrzdaNa+f9MWs1J1tmZpY3DRgo6QlJF0naH0BSb+Aq4KiI2AlYncrLfVcCJ0XE8FoGk7Qp8DPgQGAosJukz6TZrsuAIyNiCPCfFZr/F/ByROwM/Jhs1q2SL0fEMKAOOEnSRrXEZtZRnGyZmdkyEfE6WdIyDvgXcIOkscC2wNOx/A/1Xg3sl28rqR+wfkRMT0XX1jDkbsDdEfGviHgPmJz63RO4JyKeTnH9u0LbfYDr0/l5ZH9Pr5KTJM0hm5EbCAyuIS6zDrN6VwdgZmbdS0Q0AXcDd0uaC4wh+wO9LRHZH2uu5D1W/A9+71yb1vaVr9N8hWypciQwPCKWSro7N7ZZp/DMlpmZLSNpW0n5mZ+hwDPAAmCQpK1T+bHA9HzbiHgFWCJpn1Q0Ond6ITBU0mqSBgK7p/KHgP0l9ZfUCzgm9ftgKt8qxbVhhXDvAz6Xzm8P7FShTj+ypcalkrYjmzEz61Se2TIzs7y+wAXpYxPeA/4BjIuItyR9CfidpNWBmcAlFdp/CbhC0lLgtlz5/cDTwFxgHvAIQEQslvQd4C6ymaq/RMSfANJm9j9KWg14AfhE2VgXAVdLaiR7h2QjsKSszq3A8anO42RLiWadyh/9YGZmhZA0CJgaETsW1H8vYI2UCH6U7N2M20TEO0WMZ9ZWntkyM7Oeam3grvQp9gJOcKJl3ZFntszMzMwK5A3yZmZmZgVysmVmZmZWICdbZmZmZgVysmVmZmZWICdbZmZmZgX6/3Q5GVeRMGUaAAAAAElFTkSuQmCC\n",
      "text/plain": [
       "<Figure size 432x288 with 1 Axes>"
      ]
     },
     "metadata": {
      "needs_background": "light"
     },
     "output_type": "display_data"
    }
   ],
   "source": [
    "metavaccin_df['COMPANY_NAME'].value_counts(normalize=True).head(10).plot.barh()\n",
    "plt.xlabel('Số quốc gia')\n",
    "plt.title('Số quốc gia sử dụng các vaccin phổ biến');"
   ]
  },
  {
   "cell_type": "markdown",
   "id": "3a2ebc36-b6da-4faa-ad9b-077f3bbf5b37",
   "metadata": {},
   "source": [
    "`Bar chart` này cho thấy sự hợp lí khi Pfizer BioNTech và AstraZeneca tiếp tục đứng đầu."
=======
   "id": "09e2c0d1-ab2a-4816-a96e-589842acbe28",
   "metadata": {},
   "source": [
    "## 4.Khám phá dữ liệu Vaccin COVID-19"
>>>>>>> 8150654bc0fad9b03597dd4d909c6c0b56b325c0:Khám-phá-dữ-liệu.ipynb
   ]
  }
 ],
 "metadata": {
  "kernelspec": {
   "display_name": "Python 3",
   "language": "python",
   "name": "python3"
  },
  "language_info": {
   "codemirror_mode": {
    "name": "ipython",
    "version": 3
   },
   "file_extension": ".py",
   "mimetype": "text/x-python",
   "name": "python",
   "nbconvert_exporter": "python",
   "pygments_lexer": "ipython3",
   "version": "3.9.7"
  }
 },
 "nbformat": 4,
 "nbformat_minor": 5
}
