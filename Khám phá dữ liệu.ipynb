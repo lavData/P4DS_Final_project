{
 "cells": [
  {
   "cell_type": "code",
   "execution_count": 1,
   "id": "4a6c774b",
   "metadata": {},
   "outputs": [],
   "source": [
    "import pandas as pd\n",
    "import numpy as np\n",
    "import matplotlib.pyplot as plt"
   ]
  },
  {
   "cell_type": "markdown",
   "id": "9826a77f",
   "metadata": {},
   "source": [
    "Dữ liệu được sử dụng trong bài làm là dữ liệu được WHO thu thập từ tất cả các nước để theo dõi tình hình COVID-19 trên toàn thế giới.\n",
    "Theo mô tả trên trang web chính thức của WHO:\n",
    "> 1. WHO-COVID-19-global-data.csv : thống kê số liệu mỗi ngày của các quốc gia.\n",
    "> 2. WHO-COVID-19-global-table-data.csv: thống kế số liệu thời gian gần đây của các quốc gia.\n",
    ">\n",
    "Dữ liệu được thu thập từ ngày 03/01/2020 đến 02/12/2021 của 237 quốc qua trên thế giới."
   ]
  },
  {
   "cell_type": "markdown",
   "id": "c68a6623",
   "metadata": {},
   "source": [
    "## 1. Khám phá dữ liệu tình hình COVID-19 các quốc gia"
   ]
  },
  {
   "cell_type": "markdown",
   "id": "db33a768",
   "metadata": {},
   "source": [
    "### Đọc dữ liệu từ file"
   ]
  },
  {
   "cell_type": "markdown",
   "id": "69f95c45",
   "metadata": {},
   "source": [
    "- Đọc dữ liệu từ file `WHO-COVID-19-global-table-data.csv` rồi lưu vào dataframe `global_table_df`.\n",
    "- Index mặc định là tên quốc gia ,riêng index `Global` đại diện cho toàn cầu."
   ]
  },
  {
   "cell_type": "code",
   "execution_count": 2,
   "id": "2a5f008f",
   "metadata": {
    "scrolled": true
   },
   "outputs": [
    {
     "data": {
      "text/html": [
       "<div>\n",
       "<style scoped>\n",
       "    .dataframe tbody tr th:only-of-type {\n",
       "        vertical-align: middle;\n",
       "    }\n",
       "\n",
       "    .dataframe tbody tr th {\n",
       "        vertical-align: top;\n",
       "    }\n",
       "\n",
       "    .dataframe thead th {\n",
       "        text-align: right;\n",
       "    }\n",
       "</style>\n",
       "<table border=\"1\" class=\"dataframe\">\n",
       "  <thead>\n",
       "    <tr style=\"text-align: right;\">\n",
       "      <th></th>\n",
       "      <th>Name</th>\n",
       "      <th>WHO Region</th>\n",
       "      <th>Cases - cumulative total</th>\n",
       "      <th>Cases - cumulative total per 100000 population</th>\n",
       "      <th>Cases - newly reported in last 7 days</th>\n",
       "      <th>Cases - newly reported in last 7 days per 100000 population</th>\n",
       "      <th>Cases - newly reported in last 24 hours</th>\n",
       "      <th>Deaths - cumulative total</th>\n",
       "      <th>Deaths - cumulative total per 100000 population</th>\n",
       "      <th>Deaths - newly reported in last 7 days</th>\n",
       "      <th>Deaths - newly reported in last 7 days per 100000 population</th>\n",
       "      <th>Deaths - newly reported in last 24 hours</th>\n",
       "    </tr>\n",
       "  </thead>\n",
       "  <tbody>\n",
       "    <tr>\n",
       "      <th>Global</th>\n",
       "      <td>NaN</td>\n",
       "      <td>263563622</td>\n",
       "      <td>3381.387611</td>\n",
       "      <td>3973600</td>\n",
       "      <td>50.979273</td>\n",
       "      <td>653682</td>\n",
       "      <td>5232562</td>\n",
       "      <td>67.131117</td>\n",
       "      <td>47864</td>\n",
       "      <td>0.614071</td>\n",
       "      <td>7804</td>\n",
       "      <td>NaN</td>\n",
       "    </tr>\n",
       "    <tr>\n",
       "      <th>United States of America</th>\n",
       "      <td>Americas</td>\n",
       "      <td>48413265</td>\n",
       "      <td>14626.247000</td>\n",
       "      <td>605870</td>\n",
       "      <td>183.041000</td>\n",
       "      <td>131187</td>\n",
       "      <td>778336</td>\n",
       "      <td>235.145000</td>\n",
       "      <td>6388</td>\n",
       "      <td>1.930000</td>\n",
       "      <td>1831</td>\n",
       "      <td>NaN</td>\n",
       "    </tr>\n",
       "    <tr>\n",
       "      <th>India</th>\n",
       "      <td>South-East Asia</td>\n",
       "      <td>34615757</td>\n",
       "      <td>2508.380000</td>\n",
       "      <td>60326</td>\n",
       "      <td>4.371000</td>\n",
       "      <td>9216</td>\n",
       "      <td>470115</td>\n",
       "      <td>34.066000</td>\n",
       "      <td>2647</td>\n",
       "      <td>0.192000</td>\n",
       "      <td>391</td>\n",
       "      <td>NaN</td>\n",
       "    </tr>\n",
       "    <tr>\n",
       "      <th>Brazil</th>\n",
       "      <td>Americas</td>\n",
       "      <td>22105872</td>\n",
       "      <td>10399.855000</td>\n",
       "      <td>62760</td>\n",
       "      <td>29.526000</td>\n",
       "      <td>11413</td>\n",
       "      <td>614964</td>\n",
       "      <td>289.314000</td>\n",
       "      <td>1625</td>\n",
       "      <td>0.764000</td>\n",
       "      <td>283</td>\n",
       "      <td>NaN</td>\n",
       "    </tr>\n",
       "    <tr>\n",
       "      <th>The United Kingdom</th>\n",
       "      <td>Europe</td>\n",
       "      <td>10329078</td>\n",
       "      <td>15215.328000</td>\n",
       "      <td>307577</td>\n",
       "      <td>453.079000</td>\n",
       "      <td>53067</td>\n",
       "      <td>145281</td>\n",
       "      <td>214.007000</td>\n",
       "      <td>848</td>\n",
       "      <td>1.249000</td>\n",
       "      <td>141</td>\n",
       "      <td>NaN</td>\n",
       "    </tr>\n",
       "  </tbody>\n",
       "</table>\n",
       "</div>"
      ],
      "text/plain": [
       "                                     Name  WHO Region  \\\n",
       "Global                                NaN   263563622   \n",
       "United States of America         Americas    48413265   \n",
       "India                     South-East Asia    34615757   \n",
       "Brazil                           Americas    22105872   \n",
       "The United Kingdom                 Europe    10329078   \n",
       "\n",
       "                          Cases - cumulative total  \\\n",
       "Global                                 3381.387611   \n",
       "United States of America              14626.247000   \n",
       "India                                  2508.380000   \n",
       "Brazil                                10399.855000   \n",
       "The United Kingdom                    15215.328000   \n",
       "\n",
       "                          Cases - cumulative total per 100000 population  \\\n",
       "Global                                                           3973600   \n",
       "United States of America                                          605870   \n",
       "India                                                              60326   \n",
       "Brazil                                                             62760   \n",
       "The United Kingdom                                                307577   \n",
       "\n",
       "                          Cases - newly reported in last 7 days  \\\n",
       "Global                                                50.979273   \n",
       "United States of America                             183.041000   \n",
       "India                                                  4.371000   \n",
       "Brazil                                                29.526000   \n",
       "The United Kingdom                                   453.079000   \n",
       "\n",
       "                          Cases - newly reported in last 7 days per 100000 population  \\\n",
       "Global                                                               653682             \n",
       "United States of America                                             131187             \n",
       "India                                                                  9216             \n",
       "Brazil                                                                11413             \n",
       "The United Kingdom                                                    53067             \n",
       "\n",
       "                          Cases - newly reported in last 24 hours  \\\n",
       "Global                                                    5232562   \n",
       "United States of America                                   778336   \n",
       "India                                                      470115   \n",
       "Brazil                                                     614964   \n",
       "The United Kingdom                                         145281   \n",
       "\n",
       "                          Deaths - cumulative total  \\\n",
       "Global                                    67.131117   \n",
       "United States of America                 235.145000   \n",
       "India                                     34.066000   \n",
       "Brazil                                   289.314000   \n",
       "The United Kingdom                       214.007000   \n",
       "\n",
       "                          Deaths - cumulative total per 100000 population  \\\n",
       "Global                                                              47864   \n",
       "United States of America                                             6388   \n",
       "India                                                                2647   \n",
       "Brazil                                                               1625   \n",
       "The United Kingdom                                                    848   \n",
       "\n",
       "                          Deaths - newly reported in last 7 days  \\\n",
       "Global                                                  0.614071   \n",
       "United States of America                                1.930000   \n",
       "India                                                   0.192000   \n",
       "Brazil                                                  0.764000   \n",
       "The United Kingdom                                      1.249000   \n",
       "\n",
       "                          Deaths - newly reported in last 7 days per 100000 population  \\\n",
       "Global                                                                 7804              \n",
       "United States of America                                               1831              \n",
       "India                                                                   391              \n",
       "Brazil                                                                  283              \n",
       "The United Kingdom                                                      141              \n",
       "\n",
       "                          Deaths - newly reported in last 24 hours  \n",
       "Global                                                         NaN  \n",
       "United States of America                                       NaN  \n",
       "India                                                          NaN  \n",
       "Brazil                                                         NaN  \n",
       "The United Kingdom                                             NaN  "
      ]
     },
     "execution_count": 2,
     "metadata": {},
     "output_type": "execute_result"
    }
   ],
   "source": [
    "global_table_df = pd.read_csv('dataset/WHO-COVID-19-global-table-data.csv')\n",
    "global_table_df.head()"
   ]
  },
  {
   "cell_type": "markdown",
   "id": "f62bd6c4",
   "metadata": {},
   "source": [
    "### Dữ liệu có bao nhiêu dòng, cột"
   ]
  },
  {
   "cell_type": "markdown",
   "id": "c91a3e47",
   "metadata": {},
   "source": [
    "Tính số dòng và số cột của dataframe `global_table_df` rồi lưu vào `num_rows_global_table` và `num_cols_global_table`"
   ]
  },
  {
   "cell_type": "code",
   "execution_count": 3,
   "id": "c17c17c3",
   "metadata": {},
   "outputs": [
    {
     "name": "stdout",
     "output_type": "stream",
     "text": [
      "Dữ liệu có 238 dòng.\n",
      "Dữ liệu có 12 cột.\n"
     ]
    }
   ],
   "source": [
    "num_rows_global_table , num_cols_global_table = global_table_df.shape\n",
    "print(f'Dữ liệu có {num_rows_global_table} dòng.')\n",
    "print(f'Dữ liệu có {num_cols_global_table} cột.')"
   ]
  },
  {
   "cell_type": "markdown",
   "id": "27a04e10",
   "metadata": {},
   "source": [
    "Chúng ta không xét tới dòng index `Global` nên dữ liệu gồm 237 `quốc gia`, đúng với mô tả ở trên."
   ]
  },
  {
   "cell_type": "markdown",
   "id": "99a8f471",
   "metadata": {},
   "source": [
    "### Mỗi dòng có ý nghĩa gì ? Có vấn đề về ý nghĩa giữa các dòng khác nhau hay không ?"
   ]
  },
  {
   "cell_type": "markdown",
   "id": "0c0334a9",
   "metadata": {},
   "source": [
    "Theo quan sát sơ bộ và file mô tả dữ liệu trên website chính của WHO thì dữ liệu cho biết thông tin về tính hình COVID-19 của từng quốc gia.\\\n",
    "Có vẻ không có vấn đề về ý nghĩa từng dòng."
   ]
  },
  {
   "cell_type": "markdown",
   "id": "ad3a5cb4",
   "metadata": {},
   "source": [
    "### Dữ liệu có bị lặp không ?"
   ]
  },
  {
   "cell_type": "markdown",
   "id": "37919a89",
   "metadata": {},
   "source": [
    "Tính số dòng dữ liệu bị trùng (nếu có) rồi lưu vào biến `num_rows_dupicated`."
   ]
  },
  {
   "cell_type": "code",
   "execution_count": 4,
   "id": "9456f789",
   "metadata": {},
   "outputs": [
    {
     "name": "stdout",
     "output_type": "stream",
     "text": [
      "0\n"
     ]
    }
   ],
   "source": [
    "num_rows_duplicated = num_rows_global_table - len(global_table_df.index.drop_duplicates())\n",
    "print(num_rows_duplicated)"
   ]
  },
  {
   "cell_type": "markdown",
   "id": "d697405a",
   "metadata": {},
   "source": [
    "### Mỗi cột có ý nghĩa gì ?"
   ]
  },
  {
   "cell_type": "markdown",
   "id": "2eda8f65",
   "metadata": {},
   "source": [
    "Dựa vào mô tả chính thức trên website WHO, em đã mô tả ý nghĩa từng cột dữ liệu trong file `description_global_table.csv`"
   ]
  },
  {
   "cell_type": "code",
   "execution_count": 5,
   "id": "7e833fe9",
   "metadata": {
    "scrolled": true
   },
   "outputs": [],
   "source": [
    "pd.set_option(\"display.max_colwidth\",200)\n",
    "description_global_table = pd.read_csv('dataset/Description-global-table.csv',delimiter= '\\t',index_col='Field name')"
   ]
  },
  {
   "cell_type": "code",
   "execution_count": 6,
   "id": "475c7708",
   "metadata": {},
   "outputs": [
    {
     "data": {
      "text/html": [
       "<div>\n",
       "<style scoped>\n",
       "    .dataframe tbody tr th:only-of-type {\n",
       "        vertical-align: middle;\n",
       "    }\n",
       "\n",
       "    .dataframe tbody tr th {\n",
       "        vertical-align: top;\n",
       "    }\n",
       "\n",
       "    .dataframe thead th {\n",
       "        text-align: right;\n",
       "    }\n",
       "</style>\n",
       "<table border=\"1\" class=\"dataframe\">\n",
       "  <thead>\n",
       "    <tr style=\"text-align: right;\">\n",
       "      <th></th>\n",
       "      <th>Type</th>\n",
       "      <th>Description</th>\n",
       "    </tr>\n",
       "    <tr>\n",
       "      <th>Field name</th>\n",
       "      <th></th>\n",
       "      <th></th>\n",
       "    </tr>\n",
       "  </thead>\n",
       "  <tbody>\n",
       "    <tr>\n",
       "      <th>Name</th>\n",
       "      <td>String</td>\n",
       "      <td>Country, territory, area</td>\n",
       "    </tr>\n",
       "    <tr>\n",
       "      <th>WHO_region</th>\n",
       "      <td>String</td>\n",
       "      <td>WHO Region</td>\n",
       "    </tr>\n",
       "    <tr>\n",
       "      <th>Cases - cumulative total</th>\n",
       "      <td>Integer</td>\n",
       "      <td>Cumulative confirmed cases reported to WHO to date.</td>\n",
       "    </tr>\n",
       "    <tr>\n",
       "      <th>Cases - cumulative total per 100000 population</th>\n",
       "      <td>Decimal</td>\n",
       "      <td>Cumulative confirmed cases reported to WHO to date per 100,000 population.</td>\n",
       "    </tr>\n",
       "    <tr>\n",
       "      <th>Cases - newly reported in last 7 days</th>\n",
       "      <td>Integer</td>\n",
       "      <td>New confirmed cases reported in the last 7 days. Calculated by subtracting previous cumulative case count (8 days prior) from current cumulative cases count.</td>\n",
       "    </tr>\n",
       "    <tr>\n",
       "      <th>Cases - newly reported in last 7 days per 100000 population</th>\n",
       "      <td>Decimal</td>\n",
       "      <td>New confirmed cases reported in the last 7 days per 100,000 population.</td>\n",
       "    </tr>\n",
       "    <tr>\n",
       "      <th>Cases - newly reported in last 24 hours</th>\n",
       "      <td>Integer</td>\n",
       "      <td>New confirmed cases reported in the last 24 hours. Calculated by subtracting previous cumulative case count from current cumulative cases count.</td>\n",
       "    </tr>\n",
       "    <tr>\n",
       "      <th>Deaths - cumulative total</th>\n",
       "      <td>Integer</td>\n",
       "      <td>Cumulative confirmed deaths reported to WHO to date.</td>\n",
       "    </tr>\n",
       "    <tr>\n",
       "      <th>Deaths - cumulative total per 100000 population</th>\n",
       "      <td>Decimal</td>\n",
       "      <td>Cumulative confirmed deaths reported to WHO to date per 100,000 population.</td>\n",
       "    </tr>\n",
       "    <tr>\n",
       "      <th>Deaths - newly reported in last 7 days</th>\n",
       "      <td>Integer</td>\n",
       "      <td>New confirmed deaths reported in the last 7 days. Calculated by subtracting previous cumulative death count (8 days prior) from current cumulative deaths count.</td>\n",
       "    </tr>\n",
       "    <tr>\n",
       "      <th>Deaths - newly reported in last 7 days per 100000 population</th>\n",
       "      <td>Decimal</td>\n",
       "      <td>New confirmed deaths reported in the last 7 days per 100,000 population.</td>\n",
       "    </tr>\n",
       "    <tr>\n",
       "      <th>Deaths - newly reported in last 24 hours</th>\n",
       "      <td>Integer</td>\n",
       "      <td>New confirmed deaths reported in the last 24 hours. Calculated by subtracting previous cumulative death count from current cumulative deaths count.</td>\n",
       "    </tr>\n",
       "  </tbody>\n",
       "</table>\n",
       "</div>"
      ],
      "text/plain": [
       "                                                                 Type  \\\n",
       "Field name                                                              \n",
       "Name                                                           String   \n",
       "WHO_region                                                     String   \n",
       "Cases - cumulative total                                      Integer   \n",
       "Cases - cumulative total per 100000 population                Decimal   \n",
       "Cases - newly reported in last 7 days                         Integer   \n",
       "Cases - newly reported in last 7 days per 100000 population   Decimal   \n",
       "Cases - newly reported in last 24 hours                       Integer   \n",
       "Deaths - cumulative total                                     Integer   \n",
       "Deaths - cumulative total per 100000 population               Decimal   \n",
       "Deaths - newly reported in last 7 days                        Integer   \n",
       "Deaths - newly reported in last 7 days per 100000 population  Decimal   \n",
       "Deaths - newly reported in last 24 hours                      Integer   \n",
       "\n",
       "                                                                                                                                                                                                                   Description  \n",
       "Field name                                                                                                                                                                                                                      \n",
       "Name                                                                                                                                                                                                  Country, territory, area  \n",
       "WHO_region                                                                                                                                                                                                          WHO Region  \n",
       "Cases - cumulative total                                                                                                                                                   Cumulative confirmed cases reported to WHO to date.  \n",
       "Cases - cumulative total per 100000 population                                                                                                      Cumulative confirmed cases reported to WHO to date per 100,000 population.  \n",
       "Cases - newly reported in last 7 days                            New confirmed cases reported in the last 7 days. Calculated by subtracting previous cumulative case count (8 days prior) from current cumulative cases count.  \n",
       "Cases - newly reported in last 7 days per 100000 population                                                                                            New confirmed cases reported in the last 7 days per 100,000 population.  \n",
       "Cases - newly reported in last 24 hours                                       New confirmed cases reported in the last 24 hours. Calculated by subtracting previous cumulative case count from current cumulative cases count.  \n",
       "Deaths - cumulative total                                                                                                                                                 Cumulative confirmed deaths reported to WHO to date.  \n",
       "Deaths - cumulative total per 100000 population                                                                                                    Cumulative confirmed deaths reported to WHO to date per 100,000 population.  \n",
       "Deaths - newly reported in last 7 days                        New confirmed deaths reported in the last 7 days. Calculated by subtracting previous cumulative death count (8 days prior) from current cumulative deaths count.  \n",
       "Deaths - newly reported in last 7 days per 100000 population                                                                                          New confirmed deaths reported in the last 7 days per 100,000 population.  \n",
       "Deaths - newly reported in last 24 hours                                   New confirmed deaths reported in the last 24 hours. Calculated by subtracting previous cumulative death count from current cumulative deaths count.  "
      ]
     },
     "execution_count": 6,
     "metadata": {},
     "output_type": "execute_result"
    }
   ],
   "source": [
    "description_global_table"
   ]
  },
  {
   "cell_type": "markdown",
   "id": "0a3674bd",
   "metadata": {},
   "source": [
    "### Mỗi cột hiện tại đang có dữ liệu gì ? Có cột nào có kiểu dữ liệu không phù hợp không ?"
   ]
  },
  {
   "cell_type": "code",
   "execution_count": 7,
   "id": "0bf7b93c",
   "metadata": {
    "scrolled": false
   },
   "outputs": [
    {
     "data": {
      "text/plain": [
       "Name                                                             object\n",
       "WHO Region                                                        int64\n",
       "Cases - cumulative total                                        float64\n",
       "Cases - cumulative total per 100000 population                    int64\n",
       "Cases - newly reported in last 7 days                           float64\n",
       "Cases - newly reported in last 7 days per 100000 population       int64\n",
       "Cases - newly reported in last 24 hours                           int64\n",
       "Deaths - cumulative total                                       float64\n",
       "Deaths - cumulative total per 100000 population                   int64\n",
       "Deaths - newly reported in last 7 days                          float64\n",
       "Deaths - newly reported in last 7 days per 100000 population      int64\n",
       "Deaths - newly reported in last 24 hours                        float64\n",
       "dtype: object"
      ]
     },
     "execution_count": 7,
     "metadata": {},
     "output_type": "execute_result"
    }
   ],
   "source": [
    "global_table_df.dtypes"
   ]
  },
  {
   "cell_type": "markdown",
   "id": "1b494042",
   "metadata": {},
   "source": [
    "<font color = green  size = 3> Không có gì bất thường </font>"
   ]
  },
  {
   "cell_type": "markdown",
   "id": "60bda4c0",
   "metadata": {},
   "source": [
    "### Phân bố dữ liệu dạng numerical"
   ]
  },
  {
   "cell_type": "markdown",
   "id": "ef90ad32",
   "metadata": {},
   "source": [
    "Dữ liệu ở đây phần lớn ở dạng `numerical`, trừ `Name` và `WHO Region`. \\\n",
    "`WHO Region` kiểu dữ liệu `int64` nhưng đây là mã vùng nên không có nhiều ý nghĩa nếu xếp vào `numerical`"
   ]
  },
  {
   "cell_type": "code",
   "execution_count": 8,
   "id": "94e6fcc0",
   "metadata": {},
   "outputs": [],
   "source": [
    "def missing_ration(column):\n",
    "    return (column.isna().mean() * 100).round(1)\n",
    "\n",
    "def lower_quantile(column):\n",
    "    return column.quantile(q= 0.25)\n",
    "\n",
    "def upper_quantile(column):\n",
    "    return column.quantile(q= 0.75)"
   ]
  },
  {
   "cell_type": "markdown",
   "id": "cac5a341",
   "metadata": {},
   "source": [
    "Column `Deaths - newly reported in last 24 hours` chứa nhiều NaN, có thể vì hệ thống chưa cập nhật.\\\n",
    "Để tránh `RuntimeWarning` thì ta sẽ chuyển dữ liệu cột này về 0."
   ]
  },
  {
   "cell_type": "markdown",
   "id": "bf9c2ff8",
   "metadata": {},
   "source": [
    "## Tiền xử lý"
   ]
  },
  {
   "cell_type": "code",
   "execution_count": 9,
   "id": "d01eaae9",
   "metadata": {},
   "outputs": [],
   "source": [
    "global_table_df.iloc[:,-1] = global_table_df.iloc[:,-1].fillna(0)"
   ]
  },
  {
   "cell_type": "markdown",
   "id": "94959ba8",
   "metadata": {},
   "source": [
    "## Quay lại khám phá dữ liệu"
   ]
  },
  {
   "cell_type": "code",
   "execution_count": 10,
   "id": "9a0573f7",
   "metadata": {
    "scrolled": true
   },
   "outputs": [
    {
     "data": {
      "text/html": [
       "<div>\n",
       "<style scoped>\n",
       "    .dataframe tbody tr th:only-of-type {\n",
       "        vertical-align: middle;\n",
       "    }\n",
       "\n",
       "    .dataframe tbody tr th {\n",
       "        vertical-align: top;\n",
       "    }\n",
       "\n",
       "    .dataframe thead th {\n",
       "        text-align: right;\n",
       "    }\n",
       "</style>\n",
       "<table border=\"1\" class=\"dataframe\">\n",
       "  <thead>\n",
       "    <tr style=\"text-align: right;\">\n",
       "      <th></th>\n",
       "      <th>Cases - cumulative total</th>\n",
       "      <th>Cases - cumulative total per 100000 population</th>\n",
       "      <th>Cases - newly reported in last 7 days</th>\n",
       "      <th>Cases - newly reported in last 7 days per 100000 population</th>\n",
       "      <th>Cases - newly reported in last 24 hours</th>\n",
       "      <th>Deaths - cumulative total</th>\n",
       "      <th>Deaths - cumulative total per 100000 population</th>\n",
       "      <th>Deaths - newly reported in last 7 days</th>\n",
       "      <th>Deaths - newly reported in last 7 days per 100000 population</th>\n",
       "      <th>Deaths - newly reported in last 24 hours</th>\n",
       "    </tr>\n",
       "  </thead>\n",
       "  <tbody>\n",
       "    <tr>\n",
       "      <th>missing_ration</th>\n",
       "      <td>0.400</td>\n",
       "      <td>0.00</td>\n",
       "      <td>0.400</td>\n",
       "      <td>0.0</td>\n",
       "      <td>0.00</td>\n",
       "      <td>0.400</td>\n",
       "      <td>0.00</td>\n",
       "      <td>0.400</td>\n",
       "      <td>0.0</td>\n",
       "      <td>0.0</td>\n",
       "    </tr>\n",
       "    <tr>\n",
       "      <th>min</th>\n",
       "      <td>0.000</td>\n",
       "      <td>0.00</td>\n",
       "      <td>0.000</td>\n",
       "      <td>0.0</td>\n",
       "      <td>0.00</td>\n",
       "      <td>0.000</td>\n",
       "      <td>0.00</td>\n",
       "      <td>0.000</td>\n",
       "      <td>0.0</td>\n",
       "      <td>0.0</td>\n",
       "    </tr>\n",
       "    <tr>\n",
       "      <th>lower_quantile</th>\n",
       "      <td>474.714</td>\n",
       "      <td>50.50</td>\n",
       "      <td>0.777</td>\n",
       "      <td>0.0</td>\n",
       "      <td>122.00</td>\n",
       "      <td>7.112</td>\n",
       "      <td>0.00</td>\n",
       "      <td>0.000</td>\n",
       "      <td>0.0</td>\n",
       "      <td>0.0</td>\n",
       "    </tr>\n",
       "    <tr>\n",
       "      <th>median</th>\n",
       "      <td>4757.622</td>\n",
       "      <td>472.00</td>\n",
       "      <td>19.506</td>\n",
       "      <td>32.0</td>\n",
       "      <td>1335.00</td>\n",
       "      <td>52.639</td>\n",
       "      <td>4.50</td>\n",
       "      <td>0.096</td>\n",
       "      <td>0.0</td>\n",
       "      <td>0.0</td>\n",
       "    </tr>\n",
       "    <tr>\n",
       "      <th>upper_quantile</th>\n",
       "      <td>9545.916</td>\n",
       "      <td>4943.25</td>\n",
       "      <td>136.391</td>\n",
       "      <td>557.5</td>\n",
       "      <td>9081.25</td>\n",
       "      <td>145.362</td>\n",
       "      <td>70.75</td>\n",
       "      <td>0.901</td>\n",
       "      <td>7.0</td>\n",
       "      <td>0.0</td>\n",
       "    </tr>\n",
       "    <tr>\n",
       "      <th>max</th>\n",
       "      <td>25135.735</td>\n",
       "      <td>3973600.00</td>\n",
       "      <td>1413.318</td>\n",
       "      <td>653682.0</td>\n",
       "      <td>5232562.00</td>\n",
       "      <td>610.245</td>\n",
       "      <td>47864.00</td>\n",
       "      <td>12.856</td>\n",
       "      <td>7804.0</td>\n",
       "      <td>0.0</td>\n",
       "    </tr>\n",
       "  </tbody>\n",
       "</table>\n",
       "</div>"
      ],
      "text/plain": [
       "                Cases - cumulative total  \\\n",
       "missing_ration                     0.400   \n",
       "min                                0.000   \n",
       "lower_quantile                   474.714   \n",
       "median                          4757.622   \n",
       "upper_quantile                  9545.916   \n",
       "max                            25135.735   \n",
       "\n",
       "                Cases - cumulative total per 100000 population  \\\n",
       "missing_ration                                            0.00   \n",
       "min                                                       0.00   \n",
       "lower_quantile                                           50.50   \n",
       "median                                                  472.00   \n",
       "upper_quantile                                         4943.25   \n",
       "max                                                 3973600.00   \n",
       "\n",
       "                Cases - newly reported in last 7 days  \\\n",
       "missing_ration                                  0.400   \n",
       "min                                             0.000   \n",
       "lower_quantile                                  0.777   \n",
       "median                                         19.506   \n",
       "upper_quantile                                136.391   \n",
       "max                                          1413.318   \n",
       "\n",
       "                Cases - newly reported in last 7 days per 100000 population  \\\n",
       "missing_ration                                                          0.0   \n",
       "min                                                                     0.0   \n",
       "lower_quantile                                                          0.0   \n",
       "median                                                                 32.0   \n",
       "upper_quantile                                                        557.5   \n",
       "max                                                                653682.0   \n",
       "\n",
       "                Cases - newly reported in last 24 hours  \\\n",
       "missing_ration                                     0.00   \n",
       "min                                                0.00   \n",
       "lower_quantile                                   122.00   \n",
       "median                                          1335.00   \n",
       "upper_quantile                                  9081.25   \n",
       "max                                          5232562.00   \n",
       "\n",
       "                Deaths - cumulative total  \\\n",
       "missing_ration                      0.400   \n",
       "min                                 0.000   \n",
       "lower_quantile                      7.112   \n",
       "median                             52.639   \n",
       "upper_quantile                    145.362   \n",
       "max                               610.245   \n",
       "\n",
       "                Deaths - cumulative total per 100000 population  \\\n",
       "missing_ration                                             0.00   \n",
       "min                                                        0.00   \n",
       "lower_quantile                                             0.00   \n",
       "median                                                     4.50   \n",
       "upper_quantile                                            70.75   \n",
       "max                                                    47864.00   \n",
       "\n",
       "                Deaths - newly reported in last 7 days  \\\n",
       "missing_ration                                   0.400   \n",
       "min                                              0.000   \n",
       "lower_quantile                                   0.000   \n",
       "median                                           0.096   \n",
       "upper_quantile                                   0.901   \n",
       "max                                             12.856   \n",
       "\n",
       "                Deaths - newly reported in last 7 days per 100000 population  \\\n",
       "missing_ration                                                           0.0   \n",
       "min                                                                      0.0   \n",
       "lower_quantile                                                           0.0   \n",
       "median                                                                   0.0   \n",
       "upper_quantile                                                           7.0   \n",
       "max                                                                   7804.0   \n",
       "\n",
       "                Deaths - newly reported in last 24 hours  \n",
       "missing_ration                                       0.0  \n",
       "min                                                  0.0  \n",
       "lower_quantile                                       0.0  \n",
       "median                                               0.0  \n",
       "upper_quantile                                       0.0  \n",
       "max                                                  0.0  "
      ]
     },
     "execution_count": 10,
     "metadata": {},
     "output_type": "execute_result"
    }
   ],
   "source": [
    "numerical_df = global_table_df.drop(columns = ['Name','WHO Region'])\n",
    "numerical_df.aggregate([missing_ration,pd.Series.min,lower_quantile,\n",
    "                        pd.Series.median,upper_quantile,pd.Series.max])"
   ]
  },
  {
   "cell_type": "markdown",
   "id": "896e3f48",
   "metadata": {},
   "source": [
    "<font color = green  size = 3> Không có gì bất thường </font>"
   ]
  },
  {
   "cell_type": "markdown",
   "id": "6022d36f",
   "metadata": {},
   "source": [
    "### Phân bố dữ liệu dạng categorical"
   ]
  },
  {
   "cell_type": "code",
   "execution_count": 11,
   "id": "1c2c3f71",
   "metadata": {
    "scrolled": false
   },
   "outputs": [
    {
     "data": {
      "text/html": [
       "<div>\n",
       "<style scoped>\n",
       "    .dataframe tbody tr th:only-of-type {\n",
       "        vertical-align: middle;\n",
       "    }\n",
       "\n",
       "    .dataframe tbody tr th {\n",
       "        vertical-align: top;\n",
       "    }\n",
       "\n",
       "    .dataframe thead th {\n",
       "        text-align: right;\n",
       "    }\n",
       "</style>\n",
       "<table border=\"1\" class=\"dataframe\">\n",
       "  <thead>\n",
       "    <tr style=\"text-align: right;\">\n",
       "      <th></th>\n",
       "      <th>Name</th>\n",
       "      <th>WHO Region</th>\n",
       "    </tr>\n",
       "  </thead>\n",
       "  <tbody>\n",
       "    <tr>\n",
       "      <th>missing_ration</th>\n",
       "      <td>0.4</td>\n",
       "      <td>0.0</td>\n",
       "    </tr>\n",
       "    <tr>\n",
       "      <th>unique</th>\n",
       "      <td>[nan, Americas, South-East Asia, Europe, Eastern Mediterranean, Africa, Western Pacific, Other]</td>\n",
       "      <td>[263563622, 48413265, 34615757, 22105872, 10329078, 9736037, 8839891, 7538806, 6125596, 6051560,...</td>\n",
       "    </tr>\n",
       "    <tr>\n",
       "      <th>nunique</th>\n",
       "      <td>7</td>\n",
       "      <td>226</td>\n",
       "    </tr>\n",
       "  </tbody>\n",
       "</table>\n",
       "</div>"
      ],
      "text/plain": [
       "                                                                                                           Name  \\\n",
       "missing_ration                                                                                              0.4   \n",
       "unique          [nan, Americas, South-East Asia, Europe, Eastern Mediterranean, Africa, Western Pacific, Other]   \n",
       "nunique                                                                                                       7   \n",
       "\n",
       "                                                                                                         WHO Region  \n",
       "missing_ration                                                                                                  0.0  \n",
       "unique          [263563622, 48413265, 34615757, 22105872, 10329078, 9736037, 8839891, 7538806, 6125596, 6051560,...  \n",
       "nunique                                                                                                         226  "
      ]
     },
     "execution_count": 11,
     "metadata": {},
     "output_type": "execute_result"
    }
   ],
   "source": [
    "pd.set_option(\"display.max_colwidth\",100)\n",
    "global_table_df[['Name','WHO Region']].agg([missing_ration,pd.Series.unique,pd.Series.nunique])"
   ]
  },
  {
   "cell_type": "markdown",
   "id": "82087ce2",
   "metadata": {},
   "source": [
    "<font color = green  size = 3> Không có gì bất thường </font>"
   ]
  },
  {
   "cell_type": "markdown",
   "id": "a6909921",
   "metadata": {},
   "source": [
    "Vẽ `barh chart` để xem phân bố các giá trị của cột `Name`"
   ]
  },
  {
   "cell_type": "code",
   "execution_count": 12,
   "id": "fb90c8b8",
   "metadata": {
    "scrolled": false
   },
   "outputs": [
    {
     "data": {
      "image/png": "[encoded data removed]",
      "text/plain": [
       "<Figure size 432x288 with 1 Axes>"
      ]
     },
     "metadata": {
      "needs_background": "light"
     },
     "output_type": "display_data"
    }
   ],
   "source": [
    "global_table_df['Name'].value_counts(normalize = True).plot.barh()\n",
    "plt.xlabel('Tỉ lệ')\n",
    "plt.title('Phân bố các khu vực');"
   ]
  },
  {
   "cell_type": "markdown",
   "id": "3462919a",
   "metadata": {},
   "source": [
    "## 2. Khám phá dữ liệu tình hình COVID-19 theo ngày"
   ]
  },
  {
   "cell_type": "markdown",
   "id": "221234a9",
   "metadata": {},
   "source": [
    "### Đọc dữ liệu từ file"
   ]
  },
  {
   "cell_type": "markdown",
   "id": "441d94a8",
   "metadata": {},
   "source": [
    "- Đọc dữ liệu từ file `WHO-COVID-19-global-data.csv` rồi lưu vào dataframe `global_df`.\n",
    "- Mỗi quốc gia được thống kê trong nhiều ngày, ta nên để index là `số dòng`"
   ]
  },
  {
   "cell_type": "code",
   "execution_count": 13,
   "id": "23af5df3",
   "metadata": {
    "scrolled": true
   },
   "outputs": [
    {
     "data": {
      "text/html": [
       "<div>\n",
       "<style scoped>\n",
       "    .dataframe tbody tr th:only-of-type {\n",
       "        vertical-align: middle;\n",
       "    }\n",
       "\n",
       "    .dataframe tbody tr th {\n",
       "        vertical-align: top;\n",
       "    }\n",
       "\n",
       "    .dataframe thead th {\n",
       "        text-align: right;\n",
       "    }\n",
       "</style>\n",
       "<table border=\"1\" class=\"dataframe\">\n",
       "  <thead>\n",
       "    <tr style=\"text-align: right;\">\n",
       "      <th></th>\n",
       "      <th>Date_reported</th>\n",
       "      <th>Country_code</th>\n",
       "      <th>Country</th>\n",
       "      <th>WHO_region</th>\n",
       "      <th>New_cases</th>\n",
       "      <th>Cumulative_cases</th>\n",
       "      <th>New_deaths</th>\n",
       "      <th>Cumulative_deaths</th>\n",
       "    </tr>\n",
       "  </thead>\n",
       "  <tbody>\n",
       "    <tr>\n",
       "      <th>166132</th>\n",
       "      <td>2021-11-29</td>\n",
       "      <td>ZW</td>\n",
       "      <td>Zimbabwe</td>\n",
       "      <td>AFRO</td>\n",
       "      <td>40</td>\n",
       "      <td>133991</td>\n",
       "      <td>0</td>\n",
       "      <td>4705</td>\n",
       "    </tr>\n",
       "    <tr>\n",
       "      <th>166133</th>\n",
       "      <td>2021-11-30</td>\n",
       "      <td>ZW</td>\n",
       "      <td>Zimbabwe</td>\n",
       "      <td>AFRO</td>\n",
       "      <td>235</td>\n",
       "      <td>134226</td>\n",
       "      <td>1</td>\n",
       "      <td>4706</td>\n",
       "    </tr>\n",
       "    <tr>\n",
       "      <th>166134</th>\n",
       "      <td>2021-12-01</td>\n",
       "      <td>ZW</td>\n",
       "      <td>Zimbabwe</td>\n",
       "      <td>AFRO</td>\n",
       "      <td>426</td>\n",
       "      <td>134652</td>\n",
       "      <td>1</td>\n",
       "      <td>4707</td>\n",
       "    </tr>\n",
       "    <tr>\n",
       "      <th>166135</th>\n",
       "      <td>2021-12-02</td>\n",
       "      <td>ZW</td>\n",
       "      <td>Zimbabwe</td>\n",
       "      <td>AFRO</td>\n",
       "      <td>685</td>\n",
       "      <td>135337</td>\n",
       "      <td>0</td>\n",
       "      <td>4707</td>\n",
       "    </tr>\n",
       "    <tr>\n",
       "      <th>166136</th>\n",
       "      <td>2021-12-03</td>\n",
       "      <td>ZW</td>\n",
       "      <td>Zimbabwe</td>\n",
       "      <td>AFRO</td>\n",
       "      <td>1042</td>\n",
       "      <td>136379</td>\n",
       "      <td>0</td>\n",
       "      <td>4707</td>\n",
       "    </tr>\n",
       "  </tbody>\n",
       "</table>\n",
       "</div>"
      ],
      "text/plain": [
       "       Date_reported Country_code   Country WHO_region  New_cases  \\\n",
       "166132    2021-11-29           ZW  Zimbabwe       AFRO         40   \n",
       "166133    2021-11-30           ZW  Zimbabwe       AFRO        235   \n",
       "166134    2021-12-01           ZW  Zimbabwe       AFRO        426   \n",
       "166135    2021-12-02           ZW  Zimbabwe       AFRO        685   \n",
       "166136    2021-12-03           ZW  Zimbabwe       AFRO       1042   \n",
       "\n",
       "        Cumulative_cases  New_deaths  Cumulative_deaths  \n",
       "166132            133991           0               4705  \n",
       "166133            134226           1               4706  \n",
       "166134            134652           1               4707  \n",
       "166135            135337           0               4707  \n",
       "166136            136379           0               4707  "
      ]
     },
     "execution_count": 13,
     "metadata": {},
     "output_type": "execute_result"
    }
   ],
   "source": [
    "global_df = pd.read_csv('dataset/WHO-COVID-19-global-data.csv')\n",
    "global_df.tail()"
   ]
  },
  {
   "cell_type": "markdown",
   "id": "35f39b1d",
   "metadata": {},
   "source": [
    "### Dữ liệu có bao nhiêu dòng và cột ?"
   ]
  },
  {
   "cell_type": "markdown",
   "id": "1864379f",
   "metadata": {},
   "source": [
    "Tính số dòng và số cột rồi lưu vào biến `num_rows_global` và `num_cols_global`"
   ]
  },
  {
   "cell_type": "code",
   "execution_count": 14,
   "id": "a49734db",
   "metadata": {},
   "outputs": [
    {
     "name": "stdout",
     "output_type": "stream",
     "text": [
      "Dữ liệu có 166137 dòng\n",
      "Dữ liệu có 8 cột\n"
     ]
    }
   ],
   "source": [
    "num_rows_global , num_cols_global = global_df.shape\n",
    "print(f'Dữ liệu có {num_rows_global} dòng')\n",
    "print(f'Dữ liệu có {num_cols_global} cột')"
   ]
  },
  {
   "cell_type": "markdown",
   "id": "e969af9d",
   "metadata": {},
   "source": [
    "### Mỗi dòng dữ liệu có ý nghĩa gì ? Có vấn đề các dòng có ý nghĩa khác nhau không ?"
   ]
  },
  {
   "cell_type": "markdown",
   "id": "b54c6cb1",
   "metadata": {},
   "source": [
    "Theo quan sát sơ bộ và file mô tả dữ liệu trên website chính của WHO thì dữ liệu cho biết thông tin về tính hình COVID-19 hằng ngày của từng quốc gia. \\\n",
    "Có vẻ không có vấn đề về ý nghĩa từng dòng."
   ]
  },
  {
   "cell_type": "markdown",
   "id": "ea271203",
   "metadata": {},
   "source": [
    "### Dữ liệu có bị lặp không"
   ]
  },
  {
   "cell_type": "markdown",
   "id": "6c9cb36e",
   "metadata": {},
   "source": [
    "Tính số dòng dữ liệu bị trùng (nếu có) rồi lưu vào biến `num_rows_dupicated`."
   ]
  },
  {
   "cell_type": "code",
   "execution_count": 15,
   "id": "602e6ff3",
   "metadata": {},
   "outputs": [
    {
     "name": "stdout",
     "output_type": "stream",
     "text": [
      "0\n"
     ]
    }
   ],
   "source": [
    "num_rows_duplicated = num_rows_global - len(global_df.drop_duplicates())\n",
    "print(num_rows_duplicated)"
   ]
  },
  {
   "cell_type": "markdown",
   "id": "9afca4fa",
   "metadata": {},
   "source": [
    "### Mỗi cột có ý nghĩa gì ?"
   ]
  },
  {
   "cell_type": "markdown",
   "id": "cbe2c837",
   "metadata": {},
   "source": [
    "Dựa vào mô tả chính thức trên website WHO, em đã mô tả ý nghĩa từng cột dữ liệu trong file `description_global.csv`"
   ]
  },
  {
   "cell_type": "code",
   "execution_count": 16,
   "id": "bc4aae80",
   "metadata": {
    "scrolled": true
   },
   "outputs": [],
   "source": [
    "pd.set_option(\"display.max_colwidth\",500)\n",
    "description_global = pd.read_csv('dataset/Description-global.csv',\n",
    "                                 delimiter= '\\t',index_col= 'Field name')"
   ]
  },
  {
   "cell_type": "code",
   "execution_count": 17,
   "id": "0f2e62d3",
   "metadata": {},
   "outputs": [
    {
     "data": {
      "text/html": [
       "<div>\n",
       "<style scoped>\n",
       "    .dataframe tbody tr th:only-of-type {\n",
       "        vertical-align: middle;\n",
       "    }\n",
       "\n",
       "    .dataframe tbody tr th {\n",
       "        vertical-align: top;\n",
       "    }\n",
       "\n",
       "    .dataframe thead th {\n",
       "        text-align: right;\n",
       "    }\n",
       "</style>\n",
       "<table border=\"1\" class=\"dataframe\">\n",
       "  <thead>\n",
       "    <tr style=\"text-align: right;\">\n",
       "      <th></th>\n",
       "      <th>Type</th>\n",
       "      <th>Description</th>\n",
       "    </tr>\n",
       "    <tr>\n",
       "      <th>Field name</th>\n",
       "      <th></th>\n",
       "      <th></th>\n",
       "    </tr>\n",
       "  </thead>\n",
       "  <tbody>\n",
       "    <tr>\n",
       "      <th>Date_reported</th>\n",
       "      <td>Date</td>\n",
       "      <td>Date of reporting to WHO</td>\n",
       "    </tr>\n",
       "    <tr>\n",
       "      <th>Country_code</th>\n",
       "      <td>String</td>\n",
       "      <td>ISO Alpha-2 country code</td>\n",
       "    </tr>\n",
       "    <tr>\n",
       "      <th>Country</th>\n",
       "      <td>String</td>\n",
       "      <td>Country, territory, area</td>\n",
       "    </tr>\n",
       "    <tr>\n",
       "      <th>WHO_region</th>\n",
       "      <td>String</td>\n",
       "      <td>WHO regional offices: WHO Member States are grouped into six WHO regions -- Regional Office for Africa (AFRO), Regional Office for the Americas (AMRO), Regional Office for South-East Asia (SEARO), Regional Office for Europe (EURO), Regional Office for the Eastern Mediterranean (EMRO), and Regional Office for the Western Pacific (WPRO).</td>\n",
       "    </tr>\n",
       "    <tr>\n",
       "      <th>New_cases</th>\n",
       "      <td>Integer</td>\n",
       "      <td>New confirmed cases. Calculated by subtracting previous cumulative case count from current cumulative cases count.*</td>\n",
       "    </tr>\n",
       "    <tr>\n",
       "      <th>Cumulative_cases</th>\n",
       "      <td>Integer</td>\n",
       "      <td>Cumulative confirmed cases reported to WHO to date.</td>\n",
       "    </tr>\n",
       "    <tr>\n",
       "      <th>New_deaths</th>\n",
       "      <td>Integer</td>\n",
       "      <td>New confirmed deaths. Calculated by subtracting previous cumulative deaths from current cumulative deaths.*</td>\n",
       "    </tr>\n",
       "    <tr>\n",
       "      <th>Cumulative_deaths</th>\n",
       "      <td>Integer</td>\n",
       "      <td>Cumulative confirmed deaths reported to WHO to date.</td>\n",
       "    </tr>\n",
       "  </tbody>\n",
       "</table>\n",
       "</div>"
      ],
      "text/plain": [
       "                      Type  \\\n",
       "Field name                   \n",
       "Date_reported         Date   \n",
       "Country_code        String   \n",
       "Country             String   \n",
       "WHO_region          String   \n",
       "New_cases          Integer   \n",
       "Cumulative_cases   Integer   \n",
       "New_deaths         Integer   \n",
       "Cumulative_deaths  Integer   \n",
       "\n",
       "                                                                                                                                                                                                                                                                                                                                                         Description  \n",
       "Field name                                                                                                                                                                                                                                                                                                                                                            \n",
       "Date_reported                                                                                                                                                                                                                                                                                                                               Date of reporting to WHO  \n",
       "Country_code                                                                                                                                                                                                                                                                                                                                ISO Alpha-2 country code  \n",
       "Country                                                                                                                                                                                                                                                                                                                                     Country, territory, area  \n",
       "WHO_region         WHO regional offices: WHO Member States are grouped into six WHO regions -- Regional Office for Africa (AFRO), Regional Office for the Americas (AMRO), Regional Office for South-East Asia (SEARO), Regional Office for Europe (EURO), Regional Office for the Eastern Mediterranean (EMRO), and Regional Office for the Western Pacific (WPRO).  \n",
       "New_cases                                                                                                                                                                                                                                        New confirmed cases. Calculated by subtracting previous cumulative case count from current cumulative cases count.*  \n",
       "Cumulative_cases                                                                                                                                                                                                                                                                                                 Cumulative confirmed cases reported to WHO to date.  \n",
       "New_deaths                                                                                                                                                                                                                                               New confirmed deaths. Calculated by subtracting previous cumulative deaths from current cumulative deaths.*  \n",
       "Cumulative_deaths                                                                                                                                                                                                                                                                                               Cumulative confirmed deaths reported to WHO to date.  "
      ]
     },
     "execution_count": 17,
     "metadata": {},
     "output_type": "execute_result"
    }
   ],
   "source": [
    "description_global"
   ]
  },
  {
   "cell_type": "markdown",
   "id": "a17d9247",
   "metadata": {},
   "source": [
    "### Mỗi cột hiện tại đang có dữ liệu gì ?"
   ]
  },
  {
   "cell_type": "code",
   "execution_count": 18,
   "id": "ce0b793e",
   "metadata": {
    "scrolled": true
   },
   "outputs": [
    {
     "data": {
      "text/plain": [
       "Date_reported        object\n",
       "Country_code         object\n",
       "Country              object\n",
       "WHO_region           object\n",
       "New_cases             int64\n",
       "Cumulative_cases      int64\n",
       "New_deaths            int64\n",
       "Cumulative_deaths     int64\n",
       "dtype: object"
      ]
     },
     "execution_count": 18,
     "metadata": {},
     "output_type": "execute_result"
    }
   ],
   "source": [
    "global_df.dtypes"
   ]
  },
  {
   "cell_type": "markdown",
   "id": "ff614367",
   "metadata": {},
   "source": [
    "`Date_reported` nên có kiểu dữ liệu `datetime`"
   ]
  },
  {
   "cell_type": "markdown",
   "id": "dc17c9cb",
   "metadata": {},
   "source": [
    "## Tiền xử lý"
   ]
  },
  {
   "cell_type": "code",
   "execution_count": 19,
   "id": "e944a467",
   "metadata": {},
   "outputs": [],
   "source": [
    "global_df['Date_reported'] = pd.to_datetime(global_df['Date_reported'])"
   ]
  },
  {
   "cell_type": "markdown",
   "id": "ce1d51af",
   "metadata": {},
   "source": [
    "<font color = green size = 3> Kiểu dữ liệu không có gì bất thường </font>"
   ]
  },
  {
   "cell_type": "markdown",
   "id": "5080f161",
   "metadata": {},
   "source": [
    "## Quay lại khám phá dữ liệu"
   ]
  },
  {
   "cell_type": "markdown",
   "id": "3dcf95df",
   "metadata": {},
   "source": [
    "### Phân bố kiểu dữ liệu numerical"
   ]
  },
  {
   "cell_type": "code",
   "execution_count": 20,
   "id": "81454e78",
   "metadata": {
    "scrolled": false
   },
   "outputs": [
    {
     "data": {
      "text/html": [
       "<div>\n",
       "<style scoped>\n",
       "    .dataframe tbody tr th:only-of-type {\n",
       "        vertical-align: middle;\n",
       "    }\n",
       "\n",
       "    .dataframe tbody tr th {\n",
       "        vertical-align: top;\n",
       "    }\n",
       "\n",
       "    .dataframe thead th {\n",
       "        text-align: right;\n",
       "    }\n",
       "</style>\n",
       "<table border=\"1\" class=\"dataframe\">\n",
       "  <thead>\n",
       "    <tr style=\"text-align: right;\">\n",
       "      <th></th>\n",
       "      <th>Date_reported</th>\n",
       "      <th>New_cases</th>\n",
       "      <th>Cumulative_cases</th>\n",
       "      <th>New_deaths</th>\n",
       "      <th>Cumulative_deaths</th>\n",
       "    </tr>\n",
       "  </thead>\n",
       "  <tbody>\n",
       "    <tr>\n",
       "      <th>missing_ration</th>\n",
       "      <td>0.0</td>\n",
       "      <td>0.000000</td>\n",
       "      <td>0.000000e+00</td>\n",
       "      <td>0.000000</td>\n",
       "      <td>0.00000</td>\n",
       "    </tr>\n",
       "    <tr>\n",
       "      <th>min</th>\n",
       "      <td>2020-01-03 00:00:00</td>\n",
       "      <td>-32952.000000</td>\n",
       "      <td>0.000000e+00</td>\n",
       "      <td>-2371.000000</td>\n",
       "      <td>0.00000</td>\n",
       "    </tr>\n",
       "    <tr>\n",
       "      <th>lower_quantile</th>\n",
       "      <td>2020-06-26 00:00:00</td>\n",
       "      <td>0.000000</td>\n",
       "      <td>6.900000e+01</td>\n",
       "      <td>0.000000</td>\n",
       "      <td>0.00000</td>\n",
       "    </tr>\n",
       "    <tr>\n",
       "      <th>mean</th>\n",
       "      <td>2020-12-18 00:00:00</td>\n",
       "      <td>1586.423386</td>\n",
       "      <td>4.013239e+05</td>\n",
       "      <td>31.495465</td>\n",
       "      <td>9012.00765</td>\n",
       "    </tr>\n",
       "    <tr>\n",
       "      <th>upper_quantile</th>\n",
       "      <td>2021-06-11 00:00:00</td>\n",
       "      <td>402.000000</td>\n",
       "      <td>1.024990e+05</td>\n",
       "      <td>6.000000</td>\n",
       "      <td>1761.00000</td>\n",
       "    </tr>\n",
       "    <tr>\n",
       "      <th>max</th>\n",
       "      <td>2021-12-03 00:00:00</td>\n",
       "      <td>414188.000000</td>\n",
       "      <td>4.841326e+07</td>\n",
       "      <td>8786.000000</td>\n",
       "      <td>778336.00000</td>\n",
       "    </tr>\n",
       "  </tbody>\n",
       "</table>\n",
       "</div>"
      ],
      "text/plain": [
       "                      Date_reported      New_cases  Cumulative_cases  \\\n",
       "missing_ration                  0.0       0.000000      0.000000e+00   \n",
       "min             2020-01-03 00:00:00  -32952.000000      0.000000e+00   \n",
       "lower_quantile  2020-06-26 00:00:00       0.000000      6.900000e+01   \n",
       "mean            2020-12-18 00:00:00    1586.423386      4.013239e+05   \n",
       "upper_quantile  2021-06-11 00:00:00     402.000000      1.024990e+05   \n",
       "max             2021-12-03 00:00:00  414188.000000      4.841326e+07   \n",
       "\n",
       "                 New_deaths  Cumulative_deaths  \n",
       "missing_ration     0.000000            0.00000  \n",
       "min            -2371.000000            0.00000  \n",
       "lower_quantile     0.000000            0.00000  \n",
       "mean              31.495465         9012.00765  \n",
       "upper_quantile     6.000000         1761.00000  \n",
       "max             8786.000000       778336.00000  "
      ]
     },
     "execution_count": 20,
     "metadata": {},
     "output_type": "execute_result"
    }
   ],
   "source": [
    "numerical_df = global_df.select_dtypes(['int64','float64','datetime64'])\n",
    "numerical_df.agg([missing_ration,pd.Series.min,lower_quantile,\n",
    "                  pd.Series.mean,upper_quantile,pd.Series.max])"
   ]
  },
  {
   "cell_type": "markdown",
   "id": "ce6cf468",
   "metadata": {},
   "source": [
    "<font color = green size = 3> Không có gì bất thường </font>"
   ]
  },
  {
   "cell_type": "markdown",
   "id": "76b8b8f6",
   "metadata": {},
   "source": [
    "### Phân bố kiểu dữ liệu categorical"
   ]
  },
  {
   "cell_type": "code",
   "execution_count": 21,
   "id": "d03f5f49",
   "metadata": {
    "scrolled": false
   },
   "outputs": [
    {
     "data": {
      "text/html": [
       "<div>\n",
       "<style scoped>\n",
       "    .dataframe tbody tr th:only-of-type {\n",
       "        vertical-align: middle;\n",
       "    }\n",
       "\n",
       "    .dataframe tbody tr th {\n",
       "        vertical-align: top;\n",
       "    }\n",
       "\n",
       "    .dataframe thead th {\n",
       "        text-align: right;\n",
       "    }\n",
       "</style>\n",
       "<table border=\"1\" class=\"dataframe\">\n",
       "  <thead>\n",
       "    <tr style=\"text-align: right;\">\n",
       "      <th></th>\n",
       "      <th>Country_code</th>\n",
       "      <th>Country</th>\n",
       "      <th>WHO_region</th>\n",
       "    </tr>\n",
       "  </thead>\n",
       "  <tbody>\n",
       "    <tr>\n",
       "      <th>missing_ration</th>\n",
       "      <td>0.4</td>\n",
       "      <td>0.0</td>\n",
       "      <td>0.0</td>\n",
       "    </tr>\n",
       "    <tr>\n",
       "      <th>unique</th>\n",
       "      <td>[AF, AL, DZ, AS, AD, AO, AI, AG, AR, AM, AW, AU...</td>\n",
       "      <td>[Afghanistan, Albania, Algeria, American Samoa,...</td>\n",
       "      <td>[EMRO, EURO, AFRO, WPRO, AMRO, SEARO, Other]</td>\n",
       "    </tr>\n",
       "    <tr>\n",
       "      <th>nunique</th>\n",
       "      <td>236</td>\n",
       "      <td>237</td>\n",
       "      <td>7</td>\n",
       "    </tr>\n",
       "  </tbody>\n",
       "</table>\n",
       "</div>"
      ],
      "text/plain": [
       "                                                      Country_code  \\\n",
       "missing_ration                                                 0.4   \n",
       "unique          [AF, AL, DZ, AS, AD, AO, AI, AG, AR, AM, AW, AU...   \n",
       "nunique                                                        236   \n",
       "\n",
       "                                                           Country  \\\n",
       "missing_ration                                                 0.0   \n",
       "unique          [Afghanistan, Albania, Algeria, American Samoa,...   \n",
       "nunique                                                        237   \n",
       "\n",
       "                                                  WHO_region  \n",
       "missing_ration                                           0.0  \n",
       "unique          [EMRO, EURO, AFRO, WPRO, AMRO, SEARO, Other]  \n",
       "nunique                                                    7  "
      ]
     },
     "execution_count": 21,
     "metadata": {},
     "output_type": "execute_result"
    }
   ],
   "source": [
    "pd.set_option(\"display.max_colwidth\",51)\n",
    "categorical_df = global_df.select_dtypes(['object'])\n",
    "categorical_df.agg([missing_ration,pd.Series.unique,pd.Series.nunique])"
   ]
  },
  {
   "cell_type": "markdown",
   "id": "41769140",
   "metadata": {},
   "source": [
    "Vẽ `barh chart` cho `WHO Region`"
   ]
  },
  {
   "cell_type": "code",
   "execution_count": 22,
   "id": "2f38bb19",
   "metadata": {
    "scrolled": true
   },
   "outputs": [
    {
     "data": {
      "image/png": "[encoded data removed]",
      "text/plain": [
       "<Figure size 432x288 with 1 Axes>"
      ]
     },
     "metadata": {
      "needs_background": "light"
     },
     "output_type": "display_data"
    }
   ],
   "source": [
    "global_df['WHO_region'].value_counts(normalize=True).plot.barh()\n",
    "plt.xlabel('Tỉ lệ')\n",
    "plt.title('Tỉ lệ WHO Region');"
   ]
  },
  {
   "cell_type": "markdown",
   "id": "b142f5ce",
   "metadata": {},
   "source": [
    "`Bar chart` này có tỉ lệ khá tương quan với `Bar chart` mà ta đã khám phá ở phần trước đó. "
   ]
  }
 ],
 "metadata": {
  "kernelspec": {
   "display_name": "Python 3 (ipykernel)",
   "language": "python",
   "name": "python3"
  },
  "language_info": {
   "codemirror_mode": {
    "name": "ipython",
    "version": 3
   },
   "file_extension": ".py",
   "mimetype": "text/x-python",
   "name": "python",
   "nbconvert_exporter": "python",
   "pygments_lexer": "ipython3",
   "version": "3.8.8"
  }
 },
 "nbformat": 4,
 "nbformat_minor": 5
}
